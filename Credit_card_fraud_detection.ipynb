{
  "nbformat": 4,
  "nbformat_minor": 0,
  "metadata": {
    "colab": {
      "name": "Credit card fraud detection.ipynb",
      "provenance": [],
      "authorship_tag": "ABX9TyPsgOWyxbTITclMzq684Knz",
      "include_colab_link": true
    },
    "kernelspec": {
      "name": "python3",
      "display_name": "Python 3"
    },
    "language_info": {
      "name": "python"
    }
  },
  "cells": [
    {
      "cell_type": "markdown",
      "metadata": {
        "id": "view-in-github",
        "colab_type": "text"
      },
      "source": [
        "<a href=\"https://colab.research.google.com/github/Sandeep0076/Data-Science/blob/main/Credit_card_fraud_detection.ipynb\" target=\"_parent\"><img src=\"https://colab.research.google.com/assets/colab-badge.svg\" alt=\"Open In Colab\"/></a>"
      ]
    },
    {
      "cell_type": "markdown",
      "metadata": {
        "id": "ZVs5EgK3K8Rs"
      },
      "source": [
        "### Dataset\n",
        "\n",
        "The datasets contains transactions made by credit cards in September 2013 by european cardholders. This dataset presents transactions that occurred in two days, where we have 492 frauds out of 284,807 transactions. The dataset is highly unbalanced, the positive class (frauds) account for 0.172% of all transactions."
      ]
    },
    {
      "cell_type": "code",
      "metadata": {
        "colab": {
          "base_uri": "https://localhost:8080/"
        },
        "id": "0t7mMLz9UwMn",
        "outputId": "3671b662-17ad-4785-a7de-55ad760c6b7d"
      },
      "source": [
        "from google.colab import drive\n",
        "drive.mount('/content/gdrive')"
      ],
      "execution_count": 1,
      "outputs": [
        {
          "output_type": "stream",
          "text": [
            "Mounted at /content/gdrive\n"
          ],
          "name": "stdout"
        }
      ]
    },
    {
      "cell_type": "code",
      "metadata": {
        "id": "94gjk7H1Kvzj"
      },
      "source": [
        "# Imports\n",
        "import numpy as np\n",
        "import pandas as pd\n",
        "import sklearn\n",
        "import scipy\n",
        "import matplotlib.pyplot as plt\n",
        "import seaborn as sns\n",
        "from sklearn.model_selection import train_test_split\n",
        "from sklearn.preprocessing import StandardScaler\n",
        "from sklearn.metrics import classification_report,accuracy_score, roc_curve\n",
        "from sklearn.ensemble import IsolationForest\n",
        "from sklearn.neighbors import LocalOutlierFactor\n",
        "from xgboost import XGBClassifier\n",
        "from sklearn.ensemble import RandomForestClassifier\n",
        "from catboost import CatBoostClassifier\n",
        "from sklearn.svm import OneClassSVM\n",
        "RANDOM_SEED = 42\n",
        "LABELS = [\"normal\", \"fraud\"]"
      ],
      "execution_count": 2,
      "outputs": []
    },
    {
      "cell_type": "code",
      "metadata": {
        "id": "ybJaAO2IPg7N"
      },
      "source": [
        "#Read the credit card csv file\n",
        "df = pd.read_csv('/content/gdrive/MyDrive/Data science/cc.csv')"
      ],
      "execution_count": 3,
      "outputs": []
    },
    {
      "cell_type": "code",
      "metadata": {
        "colab": {
          "base_uri": "https://localhost:8080/",
          "height": 126
        },
        "id": "Aw71huZUUfoO",
        "outputId": "9646c386-bcef-4983-f4ab-d65411bcd7e4"
      },
      "source": [
        "#Open top 2 rows \n",
        "df.head(2)"
      ],
      "execution_count": 4,
      "outputs": [
        {
          "output_type": "execute_result",
          "data": {
            "text/html": [
              "<div>\n",
              "<style scoped>\n",
              "    .dataframe tbody tr th:only-of-type {\n",
              "        vertical-align: middle;\n",
              "    }\n",
              "\n",
              "    .dataframe tbody tr th {\n",
              "        vertical-align: top;\n",
              "    }\n",
              "\n",
              "    .dataframe thead th {\n",
              "        text-align: right;\n",
              "    }\n",
              "</style>\n",
              "<table border=\"1\" class=\"dataframe\">\n",
              "  <thead>\n",
              "    <tr style=\"text-align: right;\">\n",
              "      <th></th>\n",
              "      <th>Time</th>\n",
              "      <th>V1</th>\n",
              "      <th>V2</th>\n",
              "      <th>V3</th>\n",
              "      <th>V4</th>\n",
              "      <th>V5</th>\n",
              "      <th>V6</th>\n",
              "      <th>V7</th>\n",
              "      <th>V8</th>\n",
              "      <th>V9</th>\n",
              "      <th>V10</th>\n",
              "      <th>V11</th>\n",
              "      <th>V12</th>\n",
              "      <th>V13</th>\n",
              "      <th>V14</th>\n",
              "      <th>V15</th>\n",
              "      <th>V16</th>\n",
              "      <th>V17</th>\n",
              "      <th>V18</th>\n",
              "      <th>V19</th>\n",
              "      <th>V20</th>\n",
              "      <th>V21</th>\n",
              "      <th>V22</th>\n",
              "      <th>V23</th>\n",
              "      <th>V24</th>\n",
              "      <th>V25</th>\n",
              "      <th>V26</th>\n",
              "      <th>V27</th>\n",
              "      <th>V28</th>\n",
              "      <th>Amount</th>\n",
              "      <th>Class</th>\n",
              "    </tr>\n",
              "  </thead>\n",
              "  <tbody>\n",
              "    <tr>\n",
              "      <th>0</th>\n",
              "      <td>0.0</td>\n",
              "      <td>-1.359807</td>\n",
              "      <td>-0.072781</td>\n",
              "      <td>2.536347</td>\n",
              "      <td>1.378155</td>\n",
              "      <td>-0.338321</td>\n",
              "      <td>0.462388</td>\n",
              "      <td>0.239599</td>\n",
              "      <td>0.098698</td>\n",
              "      <td>0.363787</td>\n",
              "      <td>0.090794</td>\n",
              "      <td>-0.551600</td>\n",
              "      <td>-0.617801</td>\n",
              "      <td>-0.991390</td>\n",
              "      <td>-0.311169</td>\n",
              "      <td>1.468177</td>\n",
              "      <td>-0.470401</td>\n",
              "      <td>0.207971</td>\n",
              "      <td>0.025791</td>\n",
              "      <td>0.403993</td>\n",
              "      <td>0.251412</td>\n",
              "      <td>-0.018307</td>\n",
              "      <td>0.277838</td>\n",
              "      <td>-0.110474</td>\n",
              "      <td>0.066928</td>\n",
              "      <td>0.128539</td>\n",
              "      <td>-0.189115</td>\n",
              "      <td>0.133558</td>\n",
              "      <td>-0.021053</td>\n",
              "      <td>149.62</td>\n",
              "      <td>0</td>\n",
              "    </tr>\n",
              "    <tr>\n",
              "      <th>1</th>\n",
              "      <td>0.0</td>\n",
              "      <td>1.191857</td>\n",
              "      <td>0.266151</td>\n",
              "      <td>0.166480</td>\n",
              "      <td>0.448154</td>\n",
              "      <td>0.060018</td>\n",
              "      <td>-0.082361</td>\n",
              "      <td>-0.078803</td>\n",
              "      <td>0.085102</td>\n",
              "      <td>-0.255425</td>\n",
              "      <td>-0.166974</td>\n",
              "      <td>1.612727</td>\n",
              "      <td>1.065235</td>\n",
              "      <td>0.489095</td>\n",
              "      <td>-0.143772</td>\n",
              "      <td>0.635558</td>\n",
              "      <td>0.463917</td>\n",
              "      <td>-0.114805</td>\n",
              "      <td>-0.183361</td>\n",
              "      <td>-0.145783</td>\n",
              "      <td>-0.069083</td>\n",
              "      <td>-0.225775</td>\n",
              "      <td>-0.638672</td>\n",
              "      <td>0.101288</td>\n",
              "      <td>-0.339846</td>\n",
              "      <td>0.167170</td>\n",
              "      <td>0.125895</td>\n",
              "      <td>-0.008983</td>\n",
              "      <td>0.014724</td>\n",
              "      <td>2.69</td>\n",
              "      <td>0</td>\n",
              "    </tr>\n",
              "  </tbody>\n",
              "</table>\n",
              "</div>"
            ],
            "text/plain": [
              "   Time        V1        V2        V3  ...       V27       V28  Amount  Class\n",
              "0   0.0 -1.359807 -0.072781  2.536347  ...  0.133558 -0.021053  149.62      0\n",
              "1   0.0  1.191857  0.266151  0.166480  ... -0.008983  0.014724    2.69      0\n",
              "\n",
              "[2 rows x 31 columns]"
            ]
          },
          "metadata": {
            "tags": []
          },
          "execution_count": 4
        }
      ]
    },
    {
      "cell_type": "markdown",
      "metadata": {
        "id": "ttW3gHqvNNhV"
      },
      "source": [
        "#### Problem Statement:\n",
        "The Credit Card Fraud Detection Problem includes modeling past credit card transactions with the knowledge of the ones that turned out to be a fraud. This model is then used to identify whether a new transaction is fraudulent or not. Our aim here is to detect 100% of the fraudulent transactions while minimizing the incorrect fraud classifications."
      ]
    },
    {
      "cell_type": "markdown",
      "metadata": {
        "id": "KLjHA20JNd77"
      },
      "source": [
        "In general, we want to maximize the recall while capping FPR (False Positive Rate), but you can classify a lot of charges wrong and still maintain a low FPR because you have a large number of true negatives.\n",
        "\n",
        "This is conducive to picking a relatively low threshold, which results in the high recall but extremely low precision."
      ]
    },
    {
      "cell_type": "markdown",
      "metadata": {
        "id": "6KCOD5CyWTjH"
      },
      "source": [
        "### Analysis "
      ]
    },
    {
      "cell_type": "code",
      "metadata": {
        "id": "6YEnedAfUY59"
      },
      "source": [
        "# Taking less data for easy computation\n",
        "df = df.sample(frac=.2)"
      ],
      "execution_count": 5,
      "outputs": []
    },
    {
      "cell_type": "code",
      "metadata": {
        "colab": {
          "base_uri": "https://localhost:8080/",
          "height": 302
        },
        "id": "J2skea0zWqAk",
        "outputId": "b5addb23-ab3d-474a-b98e-58f7698b8966"
      },
      "source": [
        "df.describe()"
      ],
      "execution_count": 6,
      "outputs": [
        {
          "output_type": "execute_result",
          "data": {
            "text/html": [
              "<div>\n",
              "<style scoped>\n",
              "    .dataframe tbody tr th:only-of-type {\n",
              "        vertical-align: middle;\n",
              "    }\n",
              "\n",
              "    .dataframe tbody tr th {\n",
              "        vertical-align: top;\n",
              "    }\n",
              "\n",
              "    .dataframe thead th {\n",
              "        text-align: right;\n",
              "    }\n",
              "</style>\n",
              "<table border=\"1\" class=\"dataframe\">\n",
              "  <thead>\n",
              "    <tr style=\"text-align: right;\">\n",
              "      <th></th>\n",
              "      <th>Time</th>\n",
              "      <th>V1</th>\n",
              "      <th>V2</th>\n",
              "      <th>V3</th>\n",
              "      <th>V4</th>\n",
              "      <th>V5</th>\n",
              "      <th>V6</th>\n",
              "      <th>V7</th>\n",
              "      <th>V8</th>\n",
              "      <th>V9</th>\n",
              "      <th>V10</th>\n",
              "      <th>V11</th>\n",
              "      <th>V12</th>\n",
              "      <th>V13</th>\n",
              "      <th>V14</th>\n",
              "      <th>V15</th>\n",
              "      <th>V16</th>\n",
              "      <th>V17</th>\n",
              "      <th>V18</th>\n",
              "      <th>V19</th>\n",
              "      <th>V20</th>\n",
              "      <th>V21</th>\n",
              "      <th>V22</th>\n",
              "      <th>V23</th>\n",
              "      <th>V24</th>\n",
              "      <th>V25</th>\n",
              "      <th>V26</th>\n",
              "      <th>V27</th>\n",
              "      <th>V28</th>\n",
              "      <th>Amount</th>\n",
              "      <th>Class</th>\n",
              "    </tr>\n",
              "  </thead>\n",
              "  <tbody>\n",
              "    <tr>\n",
              "      <th>count</th>\n",
              "      <td>56961.000000</td>\n",
              "      <td>56961.000000</td>\n",
              "      <td>56961.000000</td>\n",
              "      <td>56961.000000</td>\n",
              "      <td>56961.000000</td>\n",
              "      <td>56961.000000</td>\n",
              "      <td>56961.000000</td>\n",
              "      <td>56961.000000</td>\n",
              "      <td>56961.000000</td>\n",
              "      <td>56961.000000</td>\n",
              "      <td>56961.000000</td>\n",
              "      <td>56961.000000</td>\n",
              "      <td>56961.000000</td>\n",
              "      <td>56961.000000</td>\n",
              "      <td>56961.000000</td>\n",
              "      <td>56961.000000</td>\n",
              "      <td>56961.000000</td>\n",
              "      <td>56961.000000</td>\n",
              "      <td>56961.000000</td>\n",
              "      <td>56961.000000</td>\n",
              "      <td>56961.000000</td>\n",
              "      <td>56961.000000</td>\n",
              "      <td>56961.000000</td>\n",
              "      <td>56961.000000</td>\n",
              "      <td>56961.000000</td>\n",
              "      <td>56961.000000</td>\n",
              "      <td>56961.000000</td>\n",
              "      <td>56961.000000</td>\n",
              "      <td>56961.000000</td>\n",
              "      <td>56961.000000</td>\n",
              "      <td>56961.000000</td>\n",
              "    </tr>\n",
              "    <tr>\n",
              "      <th>mean</th>\n",
              "      <td>94909.518600</td>\n",
              "      <td>0.002389</td>\n",
              "      <td>0.006486</td>\n",
              "      <td>-0.003785</td>\n",
              "      <td>-0.008639</td>\n",
              "      <td>0.000370</td>\n",
              "      <td>0.004190</td>\n",
              "      <td>0.009137</td>\n",
              "      <td>-0.008914</td>\n",
              "      <td>-0.000665</td>\n",
              "      <td>-0.004107</td>\n",
              "      <td>-0.002144</td>\n",
              "      <td>-0.004095</td>\n",
              "      <td>-0.002592</td>\n",
              "      <td>0.002546</td>\n",
              "      <td>0.004825</td>\n",
              "      <td>-0.002815</td>\n",
              "      <td>-0.000412</td>\n",
              "      <td>0.001728</td>\n",
              "      <td>-0.006293</td>\n",
              "      <td>-0.003227</td>\n",
              "      <td>-0.000328</td>\n",
              "      <td>-0.003753</td>\n",
              "      <td>0.001394</td>\n",
              "      <td>-0.001375</td>\n",
              "      <td>-0.000875</td>\n",
              "      <td>-0.003696</td>\n",
              "      <td>-0.002046</td>\n",
              "      <td>-0.003543</td>\n",
              "      <td>88.722597</td>\n",
              "      <td>0.001685</td>\n",
              "    </tr>\n",
              "    <tr>\n",
              "      <th>std</th>\n",
              "      <td>47357.430884</td>\n",
              "      <td>1.929403</td>\n",
              "      <td>1.641686</td>\n",
              "      <td>1.479104</td>\n",
              "      <td>1.410164</td>\n",
              "      <td>1.366447</td>\n",
              "      <td>1.328551</td>\n",
              "      <td>1.223718</td>\n",
              "      <td>1.248540</td>\n",
              "      <td>1.091992</td>\n",
              "      <td>1.074895</td>\n",
              "      <td>1.016260</td>\n",
              "      <td>1.001203</td>\n",
              "      <td>0.995522</td>\n",
              "      <td>0.965957</td>\n",
              "      <td>0.913348</td>\n",
              "      <td>0.879137</td>\n",
              "      <td>0.850766</td>\n",
              "      <td>0.843067</td>\n",
              "      <td>0.812713</td>\n",
              "      <td>0.769659</td>\n",
              "      <td>0.763523</td>\n",
              "      <td>0.728034</td>\n",
              "      <td>0.563781</td>\n",
              "      <td>0.608048</td>\n",
              "      <td>0.516055</td>\n",
              "      <td>0.481572</td>\n",
              "      <td>0.399103</td>\n",
              "      <td>0.309916</td>\n",
              "      <td>261.439649</td>\n",
              "      <td>0.041019</td>\n",
              "    </tr>\n",
              "    <tr>\n",
              "      <th>min</th>\n",
              "      <td>1.000000</td>\n",
              "      <td>-41.928738</td>\n",
              "      <td>-63.344698</td>\n",
              "      <td>-26.823673</td>\n",
              "      <td>-5.600607</td>\n",
              "      <td>-42.147898</td>\n",
              "      <td>-21.929312</td>\n",
              "      <td>-31.764946</td>\n",
              "      <td>-73.216718</td>\n",
              "      <td>-8.630390</td>\n",
              "      <td>-16.255612</td>\n",
              "      <td>-4.453853</td>\n",
              "      <td>-18.553697</td>\n",
              "      <td>-5.791881</td>\n",
              "      <td>-18.493773</td>\n",
              "      <td>-4.097947</td>\n",
              "      <td>-14.129855</td>\n",
              "      <td>-24.019099</td>\n",
              "      <td>-9.335193</td>\n",
              "      <td>-7.213527</td>\n",
              "      <td>-25.222345</td>\n",
              "      <td>-34.830382</td>\n",
              "      <td>-10.933144</td>\n",
              "      <td>-22.575000</td>\n",
              "      <td>-2.824849</td>\n",
              "      <td>-7.025783</td>\n",
              "      <td>-2.534330</td>\n",
              "      <td>-9.544855</td>\n",
              "      <td>-9.617915</td>\n",
              "      <td>0.000000</td>\n",
              "      <td>0.000000</td>\n",
              "    </tr>\n",
              "    <tr>\n",
              "      <th>25%</th>\n",
              "      <td>54442.000000</td>\n",
              "      <td>-0.924139</td>\n",
              "      <td>-0.592801</td>\n",
              "      <td>-0.897855</td>\n",
              "      <td>-0.851134</td>\n",
              "      <td>-0.688661</td>\n",
              "      <td>-0.768274</td>\n",
              "      <td>-0.548937</td>\n",
              "      <td>-0.210687</td>\n",
              "      <td>-0.643385</td>\n",
              "      <td>-0.539796</td>\n",
              "      <td>-0.759234</td>\n",
              "      <td>-0.413044</td>\n",
              "      <td>-0.650512</td>\n",
              "      <td>-0.426354</td>\n",
              "      <td>-0.579481</td>\n",
              "      <td>-0.469579</td>\n",
              "      <td>-0.478517</td>\n",
              "      <td>-0.499053</td>\n",
              "      <td>-0.461883</td>\n",
              "      <td>-0.214476</td>\n",
              "      <td>-0.230303</td>\n",
              "      <td>-0.548484</td>\n",
              "      <td>-0.161801</td>\n",
              "      <td>-0.355955</td>\n",
              "      <td>-0.316975</td>\n",
              "      <td>-0.329364</td>\n",
              "      <td>-0.071128</td>\n",
              "      <td>-0.054457</td>\n",
              "      <td>5.550000</td>\n",
              "      <td>0.000000</td>\n",
              "    </tr>\n",
              "    <tr>\n",
              "      <th>50%</th>\n",
              "      <td>84966.000000</td>\n",
              "      <td>0.016918</td>\n",
              "      <td>0.073218</td>\n",
              "      <td>0.176070</td>\n",
              "      <td>-0.023759</td>\n",
              "      <td>-0.046614</td>\n",
              "      <td>-0.276530</td>\n",
              "      <td>0.046134</td>\n",
              "      <td>0.021640</td>\n",
              "      <td>-0.052596</td>\n",
              "      <td>-0.094603</td>\n",
              "      <td>-0.035035</td>\n",
              "      <td>0.134631</td>\n",
              "      <td>-0.016266</td>\n",
              "      <td>0.050291</td>\n",
              "      <td>0.054248</td>\n",
              "      <td>0.062453</td>\n",
              "      <td>-0.064147</td>\n",
              "      <td>-0.005007</td>\n",
              "      <td>-0.002139</td>\n",
              "      <td>-0.064388</td>\n",
              "      <td>-0.030993</td>\n",
              "      <td>0.003181</td>\n",
              "      <td>-0.010513</td>\n",
              "      <td>0.040602</td>\n",
              "      <td>0.016252</td>\n",
              "      <td>-0.055849</td>\n",
              "      <td>0.001430</td>\n",
              "      <td>0.010703</td>\n",
              "      <td>21.900000</td>\n",
              "      <td>0.000000</td>\n",
              "    </tr>\n",
              "    <tr>\n",
              "      <th>75%</th>\n",
              "      <td>139271.000000</td>\n",
              "      <td>1.318177</td>\n",
              "      <td>0.804088</td>\n",
              "      <td>1.021456</td>\n",
              "      <td>0.737398</td>\n",
              "      <td>0.616900</td>\n",
              "      <td>0.400337</td>\n",
              "      <td>0.577293</td>\n",
              "      <td>0.326830</td>\n",
              "      <td>0.598422</td>\n",
              "      <td>0.449766</td>\n",
              "      <td>0.732900</td>\n",
              "      <td>0.614824</td>\n",
              "      <td>0.660548</td>\n",
              "      <td>0.494926</td>\n",
              "      <td>0.656951</td>\n",
              "      <td>0.520577</td>\n",
              "      <td>0.398901</td>\n",
              "      <td>0.504669</td>\n",
              "      <td>0.453466</td>\n",
              "      <td>0.130972</td>\n",
              "      <td>0.184825</td>\n",
              "      <td>0.526560</td>\n",
              "      <td>0.149021</td>\n",
              "      <td>0.439510</td>\n",
              "      <td>0.348340</td>\n",
              "      <td>0.236924</td>\n",
              "      <td>0.089139</td>\n",
              "      <td>0.077194</td>\n",
              "      <td>77.350000</td>\n",
              "      <td>0.000000</td>\n",
              "    </tr>\n",
              "    <tr>\n",
              "      <th>max</th>\n",
              "      <td>172786.000000</td>\n",
              "      <td>2.422508</td>\n",
              "      <td>14.323254</td>\n",
              "      <td>4.187811</td>\n",
              "      <td>16.715537</td>\n",
              "      <td>32.911462</td>\n",
              "      <td>23.917837</td>\n",
              "      <td>44.054461</td>\n",
              "      <td>16.633103</td>\n",
              "      <td>10.326133</td>\n",
              "      <td>15.331742</td>\n",
              "      <td>11.669205</td>\n",
              "      <td>7.848392</td>\n",
              "      <td>4.262851</td>\n",
              "      <td>10.526766</td>\n",
              "      <td>5.720479</td>\n",
              "      <td>6.442798</td>\n",
              "      <td>7.454785</td>\n",
              "      <td>5.041069</td>\n",
              "      <td>4.851255</td>\n",
              "      <td>39.420904</td>\n",
              "      <td>27.202839</td>\n",
              "      <td>10.503090</td>\n",
              "      <td>18.364472</td>\n",
              "      <td>4.014444</td>\n",
              "      <td>5.541598</td>\n",
              "      <td>3.220178</td>\n",
              "      <td>12.152401</td>\n",
              "      <td>15.942151</td>\n",
              "      <td>19656.530000</td>\n",
              "      <td>1.000000</td>\n",
              "    </tr>\n",
              "  </tbody>\n",
              "</table>\n",
              "</div>"
            ],
            "text/plain": [
              "                Time            V1  ...        Amount         Class\n",
              "count   56961.000000  56961.000000  ...  56961.000000  56961.000000\n",
              "mean    94909.518600      0.002389  ...     88.722597      0.001685\n",
              "std     47357.430884      1.929403  ...    261.439649      0.041019\n",
              "min         1.000000    -41.928738  ...      0.000000      0.000000\n",
              "25%     54442.000000     -0.924139  ...      5.550000      0.000000\n",
              "50%     84966.000000      0.016918  ...     21.900000      0.000000\n",
              "75%    139271.000000      1.318177  ...     77.350000      0.000000\n",
              "max    172786.000000      2.422508  ...  19656.530000      1.000000\n",
              "\n",
              "[8 rows x 31 columns]"
            ]
          },
          "metadata": {
            "tags": []
          },
          "execution_count": 6
        }
      ]
    },
    {
      "cell_type": "code",
      "metadata": {
        "colab": {
          "base_uri": "https://localhost:8080/"
        },
        "id": "LJDAVThIXGV-",
        "outputId": "d7e7e40a-654c-4184-e07f-d833a5488b5a"
      },
      "source": [
        "# If there are any null values\n",
        "df.isnull().values.any()"
      ],
      "execution_count": 7,
      "outputs": [
        {
          "output_type": "execute_result",
          "data": {
            "text/plain": [
              "False"
            ]
          },
          "metadata": {
            "tags": []
          },
          "execution_count": 7
        }
      ]
    },
    {
      "cell_type": "code",
      "metadata": {
        "colab": {
          "base_uri": "https://localhost:8080/",
          "height": 352
        },
        "id": "T459X07LZhen",
        "outputId": "fac0fcbb-4c0c-4240-e05f-29234af5ae0e"
      },
      "source": [
        "sns.countplot(df.Class)"
      ],
      "execution_count": 8,
      "outputs": [
        {
          "output_type": "stream",
          "text": [
            "/usr/local/lib/python3.7/dist-packages/seaborn/_decorators.py:43: FutureWarning: Pass the following variable as a keyword arg: x. From version 0.12, the only valid positional argument will be `data`, and passing other arguments without an explicit keyword will result in an error or misinterpretation.\n",
            "  FutureWarning\n"
          ],
          "name": "stderr"
        },
        {
          "output_type": "execute_result",
          "data": {
            "text/plain": [
              "<matplotlib.axes._subplots.AxesSubplot at 0x7f773887f450>"
            ]
          },
          "metadata": {
            "tags": []
          },
          "execution_count": 8
        },
        {
          "output_type": "display_data",
          "data": {
            "image/png": "[encoded data removed]",
            "text/plain": [
              "<Figure size 432x288 with 1 Axes>"
            ]
          },
          "metadata": {
            "tags": [],
            "needs_background": "light"
          }
        }
      ]
    },
    {
      "cell_type": "code",
      "metadata": {
        "id": "tqw7_LBCZs51"
      },
      "source": [
        "## Get the Fraud and the normal dataset \n",
        "\n",
        "fraud = df[df['Class']==1]\n",
        "\n",
        "normal = df[df['Class']==0]"
      ],
      "execution_count": 9,
      "outputs": []
    },
    {
      "cell_type": "code",
      "metadata": {
        "id": "zQG8stFsdyMY",
        "colab": {
          "base_uri": "https://localhost:8080/"
        },
        "outputId": "87ed417e-79f1-4a54-fb55-a1490395932e"
      },
      "source": [
        "outlier_fraction = len(fraud)/float(len(normal))\n",
        "print(f'Number of Fraud cases :{fraud.shape[0]}')\n",
        "print(f'Number of Normal cases :{normal.shape[0]}')\n",
        "print(f'Outliars {outlier_fraction}')"
      ],
      "execution_count": 11,
      "outputs": [
        {
          "output_type": "stream",
          "text": [
            "Number of Fraud cases :96\n",
            "Number of Normal cases :56865\n",
            "Outliars 0.0016882089158533368\n"
          ],
          "name": "stdout"
        }
      ]
    },
    {
      "cell_type": "code",
      "metadata": {
        "colab": {
          "base_uri": "https://localhost:8080/",
          "height": 282
        },
        "id": "ir9LFHBROB2M",
        "outputId": "6201d1d3-2d41-4d37-b2a3-fa479f7a8bcd"
      },
      "source": [
        "# Amount of money used in  transaction\n",
        "pd.concat([fraud.Amount.describe(), normal.Amount.describe()], axis=1)"
      ],
      "execution_count": 12,
      "outputs": [
        {
          "output_type": "execute_result",
          "data": {
            "text/html": [
              "<div>\n",
              "<style scoped>\n",
              "    .dataframe tbody tr th:only-of-type {\n",
              "        vertical-align: middle;\n",
              "    }\n",
              "\n",
              "    .dataframe tbody tr th {\n",
              "        vertical-align: top;\n",
              "    }\n",
              "\n",
              "    .dataframe thead th {\n",
              "        text-align: right;\n",
              "    }\n",
              "</style>\n",
              "<table border=\"1\" class=\"dataframe\">\n",
              "  <thead>\n",
              "    <tr style=\"text-align: right;\">\n",
              "      <th></th>\n",
              "      <th>Amount</th>\n",
              "      <th>Amount</th>\n",
              "    </tr>\n",
              "  </thead>\n",
              "  <tbody>\n",
              "    <tr>\n",
              "      <th>count</th>\n",
              "      <td>96.000000</td>\n",
              "      <td>56865.000000</td>\n",
              "    </tr>\n",
              "    <tr>\n",
              "      <th>mean</th>\n",
              "      <td>132.118125</td>\n",
              "      <td>88.649336</td>\n",
              "    </tr>\n",
              "    <tr>\n",
              "      <th>std</th>\n",
              "      <td>290.868205</td>\n",
              "      <td>261.383920</td>\n",
              "    </tr>\n",
              "    <tr>\n",
              "      <th>min</th>\n",
              "      <td>0.000000</td>\n",
              "      <td>0.000000</td>\n",
              "    </tr>\n",
              "    <tr>\n",
              "      <th>25%</th>\n",
              "      <td>1.000000</td>\n",
              "      <td>5.640000</td>\n",
              "    </tr>\n",
              "    <tr>\n",
              "      <th>50%</th>\n",
              "      <td>7.760000</td>\n",
              "      <td>21.940000</td>\n",
              "    </tr>\n",
              "    <tr>\n",
              "      <th>75%</th>\n",
              "      <td>104.007500</td>\n",
              "      <td>77.190000</td>\n",
              "    </tr>\n",
              "    <tr>\n",
              "      <th>max</th>\n",
              "      <td>1809.680000</td>\n",
              "      <td>19656.530000</td>\n",
              "    </tr>\n",
              "  </tbody>\n",
              "</table>\n",
              "</div>"
            ],
            "text/plain": [
              "            Amount        Amount\n",
              "count    96.000000  56865.000000\n",
              "mean    132.118125     88.649336\n",
              "std     290.868205    261.383920\n",
              "min       0.000000      0.000000\n",
              "25%       1.000000      5.640000\n",
              "50%       7.760000     21.940000\n",
              "75%     104.007500     77.190000\n",
              "max    1809.680000  19656.530000"
            ]
          },
          "metadata": {
            "tags": []
          },
          "execution_count": 12
        }
      ]
    },
    {
      "cell_type": "code",
      "metadata": {
        "colab": {
          "base_uri": "https://localhost:8080/",
          "height": 308
        },
        "id": "lcxzmIqibxxd",
        "outputId": "4dd64d45-e3e3-490b-b333-11afa2141332"
      },
      "source": [
        "# Distribution of amaount of money\n",
        "f, (ax1, ax2) = plt.subplots(2, 1, sharex=True)\n",
        "f.suptitle('Amount per transaction by class')\n",
        "bins = 50\n",
        "ax1.hist(fraud.Amount, bins = bins)\n",
        "ax1.set_title('Fraud')\n",
        "ax2.hist(normal.Amount, bins = bins)\n",
        "ax2.set_title('Normal')\n",
        "plt.xlabel('Amount ($)')\n",
        "plt.ylabel('Number of Transactions')\n",
        "plt.xlim((0, 20000))\n",
        "plt.yscale('log')\n",
        "plt.show();"
      ],
      "execution_count": 13,
      "outputs": [
        {
          "output_type": "display_data",
          "data": {
            "image/png": "[encoded data removed]",
            "text/plain": [
              "<Figure size 432x288 with 2 Axes>"
            ]
          },
          "metadata": {
            "tags": [],
            "needs_background": "light"
          }
        }
      ]
    },
    {
      "cell_type": "markdown",
      "metadata": {
        "id": "B-eSwsPsQZdm"
      },
      "source": [
        "The mean fraud transactions is around 97\\$ and goes to the max of 2125\\$ whereas there is high distribution for normal transactions till 5000\\$ and after 7500\\$ there are odd transcations."
      ]
    },
    {
      "cell_type": "code",
      "metadata": {
        "colab": {
          "base_uri": "https://localhost:8080/",
          "height": 542
        },
        "id": "a0o_t0gic99Q",
        "outputId": "2fd22bf0-444d-4240-b4c8-a322bb16d191"
      },
      "source": [
        "# Data in context of time\n",
        "import plotly.figure_factory as ff\n",
        "from plotly.offline import download_plotlyjs, init_notebook_mode, plot, iplot\n",
        "class_0 = df.loc[df['Class'] == 0][\"Time\"]\n",
        "class_1 = df.loc[df['Class'] == 1][\"Time\"]\n",
        "\n",
        "hist_data = [class_0, class_1]\n",
        "group_labels = ['Not Fraud', 'Fraud']\n",
        "\n",
        "fig = ff.create_distplot(hist_data, group_labels, show_hist=False, show_rug=False,)\n",
        "fig['layout'].update(title='Credit Card Transactions Time Density Plot', xaxis=dict(title='Time [s]'))\n",
        "iplot(fig, filename='dist_only')"
      ],
      "execution_count": 14,
      "outputs": [
        {
          "output_type": "display_data",
          "data": {
            "text/html": [
              "<html>\n",
              "<head><meta charset=\"utf-8\" /></head>\n",
              "<body>\n",
              "    <div>\n",
              "            <script src=\"https://cdnjs.cloudflare.com/ajax/libs/mathjax/2.7.5/MathJax.js?config=TeX-AMS-MML_SVG\"></script><script type=\"text/javascript\">if (window.MathJax) {MathJax.Hub.Config({SVG: {font: \"STIX-Web\"}});}</script>\n",
              "                <script type=\"text/javascript\">window.PlotlyConfig = {MathJaxConfig: 'local'};</script>\n",
              "        <script src=\"https://cdn.plot.ly/plotly-latest.min.js\"></script>    \n",
              "            <div id=\"b470042b-b167-4c67-9429-33dd169ae005\" class=\"plotly-graph-div\" style=\"height:525px; width:100%;\"></div>\n",
              "            <script type=\"text/javascript\">\n",
              "                \n",
              "                    window.PLOTLYENV=window.PLOTLYENV || {};\n",
              "                    \n",
              "                if (document.getElementById(\"b470042b-b167-4c67-9429-33dd169ae005\")) {\n",
              "                    Plotly.newPlot(\n",
              "                        'b470042b-b167-4c67-9429-33dd169ae005',\n",
              "                        [{\"legendgroup\": \"Not Fraud\", \"marker\": {\"color\": \"rgb(31, 119, 180)\"}, \"mode\": \"lines\", \"name\": \"Not Fraud\", \"showlegend\": true, \"type\": \"scatter\", \"x\": [1.0, 346.57, 692.14, 1037.71, 1383.28, 1728.85, 2074.42, 2419.99, 2765.56, 3111.13, 3456.7, 3802.27, 4147.84, 4493.41, 4838.98, 5184.55, 5530.12, 5875.69, 6221.26, 6566.83, 6912.4, 7257.97, 7603.54, 7949.11, 8294.68, 8640.25, 8985.82, 9331.39, 9676.96, 10022.53, 10368.1, 10713.67, 11059.24, 11404.81, 11750.38, 12095.95, 12441.52, 12787.09, 13132.66, 13478.23, 13823.8, 14169.37, 14514.94, 14860.51, 15206.08, 15551.65, 15897.22, 16242.79, 16588.36, 16933.93, 17279.5, 17625.07, 17970.64, 18316.21, 18661.78, 19007.35, 19352.92, 19698.49, 20044.06, 20389.63, 20735.2, 21080.77, 21426.34, 21771.91, 22117.48, 22463.05, 22808.62, 23154.19, 23499.76, 23845.33, 24190.9, 24536.47, 24882.04, 25227.61, 25573.18, 25918.75, 26264.32, 26609.89, 26955.46, 27301.03, 27646.6, 27992.17, 28337.74, 28683.31, 29028.88, 29374.45, 29720.02, 30065.59, 30411.16, 30756.73, 31102.3, 31447.87, 31793.44, 32139.01, 32484.58, 32830.15, 33175.72, 33521.29, 33866.86, 34212.43, 34558.0, 34903.57, 35249.14, 35594.71, 35940.28, 36285.85, 36631.42, 36976.99, 37322.56, 37668.13, 38013.7, 38359.27, 38704.84, 39050.41, 39395.98, 39741.55, 40087.12, 40432.69, 40778.26, 41123.83, 41469.4, 41814.97, 42160.54, 42506.11, 42851.68, 43197.25, 43542.82, 43888.39, 44233.96, 44579.53, 44925.1, 45270.67, 45616.24, 45961.81, 46307.38, 46652.95, 46998.52, 47344.09, 47689.66, 48035.23, 48380.8, 48726.37, 49071.94, 49417.51, 49763.08, 50108.65, 50454.22, 50799.79, 51145.36, 51490.93, 51836.5, 52182.07, 52527.64, 52873.21, 53218.78, 53564.35, 53909.92, 54255.49, 54601.06, 54946.63, 55292.2, 55637.77, 55983.34, 56328.91, 56674.48, 57020.05, 57365.62, 57711.19, 58056.76, 58402.33, 58747.9, 59093.47, 59439.04, 59784.61, 60130.18, 60475.75, 60821.32, 61166.89, 61512.46, 61858.03, 62203.6, 62549.17, 62894.74, 63240.31, 63585.88, 63931.45, 64277.02, 64622.59, 64968.16, 65313.73, 65659.3, 66004.87, 66350.44, 66696.01, 67041.58, 67387.15, 67732.72, 68078.29, 68423.86, 68769.43, 69115.0, 69460.57, 69806.14, 70151.71, 70497.28, 70842.85, 71188.42, 71533.99, 71879.56, 72225.13, 72570.7, 72916.27, 73261.84, 73607.41, 73952.98, 74298.55, 74644.12, 74989.69, 75335.26, 75680.83, 76026.4, 76371.97, 76717.54, 77063.11, 77408.68, 77754.25, 78099.82, 78445.39, 78790.96, 79136.53, 79482.1, 79827.67, 80173.24, 80518.81, 80864.38, 81209.95, 81555.52, 81901.09, 82246.66, 82592.23, 82937.8, 83283.37, 83628.94, 83974.51, 84320.08, 84665.65, 85011.22, 85356.79, 85702.36, 86047.93, 86393.5, 86739.07, 87084.64, 87430.21, 87775.78, 88121.35, 88466.92, 88812.49, 89158.06, 89503.63, 89849.2, 90194.77, 90540.34, 90885.91, 91231.48, 91577.05, 91922.62, 92268.19, 92613.76, 92959.33, 93304.9, 93650.47, 93996.04, 94341.61, 94687.18, 95032.75, 95378.32, 95723.89, 96069.46, 96415.03, 96760.6, 97106.17, 97451.74, 97797.31, 98142.88, 98488.45, 98834.02, 99179.59, 99525.16, 99870.73, 100216.3, 100561.87, 100907.44, 101253.01, 101598.58, 101944.15, 102289.72, 102635.29, 102980.86, 103326.43, 103672.0, 104017.57, 104363.14, 104708.71, 105054.28, 105399.85, 105745.42, 106090.99, 106436.56, 106782.13, 107127.7, 107473.27, 107818.84, 108164.41, 108509.98, 108855.55, 109201.12, 109546.69, 109892.26, 110237.83, 110583.4, 110928.97, 111274.54, 111620.11, 111965.68, 112311.25, 112656.82, 113002.39, 113347.96, 113693.53, 114039.1, 114384.67, 114730.24, 115075.81, 115421.38, 115766.95, 116112.52, 116458.09, 116803.66, 117149.23, 117494.8, 117840.37, 118185.94, 118531.51, 118877.08, 119222.65, 119568.22, 119913.79, 120259.36, 120604.93, 120950.5, 121296.07, 121641.64, 121987.21, 122332.78, 122678.35, 123023.92, 123369.49, 123715.06, 124060.63, 124406.2, 124751.77, 125097.34, 125442.91, 125788.48, 126134.05, 126479.62, 126825.19, 127170.76, 127516.33, 127861.9, 128207.47, 128553.04, 128898.61, 129244.18, 129589.75, 129935.32, 130280.89, 130626.46, 130972.03, 131317.6, 131663.17, 132008.74, 132354.31, 132699.88, 133045.45, 133391.02, 133736.59, 134082.16, 134427.73, 134773.3, 135118.87, 135464.44, 135810.01, 136155.58, 136501.15, 136846.72, 137192.29, 137537.86, 137883.43, 138229.0, 138574.57, 138920.14, 139265.71, 139611.28, 139956.85, 140302.42, 140647.99, 140993.56, 141339.13, 141684.7, 142030.27, 142375.84, 142721.41, 143066.98, 143412.55, 143758.12, 144103.69, 144449.26, 144794.83, 145140.4, 145485.97, 145831.54, 146177.11, 146522.68, 146868.25, 147213.82, 147559.39, 147904.96, 148250.53, 148596.1, 148941.67, 149287.24, 149632.81, 149978.38, 150323.95, 150669.52, 151015.09, 151360.66, 151706.23, 152051.8, 152397.37, 152742.94, 153088.51, 153434.08, 153779.65, 154125.22, 154470.79, 154816.36, 155161.93, 155507.5, 155853.07, 156198.64, 156544.21, 156889.78, 157235.35, 157580.92, 157926.49, 158272.06, 158617.63, 158963.2, 159308.77, 159654.34, 159999.91, 160345.48, 160691.05, 161036.62, 161382.19, 161727.76, 162073.33, 162418.9, 162764.47, 163110.04, 163455.61, 163801.18, 164146.75, 164492.32, 164837.89, 165183.46, 165529.03, 165874.6, 166220.17, 166565.74, 166911.31, 167256.88, 167602.45, 167948.02, 168293.59, 168639.16, 168984.73, 169330.3, 169675.87, 170021.44, 170367.01, 170712.58, 171058.15, 171403.72, 171749.29, 172094.86, 172440.43], \"xaxis\": \"x\", \"y\": [1.5052483263027096e-06, 1.5631147468912917e-06, 1.6183207018137887e-06, 1.6705407908033596e-06, 1.7194817943913833e-06, 1.764886745288587e-06, 1.806538268142798e-06, 1.844261116471217e-06, 1.8779238595797162e-06, 1.9074396977554823e-06, 1.9327664099872325e-06, 1.953905463942482e-06, 1.9709003419500837e-06, 1.983834158401061e-06, 1.9928266625012196e-06, 1.998030735036847e-06, 1.9996284982720396e-06, 1.9978271639946883e-06, 1.9928547459799914e-06, 1.984955759857814e-06, 1.9743870258566277e-06, 1.9614136786274895e-06, 1.9463054739475615e-06, 1.929333465297287e-06, 1.9107671049062046e-06, 1.8908718047112823e-06, 1.8699069736034274e-06, 1.8481245291414768e-06, 1.8257678652959257e-06, 1.8030712433430038e-06, 1.780259561224727e-06, 1.757548447833319e-06, 1.7351446229224803e-06, 1.713246460690605e-06, 1.6920446953718457e-06, 1.671723210128364e-06, 1.6524598557700178e-06, 1.6344272528621882e-06, 1.6177935390908154e-06, 1.6027230327852326e-06, 1.5893767927101813e-06, 1.5779130631192692e-06, 1.5684876011629612e-06, 1.5612538906938938e-06, 1.556363252032914e-06, 1.5539648611748551e-06, 1.5542056941520712e-06, 1.5572304128658876e-06, 1.5631812077638505e-06, 1.5721976104865416e-06, 1.5844162862979163e-06, 1.5999708120588465e-06, 1.6189914410412667e-06, 1.6416048513519193e-06, 1.6679338704686127e-06, 1.6980971646866498e-06, 1.7322088793828538e-06, 1.770378214128849e-06, 1.8127089159613977e-06, 1.8592986746175323e-06, 1.9102384052723607e-06, 1.9656114072220373e-06, 2.025492390921214e-06, 2.0899463706529654e-06, 2.15902742568052e-06, 2.2327773387767536e-06, 2.3112241273042627e-06, 2.3943804882737617e-06, 2.4822421847919303e-06, 2.57478640678335e-06, 2.671970143615331e-06, 2.773728610074762e-06, 2.879973769878351e-06, 2.9905930024112316e-06, 3.105447958590174e-06, 3.2243736505814398e-06, 3.3471778175541736e-06, 3.473640605743254e-06, 3.603514595895553e-06, 3.736525204785431e-06, 3.872371480051454e-06, 4.010727299305342e-06, 4.151242975507115e-06, 4.293547261226645e-06, 4.4372497348836636e-06, 4.581943542653698e-06, 4.727208460732505e-06, 4.872614234350863e-06, 5.017724142598061e-06, 5.162098731996965e-06, 5.305299657094127e-06, 5.446893563259665e-06, 5.586455945556301e-06, 5.723574917997585e-06, 5.857854829769929e-06, 5.988919668972168e-06, 6.116416199993743e-06, 6.240016787609371e-06, 6.359421868959849e-06, 6.4743620435157455e-06, 6.5845997605511995e-06, 6.689930593239567e-06, 6.790184097870835e-06, 6.885224265547654e-06, 6.974949581739241e-06, 7.059292716003144e-06, 7.138219869825521e-06, 7.211729814749907e-06, 7.279852655704882e-06, 7.3426483557192495e-06, 7.400205058117973e-06, 7.4526372409773574e-06, 7.500083736292745e-06, 7.542705643227223e-06, 7.5806841612425756e-06, 7.614218365150838e-06, 7.643522940445483e-06, 7.668825893931258e-06, 7.69036625188835e-06, 7.70839175594711e-06, 7.72315656562215e-06, 7.734918976103247e-06, 7.743939160404036e-06, 7.750476946243935e-06, 7.754789639944488e-06, 7.757129911971907e-06, 7.75774376133256e-06, 7.756868578586749e-06, 7.754731329542644e-06, 7.751546883490171e-06, 7.747516510922185e-06, 7.742826575891119e-06, 7.737647447334775e-06, 7.732132651799487e-06, 7.726418286976093e-06, 7.720622711386549e-06, 7.714846520516344e-06, 7.709172813832238e-06, 7.703667750652141e-06, 7.698381385975169e-06, 7.693348770388616e-06, 7.688591291309955e-06, 7.684118226359668e-06, 7.679928473845234e-06, 7.676012420394736e-06, 7.672353901903541e-06, 7.668932211301404e-06, 7.665724105316268e-06, 7.66270576246067e-06, 7.65985464590236e-06, 7.657151227657788e-06, 7.654580534574294e-06, 7.652133481710691e-06, 7.64980796481752e-06, 7.64760969045977e-06, 7.645552729698068e-06, 7.64365978891843e-06, 7.641962199141081e-06, 7.640499632714409e-06, 7.639319563491472e-06, 7.638476493191562e-06, 7.638030972489776e-06, 7.63804845030236e-06, 7.638597988624938e-06, 7.639750883047442e-06, 7.64157923065992e-06, 7.644154487457374e-06, 7.647546056560822e-06, 7.651819946637544e-06, 7.657037536894735e-06, 7.663254481030393e-06, 7.670519777666754e-06, 7.678875029196047e-06, 7.688353904780581e-06, 7.69898181662552e-06, 7.710775811746961e-06, 7.723744674460219e-06, 7.737889227886157e-06, 7.75320281609158e-06, 7.769671942215558e-06, 7.787277032257386e-06, 7.805993289276966e-06, 7.825791598740424e-06, 7.846639442775418e-06, 7.868501779309452e-06, 7.891341841557436e-06, 7.91512181418428e-06, 7.939803344746744e-06, 7.965347852734546e-06, 7.991716603662432e-06, 8.018870522149066e-06, 8.046769725645427e-06, 8.075372769288474e-06, 8.104635602051721e-06, 8.134510244695288e-06, 8.16494321069585e-06, 8.195873702040302e-06, 8.227231622149204e-06, 8.258935457896755e-06, 8.290890091349982e-06, 8.322984609109977e-06, 8.355090182675852e-06, 8.387058096781442e-06, 8.418718003941418e-06, 8.449876482319391e-06, 8.480315970402273e-06, 8.509794145822707e-06, 8.538043807093465e-06, 8.564773306171623e-06, 8.589667566911872e-06, 8.612389709934624e-06, 8.632583288635568e-06, 8.649875124468737e-06, 8.663878712759599e-06, 8.674198153689067e-06, 8.680432547281899e-06, 8.682180776768774e-06, 8.679046592071123e-06, 8.670643894829337e-06, 8.656602118733396e-06, 8.63657159420848e-06, 8.610228784944456e-06, 8.577281285416203e-06, 8.537472473386591e-06, 8.490585719267633e-06, 8.436448064880453e-06, 8.374933297244173e-06, 8.305964358094193e-06, 8.229515046368587e-06, 8.145610988345486e-06, 8.054329867874633e-06, 7.955800926631211e-06, 7.850203760955936e-06, 7.737766457104516e-06, 7.618763120145807e-06, 7.493510862939568e-06, 7.362366330304793e-06, 7.2257218394797165e-06, 7.084001221206419e-06, 6.937655446292349e-06, 6.787158120458742e-06, 6.633000925932961e-06, 6.475689081909339e-06, 6.315736888093089e-06, 6.153663406496535e-06, 5.98998832694804e-06, 5.825228051869987e-06, 5.659892026234169e-06, 5.49447932961824e-06, 5.329475539316043e-06, 5.1653498667711716e-06, 5.002552564399894e-06, 4.841512596244389e-06, 4.68263556386009e-06, 4.526301878309154e-06, 4.372865169944074e-06, 4.222650929589165e-06, 4.075955377474997e-06, 3.93304455952823e-06, 3.7941536740216983e-06, 3.6594866348045486e-06, 3.5292158800346475e-06, 3.4034824372393197e-06, 3.282396256398395e-06, 3.166036822406556e-06, 3.0544540566288787e-06, 2.947669514295611e-06, 2.845677880244378e-06, 2.7484487601430686e-06, 2.6559287580124084e-06, 2.5680438238697483e-06, 2.484701847933084e-06, 2.4057954703846552e-06, 2.3312050685338675e-06, 2.2608018766746406e-06, 2.1944511883125716e-06, 2.1320155860197804e-06, 2.0733581411844567e-06, 2.01834552452601e-06, 1.966850968544709e-06, 1.918757025097301e-06, 1.873958064996818e-06, 1.8323624718176214e-06, 1.7938944887769717e-06, 1.758495685440099e-06, 1.7261260197940177e-06, 1.6967644806634306e-06, 1.6704093051916907e-06, 1.6470777758689612e-06, 1.6268056110570627e-06, 1.6096459718547956e-06, 1.5956681162196924e-06, 1.5849557383009563e-06, 1.5776050367776734e-06, 1.5737225605172309e-06, 1.5734228830008838e-06, 1.5768261586832141e-06, 1.5840556147805651e-06, 1.5952350309803375e-06, 1.6104862573220232e-06, 1.6299268171429803e-06, 1.6536676376490201e-06, 1.6818109455182426e-06, 1.714448359141395e-06, 1.7516592028121686e-06, 1.7935090615753626e-06, 1.8400485886848118e-06, 1.8913125708769466e-06, 1.9473192500825765e-06, 2.0080698939248544e-06, 2.073548601522238e-06, 2.143722325860299e-06, 2.21854108943364e-06, 2.2979383660970464e-06, 2.381831599197821e-06, 2.470122824169024e-06, 2.56269936290654e-06, 2.6594345574715756e-06, 2.760188511966863e-06, 2.864808813814342e-06, 2.9731312090651178e-06, 3.0849802107162427e-06, 3.2001696241729665e-06, 3.3185029798251647e-06, 3.43977386901365e-06, 3.563766186229494e-06, 3.6902542869762474e-06, 3.819003077077882e-06, 3.949768055074067e-06, 4.082295334455884e-06, 4.216321676624672e-06, 4.351574568395718e-06, 4.487772379452512e-06, 4.624624635266926e-06, 4.761832439577363e-06, 4.899089077561268e-06, 5.036080826418182e-06, 5.172487994323422e-06, 5.307986201811274e-06, 5.442247911841577e-06, 5.5749442063800495e-06, 5.7057467985949974e-06, 5.834330261074024e-06, 5.960374442126408e-06, 6.08356703458189e-06, 6.203606254816859e-06, 6.320203584288878e-06, 6.4330865218409885e-06, 6.542001292592417e-06, 6.646715458439711e-06, 6.747020376064569e-06, 6.842733450826903e-06, 6.93370013890074e-06, 7.019795655315168e-06, 7.100926351980629e-06, 7.177030737062841e-06, 7.2480801149431904e-06, 7.314078834196817e-06, 7.375064139251291e-06, 7.431105629399288e-06, 7.482304336391657e-06, 7.528791438730479e-06, 7.570726636852008e-06, 7.608296218518661e-06, 7.641710847853804e-06, 7.671203114525756e-06, 7.697024881632197e-06, 7.719444471906685e-06, 7.738743732049604e-06, 7.755215014387459e-06, 7.769158113814396e-06, 7.780877196205964e-06, 7.790677752356246e-06, 7.798863609109583e-06, 7.80573402685895e-06, 7.811580910069105e-06, 7.816686155037437e-06, 7.821319156788517e-06, 7.825734494844366e-06, 7.830169815631623e-06, 7.834843927466577e-06, 7.839955122366769e-06, 7.845679737325814e-06, 7.852170966096342e-06, 7.859557930890057e-06, 7.867945021657858e-06, 7.877411508696751e-06, 7.88801143219317e-06, 7.899773769918285e-06, 7.912702881621395e-06, 7.926779225724478e-06, 7.941960340726894e-06, 7.958182080329232e-06, 7.97536008774273e-06, 7.993391491048233e-06, 8.012156797902057e-06, 8.03152196446148e-06, 8.051340610231185e-06, 8.07145634772472e-06, 8.09170519349813e-06, 8.111918025341635e-06, 8.131923049290762e-06, 8.151548239702964e-06, 8.170623715980281e-06, 8.188984020620562e-06, 8.206470265142054e-06, 8.2229321130177e-06, 8.238229572021413e-06, 8.252234572253833e-06, 8.26483231048457e-06, 8.275922346212855e-06, 8.285419439887116e-06, 8.29325412890742e-06, 8.299373042230215e-06, 8.303738959469018e-06, 8.306330625208695e-06, 8.30714233370209e-06, 8.306183303084098e-06, 8.303476861620297e-06, 8.299059471221472e-06, 8.292979615435424e-06, 8.285296580327022e-06, 8.276079157051077e-06, 8.265404294507584e-06, 8.253355729265706e-06, 8.240022617996095e-06, 8.225498195029027e-06, 8.209878474449502e-06, 8.193261012462916e-06, 8.175743741747458e-06, 8.157423885300048e-06, 8.138396953039548e-06, 8.118755820319582e-06, 8.098589883688207e-06, 8.077984285871459e-06, 8.057019199197097e-06, 8.035769154638191e-06, 8.014302402440338e-06, 7.992680289965313e-06, 7.970956642964406e-06, 7.949177137971605e-06, 7.927378655824339e-06, 7.905588609379687e-06, 7.88382424216175e-06, 7.862091898783568e-06, 7.840386272341247e-06, 7.81868963837055e-06, 7.796971089172131e-06, 7.775185786142544e-06, 7.753274251001434e-06, 7.731161719316515e-06, 7.708757581368247e-06, 7.685954936081092e-06, 7.662630283442056e-06, 7.638643379544345e-06, 7.613837276199291e-06, 7.588038564062788e-06, 7.5610578345722525e-06, 7.532690371864156e-06, 7.502717081435521e-06, 7.470905657825928e-06, 7.437011989221524e-06, 7.400781792790593e-06, 7.3619524708913266e-06, 7.320255175144615e-06, 7.275417062790058e-06, 7.227163727742804e-06, 7.175221787294961e-06, 7.1193216043651e-06, 7.059200124463909e-06, 6.994603805957535e-06, 6.925291621605141e-06, 6.851038108557936e-06, 6.771636442885747e-06, 6.686901513128289e-06, 6.5966729652818815e-06, 6.500818189013924e-06, 6.3992352117961386e-06, 6.291855464177306e-06, 6.178646375755465e-06, 6.059613757794225e-06, 5.934803925138955e-06, 5.8043055074419354e-06, 5.668250898025517e-06, 5.526817288321468e-06, 5.3802272370123355e-06, 5.228748726010938e-06, 5.07269466041817e-06, 4.912421776686617e-06, 4.748328932374962e-06, 4.580854761992609e-06, 4.410474696278882e-06, 4.23769735651192e-06, 4.06306035067718e-06, 3.88712551404821e-06, 3.710473652387436e-06, 3.53369886097656e-06, 3.357402506440861e-06, 3.182186970272381e-06, 3.008649262561628e-06], \"yaxis\": \"y\"}, {\"legendgroup\": \"Fraud\", \"marker\": {\"color\": \"rgb(255, 127, 14)\"}, \"mode\": \"lines\", \"name\": \"Fraud\", \"showlegend\": true, \"type\": \"scatter\", \"x\": [7672.0, 7997.352, 8322.704, 8648.056, 8973.408, 9298.76, 9624.112000000001, 9949.464, 10274.815999999999, 10600.168, 10925.52, 11250.872, 11576.224, 11901.576000000001, 12226.928, 12552.279999999999, 12877.632, 13202.984, 13528.336, 13853.688, 14179.04, 14504.392, 14829.743999999999, 15155.096, 15480.448, 15805.8, 16131.152, 16456.504, 16781.856, 17107.208, 17432.559999999998, 17757.912, 18083.264, 18408.616, 18733.968, 19059.32, 19384.672, 19710.023999999998, 20035.376, 20360.728, 20686.08, 21011.432, 21336.784, 21662.136, 21987.487999999998, 22312.84, 22638.192, 22963.544, 23288.896, 23614.248, 23939.6, 24264.952, 24590.304, 24915.656, 25241.008, 25566.36, 25891.712, 26217.064, 26542.416, 26867.768, 27193.12, 27518.472, 27843.824, 28169.176, 28494.528, 28819.88, 29145.232, 29470.584, 29795.936, 30121.288, 30446.64, 30771.992, 31097.344, 31422.696, 31748.048, 32073.4, 32398.752, 32724.104, 33049.456, 33374.808000000005, 33700.16, 34025.512, 34350.864, 34676.216, 35001.568, 35326.92, 35652.272, 35977.623999999996, 36302.975999999995, 36628.328, 36953.68, 37279.032, 37604.384, 37929.736000000004, 38255.088, 38580.44, 38905.792, 39231.144, 39556.496, 39881.848, 40207.2, 40532.552, 40857.904, 41183.256, 41508.608, 41833.96, 42159.312, 42484.664, 42810.016, 43135.368, 43460.72, 43786.072, 44111.424, 44436.776, 44762.128, 45087.48, 45412.832, 45738.184, 46063.536, 46388.888, 46714.24, 47039.592, 47364.944, 47690.296, 48015.648, 48341.0, 48666.352, 48991.704, 49317.056, 49642.408, 49967.76, 50293.112, 50618.464, 50943.816, 51269.168, 51594.52, 51919.872, 52245.224, 52570.576, 52895.928, 53221.28, 53546.632, 53871.984, 54197.336, 54522.688, 54848.04, 55173.392, 55498.744, 55824.096, 56149.448, 56474.8, 56800.152, 57125.504, 57450.856, 57776.208, 58101.56, 58426.912, 58752.264, 59077.616, 59402.968, 59728.32, 60053.672, 60379.024, 60704.376, 61029.728, 61355.08, 61680.432, 62005.784, 62331.136, 62656.488, 62981.84, 63307.192, 63632.544, 63957.896, 64283.248, 64608.6, 64933.952, 65259.304, 65584.656, 65910.008, 66235.36, 66560.712, 66886.064, 67211.416, 67536.768, 67862.12, 68187.47200000001, 68512.824, 68838.176, 69163.52799999999, 69488.88, 69814.232, 70139.584, 70464.936, 70790.288, 71115.64, 71440.992, 71766.344, 72091.696, 72417.04800000001, 72742.4, 73067.75200000001, 73393.104, 73718.456, 74043.808, 74369.16, 74694.512, 75019.864, 75345.216, 75670.568, 75995.92, 76321.272, 76646.624, 76971.976, 77297.328, 77622.68, 77948.032, 78273.384, 78598.736, 78924.088, 79249.44, 79574.792, 79900.144, 80225.496, 80550.848, 80876.2, 81201.552, 81526.904, 81852.256, 82177.608, 82502.96, 82828.312, 83153.664, 83479.016, 83804.368, 84129.72, 84455.072, 84780.424, 85105.776, 85431.128, 85756.48, 86081.832, 86407.184, 86732.536, 87057.888, 87383.24, 87708.592, 88033.944, 88359.296, 88684.648, 89010.0, 89335.352, 89660.704, 89986.056, 90311.408, 90636.76, 90962.112, 91287.464, 91612.816, 91938.168, 92263.52, 92588.872, 92914.224, 93239.576, 93564.928, 93890.28, 94215.632, 94540.984, 94866.336, 95191.688, 95517.04, 95842.392, 96167.744, 96493.096, 96818.448, 97143.8, 97469.152, 97794.504, 98119.856, 98445.208, 98770.56, 99095.912, 99421.264, 99746.616, 100071.968, 100397.32, 100722.672, 101048.024, 101373.376, 101698.728, 102024.08, 102349.432, 102674.784, 103000.136, 103325.488, 103650.84, 103976.192, 104301.544, 104626.896, 104952.248, 105277.6, 105602.952, 105928.304, 106253.656, 106579.008, 106904.36, 107229.712, 107555.064, 107880.416, 108205.768, 108531.12, 108856.472, 109181.824, 109507.176, 109832.528, 110157.88, 110483.232, 110808.584, 111133.936, 111459.288, 111784.64, 112109.992, 112435.344, 112760.696, 113086.048, 113411.4, 113736.752, 114062.104, 114387.456, 114712.808, 115038.16, 115363.512, 115688.864, 116014.216, 116339.568, 116664.92, 116990.272, 117315.624, 117640.976, 117966.328, 118291.68, 118617.032, 118942.384, 119267.736, 119593.088, 119918.44, 120243.792, 120569.144, 120894.496, 121219.848, 121545.2, 121870.552, 122195.904, 122521.256, 122846.608, 123171.96, 123497.312, 123822.664, 124148.016, 124473.368, 124798.72, 125124.072, 125449.424, 125774.776, 126100.128, 126425.48, 126750.832, 127076.184, 127401.536, 127726.888, 128052.24, 128377.592, 128702.944, 129028.296, 129353.648, 129679.0, 130004.352, 130329.704, 130655.056, 130980.408, 131305.76, 131631.112, 131956.464, 132281.816, 132607.168, 132932.52000000002, 133257.872, 133583.224, 133908.576, 134233.928, 134559.28, 134884.63199999998, 135209.984, 135535.336, 135860.688, 136186.03999999998, 136511.392, 136836.744, 137162.09600000002, 137487.448, 137812.8, 138138.152, 138463.50400000002, 138788.856, 139114.208, 139439.56, 139764.912, 140090.264, 140415.616, 140740.968, 141066.32, 141391.672, 141717.024, 142042.376, 142367.728, 142693.08, 143018.432, 143343.784, 143669.136, 143994.488, 144319.84, 144645.192, 144970.544, 145295.896, 145621.248, 145946.6, 146271.952, 146597.304, 146922.656, 147248.008, 147573.36, 147898.712, 148224.064, 148549.416, 148874.768, 149200.12, 149525.472, 149850.824, 150176.176, 150501.528, 150826.88, 151152.232, 151477.584, 151802.936, 152128.288, 152453.64, 152778.992, 153104.344, 153429.696, 153755.048, 154080.4, 154405.752, 154731.104, 155056.456, 155381.808, 155707.16, 156032.512, 156357.864, 156683.216, 157008.568, 157333.92, 157659.272, 157984.624, 158309.976, 158635.328, 158960.68, 159286.032, 159611.384, 159936.736, 160262.088, 160587.44, 160912.792, 161238.144, 161563.496, 161888.848, 162214.2, 162539.552, 162864.904, 163190.256, 163515.608, 163840.96, 164166.312, 164491.664, 164817.016, 165142.368, 165467.72, 165793.072, 166118.424, 166443.776, 166769.128, 167094.48, 167419.832, 167745.184, 168070.536, 168395.888, 168721.24, 169046.592, 169371.944, 169697.296, 170022.648], \"xaxis\": \"x\", \"y\": [2.7428866638010078e-06, 2.7838765888642615e-06, 2.825135232025084e-06, 2.8666603635813203e-06, 2.9084496984873163e-06, 2.950500890217216e-06, 2.9928115243431867e-06, 3.0353791118421883e-06, 3.0782010821460542e-06, 3.121274775950884e-06, 3.1645974378029848e-06, 3.2081662084795717e-06, 3.2519781171838304e-06, 3.296030073574688e-06, 3.3403188596529717e-06, 3.3848411215263892e-06, 3.429593361076845e-06, 3.4745719275543764e-06, 3.5197730091229028e-06, 3.5651926243836637e-06, 3.610826613902928e-06, 3.6566706317712103e-06, 3.7027201372217433e-06, 3.7489703863363974e-06, 3.795416423867734e-06, 3.842053075206068e-06, 3.888874938520735e-06, 3.935876377104897e-06, 3.983051511953189e-06, 4.030394214601679e-06, 4.077898100259235e-06, 4.125556521259454e-06, 4.17336256086183e-06, 4.221309027430522e-06, 4.26938844901862e-06, 4.317593068385246e-06, 4.365914838472105e-06, 4.414345418365462e-06, 4.46287616976864e-06, 4.5114981540091765e-06, 4.560202129603905e-06, 4.6089785504040006e-06, 4.6578175643409726e-06, 4.706709012793322e-06, 4.755642430592228e-06, 4.8046070466833625e-06, 4.853591785460294e-06, 4.902585268783684e-06, 4.951575818698605e-06, 5.000551460860995e-06, 5.0494999286823226e-06, 5.09840866819994e-06, 5.1472648436788515e-06, 5.196055343948707e-06, 5.244766789478109e-06, 5.2933855401863655e-06, 5.341897703990977e-06, 5.390289146087244e-06, 5.438545498954402e-06, 5.48665217308085e-06, 5.534594368399054e-06, 5.582357086418765e-06, 5.6299251430454005e-06, 5.6772831820683395e-06, 5.724415689302243e-06, 5.771307007362434e-06, 5.8179413510537455e-06, 5.864302823350353e-06, 5.910375431942397e-06, 5.956143106323505e-06, 6.001589715391783e-06, 6.046699085535041e-06, 6.0914550191697924e-06, 6.1358413137018575e-06, 6.179841780875205e-06, 6.223440266474222e-06, 6.266620670343483e-06, 6.309366966687929e-06, 6.351663224615178e-06, 6.393493628880952e-06, 6.434842500797471e-06, 6.475694319264126e-06, 6.516033741878796e-06, 6.555845626087861e-06, 6.595115050332233e-06, 6.633827335146439e-06, 6.671968064167601e-06, 6.7095231050107016e-06, 6.746478629966835e-06, 6.782821136480751e-06, 6.818537467364456e-06, 6.853614830703707e-06, 6.888040819414634e-06, 6.921803430408082e-06, 6.954891083319961e-06, 6.987292638766331e-06, 7.018997416082918e-06, 7.04999521050936e-06, 7.080276309779614e-06, 7.109831510080815e-06, 7.1386521313441495e-06, 7.166730031832305e-06, 7.194057621989578e-06, 7.220627877521815e-06, 7.246434351675077e-06, 7.271471186683142e-06, 7.29573312435585e-06, 7.319215515781538e-06, 7.3419143301190234e-06, 7.36382616245585e-06, 7.384948240711626e-06, 7.405278431567133e-06, 7.4248152454016086e-06, 7.443557840222761e-06, 7.4615060245758506e-06, 7.478660259420399e-06, 7.495021658964894e-06, 7.51059199045205e-06, 7.525373672889278e-06, 7.539369774720894e-06, 7.552584010440995e-06, 7.565020736147714e-06, 7.576684944041826e-06, 7.587582255874752e-06, 7.597718915352979e-06, 7.607101779508024e-06, 7.615738309043176e-06, 7.6236365576700536e-06, 7.63080516045023e-06, 7.637253321159022e-06, 7.642990798690307e-06, 7.648027892523437e-06, 7.652375427274857e-06, 7.656044736358919e-06, 7.659047644784149e-06, 7.661396451112917e-06, 7.663103908613972e-06, 7.664183205639029e-06, 7.66464794525602e-06, 7.664512124173074e-06, 7.663790110988643e-06, 7.662496623804647e-06, 7.660646707240573e-06, 7.658255708887675e-06, 7.655339255243759e-06, 7.651913227169596e-06, 7.647993734909473e-06, 7.643597092718896e-06, 7.638739793143368e-06, 7.633438480993013e-06, 7.627709927058156e-06, 7.621571001611859e-06, 7.615038647745631e-06, 7.6081298545850365e-06, 7.600861630432241e-06, 7.593250975882703e-06, 7.58531485696336e-06, 7.577070178339893e-06, 7.5685337566403015e-06, 7.5597222939422395e-06, 7.550652351471223e-06, 7.541340323556573e-06, 7.531802411891619e-06, 7.522054600144241e-06, 7.512112628963427e-06, 7.501991971426758e-06, 7.491707808973244e-06, 7.481275007865141e-06, 7.470708096221471e-06, 7.460021241665284e-06, 7.449228229625554e-06, 7.4383424423336454e-06, 7.427376838553281e-06, 7.416343934081551e-06, 7.405255783057532e-06, 7.394123960113594e-06, 7.382959543403208e-06, 7.371773098537633e-06, 7.3605746634623084e-06, 7.34937373430241e-06, 7.338179252205243e-06, 7.326999591205573e-06, 7.3158425471384354e-06, 7.304715327621937e-06, 7.293624543131053e-06, 7.2825761991814346e-06, 7.2715756896403774e-06, 7.26062779118029e-06, 7.249736658887859e-06, 7.23890582304044e-06, 7.228138187058793e-06, 7.2174360266436076e-06, 7.2068009901009856e-06, 7.196234099860054e-06, 7.185735755183776e-06, 7.175305736071833e-06, 7.164943208352502e-06, 7.154646729958158e-06, 7.1444142583768725e-06, 7.134243159270757e-06, 7.124130216249044e-06, 7.114071641782298e-06, 7.1040630892416565e-06, 7.09409966604512e-06, 7.084175947890718e-06, 7.074285994054321e-06, 7.064423363727869e-06, 7.0545811333718325e-06, 7.044751915053536e-06, 7.03492787574131e-06, 7.025100757522349e-06, 7.015261898710324e-06, 7.005402255807112e-06, 6.9955124262811e-06, 6.9855826721229124e-06, 6.975602944137726e-06, 6.965562906931872e-06, 6.955451964549703e-06, 6.945259286715513e-06, 6.93497383563378e-06, 6.9245843932997e-06, 6.914079589270929e-06, 6.903447928850178e-06, 6.89267782162729e-06, 6.881757610328625e-06, 6.870675599920452e-06, 6.85942008691266e-06, 6.847979388808069e-06, 6.836341873642264e-06, 6.824495989558495e-06, 6.812430294361547e-06, 6.800133484994523e-06, 6.787594426882182e-06, 6.7748021830845135e-06, 6.761746043204162e-06, 6.7484155519918e-06, 6.734800537593481e-06, 6.7208911393846525e-06, 6.706677835335989e-06, 6.692151468856743e-06, 6.6773032750621965e-06, 6.662124906412424e-06, 6.646608457670882e-06, 6.6307464901319785e-06, 6.614532055068406e-06, 6.597958716349825e-06, 6.581020572186353e-06, 6.56371227595139e-06, 6.54602905604012e-06, 6.527966734721689e-06, 6.509521745944684e-06, 6.490691152057655e-06, 6.471472659408043e-06, 6.451864632785245e-06, 6.431866108675348e-06, 6.411476807297511e-06, 6.39069714339401e-06, 6.369528235748427e-06, 6.347971915408785e-06, 6.3260307325948265e-06, 6.303707962271228e-06, 6.281007608370968e-06, 6.257934406655689e-06, 6.234493826202524e-06, 6.210692069509414e-06, 6.186536071213717e-06, 6.162033495421474e-06, 6.1371927316474875e-06, 6.112022889369013e-06, 6.086533791198515e-06, 6.060735964683805e-06, 6.034640632746326e-06, 6.008259702771196e-06, 5.981605754365171e-06, 5.954692025801338e-06, 5.927532399171917e-06, 5.900141384273015e-06, 5.872534101247839e-06, 5.844726262017108e-06, 5.8167341505278745e-06, 5.788574601854362e-06, 5.7602649801864745e-06, 5.731823155744011e-06, 5.703267480656601e-06, 5.674616763851341e-06, 5.645890244992262e-06, 5.617107567517282e-06, 5.588288750820292e-06, 5.559454161627519e-06, 5.530624484618938e-06, 5.501820692346843e-06, 5.473064014505072e-06, 5.444375906603626e-06, 5.415778018104389e-06, 5.387292160074768e-06, 5.35894027241687e-06, 5.330744390730619e-06, 5.302726612869707e-06, 5.274909065250019e-06, 5.24731386897024e-06, 5.219963105804914e-06, 5.192878784130056e-06, 5.166082804841711e-06, 5.139596927327492e-06, 5.1134427355510895e-06, 5.087641604309182e-06, 5.062214665719926e-06, 5.037182776001452e-06, 5.012566482598093e-06, 4.988385991711314e-06, 4.964661136291364e-06, 4.941411344544532e-06, 4.918655609009887e-06, 4.896412456258011e-06, 4.874699917262964e-06, 4.853535498497175e-06, 4.832936153797583e-06, 4.8129182570495275e-06, 4.7934975757333325e-06, 4.774689245376686e-06, 4.7565077449540575e-06, 4.738966873272473e-06, 4.722079726380938e-06, 4.7058586760388624e-06, 4.690315349276537e-06, 4.675460609078785e-06, 4.661304536220462e-06, 4.647856412280466e-06, 4.635124703858497e-06, 4.623117048016491e-06, 4.6118402389644725e-06, 4.601300216008041e-06, 4.5915020527724214e-06, 4.582449947715703e-06, 4.574147215941381e-06, 4.566596282318076e-06, 4.559798675911832e-06, 4.55375502573415e-06, 4.5484650578064376e-06, 4.543927593539453e-06, 4.540140549423749e-06, 4.537100938025178e-06, 4.534804870277028e-06, 4.5332475590583575e-06, 4.532423324045885e-06, 4.532325597824698e-06, 4.532946933241012e-06, 4.5342790119782715e-06, 4.5363126543358685e-06, 4.539037830187979e-06, 4.542443671098174e-06, 4.5465184835637e-06, 4.551249763361751e-06, 4.5566242109683705e-06, 4.56262774801914e-06, 4.569245534779415e-06, 4.576461988590416e-06, 4.584260803256304e-06, 4.5926249693360876e-06, 4.60153679530315e-06, 4.610977929534079e-06, 4.620929383087682e-06, 4.631371553233977e-06, 4.642284247692402e-06, 4.653646709537643e-06, 4.665437642730913e-06, 4.677635238234041e-06, 4.690217200663176e-06, 4.703160775438727e-06, 4.7164427763876815e-06, 4.730039613754472e-06, 4.743927322576261e-06, 4.758081591378621e-06, 4.772477791147609e-06, 4.7870910045342544e-06, 4.801896055247886e-06, 4.816867537594809e-06, 4.831979846119311e-06, 4.847207205304295e-06, 4.862523699289471e-06, 4.877903301565401e-06, 4.893319904602444e-06, 4.908747349374293e-06, 4.924159454736447e-06, 4.939530046620859e-06, 4.9548329870087735e-06, 4.970042202644618e-06, 4.98513171345485e-06, 5.00007566063658e-06, 5.014848334381709e-06, 5.029424201203617e-06, 5.043777930834292e-06, 5.057884422661023e-06, 5.071718831672946e-06, 5.085256593888854e-06, 5.098473451238965e-06, 5.111345475874461e-06, 5.12384909387995e-06, 5.135961108365264e-06, 5.147658721914145e-06, 5.158919558368854e-06, 5.1697216839309026e-06, 5.180043627559315e-06, 5.189864400649465e-06, 5.19916351597636e-06, 5.207921005887939e-06, 5.216117439735055e-06, 5.223733940526078e-06, 5.230752200795463e-06, 5.237154497676729e-06, 5.24292370717171e-06, 5.248043317609022e-06, 5.252497442286037e-06, 5.256270831289793e-06, 5.259348882493424e-06, 5.261717651725968e-06, 5.2633638621143925e-06, 5.264274912597952e-06, 5.264438885615926e-06, 5.263844553970988e-06, 5.2624813868714004e-06, 5.260339555156237e-06, 5.257409935708891e-06, 5.253684115064968e-06, 5.2491543922216476e-06, 5.243813780656477e-06, 5.237656009564365e-06, 5.230675524322422e-06, 5.2228674861930486e-06, 5.214227771276412e-06, 5.204752968724234e-06, 5.1944403782273855e-06, 5.183288006790628e-06, 5.171294564808206e-06, 5.1584594614548246e-06, 5.144782799406966e-06, 5.13026536891003e-06, 5.114908641207317e-06, 5.098714761347326e-06, 5.081686540386204e-06, 5.063827447002645e-06, 5.045141598542869e-06, 5.025633751513678e-06, 5.005309291541786e-06, 4.984174222818069e-06, 4.96223515704544e-06, 4.9394993019094286e-06, 4.915974449090565e-06, 4.891668961838072e-06, 4.866591762124222e-06, 4.840752317399064e-06, 4.814160626965142e-06, 4.786827207992096e-06, 4.758763081190735e-06, 4.729979756166671e-06, 4.700489216473066e-06, 4.67030390438249e-06, 4.6394367053975274e-06, 4.607900932519837e-06, 4.575710310297331e-06, 4.542878958668858e-06, 4.509421376625926e-06, 4.4753524257105514e-06, 4.440687313368499e-06, 4.405441576176733e-06, 4.369631062963894e-06, 4.333271917842324e-06, 4.296380563170074e-06, 4.258973682460907e-06, 4.221068203260363e-06, 4.182681280005324e-06, 4.1438302768847566e-06, 4.104532750718512e-06, 4.064806433871199e-06, 4.024669217217668e-06, 3.984139133176343e-06, 3.9432343388264285e-06, 3.901973099124603e-06, 3.8603737702365906e-06, 3.818454782998523e-06, 3.7762346265228633e-06, 3.7337318319631297e-06, 3.6909649564514472e-06, 3.6479525672224885e-06, 3.6047132259371e-06, 3.5612654732183775e-06, 3.517627813412895e-06, 3.4738186995889046e-06, 3.4298565187835364e-06, 3.3857595775100575e-06, 3.3415460875363198e-06, 3.2972341519447995e-06, 3.2528417514843592e-06, 3.208386731223542e-06, 3.1638867875144657e-06, 3.11935945527646e-06, 3.074822095607612e-06, 3.0302918837324314e-06, 2.9857857972931084e-06, 2.941320604991564e-06], \"yaxis\": \"y\"}],\n",
              "                        {\"barmode\": \"overlay\", \"hovermode\": \"closest\", \"legend\": {\"traceorder\": \"reversed\"}, \"template\": {\"data\": {\"bar\": [{\"error_x\": {\"color\": \"#2a3f5f\"}, \"error_y\": {\"color\": \"#2a3f5f\"}, \"marker\": {\"line\": {\"color\": \"#E5ECF6\", \"width\": 0.5}}, \"type\": \"bar\"}], \"barpolar\": [{\"marker\": {\"line\": {\"color\": \"#E5ECF6\", \"width\": 0.5}}, \"type\": \"barpolar\"}], \"carpet\": [{\"aaxis\": {\"endlinecolor\": \"#2a3f5f\", \"gridcolor\": \"white\", \"linecolor\": \"white\", \"minorgridcolor\": \"white\", \"startlinecolor\": \"#2a3f5f\"}, \"baxis\": {\"endlinecolor\": \"#2a3f5f\", \"gridcolor\": \"white\", \"linecolor\": \"white\", \"minorgridcolor\": \"white\", \"startlinecolor\": \"#2a3f5f\"}, \"type\": \"carpet\"}], \"choropleth\": [{\"colorbar\": {\"outlinewidth\": 0, \"ticks\": \"\"}, \"type\": \"choropleth\"}], \"contour\": [{\"colorbar\": {\"outlinewidth\": 0, \"ticks\": \"\"}, \"colorscale\": [[0.0, \"#0d0887\"], [0.1111111111111111, \"#46039f\"], [0.2222222222222222, \"#7201a8\"], [0.3333333333333333, \"#9c179e\"], [0.4444444444444444, \"#bd3786\"], [0.5555555555555556, \"#d8576b\"], [0.6666666666666666, \"#ed7953\"], [0.7777777777777778, \"#fb9f3a\"], [0.8888888888888888, \"#fdca26\"], [1.0, \"#f0f921\"]], \"type\": \"contour\"}], \"contourcarpet\": [{\"colorbar\": {\"outlinewidth\": 0, \"ticks\": \"\"}, \"type\": \"contourcarpet\"}], \"heatmap\": [{\"colorbar\": {\"outlinewidth\": 0, \"ticks\": \"\"}, \"colorscale\": [[0.0, \"#0d0887\"], [0.1111111111111111, \"#46039f\"], [0.2222222222222222, \"#7201a8\"], [0.3333333333333333, \"#9c179e\"], [0.4444444444444444, \"#bd3786\"], [0.5555555555555556, \"#d8576b\"], [0.6666666666666666, \"#ed7953\"], [0.7777777777777778, \"#fb9f3a\"], [0.8888888888888888, \"#fdca26\"], [1.0, \"#f0f921\"]], \"type\": \"heatmap\"}], \"heatmapgl\": [{\"colorbar\": {\"outlinewidth\": 0, \"ticks\": \"\"}, \"colorscale\": [[0.0, \"#0d0887\"], [0.1111111111111111, \"#46039f\"], [0.2222222222222222, \"#7201a8\"], [0.3333333333333333, \"#9c179e\"], [0.4444444444444444, \"#bd3786\"], [0.5555555555555556, \"#d8576b\"], [0.6666666666666666, \"#ed7953\"], [0.7777777777777778, \"#fb9f3a\"], [0.8888888888888888, \"#fdca26\"], [1.0, \"#f0f921\"]], \"type\": \"heatmapgl\"}], \"histogram\": [{\"marker\": {\"colorbar\": {\"outlinewidth\": 0, \"ticks\": \"\"}}, \"type\": \"histogram\"}], \"histogram2d\": [{\"colorbar\": {\"outlinewidth\": 0, \"ticks\": \"\"}, \"colorscale\": [[0.0, \"#0d0887\"], [0.1111111111111111, \"#46039f\"], [0.2222222222222222, \"#7201a8\"], [0.3333333333333333, \"#9c179e\"], [0.4444444444444444, \"#bd3786\"], [0.5555555555555556, \"#d8576b\"], [0.6666666666666666, \"#ed7953\"], [0.7777777777777778, \"#fb9f3a\"], [0.8888888888888888, \"#fdca26\"], [1.0, \"#f0f921\"]], \"type\": \"histogram2d\"}], \"histogram2dcontour\": [{\"colorbar\": {\"outlinewidth\": 0, \"ticks\": \"\"}, \"colorscale\": [[0.0, \"#0d0887\"], [0.1111111111111111, \"#46039f\"], [0.2222222222222222, \"#7201a8\"], [0.3333333333333333, \"#9c179e\"], [0.4444444444444444, \"#bd3786\"], [0.5555555555555556, \"#d8576b\"], [0.6666666666666666, \"#ed7953\"], [0.7777777777777778, \"#fb9f3a\"], [0.8888888888888888, \"#fdca26\"], [1.0, \"#f0f921\"]], \"type\": \"histogram2dcontour\"}], \"mesh3d\": [{\"colorbar\": {\"outlinewidth\": 0, \"ticks\": \"\"}, \"type\": \"mesh3d\"}], \"parcoords\": [{\"line\": {\"colorbar\": {\"outlinewidth\": 0, \"ticks\": \"\"}}, \"type\": \"parcoords\"}], \"pie\": [{\"automargin\": true, \"type\": \"pie\"}], \"scatter\": [{\"marker\": {\"colorbar\": {\"outlinewidth\": 0, \"ticks\": \"\"}}, \"type\": \"scatter\"}], \"scatter3d\": [{\"line\": {\"colorbar\": {\"outlinewidth\": 0, \"ticks\": \"\"}}, \"marker\": {\"colorbar\": {\"outlinewidth\": 0, \"ticks\": \"\"}}, \"type\": \"scatter3d\"}], \"scattercarpet\": [{\"marker\": {\"colorbar\": {\"outlinewidth\": 0, \"ticks\": \"\"}}, \"type\": \"scattercarpet\"}], \"scattergeo\": [{\"marker\": {\"colorbar\": {\"outlinewidth\": 0, \"ticks\": \"\"}}, \"type\": \"scattergeo\"}], \"scattergl\": [{\"marker\": {\"colorbar\": {\"outlinewidth\": 0, \"ticks\": \"\"}}, \"type\": \"scattergl\"}], \"scattermapbox\": [{\"marker\": {\"colorbar\": {\"outlinewidth\": 0, \"ticks\": \"\"}}, \"type\": \"scattermapbox\"}], \"scatterpolar\": [{\"marker\": {\"colorbar\": {\"outlinewidth\": 0, \"ticks\": \"\"}}, \"type\": \"scatterpolar\"}], \"scatterpolargl\": [{\"marker\": {\"colorbar\": {\"outlinewidth\": 0, \"ticks\": \"\"}}, \"type\": \"scatterpolargl\"}], \"scatterternary\": [{\"marker\": {\"colorbar\": {\"outlinewidth\": 0, \"ticks\": \"\"}}, \"type\": \"scatterternary\"}], \"surface\": [{\"colorbar\": {\"outlinewidth\": 0, \"ticks\": \"\"}, \"colorscale\": [[0.0, \"#0d0887\"], [0.1111111111111111, \"#46039f\"], [0.2222222222222222, \"#7201a8\"], [0.3333333333333333, \"#9c179e\"], [0.4444444444444444, \"#bd3786\"], [0.5555555555555556, \"#d8576b\"], [0.6666666666666666, \"#ed7953\"], [0.7777777777777778, \"#fb9f3a\"], [0.8888888888888888, \"#fdca26\"], [1.0, \"#f0f921\"]], \"type\": \"surface\"}], \"table\": [{\"cells\": {\"fill\": {\"color\": \"#EBF0F8\"}, \"line\": {\"color\": \"white\"}}, \"header\": {\"fill\": {\"color\": \"#C8D4E3\"}, \"line\": {\"color\": \"white\"}}, \"type\": \"table\"}]}, \"layout\": {\"annotationdefaults\": {\"arrowcolor\": \"#2a3f5f\", \"arrowhead\": 0, \"arrowwidth\": 1}, \"coloraxis\": {\"colorbar\": {\"outlinewidth\": 0, \"ticks\": \"\"}}, \"colorscale\": {\"diverging\": [[0, \"#8e0152\"], [0.1, \"#c51b7d\"], [0.2, \"#de77ae\"], [0.3, \"#f1b6da\"], [0.4, \"#fde0ef\"], [0.5, \"#f7f7f7\"], [0.6, \"#e6f5d0\"], [0.7, \"#b8e186\"], [0.8, \"#7fbc41\"], [0.9, \"#4d9221\"], [1, \"#276419\"]], \"sequential\": [[0.0, \"#0d0887\"], [0.1111111111111111, \"#46039f\"], [0.2222222222222222, \"#7201a8\"], [0.3333333333333333, \"#9c179e\"], [0.4444444444444444, \"#bd3786\"], [0.5555555555555556, \"#d8576b\"], [0.6666666666666666, \"#ed7953\"], [0.7777777777777778, \"#fb9f3a\"], [0.8888888888888888, \"#fdca26\"], [1.0, \"#f0f921\"]], \"sequentialminus\": [[0.0, \"#0d0887\"], [0.1111111111111111, \"#46039f\"], [0.2222222222222222, \"#7201a8\"], [0.3333333333333333, \"#9c179e\"], [0.4444444444444444, \"#bd3786\"], [0.5555555555555556, \"#d8576b\"], [0.6666666666666666, \"#ed7953\"], [0.7777777777777778, \"#fb9f3a\"], [0.8888888888888888, \"#fdca26\"], [1.0, \"#f0f921\"]]}, \"colorway\": [\"#636efa\", \"#EF553B\", \"#00cc96\", \"#ab63fa\", \"#FFA15A\", \"#19d3f3\", \"#FF6692\", \"#B6E880\", \"#FF97FF\", \"#FECB52\"], \"font\": {\"color\": \"#2a3f5f\"}, \"geo\": {\"bgcolor\": \"white\", \"lakecolor\": \"white\", \"landcolor\": \"#E5ECF6\", \"showlakes\": true, \"showland\": true, \"subunitcolor\": \"white\"}, \"hoverlabel\": {\"align\": \"left\"}, \"hovermode\": \"closest\", \"mapbox\": {\"style\": \"light\"}, \"paper_bgcolor\": \"white\", \"plot_bgcolor\": \"#E5ECF6\", \"polar\": {\"angularaxis\": {\"gridcolor\": \"white\", \"linecolor\": \"white\", \"ticks\": \"\"}, \"bgcolor\": \"#E5ECF6\", \"radialaxis\": {\"gridcolor\": \"white\", \"linecolor\": \"white\", \"ticks\": \"\"}}, \"scene\": {\"xaxis\": {\"backgroundcolor\": \"#E5ECF6\", \"gridcolor\": \"white\", \"gridwidth\": 2, \"linecolor\": \"white\", \"showbackground\": true, \"ticks\": \"\", \"zerolinecolor\": \"white\"}, \"yaxis\": {\"backgroundcolor\": \"#E5ECF6\", \"gridcolor\": \"white\", \"gridwidth\": 2, \"linecolor\": \"white\", \"showbackground\": true, \"ticks\": \"\", \"zerolinecolor\": \"white\"}, \"zaxis\": {\"backgroundcolor\": \"#E5ECF6\", \"gridcolor\": \"white\", \"gridwidth\": 2, \"linecolor\": \"white\", \"showbackground\": true, \"ticks\": \"\", \"zerolinecolor\": \"white\"}}, \"shapedefaults\": {\"line\": {\"color\": \"#2a3f5f\"}}, \"ternary\": {\"aaxis\": {\"gridcolor\": \"white\", \"linecolor\": \"white\", \"ticks\": \"\"}, \"baxis\": {\"gridcolor\": \"white\", \"linecolor\": \"white\", \"ticks\": \"\"}, \"bgcolor\": \"#E5ECF6\", \"caxis\": {\"gridcolor\": \"white\", \"linecolor\": \"white\", \"ticks\": \"\"}}, \"title\": {\"x\": 0.05}, \"xaxis\": {\"automargin\": true, \"gridcolor\": \"white\", \"linecolor\": \"white\", \"ticks\": \"\", \"title\": {\"standoff\": 15}, \"zerolinecolor\": \"white\", \"zerolinewidth\": 2}, \"yaxis\": {\"automargin\": true, \"gridcolor\": \"white\", \"linecolor\": \"white\", \"ticks\": \"\", \"title\": {\"standoff\": 15}, \"zerolinecolor\": \"white\", \"zerolinewidth\": 2}}}, \"title\": {\"text\": \"Credit Card Transactions Time Density Plot\"}, \"xaxis\": {\"anchor\": \"y2\", \"domain\": [0.0, 1.0], \"title\": {\"text\": \"Time [s]\"}, \"zeroline\": false}, \"yaxis\": {\"anchor\": \"free\", \"domain\": [0.0, 1], \"position\": 0.0}},\n",
              "                        {\"responsive\": true}\n",
              "                    ).then(function(){\n",
              "                            \n",
              "var gd = document.getElementById('b470042b-b167-4c67-9429-33dd169ae005');\n",
              "var x = new MutationObserver(function (mutations, observer) {{\n",
              "        var display = window.getComputedStyle(gd).display;\n",
              "        if (!display || display === 'none') {{\n",
              "            console.log([gd, 'removed!']);\n",
              "            Plotly.purge(gd);\n",
              "            observer.disconnect();\n",
              "        }}\n",
              "}});\n",
              "\n",
              "// Listen for the removal of the full notebook cells\n",
              "var notebookContainer = gd.closest('#notebook-container');\n",
              "if (notebookContainer) {{\n",
              "    x.observe(notebookContainer, {childList: true});\n",
              "}}\n",
              "\n",
              "// Listen for the clearing of the current output cell\n",
              "var outputEl = gd.closest('.output');\n",
              "if (outputEl) {{\n",
              "    x.observe(outputEl, {childList: true});\n",
              "}}\n",
              "\n",
              "                        })\n",
              "                };\n",
              "                \n",
              "            </script>\n",
              "        </div>\n",
              "</body>\n",
              "</html>"
            ]
          },
          "metadata": {
            "tags": []
          }
        }
      ]
    },
    {
      "cell_type": "markdown",
      "metadata": {
        "id": "09N6e6jRPmt3"
      },
      "source": [
        "Fraudulent transactions have a distribution more even than valid transactions - are equaly distributed in time, including the low real transaction times, during night"
      ]
    },
    {
      "cell_type": "markdown",
      "metadata": {
        "id": "e-GieNrdNn3u"
      },
      "source": [
        ""
      ]
    },
    {
      "cell_type": "code",
      "metadata": {
        "colab": {
          "base_uri": "https://localhost:8080/",
          "height": 625
        },
        "id": "CyFFjRZEelbV",
        "outputId": "722a828d-5db0-4c6b-aa38-2206bac75c12"
      },
      "source": [
        "#get correlations of each features in dataset\n",
        "plt.figure(figsize=(10,10))\n",
        "sns.heatmap(data=df.corr(), cmap=\"seismic\")\n",
        "plt.show();"
      ],
      "execution_count": 15,
      "outputs": [
        {
          "output_type": "display_data",
          "data": {
            "image/png": "[encoded data removed]",
            "text/plain": [
              "<Figure size 720x720 with 2 Axes>"
            ]
          },
          "metadata": {
            "tags": [],
            "needs_background": "light"
          }
        }
      ]
    },
    {
      "cell_type": "markdown",
      "metadata": {
        "id": "ne_HQzCvS3ee"
      },
      "source": [
        "There is no notable correlation between features V1-V28. There are certain correlations between some of these features and Time (inverse corelation v3, v22) and Amount (direct correlation with V7 and V20, inverse correlation with V2 and V5)."
      ]
    },
    {
      "cell_type": "markdown",
      "metadata": {
        "id": "Rnk6zmZsSqrv"
      },
      "source": [
        "\n",
        "\n",
        "---\n",
        "\n"
      ]
    },
    {
      "cell_type": "markdown",
      "metadata": {
        "id": "qfNmqUXDf1gY"
      },
      "source": [
        "**I will use different Algorithm to see which model perform best**"
      ]
    },
    {
      "cell_type": "markdown",
      "metadata": {
        "id": "Y2EVACj-SZ21"
      },
      "source": [
        "### Data Preperation"
      ]
    },
    {
      "cell_type": "code",
      "metadata": {
        "id": "7JWk1HVE7IUc"
      },
      "source": [
        "#Dependent variable\n",
        "X = df[df.columns.drop('Class')]\n",
        "# Target \n",
        "y = df['Class']"
      ],
      "execution_count": 16,
      "outputs": []
    },
    {
      "cell_type": "code",
      "metadata": {
        "id": "YgkuLW-bSdRb"
      },
      "source": [
        "scalar = StandardScaler()\n",
        "X_train_v, X_test, y_train_v, y_test = train_test_split(X, y, \n",
        "                                                    test_size=0.3, random_state=42, stratify = y)\n",
        "X_train, X_validate, y_train, y_validate = train_test_split(X_train_v, y_train_v, \n",
        "                                                              test_size=0.2, random_state=42,stratify = y_train_v)\n",
        "\n",
        "X_train = scalar.fit_transform(X_train)\n",
        "X_validate = scalar.transform(X_validate)\n",
        "X_test = scalar.transform(X_test)"
      ],
      "execution_count": 18,
      "outputs": []
    },
    {
      "cell_type": "code",
      "metadata": {
        "colab": {
          "base_uri": "https://localhost:8080/"
        },
        "id": "6SGQr8xEVYp1",
        "outputId": "8fd93d82-fc37-4fa4-c472-87038ffc5070"
      },
      "source": [
        "#Distribution of transaction in Training set\n",
        "y_train.value_counts()"
      ],
      "execution_count": 20,
      "outputs": [
        {
          "output_type": "execute_result",
          "data": {
            "text/plain": [
              "0    31843\n",
              "1       54\n",
              "Name: Class, dtype: int64"
            ]
          },
          "metadata": {
            "tags": []
          },
          "execution_count": 20
        }
      ]
    },
    {
      "cell_type": "code",
      "metadata": {
        "colab": {
          "base_uri": "https://localhost:8080/"
        },
        "id": "QYgzxGTEWUMV",
        "outputId": "0f316a73-c25f-46ff-d33c-cf38d901eb1c"
      },
      "source": [
        "#Distribution of transaction in Test set\n",
        "y_test.value_counts()"
      ],
      "execution_count": 21,
      "outputs": [
        {
          "output_type": "execute_result",
          "data": {
            "text/plain": [
              "0    17060\n",
              "1       29\n",
              "Name: Class, dtype: int64"
            ]
          },
          "metadata": {
            "tags": []
          },
          "execution_count": 21
        }
      ]
    },
    {
      "cell_type": "code",
      "metadata": {
        "colab": {
          "base_uri": "https://localhost:8080/"
        },
        "id": "ETfK_YjGWevM",
        "outputId": "2bdc53a5-d32b-4102-ce4a-cc84f1dbac36"
      },
      "source": [
        "#Distribution of transaction in validation set\n",
        "y_train_v.value_counts()"
      ],
      "execution_count": 22,
      "outputs": [
        {
          "output_type": "execute_result",
          "data": {
            "text/plain": [
              "0    39805\n",
              "1       67\n",
              "Name: Class, dtype: int64"
            ]
          },
          "metadata": {
            "tags": []
          },
          "execution_count": 22
        }
      ]
    },
    {
      "cell_type": "code",
      "metadata": {
        "id": "oUtJUNd7TfUt",
        "colab": {
          "base_uri": "https://localhost:8080/"
        },
        "outputId": "ed4d8ce1-cec4-4821-8092-f20f248a49d7"
      },
      "source": [
        "w_p = y_train.value_counts()[0] / len(y_train)\n",
        "w_n = y_train.value_counts()[1] / len(y_train)\n",
        "\n",
        "print(f\"Fraudulant transaction weight: {w_n}\")\n",
        "print(f\"Non-Fraudulant transaction weight: {w_p}\")"
      ],
      "execution_count": 23,
      "outputs": [
        {
          "output_type": "stream",
          "text": [
            "Fraudulant transaction weight: 0.0016929491801736841\n",
            "Non-Fraudulant transaction weight: 0.9983070508198263\n"
          ],
          "name": "stdout"
        }
      ]
    },
    {
      "cell_type": "markdown",
      "metadata": {
        "id": "v0FjAiUVptr9"
      },
      "source": [
        "### Performance matrics\n"
      ]
    },
    {
      "cell_type": "code",
      "metadata": {
        "id": "KMpf7V2HpzOg"
      },
      "source": [
        "from sklearn.metrics import accuracy_score, confusion_matrix, classification_report, f1_score\n",
        "\n",
        "def print_score(label, prediction, train=True):\n",
        "    if train:\n",
        "        clf_report = pd.DataFrame(classification_report(label, prediction, output_dict=True))\n",
        "        print(\"Train Result:\\n================================================\")\n",
        "        print(f\"Accuracy Score: {accuracy_score(label, prediction) * 100:.2f}%\")\n",
        "        print(\"_______________________________________________\")\n",
        "        print(f\"Classification Report:\\n{clf_report}\")\n",
        "        print(\"_______________________________________________\")\n",
        "        print(f\"Confusion Matrix: \\n {confusion_matrix(y_train, prediction)}\\n\")\n",
        "        \n",
        "    elif train==False:\n",
        "        clf_report = pd.DataFrame(classification_report(label, prediction, output_dict=True))\n",
        "        print(\"Test Result:\\n================================================\")        \n",
        "        print(f\"Accuracy Score: {accuracy_score(label, prediction) * 100:.2f}%\")\n",
        "        print(\"_______________________________________________\")\n",
        "        print(f\"Classification Report:\\n{clf_report}\")\n",
        "        print(\"_______________________________________________\")\n",
        "        print(f\"Confusion Matrix: \\n {confusion_matrix(label, prediction)}\\n\") "
      ],
      "execution_count": 24,
      "outputs": []
    },
    {
      "cell_type": "markdown",
      "metadata": {
        "id": "YNKe-jraYNwk"
      },
      "source": [
        "## Models"
      ]
    },
    {
      "cell_type": "markdown",
      "metadata": {
        "id": "RGMSZvvSgFsI"
      },
      "source": [
        "### Isolation Forest Algorithm "
      ]
    },
    {
      "cell_type": "code",
      "metadata": {
        "id": "9cBZKJLnxgsC"
      },
      "source": [
        "model = IsolationForest(n_estimators=100, max_samples=len(X_train), \n",
        "                        contamination='auto',random_state=90, verbose=0)\n",
        "model.fit(X_train)\n",
        "scores_prediction = model.decision_function(X_train)"
      ],
      "execution_count": 25,
      "outputs": []
    },
    {
      "cell_type": "code",
      "metadata": {
        "id": "Yc2DO_zkvKJn"
      },
      "source": [
        "y_train_pred = model.predict(X_train)\n",
        "y_test_pred = model.predict(X_test)\n",
        "# Because the predicted values are -1,1. We need to convert the values to calculate the performance matrices\n",
        "y_train_pred[y_train_pred == 1] = 0\n",
        "y_train_pred[y_train_pred == -1] = 1\n",
        "y_test_pred[y_test_pred == 1] = 0\n",
        "y_test_pred[y_test_pred == -1] = 1"
      ],
      "execution_count": 33,
      "outputs": []
    },
    {
      "cell_type": "code",
      "metadata": {
        "colab": {
          "base_uri": "https://localhost:8080/"
        },
        "id": "FlZto1h2vwlJ",
        "outputId": "928532bc-401b-46bf-f62d-2c19b998ef52"
      },
      "source": [
        "print_score(y_train, y_train_pred, train=True)\n",
        "print_score(y_test, y_test_pred, train=False)"
      ],
      "execution_count": 35,
      "outputs": [
        {
          "output_type": "stream",
          "text": [
            "Train Result:\n",
            "================================================\n",
            "Accuracy Score: 99.60%\n",
            "_______________________________________________\n",
            "Classification Report:\n",
            "                      0          1  accuracy     macro avg  weighted avg\n",
            "precision      0.999213   0.219697  0.995987      0.609455      0.997893\n",
            "recall         0.996765   0.537037  0.995987      0.766901      0.995987\n",
            "f1-score       0.997988   0.311828  0.995987      0.654908      0.996826\n",
            "support    31843.000000  54.000000  0.995987  31897.000000  31897.000000\n",
            "_______________________________________________\n",
            "Confusion Matrix: \n",
            " [[31740   103]\n",
            " [   25    29]]\n",
            "\n",
            "Test Result:\n",
            "================================================\n",
            "Accuracy Score: 99.56%\n",
            "_______________________________________________\n",
            "Classification Report:\n",
            "                      0          1  accuracy     macro avg  weighted avg\n",
            "precision      0.999177   0.197368  0.995611      0.598273      0.997816\n",
            "recall         0.996424   0.517241  0.995611      0.756833      0.995611\n",
            "f1-score       0.997799   0.285714  0.995611      0.641757      0.996590\n",
            "support    17060.000000  29.000000  0.995611  17089.000000  17089.000000\n",
            "_______________________________________________\n",
            "Confusion Matrix: \n",
            " [[16999    61]\n",
            " [   14    15]]\n",
            "\n"
          ],
          "name": "stdout"
        }
      ]
    },
    {
      "cell_type": "markdown",
      "metadata": {
        "id": "YvwidsaFzYcA"
      },
      "source": [
        "The confusion_matrix() function gives you just the correctly/misclassified point but does not the provide the information about how far the model is confident when it misclassifies a datapoint.\n",
        "\n",
        "This information is used to create an ROC curve (which is used to measure ability of a model to rank each datapoint based on its likelihood towards a particular class).\n",
        "\n",
        "Instead, use the decision_function() or score_samples() functions to calculate the model's confidence that each data point is (or is not) an anomaly. Then, use roc_curve() to get the points necessary to plot the curve itself."
      ]
    },
    {
      "cell_type": "code",
      "metadata": {
        "colab": {
          "base_uri": "https://localhost:8080/",
          "height": 279
        },
        "id": "iZrcA_C2xd5I",
        "outputId": "63522c11-8aaf-4e86-9d74-8383787acc47"
      },
      "source": [
        "# Roc curve \n",
        "fpr, tpr, thresholds = roc_curve(y_test, y_test_pred)\n",
        "plt.plot(fpr, tpr, 'k-', lw=2)\n",
        "plt.xlabel('FPR')\n",
        "plt.ylabel('TPR')\n",
        "plt.show()"
      ],
      "execution_count": 38,
      "outputs": [
        {
          "output_type": "display_data",
          "data": {
            "image/png": "[encoded data removed]",
            "text/plain": [
              "<Figure size 432x288 with 1 Axes>"
            ]
          },
          "metadata": {
            "tags": [],
            "needs_background": "light"
          }
        }
      ]
    },
    {
      "cell_type": "markdown",
      "metadata": {
        "id": "ZrARPxfiILSN"
      },
      "source": [
        "---"
      ]
    },
    {
      "cell_type": "markdown",
      "metadata": {
        "id": "dc9GY1G00T3I"
      },
      "source": [
        "We can adjust he threshhold and increase the recall depending upon the requirement."
      ]
    },
    {
      "cell_type": "code",
      "metadata": {
        "id": "kUb5lkNvIRU9"
      },
      "source": [
        "model = IsolationForest(n_estimators=100, max_samples=len(X_train), \n",
        "                        contamination=.02,random_state=90, verbose=0)\n",
        "model.fit(X_train)\n",
        "scores_prediction = model.decision_function(X_train)"
      ],
      "execution_count": 85,
      "outputs": []
    },
    {
      "cell_type": "code",
      "metadata": {
        "id": "hn1dAn-NIcJd"
      },
      "source": [
        "# After changing the contamination argument\n",
        "y_train_pred = model.predict(X_train)\n",
        "y_test_pred = model.predict(X_test)\n",
        "# Because the predicted values are -1,1. We need to convert the values to calculate the performance matrices\n",
        "y_train_pred[y_train_pred == 1] = 0\n",
        "y_train_pred[y_train_pred == -1] = 1\n",
        "y_test_pred[y_test_pred == 1] = 0\n",
        "y_test_pred[y_test_pred == -1] = 1"
      ],
      "execution_count": 86,
      "outputs": []
    },
    {
      "cell_type": "code",
      "metadata": {
        "colab": {
          "base_uri": "https://localhost:8080/"
        },
        "id": "iqDIxY561B-o",
        "outputId": "94f3862f-2327-4821-9b6c-ea0c213b51a5"
      },
      "source": [
        "print_score(y_train, y_train_pred, train=True)\n",
        "print_score(y_test, y_test_pred, train=False)"
      ],
      "execution_count": 87,
      "outputs": [
        {
          "output_type": "stream",
          "text": [
            "Train Result:\n",
            "================================================\n",
            "Accuracy Score: 98.11%\n",
            "_______________________________________________\n",
            "Classification Report:\n",
            "                      0          1  accuracy     macro avg  weighted avg\n",
            "precision      0.999712   0.070533  0.981127      0.535122      0.998139\n",
            "recall         0.981377   0.833333  0.981127      0.907355      0.981127\n",
            "f1-score       0.990460   0.130058  0.981127      0.560259      0.989003\n",
            "support    31843.000000  54.000000  0.981127  31897.000000  31897.000000\n",
            "_______________________________________________\n",
            "Confusion Matrix: \n",
            " [[31250   593]\n",
            " [    9    45]]\n",
            "\n",
            "Test Result:\n",
            "================================================\n",
            "Accuracy Score: 98.24%\n",
            "_______________________________________________\n",
            "Classification Report:\n",
            "                      0          1  accuracy     macro avg  weighted avg\n",
            "precision      0.999702   0.075235  0.982445      0.537468      0.998133\n",
            "recall         0.982708   0.827586  0.982445      0.905147      0.982445\n",
            "f1-score       0.991132   0.137931  0.982445      0.564532      0.989684\n",
            "support    17060.000000  29.000000  0.982445  17089.000000  17089.000000\n",
            "_______________________________________________\n",
            "Confusion Matrix: \n",
            " [[16765   295]\n",
            " [    5    24]]\n",
            "\n"
          ],
          "name": "stdout"
        }
      ]
    },
    {
      "cell_type": "code",
      "metadata": {
        "colab": {
          "base_uri": "https://localhost:8080/",
          "height": 279
        },
        "id": "Hu3Bdjd61Vrn",
        "outputId": "abef7519-0c84-4b06-e25c-0330e4bbdbdb"
      },
      "source": [
        "# Roc curve \n",
        "fpr, tpr, thresholds = roc_curve(y_test, y_test_pred)\n",
        "plt.plot(fpr, tpr, 'k-', lw=2)\n",
        "plt.xlabel('FPR')\n",
        "plt.ylabel('TPR')\n",
        "plt.show()"
      ],
      "execution_count": 88,
      "outputs": [
        {
          "output_type": "display_data",
          "data": {
            "image/png": "[encoded data removed]",
            "text/plain": [
              "<Figure size 432x288 with 1 Axes>"
            ]
          },
          "metadata": {
            "tags": [],
            "needs_background": "light"
          }
        }
      ]
    },
    {
      "cell_type": "markdown",
      "metadata": {
        "id": "bjq5ph0AKxNv"
      },
      "source": [
        "#### Result \n",
        "First model was : Accuracy Score: 99.56%\n",
        "\n",
        "Recall for farud transactions :  **0.517241**\n",
        "\n",
        "\n",
        "---\n",
        "\n",
        "\n",
        "Second model was :Accuracy Score: 98.24%\n",
        "\n",
        "Recall for farud transactions :  **0.82**\n",
        "F1 Score = 0.220994\n",
        "\n",
        "The second model perfoms better for identifying the fraud detetcions on the sacrifice of few errors in normal transactions. "
      ]
    },
    {
      "cell_type": "code",
      "metadata": {
        "id": "BnxPbgHWaAB9"
      },
      "source": [
        "scores_dict = {\n",
        "    'Isolation Forest': {\n",
        "        'Train': f1_score(y_train, y_train_pred.round()),\n",
        "        'Test': f1_score(y_test, y_test_pred.round()),\n",
        "    },\n",
        "}"
      ],
      "execution_count": 90,
      "outputs": []
    },
    {
      "cell_type": "markdown",
      "metadata": {
        "id": "Fyxs-lmdI-SM"
      },
      "source": [
        "### Local Outlier Factor"
      ]
    },
    {
      "cell_type": "code",
      "metadata": {
        "id": "99MYk7quJB_D"
      },
      "source": [
        "# with default parameters\n",
        "model = LocalOutlierFactor(n_neighbors=20, algorithm='auto', \n",
        "                   leaf_size=30, metric='minkowski',\n",
        "                    p=2, metric_params=None, contamination='auto')"
      ],
      "execution_count": 91,
      "outputs": []
    },
    {
      "cell_type": "code",
      "metadata": {
        "id": "LwgViclfJQQF"
      },
      "source": [
        "y_train_pred = model.fit_predict(X_train)\n",
        "y_test_pred = model.fit_predict(X_test)\n",
        "y_train_pred[y_train_pred == 1] = 0\n",
        "y_train_pred[y_train_pred == -1] = 1\n",
        "y_test_pred[y_test_pred == 1] = 0\n",
        "y_test_pred[y_test_pred == -1] = 1"
      ],
      "execution_count": 92,
      "outputs": []
    },
    {
      "cell_type": "code",
      "metadata": {
        "colab": {
          "base_uri": "https://localhost:8080/"
        },
        "id": "tFz9qcmN4cKz",
        "outputId": "38c5704b-f109-4570-8be8-c28a1e41f98b"
      },
      "source": [
        "print_score(y_train, y_train_pred, train=True)\n",
        "print_score(y_test, y_test_pred, train=False)"
      ],
      "execution_count": 93,
      "outputs": [
        {
          "output_type": "stream",
          "text": [
            "Train Result:\n",
            "================================================\n",
            "Accuracy Score: 94.01%\n",
            "_______________________________________________\n",
            "Classification Report:\n",
            "                      0          1  accuracy     macro avg  weighted avg\n",
            "precision      0.998468   0.004274   0.94012      0.501371      0.996785\n",
            "recall         0.941463   0.148148   0.94012      0.544805      0.940120\n",
            "f1-score       0.969128   0.008307   0.94012      0.488718      0.967501\n",
            "support    31843.000000  54.000000   0.94012  31897.000000  31897.000000\n",
            "_______________________________________________\n",
            "Confusion Matrix: \n",
            " [[29979  1864]\n",
            " [   46     8]]\n",
            "\n",
            "Test Result:\n",
            "================================================\n",
            "Accuracy Score: 94.05%\n",
            "_______________________________________________\n",
            "Classification Report:\n",
            "                      0          1  accuracy     macro avg  weighted avg\n",
            "precision      0.999626   0.022265  0.940547      0.510946      0.997968\n",
            "recall         0.940797   0.793103  0.940547      0.866950      0.940547\n",
            "f1-score       0.969320   0.043315  0.940547      0.506317      0.967749\n",
            "support    17060.000000  29.000000  0.940547  17089.000000  17089.000000\n",
            "_______________________________________________\n",
            "Confusion Matrix: \n",
            " [[16050  1010]\n",
            " [    6    23]]\n",
            "\n"
          ],
          "name": "stdout"
        }
      ]
    },
    {
      "cell_type": "code",
      "metadata": {
        "colab": {
          "base_uri": "https://localhost:8080/",
          "height": 279
        },
        "id": "rNtIhyKX43V3",
        "outputId": "2fa2696f-2c0e-4137-8dd3-be9c0989b83e"
      },
      "source": [
        "# Roc curve \n",
        "fpr, tpr, thresholds = roc_curve(y_test, y_test_pred)\n",
        "plt.plot(fpr, tpr, 'k-', lw=2)\n",
        "plt.xlabel('FPR')\n",
        "plt.ylabel('TPR')\n",
        "plt.show()"
      ],
      "execution_count": 82,
      "outputs": [
        {
          "output_type": "display_data",
          "data": {
            "image/png": "[encoded data removed]",
            "text/plain": [
              "<Figure size 432x288 with 1 Axes>"
            ]
          },
          "metadata": {
            "tags": [],
            "needs_background": "light"
          }
        }
      ]
    },
    {
      "cell_type": "code",
      "metadata": {
        "id": "0lp6RViPbVnO"
      },
      "source": [
        "\n",
        "\n",
        "scores_dict['Local Outlier Factor'] = {\n",
        "        'Train': f1_score(y_train,y_train_pred),\n",
        "        'Test': f1_score(y_test, y_test_pred),\n",
        "}"
      ],
      "execution_count": 94,
      "outputs": []
    },
    {
      "cell_type": "code",
      "metadata": {
        "colab": {
          "base_uri": "https://localhost:8080/"
        },
        "id": "xrKwEoTScCfu",
        "outputId": "bb022e31-9da2-4eda-8e1a-85f3902f330c"
      },
      "source": [
        "scores_dict"
      ],
      "execution_count": 95,
      "outputs": [
        {
          "output_type": "execute_result",
          "data": {
            "text/plain": [
              "{'Isolation Forest': {'Test': 0.13793103448275862,\n",
              "  'Train': 0.13005780346820808},\n",
              " 'Local Outlier Factor': {'Test': 0.04331450094161959,\n",
              "  'Train': 0.008307372793354102}}"
            ]
          },
          "metadata": {
            "tags": []
          },
          "execution_count": 95
        }
      ]
    },
    {
      "cell_type": "markdown",
      "metadata": {
        "id": "C3EcpoLIK5he"
      },
      "source": [
        "#### Result \n",
        "\n",
        "Accuracy Score: 94.05%\n",
        "\n",
        "Recall for farud transactions :  **0.793103**\n",
        "\n",
        "F1 Score = 0.043315\n"
      ]
    },
    {
      "cell_type": "markdown",
      "metadata": {
        "id": "sOuSlpKDLGaG"
      },
      "source": [
        "### SVM"
      ]
    },
    {
      "cell_type": "code",
      "metadata": {
        "id": "0zGAa-vvK9zr"
      },
      "source": [
        "model = OneClassSVM(kernel='rbf', degree=3, gamma=0.1,nu=0.05, \n",
        "                                         max_iter=-1)"
      ],
      "execution_count": 96,
      "outputs": []
    },
    {
      "cell_type": "code",
      "metadata": {
        "id": "FczEZjKlLQC2"
      },
      "source": [
        "model.fit(X_train)\n",
        "y_train_pred = model.predict(X_train)\n",
        "y_test_pred = model.predict(X_test)\n",
        "# Because the predicted values are -1,1. We need to convert the values to calculate the performance matrices\n",
        "y_train_pred[y_train_pred == 1] = 0\n",
        "y_train_pred[y_train_pred == -1] = 1\n",
        "y_test_pred[y_test_pred == 1] = 0\n",
        "y_test_pred[y_test_pred == -1] = 1"
      ],
      "execution_count": 97,
      "outputs": []
    },
    {
      "cell_type": "code",
      "metadata": {
        "colab": {
          "base_uri": "https://localhost:8080/",
          "height": 812
        },
        "id": "XTKTvZuF-ecg",
        "outputId": "5b51a47e-7315-4e75-acfb-1051af808bba"
      },
      "source": [
        "print_score(y_train, y_train_pred, train=True)\n",
        "print_score(y_test, y_test_pred, train=False)\n",
        "# Roc curve \n",
        "fpr, tpr, thresholds = roc_curve(y_test, y_test_pred)\n",
        "plt.plot(fpr, tpr, 'k-', lw=2)\n",
        "plt.xlabel('FPR')\n",
        "plt.ylabel('TPR')\n",
        "plt.show()"
      ],
      "execution_count": 98,
      "outputs": [
        {
          "output_type": "stream",
          "text": [
            "Train Result:\n",
            "================================================\n",
            "Accuracy Score: 93.88%\n",
            "_______________________________________________\n",
            "Classification Report:\n",
            "                      0          1  accuracy     macro avg  weighted avg\n",
            "precision      0.999632   0.021673  0.938803      0.510653      0.997977\n",
            "recall         0.939045   0.796296  0.938803      0.867670      0.938803\n",
            "f1-score       0.968392   0.042198  0.938803      0.505295      0.966824\n",
            "support    31843.000000  54.000000  0.938803  31897.000000  31897.000000\n",
            "_______________________________________________\n",
            "Confusion Matrix: \n",
            " [[29902  1941]\n",
            " [   11    43]]\n",
            "\n",
            "Test Result:\n",
            "================================================\n",
            "Accuracy Score: 89.30%\n",
            "_______________________________________________\n",
            "Classification Report:\n",
            "                      0          1  accuracy     macro avg  weighted avg\n",
            "precision      0.999803   0.014046  0.893031      0.506925      0.998130\n",
            "recall         0.893025   0.896552  0.893031      0.894788      0.893031\n",
            "f1-score       0.943402   0.027660  0.893031      0.485531      0.941848\n",
            "support    17060.000000  29.000000  0.893031  17089.000000  17089.000000\n",
            "_______________________________________________\n",
            "Confusion Matrix: \n",
            " [[15235  1825]\n",
            " [    3    26]]\n",
            "\n"
          ],
          "name": "stdout"
        },
        {
          "output_type": "display_data",
          "data": {
            "image/png": "[encoded data removed]",
            "text/plain": [
              "<Figure size 432x288 with 1 Axes>"
            ]
          },
          "metadata": {
            "tags": [],
            "needs_background": "light"
          }
        }
      ]
    },
    {
      "cell_type": "markdown",
      "metadata": {
        "id": "K9LOCcnV-sGn"
      },
      "source": [
        "#### Result \n",
        "\n",
        "Accuracy Score: 89.30%\n",
        "\n",
        "Recall for farud transactions :  **0.896552**\n",
        "\n",
        "F1 Score = 0.027660"
      ]
    },
    {
      "cell_type": "code",
      "metadata": {
        "id": "PX0XVpUYcdtF"
      },
      "source": [
        "scores_dict['SVM'] = {\n",
        "        'Train': f1_score(y_train,y_train_pred),\n",
        "        'Test': f1_score(y_test, y_test_pred),\n",
        "}"
      ],
      "execution_count": 99,
      "outputs": []
    },
    {
      "cell_type": "markdown",
      "metadata": {
        "id": "CjkFFpqAFcgJ"
      },
      "source": [
        "### Ensemble learning : Boosting (XGBoost)"
      ]
    },
    {
      "cell_type": "code",
      "metadata": {
        "colab": {
          "base_uri": "https://localhost:8080/",
          "height": 812
        },
        "id": "S7e49JQuFe9Q",
        "outputId": "397190db-3ce5-448a-d4a0-81d779aa526b"
      },
      "source": [
        "model = XGBClassifier()\n",
        "model.fit(X_train, y_train, eval_metric='aucpr')\n",
        "\n",
        "y_train_pred = model.predict(X_train)\n",
        "y_test_pred = model.predict(X_test)\n",
        "\n",
        "print_score(y_train, y_train_pred, train=True)\n",
        "print_score(y_test, y_test_pred, train=False)\n",
        "\n",
        "fpr, tpr, thresholds = roc_curve(y_test, y_test_pred)\n",
        "plt.plot(fpr, tpr, 'k-', lw=2)\n",
        "plt.xlabel('FPR')\n",
        "plt.ylabel('TPR')\n",
        "plt.show()"
      ],
      "execution_count": 100,
      "outputs": [
        {
          "output_type": "stream",
          "text": [
            "Train Result:\n",
            "================================================\n",
            "Accuracy Score: 99.98%\n",
            "_______________________________________________\n",
            "Classification Report:\n",
            "                      0          1  accuracy     macro avg  weighted avg\n",
            "precision      0.999843   1.000000  0.999843      0.999922      0.999843\n",
            "recall         1.000000   0.907407  0.999843      0.953704      0.999843\n",
            "f1-score       0.999921   0.951456  0.999843      0.975689      0.999839\n",
            "support    31843.000000  54.000000  0.999843  31897.000000  31897.000000\n",
            "_______________________________________________\n",
            "Confusion Matrix: \n",
            " [[31843     0]\n",
            " [    5    49]]\n",
            "\n",
            "Test Result:\n",
            "================================================\n",
            "Accuracy Score: 99.95%\n",
            "_______________________________________________\n",
            "Classification Report:\n",
            "                      0          1  accuracy     macro avg  weighted avg\n",
            "precision      0.999531   1.000000  0.999532      0.999766      0.999532\n",
            "recall         1.000000   0.724138  0.999532      0.862069      0.999532\n",
            "f1-score       0.999766   0.840000  0.999532      0.919883      0.999494\n",
            "support    17060.000000  29.000000  0.999532  17089.000000  17089.000000\n",
            "_______________________________________________\n",
            "Confusion Matrix: \n",
            " [[17060     0]\n",
            " [    8    21]]\n",
            "\n"
          ],
          "name": "stdout"
        },
        {
          "output_type": "display_data",
          "data": {
            "image/png": "[encoded data removed]",
            "text/plain": [
              "<Figure size 432x288 with 1 Axes>"
            ]
          },
          "metadata": {
            "tags": [],
            "needs_background": "light"
          }
        }
      ]
    },
    {
      "cell_type": "markdown",
      "metadata": {
        "id": "nddhoPj_GV-p"
      },
      "source": [
        "#### Result \n",
        "\n",
        "Accuracy Score: 99.95%\n",
        "\n",
        "Recall for farud transactions : **0.724138**\n",
        "\n",
        "F1 Score = 0.840000"
      ]
    },
    {
      "cell_type": "code",
      "metadata": {
        "id": "mDeg0WdEc1p2"
      },
      "source": [
        "scores_dict['XGBoost'] = {\n",
        "        'Train': f1_score(y_train,y_train_pred),\n",
        "        'Test': f1_score(y_test, y_test_pred),\n",
        "}"
      ],
      "execution_count": 101,
      "outputs": []
    },
    {
      "cell_type": "markdown",
      "metadata": {
        "id": "-_gEuRrlGm-g"
      },
      "source": [
        "### Ensemble learning : Bagging (Random Forest)"
      ]
    },
    {
      "cell_type": "code",
      "metadata": {
        "colab": {
          "base_uri": "https://localhost:8080/",
          "height": 812
        },
        "id": "5lPvEbscGqy6",
        "outputId": "4406aca8-6e5a-4a37-e799-f72307304cb7"
      },
      "source": [
        "from sklearn.ensemble import RandomForestClassifier\n",
        "\n",
        "model = RandomForestClassifier(n_estimators=100, oob_score=False)\n",
        "model.fit(X_train, y_train)\n",
        "\n",
        "y_train_pred = model.predict(X_train)\n",
        "y_test_pred = model.predict(X_test)\n",
        "\n",
        "print_score(y_train, y_train_pred, train=True)\n",
        "print_score(y_test, y_test_pred, train=False)\n",
        "\n",
        "fpr, tpr, thresholds = roc_curve(y_test, y_test_pred)\n",
        "plt.plot(fpr, tpr, 'k-', lw=2)\n",
        "plt.xlabel('FPR')\n",
        "plt.ylabel('TPR')\n",
        "plt.show()"
      ],
      "execution_count": 102,
      "outputs": [
        {
          "output_type": "stream",
          "text": [
            "Train Result:\n",
            "================================================\n",
            "Accuracy Score: 100.00%\n",
            "_______________________________________________\n",
            "Classification Report:\n",
            "                 0     1  accuracy  macro avg  weighted avg\n",
            "precision      1.0   1.0       1.0        1.0           1.0\n",
            "recall         1.0   1.0       1.0        1.0           1.0\n",
            "f1-score       1.0   1.0       1.0        1.0           1.0\n",
            "support    31843.0  54.0       1.0    31897.0       31897.0\n",
            "_______________________________________________\n",
            "Confusion Matrix: \n",
            " [[31843     0]\n",
            " [    0    54]]\n",
            "\n",
            "Test Result:\n",
            "================================================\n",
            "Accuracy Score: 99.94%\n",
            "_______________________________________________\n",
            "Classification Report:\n",
            "                      0          1  accuracy     macro avg  weighted avg\n",
            "precision      0.999473   0.909091  0.999356      0.954282      0.999319\n",
            "recall         0.999883   0.689655  0.999356      0.844769      0.999356\n",
            "f1-score       0.999678   0.784314  0.999356      0.891996      0.999312\n",
            "support    17060.000000  29.000000  0.999356  17089.000000  17089.000000\n",
            "_______________________________________________\n",
            "Confusion Matrix: \n",
            " [[17058     2]\n",
            " [    9    20]]\n",
            "\n"
          ],
          "name": "stdout"
        },
        {
          "output_type": "display_data",
          "data": {
            "image/png": "[encoded data removed]",
            "text/plain": [
              "<Figure size 432x288 with 1 Axes>"
            ]
          },
          "metadata": {
            "tags": [],
            "needs_background": "light"
          }
        }
      ]
    },
    {
      "cell_type": "markdown",
      "metadata": {
        "id": "aVH5SpktG7bo"
      },
      "source": [
        "#### Result \n",
        "\n",
        "Accuracy Score: 99.95%\n",
        "\n",
        "Recall for farud transactions : **0.724138**\n",
        "\n",
        "F1 Score = 0.840000"
      ]
    },
    {
      "cell_type": "code",
      "metadata": {
        "id": "NrZ_Sc68c7a-"
      },
      "source": [
        "scores_dict['Random Forest'] = {\n",
        "        'Train': f1_score(y_train,y_train_pred),\n",
        "        'Test': f1_score(y_test, y_test_pred),\n",
        "}"
      ],
      "execution_count": 103,
      "outputs": []
    },
    {
      "cell_type": "markdown",
      "metadata": {
        "id": "Vh4o85kENKTB"
      },
      "source": [
        "### CatBoost"
      ]
    },
    {
      "cell_type": "code",
      "metadata": {
        "colab": {
          "base_uri": "https://localhost:8080/"
        },
        "id": "7z38Zi-pNfgv",
        "outputId": "124ee8e8-a451-449f-be88-4d7056407217"
      },
      "source": [
        "! pip install catboost"
      ],
      "execution_count": 104,
      "outputs": [
        {
          "output_type": "stream",
          "text": [
            "Requirement already satisfied: catboost in /usr/local/lib/python3.7/dist-packages (0.25.1)\n",
            "Requirement already satisfied: numpy>=1.16.0 in /usr/local/lib/python3.7/dist-packages (from catboost) (1.19.5)\n",
            "Requirement already satisfied: pandas>=0.24.0 in /usr/local/lib/python3.7/dist-packages (from catboost) (1.1.5)\n",
            "Requirement already satisfied: scipy in /usr/local/lib/python3.7/dist-packages (from catboost) (1.4.1)\n",
            "Requirement already satisfied: graphviz in /usr/local/lib/python3.7/dist-packages (from catboost) (0.10.1)\n",
            "Requirement already satisfied: matplotlib in /usr/local/lib/python3.7/dist-packages (from catboost) (3.2.2)\n",
            "Requirement already satisfied: six in /usr/local/lib/python3.7/dist-packages (from catboost) (1.15.0)\n",
            "Requirement already satisfied: plotly in /usr/local/lib/python3.7/dist-packages (from catboost) (4.4.1)\n",
            "Requirement already satisfied: python-dateutil>=2.7.3 in /usr/local/lib/python3.7/dist-packages (from pandas>=0.24.0->catboost) (2.8.1)\n",
            "Requirement already satisfied: pytz>=2017.2 in /usr/local/lib/python3.7/dist-packages (from pandas>=0.24.0->catboost) (2018.9)\n",
            "Requirement already satisfied: kiwisolver>=1.0.1 in /usr/local/lib/python3.7/dist-packages (from matplotlib->catboost) (1.3.1)\n",
            "Requirement already satisfied: pyparsing!=2.0.4,!=2.1.2,!=2.1.6,>=2.0.1 in /usr/local/lib/python3.7/dist-packages (from matplotlib->catboost) (2.4.7)\n",
            "Requirement already satisfied: cycler>=0.10 in /usr/local/lib/python3.7/dist-packages (from matplotlib->catboost) (0.10.0)\n",
            "Requirement already satisfied: retrying>=1.3.3 in /usr/local/lib/python3.7/dist-packages (from plotly->catboost) (1.3.3)\n"
          ],
          "name": "stdout"
        }
      ]
    },
    {
      "cell_type": "code",
      "metadata": {
        "colab": {
          "base_uri": "https://localhost:8080/",
          "height": 1000
        },
        "id": "lS2LQGwuMNj5",
        "outputId": "00547c49-1fa0-48fb-9c21-812605066646"
      },
      "source": [
        "model = CatBoostClassifier()\n",
        "model.fit(X_train, y_train)\n",
        "y_train_pred = model.predict(X_train)\n",
        "y_test_pred = model.predict(X_test)\n",
        "\n",
        "print_score(y_train, y_train_pred, train=True)\n",
        "print_score(y_test, y_test_pred, train=False)\n",
        "\n",
        "fpr, tpr, thresholds = roc_curve(y_test, y_test_pred)\n",
        "plt.plot(fpr, tpr, 'k-', lw=2)\n",
        "plt.xlabel('FPR')\n",
        "plt.ylabel('TPR')\n",
        "plt.show()"
      ],
      "execution_count": 105,
      "outputs": [
        {
          "output_type": "stream",
          "text": [
            "Learning rate set to 0.045189\n",
            "0:\tlearn: 0.5455052\ttotal: 27.2ms\tremaining: 27.1s\n",
            "1:\tlearn: 0.4328810\ttotal: 55.8ms\tremaining: 27.9s\n",
            "2:\tlearn: 0.3430939\ttotal: 79.5ms\tremaining: 26.4s\n",
            "3:\tlearn: 0.2765789\ttotal: 104ms\tremaining: 26s\n",
            "4:\tlearn: 0.2188550\ttotal: 127ms\tremaining: 25.3s\n",
            "5:\tlearn: 0.1686313\ttotal: 149ms\tremaining: 24.8s\n",
            "6:\tlearn: 0.1373156\ttotal: 174ms\tremaining: 24.6s\n",
            "7:\tlearn: 0.1071481\ttotal: 199ms\tremaining: 24.7s\n",
            "8:\tlearn: 0.0838302\ttotal: 224ms\tremaining: 24.7s\n",
            "9:\tlearn: 0.0658656\ttotal: 251ms\tremaining: 24.9s\n",
            "10:\tlearn: 0.0524981\ttotal: 275ms\tremaining: 24.7s\n",
            "11:\tlearn: 0.0417985\ttotal: 296ms\tremaining: 24.4s\n",
            "12:\tlearn: 0.0339615\ttotal: 329ms\tremaining: 25s\n",
            "13:\tlearn: 0.0278846\ttotal: 360ms\tremaining: 25.3s\n",
            "14:\tlearn: 0.0229796\ttotal: 382ms\tremaining: 25.1s\n",
            "15:\tlearn: 0.0188266\ttotal: 408ms\tremaining: 25.1s\n",
            "16:\tlearn: 0.0157251\ttotal: 432ms\tremaining: 25s\n",
            "17:\tlearn: 0.0134043\ttotal: 454ms\tremaining: 24.8s\n",
            "18:\tlearn: 0.0113066\ttotal: 476ms\tremaining: 24.6s\n",
            "19:\tlearn: 0.0097717\ttotal: 498ms\tremaining: 24.4s\n",
            "20:\tlearn: 0.0085295\ttotal: 524ms\tremaining: 24.4s\n",
            "21:\tlearn: 0.0075339\ttotal: 555ms\tremaining: 24.7s\n",
            "22:\tlearn: 0.0066620\ttotal: 578ms\tremaining: 24.5s\n",
            "23:\tlearn: 0.0059272\ttotal: 602ms\tremaining: 24.5s\n",
            "24:\tlearn: 0.0053012\ttotal: 631ms\tremaining: 24.6s\n",
            "25:\tlearn: 0.0048533\ttotal: 657ms\tremaining: 24.6s\n",
            "26:\tlearn: 0.0044620\ttotal: 679ms\tremaining: 24.5s\n",
            "27:\tlearn: 0.0040999\ttotal: 701ms\tremaining: 24.3s\n",
            "28:\tlearn: 0.0038085\ttotal: 725ms\tremaining: 24.3s\n",
            "29:\tlearn: 0.0035490\ttotal: 746ms\tremaining: 24.1s\n",
            "30:\tlearn: 0.0033575\ttotal: 770ms\tremaining: 24.1s\n",
            "31:\tlearn: 0.0031908\ttotal: 791ms\tremaining: 23.9s\n",
            "32:\tlearn: 0.0030195\ttotal: 818ms\tremaining: 24s\n",
            "33:\tlearn: 0.0028745\ttotal: 843ms\tremaining: 23.9s\n",
            "34:\tlearn: 0.0027622\ttotal: 865ms\tremaining: 23.9s\n",
            "35:\tlearn: 0.0026304\ttotal: 887ms\tremaining: 23.8s\n",
            "36:\tlearn: 0.0025151\ttotal: 915ms\tremaining: 23.8s\n",
            "37:\tlearn: 0.0024373\ttotal: 937ms\tremaining: 23.7s\n",
            "38:\tlearn: 0.0023723\ttotal: 959ms\tremaining: 23.6s\n",
            "39:\tlearn: 0.0023159\ttotal: 981ms\tremaining: 23.6s\n",
            "40:\tlearn: 0.0022646\ttotal: 1s\tremaining: 23.5s\n",
            "41:\tlearn: 0.0022108\ttotal: 1.04s\tremaining: 23.6s\n",
            "42:\tlearn: 0.0021679\ttotal: 1.06s\tremaining: 23.7s\n",
            "43:\tlearn: 0.0021124\ttotal: 1.09s\tremaining: 23.6s\n",
            "44:\tlearn: 0.0020609\ttotal: 1.11s\tremaining: 23.6s\n",
            "45:\tlearn: 0.0020155\ttotal: 1.14s\tremaining: 23.6s\n",
            "46:\tlearn: 0.0019822\ttotal: 1.16s\tremaining: 23.5s\n",
            "47:\tlearn: 0.0019483\ttotal: 1.18s\tremaining: 23.4s\n",
            "48:\tlearn: 0.0019233\ttotal: 1.2s\tremaining: 23.3s\n",
            "49:\tlearn: 0.0019019\ttotal: 1.23s\tremaining: 23.3s\n",
            "50:\tlearn: 0.0018784\ttotal: 1.25s\tremaining: 23.3s\n",
            "51:\tlearn: 0.0018598\ttotal: 1.27s\tremaining: 23.2s\n",
            "52:\tlearn: 0.0018476\ttotal: 1.3s\tremaining: 23.2s\n",
            "53:\tlearn: 0.0018280\ttotal: 1.33s\tremaining: 23.3s\n",
            "54:\tlearn: 0.0018076\ttotal: 1.35s\tremaining: 23.2s\n",
            "55:\tlearn: 0.0017905\ttotal: 1.37s\tremaining: 23.2s\n",
            "56:\tlearn: 0.0017765\ttotal: 1.4s\tremaining: 23.1s\n",
            "57:\tlearn: 0.0017655\ttotal: 1.42s\tremaining: 23.1s\n",
            "58:\tlearn: 0.0017526\ttotal: 1.44s\tremaining: 23s\n",
            "59:\tlearn: 0.0017306\ttotal: 1.47s\tremaining: 23s\n",
            "60:\tlearn: 0.0017210\ttotal: 1.49s\tremaining: 22.9s\n",
            "61:\tlearn: 0.0017039\ttotal: 1.51s\tremaining: 22.9s\n",
            "62:\tlearn: 0.0016844\ttotal: 1.53s\tremaining: 22.8s\n",
            "63:\tlearn: 0.0016749\ttotal: 1.56s\tremaining: 22.8s\n",
            "64:\tlearn: 0.0016631\ttotal: 1.58s\tremaining: 22.7s\n",
            "65:\tlearn: 0.0016559\ttotal: 1.6s\tremaining: 22.7s\n",
            "66:\tlearn: 0.0016379\ttotal: 1.63s\tremaining: 22.7s\n",
            "67:\tlearn: 0.0016300\ttotal: 1.65s\tremaining: 22.6s\n",
            "68:\tlearn: 0.0016165\ttotal: 1.67s\tremaining: 22.6s\n",
            "69:\tlearn: 0.0016041\ttotal: 1.7s\tremaining: 22.6s\n",
            "70:\tlearn: 0.0015946\ttotal: 1.72s\tremaining: 22.5s\n",
            "71:\tlearn: 0.0015841\ttotal: 1.74s\tremaining: 22.5s\n",
            "72:\tlearn: 0.0015785\ttotal: 1.77s\tremaining: 22.5s\n",
            "73:\tlearn: 0.0015740\ttotal: 1.8s\tremaining: 22.5s\n",
            "74:\tlearn: 0.0015642\ttotal: 1.82s\tremaining: 22.4s\n",
            "75:\tlearn: 0.0015552\ttotal: 1.84s\tremaining: 22.4s\n",
            "76:\tlearn: 0.0015327\ttotal: 1.86s\tremaining: 22.4s\n",
            "77:\tlearn: 0.0015189\ttotal: 1.89s\tremaining: 22.3s\n",
            "78:\tlearn: 0.0015050\ttotal: 1.91s\tremaining: 22.3s\n",
            "79:\tlearn: 0.0014946\ttotal: 1.94s\tremaining: 22.3s\n",
            "80:\tlearn: 0.0014833\ttotal: 1.96s\tremaining: 22.2s\n",
            "81:\tlearn: 0.0014707\ttotal: 1.99s\tremaining: 22.2s\n",
            "82:\tlearn: 0.0014596\ttotal: 2.02s\tremaining: 22.3s\n",
            "83:\tlearn: 0.0014473\ttotal: 2.04s\tremaining: 22.2s\n",
            "84:\tlearn: 0.0014404\ttotal: 2.06s\tremaining: 22.2s\n",
            "85:\tlearn: 0.0014312\ttotal: 2.08s\tremaining: 22.1s\n",
            "86:\tlearn: 0.0014265\ttotal: 2.1s\tremaining: 22.1s\n",
            "87:\tlearn: 0.0014136\ttotal: 2.13s\tremaining: 22.1s\n",
            "88:\tlearn: 0.0014047\ttotal: 2.16s\tremaining: 22.1s\n",
            "89:\tlearn: 0.0013935\ttotal: 2.18s\tremaining: 22.1s\n",
            "90:\tlearn: 0.0013855\ttotal: 2.21s\tremaining: 22s\n",
            "91:\tlearn: 0.0013799\ttotal: 2.23s\tremaining: 22s\n",
            "92:\tlearn: 0.0013663\ttotal: 2.25s\tremaining: 22s\n",
            "93:\tlearn: 0.0013578\ttotal: 2.27s\tremaining: 21.9s\n",
            "94:\tlearn: 0.0013504\ttotal: 2.31s\tremaining: 22s\n",
            "95:\tlearn: 0.0013443\ttotal: 2.34s\tremaining: 22s\n",
            "96:\tlearn: 0.0013355\ttotal: 2.37s\tremaining: 22s\n",
            "97:\tlearn: 0.0013289\ttotal: 2.39s\tremaining: 22s\n",
            "98:\tlearn: 0.0013162\ttotal: 2.41s\tremaining: 21.9s\n",
            "99:\tlearn: 0.0013086\ttotal: 2.43s\tremaining: 21.9s\n",
            "100:\tlearn: 0.0012989\ttotal: 2.45s\tremaining: 21.8s\n",
            "101:\tlearn: 0.0012922\ttotal: 2.48s\tremaining: 21.8s\n",
            "102:\tlearn: 0.0012851\ttotal: 2.5s\tremaining: 21.8s\n",
            "103:\tlearn: 0.0012784\ttotal: 2.52s\tremaining: 21.7s\n",
            "104:\tlearn: 0.0012728\ttotal: 2.55s\tremaining: 21.8s\n",
            "105:\tlearn: 0.0012592\ttotal: 2.59s\tremaining: 21.8s\n",
            "106:\tlearn: 0.0012537\ttotal: 2.61s\tremaining: 21.8s\n",
            "107:\tlearn: 0.0012406\ttotal: 2.64s\tremaining: 21.8s\n",
            "108:\tlearn: 0.0012344\ttotal: 2.66s\tremaining: 21.7s\n",
            "109:\tlearn: 0.0012303\ttotal: 2.68s\tremaining: 21.7s\n",
            "110:\tlearn: 0.0012262\ttotal: 2.7s\tremaining: 21.6s\n",
            "111:\tlearn: 0.0012205\ttotal: 2.73s\tremaining: 21.6s\n",
            "112:\tlearn: 0.0012088\ttotal: 2.75s\tremaining: 21.6s\n",
            "113:\tlearn: 0.0012033\ttotal: 2.77s\tremaining: 21.6s\n",
            "114:\tlearn: 0.0011990\ttotal: 2.8s\tremaining: 21.5s\n",
            "115:\tlearn: 0.0011945\ttotal: 2.82s\tremaining: 21.5s\n",
            "116:\tlearn: 0.0011816\ttotal: 2.85s\tremaining: 21.5s\n",
            "117:\tlearn: 0.0011774\ttotal: 2.87s\tremaining: 21.4s\n",
            "118:\tlearn: 0.0011714\ttotal: 2.89s\tremaining: 21.4s\n",
            "119:\tlearn: 0.0011661\ttotal: 2.91s\tremaining: 21.4s\n",
            "120:\tlearn: 0.0011563\ttotal: 2.94s\tremaining: 21.3s\n",
            "121:\tlearn: 0.0011461\ttotal: 2.96s\tremaining: 21.3s\n",
            "122:\tlearn: 0.0011366\ttotal: 2.98s\tremaining: 21.3s\n",
            "123:\tlearn: 0.0011302\ttotal: 3.01s\tremaining: 21.3s\n",
            "124:\tlearn: 0.0011238\ttotal: 3.03s\tremaining: 21.2s\n",
            "125:\tlearn: 0.0011194\ttotal: 3.05s\tremaining: 21.2s\n",
            "126:\tlearn: 0.0011135\ttotal: 3.08s\tremaining: 21.2s\n",
            "127:\tlearn: 0.0011071\ttotal: 3.1s\tremaining: 21.1s\n",
            "128:\tlearn: 0.0010978\ttotal: 3.13s\tremaining: 21.1s\n",
            "129:\tlearn: 0.0010928\ttotal: 3.15s\tremaining: 21.1s\n",
            "130:\tlearn: 0.0010863\ttotal: 3.18s\tremaining: 21.1s\n",
            "131:\tlearn: 0.0010816\ttotal: 3.21s\tremaining: 21.1s\n",
            "132:\tlearn: 0.0010759\ttotal: 3.23s\tremaining: 21.1s\n",
            "133:\tlearn: 0.0010700\ttotal: 3.25s\tremaining: 21s\n",
            "134:\tlearn: 0.0010615\ttotal: 3.27s\tremaining: 21s\n",
            "135:\tlearn: 0.0010555\ttotal: 3.3s\tremaining: 21s\n",
            "136:\tlearn: 0.0010518\ttotal: 3.33s\tremaining: 21s\n",
            "137:\tlearn: 0.0010488\ttotal: 3.35s\tremaining: 20.9s\n",
            "138:\tlearn: 0.0010441\ttotal: 3.38s\tremaining: 20.9s\n",
            "139:\tlearn: 0.0010369\ttotal: 3.4s\tremaining: 20.9s\n",
            "140:\tlearn: 0.0010303\ttotal: 3.42s\tremaining: 20.9s\n",
            "141:\tlearn: 0.0010240\ttotal: 3.45s\tremaining: 20.8s\n",
            "142:\tlearn: 0.0010108\ttotal: 3.47s\tremaining: 20.8s\n",
            "143:\tlearn: 0.0010036\ttotal: 3.5s\tremaining: 20.8s\n",
            "144:\tlearn: 0.0009993\ttotal: 3.52s\tremaining: 20.8s\n",
            "145:\tlearn: 0.0009938\ttotal: 3.54s\tremaining: 20.7s\n",
            "146:\tlearn: 0.0009856\ttotal: 3.57s\tremaining: 20.7s\n",
            "147:\tlearn: 0.0009770\ttotal: 3.59s\tremaining: 20.7s\n",
            "148:\tlearn: 0.0009707\ttotal: 3.61s\tremaining: 20.6s\n",
            "149:\tlearn: 0.0009664\ttotal: 3.64s\tremaining: 20.6s\n",
            "150:\tlearn: 0.0009606\ttotal: 3.66s\tremaining: 20.6s\n",
            "151:\tlearn: 0.0009518\ttotal: 3.68s\tremaining: 20.5s\n",
            "152:\tlearn: 0.0009492\ttotal: 3.71s\tremaining: 20.5s\n",
            "153:\tlearn: 0.0009469\ttotal: 3.73s\tremaining: 20.5s\n",
            "154:\tlearn: 0.0009391\ttotal: 3.75s\tremaining: 20.5s\n",
            "155:\tlearn: 0.0009317\ttotal: 3.78s\tremaining: 20.4s\n",
            "156:\tlearn: 0.0009269\ttotal: 3.8s\tremaining: 20.4s\n",
            "157:\tlearn: 0.0009179\ttotal: 3.82s\tremaining: 20.4s\n",
            "158:\tlearn: 0.0009110\ttotal: 3.85s\tremaining: 20.4s\n",
            "159:\tlearn: 0.0008986\ttotal: 3.88s\tremaining: 20.4s\n",
            "160:\tlearn: 0.0008866\ttotal: 3.9s\tremaining: 20.3s\n",
            "161:\tlearn: 0.0008829\ttotal: 3.92s\tremaining: 20.3s\n",
            "162:\tlearn: 0.0008791\ttotal: 3.95s\tremaining: 20.3s\n",
            "163:\tlearn: 0.0008721\ttotal: 3.97s\tremaining: 20.2s\n",
            "164:\tlearn: 0.0008665\ttotal: 3.99s\tremaining: 20.2s\n",
            "165:\tlearn: 0.0008540\ttotal: 4.02s\tremaining: 20.2s\n",
            "166:\tlearn: 0.0008444\ttotal: 4.04s\tremaining: 20.2s\n",
            "167:\tlearn: 0.0008315\ttotal: 4.07s\tremaining: 20.2s\n",
            "168:\tlearn: 0.0008262\ttotal: 4.09s\tremaining: 20.1s\n",
            "169:\tlearn: 0.0008221\ttotal: 4.12s\tremaining: 20.1s\n",
            "170:\tlearn: 0.0008133\ttotal: 4.14s\tremaining: 20.1s\n",
            "171:\tlearn: 0.0008062\ttotal: 4.16s\tremaining: 20s\n",
            "172:\tlearn: 0.0008017\ttotal: 4.18s\tremaining: 20s\n",
            "173:\tlearn: 0.0007948\ttotal: 4.21s\tremaining: 20s\n",
            "174:\tlearn: 0.0007859\ttotal: 4.23s\tremaining: 19.9s\n",
            "175:\tlearn: 0.0007808\ttotal: 4.25s\tremaining: 19.9s\n",
            "176:\tlearn: 0.0007712\ttotal: 4.28s\tremaining: 19.9s\n",
            "177:\tlearn: 0.0007636\ttotal: 4.3s\tremaining: 19.9s\n",
            "178:\tlearn: 0.0007588\ttotal: 4.33s\tremaining: 19.9s\n",
            "179:\tlearn: 0.0007562\ttotal: 4.36s\tremaining: 19.9s\n",
            "180:\tlearn: 0.0007520\ttotal: 4.38s\tremaining: 19.8s\n",
            "181:\tlearn: 0.0007440\ttotal: 4.41s\tremaining: 19.8s\n",
            "182:\tlearn: 0.0007383\ttotal: 4.43s\tremaining: 19.8s\n",
            "183:\tlearn: 0.0007328\ttotal: 4.46s\tremaining: 19.8s\n",
            "184:\tlearn: 0.0007270\ttotal: 4.49s\tremaining: 19.8s\n",
            "185:\tlearn: 0.0007203\ttotal: 4.51s\tremaining: 19.7s\n",
            "186:\tlearn: 0.0007164\ttotal: 4.54s\tremaining: 19.7s\n",
            "187:\tlearn: 0.0007072\ttotal: 4.56s\tremaining: 19.7s\n",
            "188:\tlearn: 0.0007029\ttotal: 4.59s\tremaining: 19.7s\n",
            "189:\tlearn: 0.0007000\ttotal: 4.61s\tremaining: 19.6s\n",
            "190:\tlearn: 0.0006928\ttotal: 4.63s\tremaining: 19.6s\n",
            "191:\tlearn: 0.0006881\ttotal: 4.65s\tremaining: 19.6s\n",
            "192:\tlearn: 0.0006828\ttotal: 4.68s\tremaining: 19.6s\n",
            "193:\tlearn: 0.0006796\ttotal: 4.71s\tremaining: 19.6s\n",
            "194:\tlearn: 0.0006726\ttotal: 4.73s\tremaining: 19.5s\n",
            "195:\tlearn: 0.0006642\ttotal: 4.75s\tremaining: 19.5s\n",
            "196:\tlearn: 0.0006590\ttotal: 4.78s\tremaining: 19.5s\n",
            "197:\tlearn: 0.0006574\ttotal: 4.8s\tremaining: 19.4s\n",
            "198:\tlearn: 0.0006523\ttotal: 4.82s\tremaining: 19.4s\n",
            "199:\tlearn: 0.0006460\ttotal: 4.85s\tremaining: 19.4s\n",
            "200:\tlearn: 0.0006416\ttotal: 4.87s\tremaining: 19.4s\n",
            "201:\tlearn: 0.0006380\ttotal: 4.89s\tremaining: 19.3s\n",
            "202:\tlearn: 0.0006302\ttotal: 4.92s\tremaining: 19.3s\n",
            "203:\tlearn: 0.0006223\ttotal: 4.95s\tremaining: 19.3s\n",
            "204:\tlearn: 0.0006183\ttotal: 4.97s\tremaining: 19.3s\n",
            "205:\tlearn: 0.0006121\ttotal: 4.99s\tremaining: 19.2s\n",
            "206:\tlearn: 0.0006077\ttotal: 5.01s\tremaining: 19.2s\n",
            "207:\tlearn: 0.0006030\ttotal: 5.04s\tremaining: 19.2s\n",
            "208:\tlearn: 0.0005947\ttotal: 5.06s\tremaining: 19.2s\n",
            "209:\tlearn: 0.0005907\ttotal: 5.09s\tremaining: 19.1s\n",
            "210:\tlearn: 0.0005863\ttotal: 5.11s\tremaining: 19.1s\n",
            "211:\tlearn: 0.0005821\ttotal: 5.14s\tremaining: 19.1s\n",
            "212:\tlearn: 0.0005779\ttotal: 5.16s\tremaining: 19.1s\n",
            "213:\tlearn: 0.0005732\ttotal: 5.18s\tremaining: 19s\n",
            "214:\tlearn: 0.0005687\ttotal: 5.2s\tremaining: 19s\n",
            "215:\tlearn: 0.0005638\ttotal: 5.23s\tremaining: 19s\n",
            "216:\tlearn: 0.0005604\ttotal: 5.25s\tremaining: 18.9s\n",
            "217:\tlearn: 0.0005577\ttotal: 5.27s\tremaining: 18.9s\n",
            "218:\tlearn: 0.0005551\ttotal: 5.29s\tremaining: 18.9s\n",
            "219:\tlearn: 0.0005520\ttotal: 5.32s\tremaining: 18.9s\n",
            "220:\tlearn: 0.0005486\ttotal: 5.35s\tremaining: 18.9s\n",
            "221:\tlearn: 0.0005443\ttotal: 5.38s\tremaining: 18.8s\n",
            "222:\tlearn: 0.0005349\ttotal: 5.4s\tremaining: 18.8s\n",
            "223:\tlearn: 0.0005316\ttotal: 5.42s\tremaining: 18.8s\n",
            "224:\tlearn: 0.0005291\ttotal: 5.45s\tremaining: 18.8s\n",
            "225:\tlearn: 0.0005259\ttotal: 5.47s\tremaining: 18.7s\n",
            "226:\tlearn: 0.0005250\ttotal: 5.49s\tremaining: 18.7s\n",
            "227:\tlearn: 0.0005203\ttotal: 5.51s\tremaining: 18.7s\n",
            "228:\tlearn: 0.0005159\ttotal: 5.54s\tremaining: 18.6s\n",
            "229:\tlearn: 0.0005132\ttotal: 5.57s\tremaining: 18.6s\n",
            "230:\tlearn: 0.0005093\ttotal: 5.59s\tremaining: 18.6s\n",
            "231:\tlearn: 0.0005050\ttotal: 5.61s\tremaining: 18.6s\n",
            "232:\tlearn: 0.0005016\ttotal: 5.64s\tremaining: 18.6s\n",
            "233:\tlearn: 0.0004987\ttotal: 5.66s\tremaining: 18.5s\n",
            "234:\tlearn: 0.0004973\ttotal: 5.68s\tremaining: 18.5s\n",
            "235:\tlearn: 0.0004937\ttotal: 5.71s\tremaining: 18.5s\n",
            "236:\tlearn: 0.0004896\ttotal: 5.73s\tremaining: 18.4s\n",
            "237:\tlearn: 0.0004839\ttotal: 5.75s\tremaining: 18.4s\n",
            "238:\tlearn: 0.0004810\ttotal: 5.78s\tremaining: 18.4s\n",
            "239:\tlearn: 0.0004771\ttotal: 5.8s\tremaining: 18.4s\n",
            "240:\tlearn: 0.0004759\ttotal: 5.83s\tremaining: 18.4s\n",
            "241:\tlearn: 0.0004734\ttotal: 5.86s\tremaining: 18.3s\n",
            "242:\tlearn: 0.0004708\ttotal: 5.88s\tremaining: 18.3s\n",
            "243:\tlearn: 0.0004677\ttotal: 5.9s\tremaining: 18.3s\n",
            "244:\tlearn: 0.0004657\ttotal: 5.93s\tremaining: 18.3s\n",
            "245:\tlearn: 0.0004640\ttotal: 5.95s\tremaining: 18.2s\n",
            "246:\tlearn: 0.0004603\ttotal: 5.97s\tremaining: 18.2s\n",
            "247:\tlearn: 0.0004560\ttotal: 6s\tremaining: 18.2s\n",
            "248:\tlearn: 0.0004523\ttotal: 6.02s\tremaining: 18.2s\n",
            "249:\tlearn: 0.0004501\ttotal: 6.05s\tremaining: 18.1s\n",
            "250:\tlearn: 0.0004477\ttotal: 6.07s\tremaining: 18.1s\n",
            "251:\tlearn: 0.0004454\ttotal: 6.09s\tremaining: 18.1s\n",
            "252:\tlearn: 0.0004435\ttotal: 6.11s\tremaining: 18.1s\n",
            "253:\tlearn: 0.0004417\ttotal: 6.14s\tremaining: 18s\n",
            "254:\tlearn: 0.0004400\ttotal: 6.16s\tremaining: 18s\n",
            "255:\tlearn: 0.0004386\ttotal: 6.18s\tremaining: 18s\n",
            "256:\tlearn: 0.0004361\ttotal: 6.21s\tremaining: 18s\n",
            "257:\tlearn: 0.0004342\ttotal: 6.23s\tremaining: 17.9s\n",
            "258:\tlearn: 0.0004319\ttotal: 6.26s\tremaining: 17.9s\n",
            "259:\tlearn: 0.0004297\ttotal: 6.28s\tremaining: 17.9s\n",
            "260:\tlearn: 0.0004292\ttotal: 6.3s\tremaining: 17.8s\n",
            "261:\tlearn: 0.0004271\ttotal: 6.33s\tremaining: 17.8s\n",
            "262:\tlearn: 0.0004252\ttotal: 6.36s\tremaining: 17.8s\n",
            "263:\tlearn: 0.0004227\ttotal: 6.38s\tremaining: 17.8s\n",
            "264:\tlearn: 0.0004207\ttotal: 6.41s\tremaining: 17.8s\n",
            "265:\tlearn: 0.0004189\ttotal: 6.43s\tremaining: 17.8s\n",
            "266:\tlearn: 0.0004177\ttotal: 6.46s\tremaining: 17.7s\n",
            "267:\tlearn: 0.0004167\ttotal: 6.48s\tremaining: 17.7s\n",
            "268:\tlearn: 0.0004139\ttotal: 6.51s\tremaining: 17.7s\n",
            "269:\tlearn: 0.0004131\ttotal: 6.53s\tremaining: 17.7s\n",
            "270:\tlearn: 0.0004112\ttotal: 6.55s\tremaining: 17.6s\n",
            "271:\tlearn: 0.0004104\ttotal: 6.57s\tremaining: 17.6s\n",
            "272:\tlearn: 0.0004085\ttotal: 6.6s\tremaining: 17.6s\n",
            "273:\tlearn: 0.0004019\ttotal: 6.62s\tremaining: 17.5s\n",
            "274:\tlearn: 0.0003966\ttotal: 6.65s\tremaining: 17.5s\n",
            "275:\tlearn: 0.0003949\ttotal: 6.67s\tremaining: 17.5s\n",
            "276:\tlearn: 0.0003927\ttotal: 6.69s\tremaining: 17.5s\n",
            "277:\tlearn: 0.0003914\ttotal: 6.72s\tremaining: 17.4s\n",
            "278:\tlearn: 0.0003894\ttotal: 6.74s\tremaining: 17.4s\n",
            "279:\tlearn: 0.0003876\ttotal: 6.76s\tremaining: 17.4s\n",
            "280:\tlearn: 0.0003856\ttotal: 6.79s\tremaining: 17.4s\n",
            "281:\tlearn: 0.0003803\ttotal: 6.82s\tremaining: 17.4s\n",
            "282:\tlearn: 0.0003787\ttotal: 6.84s\tremaining: 17.3s\n",
            "283:\tlearn: 0.0003774\ttotal: 6.87s\tremaining: 17.3s\n",
            "284:\tlearn: 0.0003759\ttotal: 6.89s\tremaining: 17.3s\n",
            "285:\tlearn: 0.0003744\ttotal: 6.92s\tremaining: 17.3s\n",
            "286:\tlearn: 0.0003732\ttotal: 6.96s\tremaining: 17.3s\n",
            "287:\tlearn: 0.0003714\ttotal: 6.99s\tremaining: 17.3s\n",
            "288:\tlearn: 0.0003698\ttotal: 7.01s\tremaining: 17.3s\n",
            "289:\tlearn: 0.0003650\ttotal: 7.04s\tremaining: 17.2s\n",
            "290:\tlearn: 0.0003646\ttotal: 7.06s\tremaining: 17.2s\n",
            "291:\tlearn: 0.0003639\ttotal: 7.09s\tremaining: 17.2s\n",
            "292:\tlearn: 0.0003625\ttotal: 7.11s\tremaining: 17.2s\n",
            "293:\tlearn: 0.0003608\ttotal: 7.13s\tremaining: 17.1s\n",
            "294:\tlearn: 0.0003602\ttotal: 7.15s\tremaining: 17.1s\n",
            "295:\tlearn: 0.0003599\ttotal: 7.18s\tremaining: 17.1s\n",
            "296:\tlearn: 0.0003589\ttotal: 7.2s\tremaining: 17s\n",
            "297:\tlearn: 0.0003579\ttotal: 7.22s\tremaining: 17s\n",
            "298:\tlearn: 0.0003574\ttotal: 7.24s\tremaining: 17s\n",
            "299:\tlearn: 0.0003569\ttotal: 7.26s\tremaining: 17s\n",
            "300:\tlearn: 0.0003564\ttotal: 7.29s\tremaining: 16.9s\n",
            "301:\tlearn: 0.0003561\ttotal: 7.32s\tremaining: 16.9s\n",
            "302:\tlearn: 0.0003552\ttotal: 7.35s\tremaining: 16.9s\n",
            "303:\tlearn: 0.0003533\ttotal: 7.38s\tremaining: 16.9s\n",
            "304:\tlearn: 0.0003530\ttotal: 7.4s\tremaining: 16.9s\n",
            "305:\tlearn: 0.0003521\ttotal: 7.42s\tremaining: 16.8s\n",
            "306:\tlearn: 0.0003518\ttotal: 7.44s\tremaining: 16.8s\n",
            "307:\tlearn: 0.0003498\ttotal: 7.47s\tremaining: 16.8s\n",
            "308:\tlearn: 0.0003488\ttotal: 7.49s\tremaining: 16.7s\n",
            "309:\tlearn: 0.0003473\ttotal: 7.51s\tremaining: 16.7s\n",
            "310:\tlearn: 0.0003421\ttotal: 7.54s\tremaining: 16.7s\n",
            "311:\tlearn: 0.0003408\ttotal: 7.56s\tremaining: 16.7s\n",
            "312:\tlearn: 0.0003351\ttotal: 7.58s\tremaining: 16.6s\n",
            "313:\tlearn: 0.0003341\ttotal: 7.6s\tremaining: 16.6s\n",
            "314:\tlearn: 0.0003330\ttotal: 7.63s\tremaining: 16.6s\n",
            "315:\tlearn: 0.0003320\ttotal: 7.65s\tremaining: 16.6s\n",
            "316:\tlearn: 0.0003315\ttotal: 7.68s\tremaining: 16.5s\n",
            "317:\tlearn: 0.0003265\ttotal: 7.7s\tremaining: 16.5s\n",
            "318:\tlearn: 0.0003260\ttotal: 7.72s\tremaining: 16.5s\n",
            "319:\tlearn: 0.0003215\ttotal: 7.75s\tremaining: 16.5s\n",
            "320:\tlearn: 0.0003213\ttotal: 7.77s\tremaining: 16.4s\n",
            "321:\tlearn: 0.0003203\ttotal: 7.79s\tremaining: 16.4s\n",
            "322:\tlearn: 0.0003158\ttotal: 7.82s\tremaining: 16.4s\n",
            "323:\tlearn: 0.0003150\ttotal: 7.84s\tremaining: 16.4s\n",
            "324:\tlearn: 0.0003092\ttotal: 7.87s\tremaining: 16.3s\n",
            "325:\tlearn: 0.0003075\ttotal: 7.89s\tremaining: 16.3s\n",
            "326:\tlearn: 0.0003072\ttotal: 7.91s\tremaining: 16.3s\n",
            "327:\tlearn: 0.0003027\ttotal: 7.94s\tremaining: 16.3s\n",
            "328:\tlearn: 0.0003019\ttotal: 7.96s\tremaining: 16.2s\n",
            "329:\tlearn: 0.0003011\ttotal: 7.98s\tremaining: 16.2s\n",
            "330:\tlearn: 0.0003008\ttotal: 8.01s\tremaining: 16.2s\n",
            "331:\tlearn: 0.0002992\ttotal: 8.03s\tremaining: 16.2s\n",
            "332:\tlearn: 0.0002987\ttotal: 8.05s\tremaining: 16.1s\n",
            "333:\tlearn: 0.0002972\ttotal: 8.07s\tremaining: 16.1s\n",
            "334:\tlearn: 0.0002954\ttotal: 8.09s\tremaining: 16.1s\n",
            "335:\tlearn: 0.0002912\ttotal: 8.12s\tremaining: 16s\n",
            "336:\tlearn: 0.0002898\ttotal: 8.14s\tremaining: 16s\n",
            "337:\tlearn: 0.0002895\ttotal: 8.16s\tremaining: 16s\n",
            "338:\tlearn: 0.0002855\ttotal: 8.19s\tremaining: 16s\n",
            "339:\tlearn: 0.0002847\ttotal: 8.21s\tremaining: 15.9s\n",
            "340:\tlearn: 0.0002836\ttotal: 8.23s\tremaining: 15.9s\n",
            "341:\tlearn: 0.0002794\ttotal: 8.26s\tremaining: 15.9s\n",
            "342:\tlearn: 0.0002786\ttotal: 8.28s\tremaining: 15.9s\n",
            "343:\tlearn: 0.0002748\ttotal: 8.3s\tremaining: 15.8s\n",
            "344:\tlearn: 0.0002746\ttotal: 8.33s\tremaining: 15.8s\n",
            "345:\tlearn: 0.0002738\ttotal: 8.36s\tremaining: 15.8s\n",
            "346:\tlearn: 0.0002699\ttotal: 8.38s\tremaining: 15.8s\n",
            "347:\tlearn: 0.0002696\ttotal: 8.41s\tremaining: 15.8s\n",
            "348:\tlearn: 0.0002693\ttotal: 8.43s\tremaining: 15.7s\n",
            "349:\tlearn: 0.0002658\ttotal: 8.45s\tremaining: 15.7s\n",
            "350:\tlearn: 0.0002656\ttotal: 8.47s\tremaining: 15.7s\n",
            "351:\tlearn: 0.0002648\ttotal: 8.5s\tremaining: 15.6s\n",
            "352:\tlearn: 0.0002640\ttotal: 8.52s\tremaining: 15.6s\n",
            "353:\tlearn: 0.0002633\ttotal: 8.54s\tremaining: 15.6s\n",
            "354:\tlearn: 0.0002627\ttotal: 8.57s\tremaining: 15.6s\n",
            "355:\tlearn: 0.0002619\ttotal: 8.59s\tremaining: 15.5s\n",
            "356:\tlearn: 0.0002618\ttotal: 8.62s\tremaining: 15.5s\n",
            "357:\tlearn: 0.0002584\ttotal: 8.64s\tremaining: 15.5s\n",
            "358:\tlearn: 0.0002577\ttotal: 8.66s\tremaining: 15.5s\n",
            "359:\tlearn: 0.0002574\ttotal: 8.68s\tremaining: 15.4s\n",
            "360:\tlearn: 0.0002565\ttotal: 8.71s\tremaining: 15.4s\n",
            "361:\tlearn: 0.0002558\ttotal: 8.73s\tremaining: 15.4s\n",
            "362:\tlearn: 0.0002551\ttotal: 8.75s\tremaining: 15.4s\n",
            "363:\tlearn: 0.0002518\ttotal: 8.78s\tremaining: 15.3s\n",
            "364:\tlearn: 0.0002516\ttotal: 8.8s\tremaining: 15.3s\n",
            "365:\tlearn: 0.0002485\ttotal: 8.82s\tremaining: 15.3s\n",
            "366:\tlearn: 0.0002482\ttotal: 8.85s\tremaining: 15.3s\n",
            "367:\tlearn: 0.0002477\ttotal: 8.87s\tremaining: 15.2s\n",
            "368:\tlearn: 0.0002472\ttotal: 8.89s\tremaining: 15.2s\n",
            "369:\tlearn: 0.0002470\ttotal: 8.91s\tremaining: 15.2s\n",
            "370:\tlearn: 0.0002463\ttotal: 8.93s\tremaining: 15.1s\n",
            "371:\tlearn: 0.0002460\ttotal: 8.96s\tremaining: 15.1s\n",
            "372:\tlearn: 0.0002429\ttotal: 8.99s\tremaining: 15.1s\n",
            "373:\tlearn: 0.0002423\ttotal: 9.01s\tremaining: 15.1s\n",
            "374:\tlearn: 0.0002417\ttotal: 9.04s\tremaining: 15.1s\n",
            "375:\tlearn: 0.0002415\ttotal: 9.06s\tremaining: 15s\n",
            "376:\tlearn: 0.0002407\ttotal: 9.08s\tremaining: 15s\n",
            "377:\tlearn: 0.0002397\ttotal: 9.1s\tremaining: 15s\n",
            "378:\tlearn: 0.0002393\ttotal: 9.13s\tremaining: 15s\n",
            "379:\tlearn: 0.0002387\ttotal: 9.15s\tremaining: 14.9s\n",
            "380:\tlearn: 0.0002385\ttotal: 9.17s\tremaining: 14.9s\n",
            "381:\tlearn: 0.0002383\ttotal: 9.19s\tremaining: 14.9s\n",
            "382:\tlearn: 0.0002377\ttotal: 9.22s\tremaining: 14.8s\n",
            "383:\tlearn: 0.0002371\ttotal: 9.24s\tremaining: 14.8s\n",
            "384:\tlearn: 0.0002342\ttotal: 9.26s\tremaining: 14.8s\n",
            "385:\tlearn: 0.0002340\ttotal: 9.28s\tremaining: 14.8s\n",
            "386:\tlearn: 0.0002334\ttotal: 9.31s\tremaining: 14.7s\n",
            "387:\tlearn: 0.0002332\ttotal: 9.34s\tremaining: 14.7s\n",
            "388:\tlearn: 0.0002304\ttotal: 9.36s\tremaining: 14.7s\n",
            "389:\tlearn: 0.0002299\ttotal: 9.38s\tremaining: 14.7s\n",
            "390:\tlearn: 0.0002293\ttotal: 9.41s\tremaining: 14.7s\n",
            "391:\tlearn: 0.0002291\ttotal: 9.44s\tremaining: 14.6s\n",
            "392:\tlearn: 0.0002264\ttotal: 9.46s\tremaining: 14.6s\n",
            "393:\tlearn: 0.0002258\ttotal: 9.48s\tremaining: 14.6s\n",
            "394:\tlearn: 0.0002251\ttotal: 9.5s\tremaining: 14.6s\n",
            "395:\tlearn: 0.0002249\ttotal: 9.53s\tremaining: 14.5s\n",
            "396:\tlearn: 0.0002244\ttotal: 9.55s\tremaining: 14.5s\n",
            "397:\tlearn: 0.0002231\ttotal: 9.57s\tremaining: 14.5s\n",
            "398:\tlearn: 0.0002228\ttotal: 9.59s\tremaining: 14.4s\n",
            "399:\tlearn: 0.0002225\ttotal: 9.62s\tremaining: 14.4s\n",
            "400:\tlearn: 0.0002213\ttotal: 9.65s\tremaining: 14.4s\n",
            "401:\tlearn: 0.0002212\ttotal: 9.67s\tremaining: 14.4s\n",
            "402:\tlearn: 0.0002210\ttotal: 9.69s\tremaining: 14.4s\n",
            "403:\tlearn: 0.0002204\ttotal: 9.71s\tremaining: 14.3s\n",
            "404:\tlearn: 0.0002191\ttotal: 9.74s\tremaining: 14.3s\n",
            "405:\tlearn: 0.0002181\ttotal: 9.76s\tremaining: 14.3s\n",
            "406:\tlearn: 0.0002179\ttotal: 9.78s\tremaining: 14.3s\n",
            "407:\tlearn: 0.0002176\ttotal: 9.8s\tremaining: 14.2s\n",
            "408:\tlearn: 0.0002151\ttotal: 9.85s\tremaining: 14.2s\n",
            "409:\tlearn: 0.0002148\ttotal: 9.87s\tremaining: 14.2s\n",
            "410:\tlearn: 0.0002146\ttotal: 9.89s\tremaining: 14.2s\n",
            "411:\tlearn: 0.0002140\ttotal: 9.92s\tremaining: 14.2s\n",
            "412:\tlearn: 0.0002138\ttotal: 9.94s\tremaining: 14.1s\n",
            "413:\tlearn: 0.0002136\ttotal: 9.96s\tremaining: 14.1s\n",
            "414:\tlearn: 0.0002131\ttotal: 9.98s\tremaining: 14.1s\n",
            "415:\tlearn: 0.0002125\ttotal: 10s\tremaining: 14s\n",
            "416:\tlearn: 0.0002099\ttotal: 10s\tremaining: 14s\n",
            "417:\tlearn: 0.0002095\ttotal: 10.1s\tremaining: 14s\n",
            "418:\tlearn: 0.0002072\ttotal: 10.1s\tremaining: 14s\n",
            "419:\tlearn: 0.0002070\ttotal: 10.1s\tremaining: 13.9s\n",
            "420:\tlearn: 0.0002065\ttotal: 10.1s\tremaining: 13.9s\n",
            "421:\tlearn: 0.0002063\ttotal: 10.2s\tremaining: 13.9s\n",
            "422:\tlearn: 0.0002059\ttotal: 10.2s\tremaining: 13.9s\n",
            "423:\tlearn: 0.0002058\ttotal: 10.2s\tremaining: 13.9s\n",
            "424:\tlearn: 0.0002056\ttotal: 10.2s\tremaining: 13.8s\n",
            "425:\tlearn: 0.0002053\ttotal: 10.3s\tremaining: 13.8s\n",
            "426:\tlearn: 0.0002031\ttotal: 10.3s\tremaining: 13.8s\n",
            "427:\tlearn: 0.0002029\ttotal: 10.3s\tremaining: 13.8s\n",
            "428:\tlearn: 0.0002024\ttotal: 10.3s\tremaining: 13.8s\n",
            "429:\tlearn: 0.0002019\ttotal: 10.4s\tremaining: 13.7s\n",
            "430:\tlearn: 0.0002015\ttotal: 10.4s\tremaining: 13.7s\n",
            "431:\tlearn: 0.0002010\ttotal: 10.4s\tremaining: 13.7s\n",
            "432:\tlearn: 0.0002002\ttotal: 10.4s\tremaining: 13.6s\n",
            "433:\tlearn: 0.0002000\ttotal: 10.4s\tremaining: 13.6s\n",
            "434:\tlearn: 0.0001999\ttotal: 10.5s\tremaining: 13.6s\n",
            "435:\tlearn: 0.0001993\ttotal: 10.5s\tremaining: 13.6s\n",
            "436:\tlearn: 0.0001984\ttotal: 10.5s\tremaining: 13.6s\n",
            "437:\tlearn: 0.0001983\ttotal: 10.5s\tremaining: 13.5s\n",
            "438:\tlearn: 0.0001981\ttotal: 10.6s\tremaining: 13.5s\n",
            "439:\tlearn: 0.0001979\ttotal: 10.6s\tremaining: 13.5s\n",
            "440:\tlearn: 0.0001978\ttotal: 10.6s\tremaining: 13.4s\n",
            "441:\tlearn: 0.0001968\ttotal: 10.6s\tremaining: 13.4s\n",
            "442:\tlearn: 0.0001966\ttotal: 10.7s\tremaining: 13.4s\n",
            "443:\tlearn: 0.0001960\ttotal: 10.7s\tremaining: 13.4s\n",
            "444:\tlearn: 0.0001959\ttotal: 10.7s\tremaining: 13.4s\n",
            "445:\tlearn: 0.0001950\ttotal: 10.7s\tremaining: 13.3s\n",
            "446:\tlearn: 0.0001948\ttotal: 10.8s\tremaining: 13.3s\n",
            "447:\tlearn: 0.0001947\ttotal: 10.8s\tremaining: 13.3s\n",
            "448:\tlearn: 0.0001943\ttotal: 10.8s\tremaining: 13.3s\n",
            "449:\tlearn: 0.0001938\ttotal: 10.8s\tremaining: 13.2s\n",
            "450:\tlearn: 0.0001918\ttotal: 10.8s\tremaining: 13.2s\n",
            "451:\tlearn: 0.0001916\ttotal: 10.9s\tremaining: 13.2s\n",
            "452:\tlearn: 0.0001915\ttotal: 10.9s\tremaining: 13.2s\n",
            "453:\tlearn: 0.0001913\ttotal: 10.9s\tremaining: 13.1s\n",
            "454:\tlearn: 0.0001910\ttotal: 10.9s\tremaining: 13.1s\n",
            "455:\tlearn: 0.0001909\ttotal: 11s\tremaining: 13.1s\n",
            "456:\tlearn: 0.0001899\ttotal: 11s\tremaining: 13.1s\n",
            "457:\tlearn: 0.0001894\ttotal: 11s\tremaining: 13s\n",
            "458:\tlearn: 0.0001893\ttotal: 11s\tremaining: 13s\n",
            "459:\tlearn: 0.0001873\ttotal: 11.1s\tremaining: 13s\n",
            "460:\tlearn: 0.0001853\ttotal: 11.1s\tremaining: 13s\n",
            "461:\tlearn: 0.0001847\ttotal: 11.1s\tremaining: 12.9s\n",
            "462:\tlearn: 0.0001839\ttotal: 11.1s\tremaining: 12.9s\n",
            "463:\tlearn: 0.0001833\ttotal: 11.2s\tremaining: 12.9s\n",
            "464:\tlearn: 0.0001826\ttotal: 11.2s\tremaining: 12.9s\n",
            "465:\tlearn: 0.0001824\ttotal: 11.2s\tremaining: 12.8s\n",
            "466:\tlearn: 0.0001819\ttotal: 11.2s\tremaining: 12.8s\n",
            "467:\tlearn: 0.0001818\ttotal: 11.2s\tremaining: 12.8s\n",
            "468:\tlearn: 0.0001817\ttotal: 11.3s\tremaining: 12.8s\n",
            "469:\tlearn: 0.0001812\ttotal: 11.3s\tremaining: 12.7s\n",
            "470:\tlearn: 0.0001807\ttotal: 11.3s\tremaining: 12.7s\n",
            "471:\tlearn: 0.0001789\ttotal: 11.4s\tremaining: 12.7s\n",
            "472:\tlearn: 0.0001786\ttotal: 11.4s\tremaining: 12.7s\n",
            "473:\tlearn: 0.0001785\ttotal: 11.4s\tremaining: 12.7s\n",
            "474:\tlearn: 0.0001784\ttotal: 11.4s\tremaining: 12.6s\n",
            "475:\tlearn: 0.0001783\ttotal: 11.4s\tremaining: 12.6s\n",
            "476:\tlearn: 0.0001782\ttotal: 11.5s\tremaining: 12.6s\n",
            "477:\tlearn: 0.0001779\ttotal: 11.5s\tremaining: 12.6s\n",
            "478:\tlearn: 0.0001775\ttotal: 11.5s\tremaining: 12.5s\n",
            "479:\tlearn: 0.0001771\ttotal: 11.5s\tremaining: 12.5s\n",
            "480:\tlearn: 0.0001770\ttotal: 11.6s\tremaining: 12.5s\n",
            "481:\tlearn: 0.0001765\ttotal: 11.6s\tremaining: 12.5s\n",
            "482:\tlearn: 0.0001764\ttotal: 11.6s\tremaining: 12.4s\n",
            "483:\tlearn: 0.0001763\ttotal: 11.6s\tremaining: 12.4s\n",
            "484:\tlearn: 0.0001762\ttotal: 11.7s\tremaining: 12.4s\n",
            "485:\tlearn: 0.0001758\ttotal: 11.7s\tremaining: 12.4s\n",
            "486:\tlearn: 0.0001757\ttotal: 11.7s\tremaining: 12.3s\n",
            "487:\tlearn: 0.0001756\ttotal: 11.7s\tremaining: 12.3s\n",
            "488:\tlearn: 0.0001739\ttotal: 11.8s\tremaining: 12.3s\n",
            "489:\tlearn: 0.0001735\ttotal: 11.8s\tremaining: 12.3s\n",
            "490:\tlearn: 0.0001734\ttotal: 11.8s\tremaining: 12.2s\n",
            "491:\tlearn: 0.0001729\ttotal: 11.8s\tremaining: 12.2s\n",
            "492:\tlearn: 0.0001729\ttotal: 11.9s\tremaining: 12.2s\n",
            "493:\tlearn: 0.0001713\ttotal: 11.9s\tremaining: 12.2s\n",
            "494:\tlearn: 0.0001711\ttotal: 11.9s\tremaining: 12.1s\n",
            "495:\tlearn: 0.0001710\ttotal: 11.9s\tremaining: 12.1s\n",
            "496:\tlearn: 0.0001706\ttotal: 11.9s\tremaining: 12.1s\n",
            "497:\tlearn: 0.0001705\ttotal: 12s\tremaining: 12.1s\n",
            "498:\tlearn: 0.0001697\ttotal: 12s\tremaining: 12s\n",
            "499:\tlearn: 0.0001696\ttotal: 12s\tremaining: 12s\n",
            "500:\tlearn: 0.0001681\ttotal: 12s\tremaining: 12s\n",
            "501:\tlearn: 0.0001678\ttotal: 12.1s\tremaining: 12s\n",
            "502:\tlearn: 0.0001677\ttotal: 12.1s\tremaining: 11.9s\n",
            "503:\tlearn: 0.0001676\ttotal: 12.1s\tremaining: 11.9s\n",
            "504:\tlearn: 0.0001674\ttotal: 12.1s\tremaining: 11.9s\n",
            "505:\tlearn: 0.0001672\ttotal: 12.1s\tremaining: 11.9s\n",
            "506:\tlearn: 0.0001671\ttotal: 12.2s\tremaining: 11.8s\n",
            "507:\tlearn: 0.0001664\ttotal: 12.2s\tremaining: 11.8s\n",
            "508:\tlearn: 0.0001663\ttotal: 12.2s\tremaining: 11.8s\n",
            "509:\tlearn: 0.0001662\ttotal: 12.3s\tremaining: 11.8s\n",
            "510:\tlearn: 0.0001648\ttotal: 12.3s\tremaining: 11.7s\n",
            "511:\tlearn: 0.0001641\ttotal: 12.3s\tremaining: 11.7s\n",
            "512:\tlearn: 0.0001640\ttotal: 12.3s\tremaining: 11.7s\n",
            "513:\tlearn: 0.0001636\ttotal: 12.3s\tremaining: 11.7s\n",
            "514:\tlearn: 0.0001630\ttotal: 12.4s\tremaining: 11.7s\n",
            "515:\tlearn: 0.0001630\ttotal: 12.4s\tremaining: 11.6s\n",
            "516:\tlearn: 0.0001629\ttotal: 12.4s\tremaining: 11.6s\n",
            "517:\tlearn: 0.0001626\ttotal: 12.4s\tremaining: 11.6s\n",
            "518:\tlearn: 0.0001622\ttotal: 12.5s\tremaining: 11.6s\n",
            "519:\tlearn: 0.0001619\ttotal: 12.5s\tremaining: 11.5s\n",
            "520:\tlearn: 0.0001619\ttotal: 12.5s\tremaining: 11.5s\n",
            "521:\tlearn: 0.0001618\ttotal: 12.5s\tremaining: 11.5s\n",
            "522:\tlearn: 0.0001617\ttotal: 12.6s\tremaining: 11.5s\n",
            "523:\tlearn: 0.0001603\ttotal: 12.6s\tremaining: 11.4s\n",
            "524:\tlearn: 0.0001601\ttotal: 12.6s\tremaining: 11.4s\n",
            "525:\tlearn: 0.0001598\ttotal: 12.6s\tremaining: 11.4s\n",
            "526:\tlearn: 0.0001597\ttotal: 12.7s\tremaining: 11.4s\n",
            "527:\tlearn: 0.0001596\ttotal: 12.7s\tremaining: 11.3s\n",
            "528:\tlearn: 0.0001589\ttotal: 12.7s\tremaining: 11.3s\n",
            "529:\tlearn: 0.0001584\ttotal: 12.7s\tremaining: 11.3s\n",
            "530:\tlearn: 0.0001581\ttotal: 12.7s\tremaining: 11.3s\n",
            "531:\tlearn: 0.0001580\ttotal: 12.8s\tremaining: 11.2s\n",
            "532:\tlearn: 0.0001577\ttotal: 12.8s\tremaining: 11.2s\n",
            "533:\tlearn: 0.0001576\ttotal: 12.8s\tremaining: 11.2s\n",
            "534:\tlearn: 0.0001575\ttotal: 12.8s\tremaining: 11.2s\n",
            "535:\tlearn: 0.0001571\ttotal: 12.9s\tremaining: 11.1s\n",
            "536:\tlearn: 0.0001568\ttotal: 12.9s\tremaining: 11.1s\n",
            "537:\tlearn: 0.0001564\ttotal: 12.9s\tremaining: 11.1s\n",
            "538:\tlearn: 0.0001551\ttotal: 12.9s\tremaining: 11.1s\n",
            "539:\tlearn: 0.0001550\ttotal: 13s\tremaining: 11s\n",
            "540:\tlearn: 0.0001550\ttotal: 13s\tremaining: 11s\n",
            "541:\tlearn: 0.0001549\ttotal: 13s\tremaining: 11s\n",
            "542:\tlearn: 0.0001548\ttotal: 13s\tremaining: 11s\n",
            "543:\tlearn: 0.0001546\ttotal: 13.1s\tremaining: 10.9s\n",
            "544:\tlearn: 0.0001540\ttotal: 13.1s\tremaining: 10.9s\n",
            "545:\tlearn: 0.0001537\ttotal: 13.1s\tremaining: 10.9s\n",
            "546:\tlearn: 0.0001536\ttotal: 13.1s\tremaining: 10.9s\n",
            "547:\tlearn: 0.0001535\ttotal: 13.1s\tremaining: 10.8s\n",
            "548:\tlearn: 0.0001534\ttotal: 13.2s\tremaining: 10.8s\n",
            "549:\tlearn: 0.0001531\ttotal: 13.2s\tremaining: 10.8s\n",
            "550:\tlearn: 0.0001528\ttotal: 13.2s\tremaining: 10.8s\n",
            "551:\tlearn: 0.0001527\ttotal: 13.2s\tremaining: 10.7s\n",
            "552:\tlearn: 0.0001523\ttotal: 13.3s\tremaining: 10.7s\n",
            "553:\tlearn: 0.0001519\ttotal: 13.3s\tremaining: 10.7s\n",
            "554:\tlearn: 0.0001517\ttotal: 13.3s\tremaining: 10.7s\n",
            "555:\tlearn: 0.0001514\ttotal: 13.3s\tremaining: 10.7s\n",
            "556:\tlearn: 0.0001514\ttotal: 13.4s\tremaining: 10.6s\n",
            "557:\tlearn: 0.0001511\ttotal: 13.4s\tremaining: 10.6s\n",
            "558:\tlearn: 0.0001505\ttotal: 13.4s\tremaining: 10.6s\n",
            "559:\tlearn: 0.0001500\ttotal: 13.4s\tremaining: 10.6s\n",
            "560:\tlearn: 0.0001497\ttotal: 13.5s\tremaining: 10.5s\n",
            "561:\tlearn: 0.0001494\ttotal: 13.5s\tremaining: 10.5s\n",
            "562:\tlearn: 0.0001491\ttotal: 13.5s\tremaining: 10.5s\n",
            "563:\tlearn: 0.0001490\ttotal: 13.5s\tremaining: 10.5s\n",
            "564:\tlearn: 0.0001476\ttotal: 13.5s\tremaining: 10.4s\n",
            "565:\tlearn: 0.0001471\ttotal: 13.6s\tremaining: 10.4s\n",
            "566:\tlearn: 0.0001467\ttotal: 13.6s\tremaining: 10.4s\n",
            "567:\tlearn: 0.0001464\ttotal: 13.6s\tremaining: 10.4s\n",
            "568:\tlearn: 0.0001463\ttotal: 13.6s\tremaining: 10.3s\n",
            "569:\tlearn: 0.0001462\ttotal: 13.7s\tremaining: 10.3s\n",
            "570:\tlearn: 0.0001461\ttotal: 13.7s\tremaining: 10.3s\n",
            "571:\tlearn: 0.0001460\ttotal: 13.7s\tremaining: 10.3s\n",
            "572:\tlearn: 0.0001449\ttotal: 13.7s\tremaining: 10.2s\n",
            "573:\tlearn: 0.0001444\ttotal: 13.8s\tremaining: 10.2s\n",
            "574:\tlearn: 0.0001443\ttotal: 13.8s\tremaining: 10.2s\n",
            "575:\tlearn: 0.0001441\ttotal: 13.8s\tremaining: 10.2s\n",
            "576:\tlearn: 0.0001440\ttotal: 13.8s\tremaining: 10.1s\n",
            "577:\tlearn: 0.0001440\ttotal: 13.8s\tremaining: 10.1s\n",
            "578:\tlearn: 0.0001438\ttotal: 13.9s\tremaining: 10.1s\n",
            "579:\tlearn: 0.0001434\ttotal: 13.9s\tremaining: 10.1s\n",
            "580:\tlearn: 0.0001434\ttotal: 13.9s\tremaining: 10s\n",
            "581:\tlearn: 0.0001431\ttotal: 13.9s\tremaining: 10s\n",
            "582:\tlearn: 0.0001428\ttotal: 14s\tremaining: 9.99s\n",
            "583:\tlearn: 0.0001428\ttotal: 14s\tremaining: 9.97s\n",
            "584:\tlearn: 0.0001427\ttotal: 14s\tremaining: 9.94s\n",
            "585:\tlearn: 0.0001424\ttotal: 14s\tremaining: 9.92s\n",
            "586:\tlearn: 0.0001422\ttotal: 14.1s\tremaining: 9.89s\n",
            "587:\tlearn: 0.0001421\ttotal: 14.1s\tremaining: 9.87s\n",
            "588:\tlearn: 0.0001421\ttotal: 14.1s\tremaining: 9.85s\n",
            "589:\tlearn: 0.0001420\ttotal: 14.1s\tremaining: 9.82s\n",
            "590:\tlearn: 0.0001418\ttotal: 14.2s\tremaining: 9.8s\n",
            "591:\tlearn: 0.0001415\ttotal: 14.2s\tremaining: 9.77s\n",
            "592:\tlearn: 0.0001412\ttotal: 14.2s\tremaining: 9.75s\n",
            "593:\tlearn: 0.0001409\ttotal: 14.2s\tremaining: 9.72s\n",
            "594:\tlearn: 0.0001406\ttotal: 14.2s\tremaining: 9.7s\n",
            "595:\tlearn: 0.0001406\ttotal: 14.3s\tremaining: 9.67s\n",
            "596:\tlearn: 0.0001405\ttotal: 14.3s\tremaining: 9.65s\n",
            "597:\tlearn: 0.0001404\ttotal: 14.3s\tremaining: 9.63s\n",
            "598:\tlearn: 0.0001404\ttotal: 14.4s\tremaining: 9.61s\n",
            "599:\tlearn: 0.0001402\ttotal: 14.4s\tremaining: 9.58s\n",
            "600:\tlearn: 0.0001400\ttotal: 14.4s\tremaining: 9.56s\n",
            "601:\tlearn: 0.0001397\ttotal: 14.4s\tremaining: 9.53s\n",
            "602:\tlearn: 0.0001394\ttotal: 14.4s\tremaining: 9.51s\n",
            "603:\tlearn: 0.0001394\ttotal: 14.5s\tremaining: 9.48s\n",
            "604:\tlearn: 0.0001383\ttotal: 14.5s\tremaining: 9.46s\n",
            "605:\tlearn: 0.0001375\ttotal: 14.5s\tremaining: 9.43s\n",
            "606:\tlearn: 0.0001374\ttotal: 14.5s\tremaining: 9.41s\n",
            "607:\tlearn: 0.0001372\ttotal: 14.6s\tremaining: 9.39s\n",
            "608:\tlearn: 0.0001370\ttotal: 14.6s\tremaining: 9.36s\n",
            "609:\tlearn: 0.0001368\ttotal: 14.6s\tremaining: 9.34s\n",
            "610:\tlearn: 0.0001367\ttotal: 14.6s\tremaining: 9.31s\n",
            "611:\tlearn: 0.0001367\ttotal: 14.7s\tremaining: 9.29s\n",
            "612:\tlearn: 0.0001365\ttotal: 14.7s\tremaining: 9.26s\n",
            "613:\tlearn: 0.0001362\ttotal: 14.7s\tremaining: 9.24s\n",
            "614:\tlearn: 0.0001361\ttotal: 14.7s\tremaining: 9.21s\n",
            "615:\tlearn: 0.0001359\ttotal: 14.7s\tremaining: 9.19s\n",
            "616:\tlearn: 0.0001358\ttotal: 14.8s\tremaining: 9.17s\n",
            "617:\tlearn: 0.0001356\ttotal: 14.8s\tremaining: 9.14s\n",
            "618:\tlearn: 0.0001354\ttotal: 14.8s\tremaining: 9.12s\n",
            "619:\tlearn: 0.0001352\ttotal: 14.8s\tremaining: 9.1s\n",
            "620:\tlearn: 0.0001352\ttotal: 14.9s\tremaining: 9.07s\n",
            "621:\tlearn: 0.0001350\ttotal: 14.9s\tremaining: 9.05s\n",
            "622:\tlearn: 0.0001347\ttotal: 14.9s\tremaining: 9.02s\n",
            "623:\tlearn: 0.0001346\ttotal: 14.9s\tremaining: 9s\n",
            "624:\tlearn: 0.0001341\ttotal: 15s\tremaining: 8.97s\n",
            "625:\tlearn: 0.0001340\ttotal: 15s\tremaining: 8.95s\n",
            "626:\tlearn: 0.0001336\ttotal: 15s\tremaining: 8.93s\n",
            "627:\tlearn: 0.0001332\ttotal: 15s\tremaining: 8.9s\n",
            "628:\tlearn: 0.0001332\ttotal: 15s\tremaining: 8.88s\n",
            "629:\tlearn: 0.0001328\ttotal: 15.1s\tremaining: 8.85s\n",
            "630:\tlearn: 0.0001328\ttotal: 15.1s\tremaining: 8.83s\n",
            "631:\tlearn: 0.0001325\ttotal: 15.1s\tremaining: 8.8s\n",
            "632:\tlearn: 0.0001324\ttotal: 15.1s\tremaining: 8.78s\n",
            "633:\tlearn: 0.0001319\ttotal: 15.2s\tremaining: 8.76s\n",
            "634:\tlearn: 0.0001317\ttotal: 15.2s\tremaining: 8.73s\n",
            "635:\tlearn: 0.0001316\ttotal: 15.2s\tremaining: 8.71s\n",
            "636:\tlearn: 0.0001313\ttotal: 15.2s\tremaining: 8.69s\n",
            "637:\tlearn: 0.0001310\ttotal: 15.3s\tremaining: 8.66s\n",
            "638:\tlearn: 0.0001309\ttotal: 15.3s\tremaining: 8.63s\n",
            "639:\tlearn: 0.0001309\ttotal: 15.3s\tremaining: 8.61s\n",
            "640:\tlearn: 0.0001306\ttotal: 15.3s\tremaining: 8.59s\n",
            "641:\tlearn: 0.0001301\ttotal: 15.4s\tremaining: 8.57s\n",
            "642:\tlearn: 0.0001300\ttotal: 15.4s\tremaining: 8.55s\n",
            "643:\tlearn: 0.0001298\ttotal: 15.4s\tremaining: 8.52s\n",
            "644:\tlearn: 0.0001298\ttotal: 15.4s\tremaining: 8.5s\n",
            "645:\tlearn: 0.0001287\ttotal: 15.5s\tremaining: 8.47s\n",
            "646:\tlearn: 0.0001285\ttotal: 15.5s\tremaining: 8.45s\n",
            "647:\tlearn: 0.0001284\ttotal: 15.5s\tremaining: 8.42s\n",
            "648:\tlearn: 0.0001284\ttotal: 15.5s\tremaining: 8.4s\n",
            "649:\tlearn: 0.0001280\ttotal: 15.6s\tremaining: 8.37s\n",
            "650:\tlearn: 0.0001278\ttotal: 15.6s\tremaining: 8.35s\n",
            "651:\tlearn: 0.0001278\ttotal: 15.6s\tremaining: 8.33s\n",
            "652:\tlearn: 0.0001276\ttotal: 15.6s\tremaining: 8.3s\n",
            "653:\tlearn: 0.0001275\ttotal: 15.6s\tremaining: 8.28s\n",
            "654:\tlearn: 0.0001273\ttotal: 15.7s\tremaining: 8.26s\n",
            "655:\tlearn: 0.0001262\ttotal: 15.7s\tremaining: 8.23s\n",
            "656:\tlearn: 0.0001261\ttotal: 15.7s\tremaining: 8.21s\n",
            "657:\tlearn: 0.0001260\ttotal: 15.7s\tremaining: 8.18s\n",
            "658:\tlearn: 0.0001260\ttotal: 15.8s\tremaining: 8.16s\n",
            "659:\tlearn: 0.0001250\ttotal: 15.8s\tremaining: 8.14s\n",
            "660:\tlearn: 0.0001248\ttotal: 15.8s\tremaining: 8.12s\n",
            "661:\tlearn: 0.0001246\ttotal: 15.8s\tremaining: 8.09s\n",
            "662:\tlearn: 0.0001244\ttotal: 15.9s\tremaining: 8.07s\n",
            "663:\tlearn: 0.0001243\ttotal: 15.9s\tremaining: 8.04s\n",
            "664:\tlearn: 0.0001242\ttotal: 15.9s\tremaining: 8.02s\n",
            "665:\tlearn: 0.0001240\ttotal: 15.9s\tremaining: 7.99s\n",
            "666:\tlearn: 0.0001238\ttotal: 16s\tremaining: 7.97s\n",
            "667:\tlearn: 0.0001236\ttotal: 16s\tremaining: 7.95s\n",
            "668:\tlearn: 0.0001235\ttotal: 16s\tremaining: 7.92s\n",
            "669:\tlearn: 0.0001234\ttotal: 16s\tremaining: 7.9s\n",
            "670:\tlearn: 0.0001233\ttotal: 16.1s\tremaining: 7.87s\n",
            "671:\tlearn: 0.0001230\ttotal: 16.1s\tremaining: 7.85s\n",
            "672:\tlearn: 0.0001230\ttotal: 16.1s\tremaining: 7.82s\n",
            "673:\tlearn: 0.0001229\ttotal: 16.1s\tremaining: 7.8s\n",
            "674:\tlearn: 0.0001228\ttotal: 16.1s\tremaining: 7.77s\n",
            "675:\tlearn: 0.0001226\ttotal: 16.2s\tremaining: 7.75s\n",
            "676:\tlearn: 0.0001223\ttotal: 16.2s\tremaining: 7.72s\n",
            "677:\tlearn: 0.0001222\ttotal: 16.2s\tremaining: 7.7s\n",
            "678:\tlearn: 0.0001221\ttotal: 16.2s\tremaining: 7.68s\n",
            "679:\tlearn: 0.0001220\ttotal: 16.3s\tremaining: 7.66s\n",
            "680:\tlearn: 0.0001220\ttotal: 16.3s\tremaining: 7.63s\n",
            "681:\tlearn: 0.0001219\ttotal: 16.3s\tremaining: 7.61s\n",
            "682:\tlearn: 0.0001215\ttotal: 16.3s\tremaining: 7.59s\n",
            "683:\tlearn: 0.0001211\ttotal: 16.4s\tremaining: 7.56s\n",
            "684:\tlearn: 0.0001209\ttotal: 16.4s\tremaining: 7.54s\n",
            "685:\tlearn: 0.0001208\ttotal: 16.4s\tremaining: 7.51s\n",
            "686:\tlearn: 0.0001206\ttotal: 16.4s\tremaining: 7.49s\n",
            "687:\tlearn: 0.0001205\ttotal: 16.5s\tremaining: 7.47s\n",
            "688:\tlearn: 0.0001204\ttotal: 16.5s\tremaining: 7.44s\n",
            "689:\tlearn: 0.0001204\ttotal: 16.5s\tremaining: 7.42s\n",
            "690:\tlearn: 0.0001203\ttotal: 16.5s\tremaining: 7.39s\n",
            "691:\tlearn: 0.0001194\ttotal: 16.6s\tremaining: 7.37s\n",
            "692:\tlearn: 0.0001193\ttotal: 16.6s\tremaining: 7.34s\n",
            "693:\tlearn: 0.0001191\ttotal: 16.6s\tremaining: 7.32s\n",
            "694:\tlearn: 0.0001189\ttotal: 16.6s\tremaining: 7.29s\n",
            "695:\tlearn: 0.0001187\ttotal: 16.6s\tremaining: 7.27s\n",
            "696:\tlearn: 0.0001187\ttotal: 16.7s\tremaining: 7.25s\n",
            "697:\tlearn: 0.0001184\ttotal: 16.7s\tremaining: 7.22s\n",
            "698:\tlearn: 0.0001182\ttotal: 16.7s\tremaining: 7.2s\n",
            "699:\tlearn: 0.0001181\ttotal: 16.7s\tremaining: 7.18s\n",
            "700:\tlearn: 0.0001181\ttotal: 16.8s\tremaining: 7.15s\n",
            "701:\tlearn: 0.0001180\ttotal: 16.8s\tremaining: 7.13s\n",
            "702:\tlearn: 0.0001178\ttotal: 16.8s\tremaining: 7.1s\n",
            "703:\tlearn: 0.0001175\ttotal: 16.8s\tremaining: 7.08s\n",
            "704:\tlearn: 0.0001172\ttotal: 16.9s\tremaining: 7.05s\n",
            "705:\tlearn: 0.0001171\ttotal: 16.9s\tremaining: 7.03s\n",
            "706:\tlearn: 0.0001162\ttotal: 16.9s\tremaining: 7s\n",
            "707:\tlearn: 0.0001161\ttotal: 16.9s\tremaining: 6.98s\n",
            "708:\tlearn: 0.0001161\ttotal: 17s\tremaining: 6.96s\n",
            "709:\tlearn: 0.0001157\ttotal: 17s\tremaining: 6.93s\n",
            "710:\tlearn: 0.0001155\ttotal: 17s\tremaining: 6.91s\n",
            "711:\tlearn: 0.0001153\ttotal: 17s\tremaining: 6.88s\n",
            "712:\tlearn: 0.0001145\ttotal: 17.1s\tremaining: 6.87s\n",
            "713:\tlearn: 0.0001143\ttotal: 17.1s\tremaining: 6.84s\n",
            "714:\tlearn: 0.0001142\ttotal: 17.1s\tremaining: 6.82s\n",
            "715:\tlearn: 0.0001142\ttotal: 17.1s\tremaining: 6.8s\n",
            "716:\tlearn: 0.0001138\ttotal: 17.2s\tremaining: 6.78s\n",
            "717:\tlearn: 0.0001138\ttotal: 17.2s\tremaining: 6.75s\n",
            "718:\tlearn: 0.0001137\ttotal: 17.2s\tremaining: 6.73s\n",
            "719:\tlearn: 0.0001137\ttotal: 17.2s\tremaining: 6.7s\n",
            "720:\tlearn: 0.0001135\ttotal: 17.3s\tremaining: 6.68s\n",
            "721:\tlearn: 0.0001135\ttotal: 17.3s\tremaining: 6.66s\n",
            "722:\tlearn: 0.0001134\ttotal: 17.3s\tremaining: 6.63s\n",
            "723:\tlearn: 0.0001133\ttotal: 17.3s\tremaining: 6.61s\n",
            "724:\tlearn: 0.0001131\ttotal: 17.4s\tremaining: 6.59s\n",
            "725:\tlearn: 0.0001130\ttotal: 17.4s\tremaining: 6.56s\n",
            "726:\tlearn: 0.0001129\ttotal: 17.4s\tremaining: 6.54s\n",
            "727:\tlearn: 0.0001127\ttotal: 17.4s\tremaining: 6.52s\n",
            "728:\tlearn: 0.0001126\ttotal: 17.5s\tremaining: 6.49s\n",
            "729:\tlearn: 0.0001124\ttotal: 17.5s\tremaining: 6.47s\n",
            "730:\tlearn: 0.0001122\ttotal: 17.5s\tremaining: 6.44s\n",
            "731:\tlearn: 0.0001120\ttotal: 17.5s\tremaining: 6.42s\n",
            "732:\tlearn: 0.0001120\ttotal: 17.6s\tremaining: 6.4s\n",
            "733:\tlearn: 0.0001118\ttotal: 17.6s\tremaining: 6.37s\n",
            "734:\tlearn: 0.0001117\ttotal: 17.6s\tremaining: 6.35s\n",
            "735:\tlearn: 0.0001117\ttotal: 17.6s\tremaining: 6.32s\n",
            "736:\tlearn: 0.0001116\ttotal: 17.6s\tremaining: 6.3s\n",
            "737:\tlearn: 0.0001114\ttotal: 17.7s\tremaining: 6.27s\n",
            "738:\tlearn: 0.0001111\ttotal: 17.7s\tremaining: 6.25s\n",
            "739:\tlearn: 0.0001110\ttotal: 17.7s\tremaining: 6.23s\n",
            "740:\tlearn: 0.0001108\ttotal: 17.7s\tremaining: 6.2s\n",
            "741:\tlearn: 0.0001107\ttotal: 17.8s\tremaining: 6.18s\n",
            "742:\tlearn: 0.0001107\ttotal: 17.8s\tremaining: 6.15s\n",
            "743:\tlearn: 0.0001106\ttotal: 17.8s\tremaining: 6.13s\n",
            "744:\tlearn: 0.0001105\ttotal: 17.8s\tremaining: 6.1s\n",
            "745:\tlearn: 0.0001103\ttotal: 17.9s\tremaining: 6.08s\n",
            "746:\tlearn: 0.0001102\ttotal: 17.9s\tremaining: 6.05s\n",
            "747:\tlearn: 0.0001102\ttotal: 17.9s\tremaining: 6.03s\n",
            "748:\tlearn: 0.0001101\ttotal: 17.9s\tremaining: 6.01s\n",
            "749:\tlearn: 0.0001098\ttotal: 18s\tremaining: 5.99s\n",
            "750:\tlearn: 0.0001096\ttotal: 18s\tremaining: 5.96s\n",
            "751:\tlearn: 0.0001095\ttotal: 18s\tremaining: 5.94s\n",
            "752:\tlearn: 0.0001095\ttotal: 18s\tremaining: 5.91s\n",
            "753:\tlearn: 0.0001095\ttotal: 18s\tremaining: 5.89s\n",
            "754:\tlearn: 0.0001093\ttotal: 18.1s\tremaining: 5.86s\n",
            "755:\tlearn: 0.0001092\ttotal: 18.1s\tremaining: 5.84s\n",
            "756:\tlearn: 0.0001090\ttotal: 18.1s\tremaining: 5.82s\n",
            "757:\tlearn: 0.0001082\ttotal: 18.1s\tremaining: 5.79s\n",
            "758:\tlearn: 0.0001080\ttotal: 18.2s\tremaining: 5.77s\n",
            "759:\tlearn: 0.0001078\ttotal: 18.2s\tremaining: 5.74s\n",
            "760:\tlearn: 0.0001078\ttotal: 18.2s\tremaining: 5.72s\n",
            "761:\tlearn: 0.0001077\ttotal: 18.2s\tremaining: 5.69s\n",
            "762:\tlearn: 0.0001076\ttotal: 18.3s\tremaining: 5.67s\n",
            "763:\tlearn: 0.0001075\ttotal: 18.3s\tremaining: 5.64s\n",
            "764:\tlearn: 0.0001075\ttotal: 18.3s\tremaining: 5.62s\n",
            "765:\tlearn: 0.0001073\ttotal: 18.3s\tremaining: 5.6s\n",
            "766:\tlearn: 0.0001072\ttotal: 18.4s\tremaining: 5.58s\n",
            "767:\tlearn: 0.0001067\ttotal: 18.4s\tremaining: 5.55s\n",
            "768:\tlearn: 0.0001066\ttotal: 18.4s\tremaining: 5.53s\n",
            "769:\tlearn: 0.0001065\ttotal: 18.4s\tremaining: 5.51s\n",
            "770:\tlearn: 0.0001065\ttotal: 18.5s\tremaining: 5.48s\n",
            "771:\tlearn: 0.0001063\ttotal: 18.5s\tremaining: 5.46s\n",
            "772:\tlearn: 0.0001062\ttotal: 18.5s\tremaining: 5.43s\n",
            "773:\tlearn: 0.0001062\ttotal: 18.5s\tremaining: 5.41s\n",
            "774:\tlearn: 0.0001060\ttotal: 18.6s\tremaining: 5.39s\n",
            "775:\tlearn: 0.0001059\ttotal: 18.6s\tremaining: 5.36s\n",
            "776:\tlearn: 0.0001059\ttotal: 18.6s\tremaining: 5.34s\n",
            "777:\tlearn: 0.0001058\ttotal: 18.6s\tremaining: 5.32s\n",
            "778:\tlearn: 0.0001056\ttotal: 18.7s\tremaining: 5.29s\n",
            "779:\tlearn: 0.0001053\ttotal: 18.7s\tremaining: 5.27s\n",
            "780:\tlearn: 0.0001051\ttotal: 18.7s\tremaining: 5.24s\n",
            "781:\tlearn: 0.0001049\ttotal: 18.7s\tremaining: 5.22s\n",
            "782:\tlearn: 0.0001049\ttotal: 18.8s\tremaining: 5.2s\n",
            "783:\tlearn: 0.0001047\ttotal: 18.8s\tremaining: 5.17s\n",
            "784:\tlearn: 0.0001045\ttotal: 18.8s\tremaining: 5.15s\n",
            "785:\tlearn: 0.0001044\ttotal: 18.8s\tremaining: 5.12s\n",
            "786:\tlearn: 0.0001037\ttotal: 18.8s\tremaining: 5.1s\n",
            "787:\tlearn: 0.0001035\ttotal: 18.9s\tremaining: 5.08s\n",
            "788:\tlearn: 0.0001035\ttotal: 18.9s\tremaining: 5.05s\n",
            "789:\tlearn: 0.0001033\ttotal: 18.9s\tremaining: 5.03s\n",
            "790:\tlearn: 0.0001032\ttotal: 18.9s\tremaining: 5s\n",
            "791:\tlearn: 0.0001032\ttotal: 19s\tremaining: 4.98s\n",
            "792:\tlearn: 0.0001031\ttotal: 19s\tremaining: 4.96s\n",
            "793:\tlearn: 0.0001030\ttotal: 19s\tremaining: 4.93s\n",
            "794:\tlearn: 0.0001028\ttotal: 19s\tremaining: 4.91s\n",
            "795:\tlearn: 0.0001027\ttotal: 19.1s\tremaining: 4.88s\n",
            "796:\tlearn: 0.0001027\ttotal: 19.1s\tremaining: 4.86s\n",
            "797:\tlearn: 0.0001026\ttotal: 19.1s\tremaining: 4.83s\n",
            "798:\tlearn: 0.0001025\ttotal: 19.1s\tremaining: 4.81s\n",
            "799:\tlearn: 0.0001025\ttotal: 19.1s\tremaining: 4.79s\n",
            "800:\tlearn: 0.0001025\ttotal: 19.2s\tremaining: 4.76s\n",
            "801:\tlearn: 0.0001023\ttotal: 19.2s\tremaining: 4.74s\n",
            "802:\tlearn: 0.0001022\ttotal: 19.2s\tremaining: 4.71s\n",
            "803:\tlearn: 0.0001022\ttotal: 19.2s\tremaining: 4.69s\n",
            "804:\tlearn: 0.0001021\ttotal: 19.3s\tremaining: 4.67s\n",
            "805:\tlearn: 0.0001021\ttotal: 19.3s\tremaining: 4.64s\n",
            "806:\tlearn: 0.0001021\ttotal: 19.3s\tremaining: 4.62s\n",
            "807:\tlearn: 0.0001019\ttotal: 19.4s\tremaining: 4.6s\n",
            "808:\tlearn: 0.0001016\ttotal: 19.4s\tremaining: 4.57s\n",
            "809:\tlearn: 0.0001014\ttotal: 19.4s\tremaining: 4.55s\n",
            "810:\tlearn: 0.0001009\ttotal: 19.4s\tremaining: 4.53s\n",
            "811:\tlearn: 0.0001008\ttotal: 19.5s\tremaining: 4.5s\n",
            "812:\tlearn: 0.0001001\ttotal: 19.5s\tremaining: 4.48s\n",
            "813:\tlearn: 0.0000999\ttotal: 19.5s\tremaining: 4.46s\n",
            "814:\tlearn: 0.0000998\ttotal: 19.5s\tremaining: 4.43s\n",
            "815:\tlearn: 0.0000996\ttotal: 19.5s\tremaining: 4.41s\n",
            "816:\tlearn: 0.0000996\ttotal: 19.6s\tremaining: 4.38s\n",
            "817:\tlearn: 0.0000996\ttotal: 19.6s\tremaining: 4.36s\n",
            "818:\tlearn: 0.0000995\ttotal: 19.6s\tremaining: 4.34s\n",
            "819:\tlearn: 0.0000995\ttotal: 19.7s\tremaining: 4.31s\n",
            "820:\tlearn: 0.0000993\ttotal: 19.7s\tremaining: 4.29s\n",
            "821:\tlearn: 0.0000992\ttotal: 19.7s\tremaining: 4.27s\n",
            "822:\tlearn: 0.0000991\ttotal: 19.7s\tremaining: 4.24s\n",
            "823:\tlearn: 0.0000991\ttotal: 19.8s\tremaining: 4.22s\n",
            "824:\tlearn: 0.0000989\ttotal: 19.8s\tremaining: 4.19s\n",
            "825:\tlearn: 0.0000987\ttotal: 19.8s\tremaining: 4.17s\n",
            "826:\tlearn: 0.0000986\ttotal: 19.8s\tremaining: 4.15s\n",
            "827:\tlearn: 0.0000979\ttotal: 19.8s\tremaining: 4.12s\n",
            "828:\tlearn: 0.0000977\ttotal: 19.9s\tremaining: 4.1s\n",
            "829:\tlearn: 0.0000976\ttotal: 19.9s\tremaining: 4.07s\n",
            "830:\tlearn: 0.0000975\ttotal: 19.9s\tremaining: 4.05s\n",
            "831:\tlearn: 0.0000971\ttotal: 19.9s\tremaining: 4.03s\n",
            "832:\tlearn: 0.0000970\ttotal: 20s\tremaining: 4s\n",
            "833:\tlearn: 0.0000966\ttotal: 20s\tremaining: 3.98s\n",
            "834:\tlearn: 0.0000965\ttotal: 20s\tremaining: 3.95s\n",
            "835:\tlearn: 0.0000964\ttotal: 20s\tremaining: 3.93s\n",
            "836:\tlearn: 0.0000960\ttotal: 20.1s\tremaining: 3.9s\n",
            "837:\tlearn: 0.0000959\ttotal: 20.1s\tremaining: 3.88s\n",
            "838:\tlearn: 0.0000957\ttotal: 20.1s\tremaining: 3.86s\n",
            "839:\tlearn: 0.0000956\ttotal: 20.1s\tremaining: 3.83s\n",
            "840:\tlearn: 0.0000946\ttotal: 20.1s\tremaining: 3.81s\n",
            "841:\tlearn: 0.0000944\ttotal: 20.2s\tremaining: 3.79s\n",
            "842:\tlearn: 0.0000944\ttotal: 20.2s\tremaining: 3.76s\n",
            "843:\tlearn: 0.0000940\ttotal: 20.2s\tremaining: 3.74s\n",
            "844:\tlearn: 0.0000939\ttotal: 20.2s\tremaining: 3.71s\n",
            "845:\tlearn: 0.0000936\ttotal: 20.3s\tremaining: 3.69s\n",
            "846:\tlearn: 0.0000935\ttotal: 20.3s\tremaining: 3.67s\n",
            "847:\tlearn: 0.0000934\ttotal: 20.3s\tremaining: 3.64s\n",
            "848:\tlearn: 0.0000930\ttotal: 20.3s\tremaining: 3.62s\n",
            "849:\tlearn: 0.0000930\ttotal: 20.4s\tremaining: 3.6s\n",
            "850:\tlearn: 0.0000929\ttotal: 20.4s\tremaining: 3.57s\n",
            "851:\tlearn: 0.0000929\ttotal: 20.4s\tremaining: 3.55s\n",
            "852:\tlearn: 0.0000928\ttotal: 20.4s\tremaining: 3.52s\n",
            "853:\tlearn: 0.0000927\ttotal: 20.5s\tremaining: 3.5s\n",
            "854:\tlearn: 0.0000926\ttotal: 20.5s\tremaining: 3.48s\n",
            "855:\tlearn: 0.0000924\ttotal: 20.5s\tremaining: 3.45s\n",
            "856:\tlearn: 0.0000921\ttotal: 20.5s\tremaining: 3.43s\n",
            "857:\tlearn: 0.0000919\ttotal: 20.6s\tremaining: 3.4s\n",
            "858:\tlearn: 0.0000918\ttotal: 20.6s\tremaining: 3.38s\n",
            "859:\tlearn: 0.0000912\ttotal: 20.6s\tremaining: 3.36s\n",
            "860:\tlearn: 0.0000910\ttotal: 20.6s\tremaining: 3.33s\n",
            "861:\tlearn: 0.0000909\ttotal: 20.7s\tremaining: 3.31s\n",
            "862:\tlearn: 0.0000905\ttotal: 20.7s\tremaining: 3.28s\n",
            "863:\tlearn: 0.0000903\ttotal: 20.7s\tremaining: 3.26s\n",
            "864:\tlearn: 0.0000900\ttotal: 20.7s\tremaining: 3.24s\n",
            "865:\tlearn: 0.0000898\ttotal: 20.8s\tremaining: 3.21s\n",
            "866:\tlearn: 0.0000897\ttotal: 20.8s\tremaining: 3.19s\n",
            "867:\tlearn: 0.0000897\ttotal: 20.8s\tremaining: 3.16s\n",
            "868:\tlearn: 0.0000892\ttotal: 20.8s\tremaining: 3.14s\n",
            "869:\tlearn: 0.0000891\ttotal: 20.8s\tremaining: 3.12s\n",
            "870:\tlearn: 0.0000889\ttotal: 20.9s\tremaining: 3.09s\n",
            "871:\tlearn: 0.0000888\ttotal: 20.9s\tremaining: 3.07s\n",
            "872:\tlearn: 0.0000886\ttotal: 20.9s\tremaining: 3.04s\n",
            "873:\tlearn: 0.0000885\ttotal: 20.9s\tremaining: 3.02s\n",
            "874:\tlearn: 0.0000882\ttotal: 21s\tremaining: 3s\n",
            "875:\tlearn: 0.0000881\ttotal: 21s\tremaining: 2.97s\n",
            "876:\tlearn: 0.0000881\ttotal: 21s\tremaining: 2.95s\n",
            "877:\tlearn: 0.0000880\ttotal: 21s\tremaining: 2.92s\n",
            "878:\tlearn: 0.0000877\ttotal: 21.1s\tremaining: 2.9s\n",
            "879:\tlearn: 0.0000876\ttotal: 21.1s\tremaining: 2.88s\n",
            "880:\tlearn: 0.0000873\ttotal: 21.1s\tremaining: 2.85s\n",
            "881:\tlearn: 0.0000870\ttotal: 21.1s\tremaining: 2.83s\n",
            "882:\tlearn: 0.0000868\ttotal: 21.2s\tremaining: 2.8s\n",
            "883:\tlearn: 0.0000866\ttotal: 21.2s\tremaining: 2.78s\n",
            "884:\tlearn: 0.0000863\ttotal: 21.2s\tremaining: 2.75s\n",
            "885:\tlearn: 0.0000861\ttotal: 21.2s\tremaining: 2.73s\n",
            "886:\tlearn: 0.0000858\ttotal: 21.3s\tremaining: 2.71s\n",
            "887:\tlearn: 0.0000857\ttotal: 21.3s\tremaining: 2.68s\n",
            "888:\tlearn: 0.0000857\ttotal: 21.3s\tremaining: 2.66s\n",
            "889:\tlearn: 0.0000856\ttotal: 21.3s\tremaining: 2.63s\n",
            "890:\tlearn: 0.0000854\ttotal: 21.4s\tremaining: 2.61s\n",
            "891:\tlearn: 0.0000852\ttotal: 21.4s\tremaining: 2.59s\n",
            "892:\tlearn: 0.0000851\ttotal: 21.4s\tremaining: 2.56s\n",
            "893:\tlearn: 0.0000850\ttotal: 21.4s\tremaining: 2.54s\n",
            "894:\tlearn: 0.0000849\ttotal: 21.4s\tremaining: 2.52s\n",
            "895:\tlearn: 0.0000848\ttotal: 21.5s\tremaining: 2.49s\n",
            "896:\tlearn: 0.0000847\ttotal: 21.5s\tremaining: 2.47s\n",
            "897:\tlearn: 0.0000847\ttotal: 21.5s\tremaining: 2.44s\n",
            "898:\tlearn: 0.0000846\ttotal: 21.5s\tremaining: 2.42s\n",
            "899:\tlearn: 0.0000846\ttotal: 21.6s\tremaining: 2.4s\n",
            "900:\tlearn: 0.0000845\ttotal: 21.6s\tremaining: 2.37s\n",
            "901:\tlearn: 0.0000844\ttotal: 21.6s\tremaining: 2.35s\n",
            "902:\tlearn: 0.0000842\ttotal: 21.6s\tremaining: 2.32s\n",
            "903:\tlearn: 0.0000841\ttotal: 21.7s\tremaining: 2.3s\n",
            "904:\tlearn: 0.0000840\ttotal: 21.7s\tremaining: 2.28s\n",
            "905:\tlearn: 0.0000839\ttotal: 21.7s\tremaining: 2.25s\n",
            "906:\tlearn: 0.0000838\ttotal: 21.7s\tremaining: 2.23s\n",
            "907:\tlearn: 0.0000838\ttotal: 21.8s\tremaining: 2.2s\n",
            "908:\tlearn: 0.0000837\ttotal: 21.8s\tremaining: 2.18s\n",
            "909:\tlearn: 0.0000837\ttotal: 21.8s\tremaining: 2.16s\n",
            "910:\tlearn: 0.0000835\ttotal: 21.8s\tremaining: 2.13s\n",
            "911:\tlearn: 0.0000834\ttotal: 21.8s\tremaining: 2.11s\n",
            "912:\tlearn: 0.0000832\ttotal: 21.9s\tremaining: 2.08s\n",
            "913:\tlearn: 0.0000830\ttotal: 21.9s\tremaining: 2.06s\n",
            "914:\tlearn: 0.0000829\ttotal: 21.9s\tremaining: 2.04s\n",
            "915:\tlearn: 0.0000829\ttotal: 21.9s\tremaining: 2.01s\n",
            "916:\tlearn: 0.0000829\ttotal: 22s\tremaining: 1.99s\n",
            "917:\tlearn: 0.0000828\ttotal: 22s\tremaining: 1.96s\n",
            "918:\tlearn: 0.0000828\ttotal: 22s\tremaining: 1.94s\n",
            "919:\tlearn: 0.0000827\ttotal: 22s\tremaining: 1.92s\n",
            "920:\tlearn: 0.0000826\ttotal: 22.1s\tremaining: 1.89s\n",
            "921:\tlearn: 0.0000826\ttotal: 22.1s\tremaining: 1.87s\n",
            "922:\tlearn: 0.0000826\ttotal: 22.1s\tremaining: 1.84s\n",
            "923:\tlearn: 0.0000825\ttotal: 22.1s\tremaining: 1.82s\n",
            "924:\tlearn: 0.0000824\ttotal: 22.1s\tremaining: 1.79s\n",
            "925:\tlearn: 0.0000822\ttotal: 22.2s\tremaining: 1.77s\n",
            "926:\tlearn: 0.0000821\ttotal: 22.2s\tremaining: 1.75s\n",
            "927:\tlearn: 0.0000820\ttotal: 22.2s\tremaining: 1.72s\n",
            "928:\tlearn: 0.0000816\ttotal: 22.3s\tremaining: 1.7s\n",
            "929:\tlearn: 0.0000813\ttotal: 22.3s\tremaining: 1.68s\n",
            "930:\tlearn: 0.0000812\ttotal: 22.3s\tremaining: 1.65s\n",
            "931:\tlearn: 0.0000808\ttotal: 22.3s\tremaining: 1.63s\n",
            "932:\tlearn: 0.0000808\ttotal: 22.3s\tremaining: 1.6s\n",
            "933:\tlearn: 0.0000807\ttotal: 22.4s\tremaining: 1.58s\n",
            "934:\tlearn: 0.0000804\ttotal: 22.4s\tremaining: 1.56s\n",
            "935:\tlearn: 0.0000800\ttotal: 22.4s\tremaining: 1.53s\n",
            "936:\tlearn: 0.0000796\ttotal: 22.4s\tremaining: 1.51s\n",
            "937:\tlearn: 0.0000794\ttotal: 22.5s\tremaining: 1.49s\n",
            "938:\tlearn: 0.0000792\ttotal: 22.5s\tremaining: 1.46s\n",
            "939:\tlearn: 0.0000791\ttotal: 22.5s\tremaining: 1.44s\n",
            "940:\tlearn: 0.0000790\ttotal: 22.5s\tremaining: 1.41s\n",
            "941:\tlearn: 0.0000788\ttotal: 22.6s\tremaining: 1.39s\n",
            "942:\tlearn: 0.0000788\ttotal: 22.6s\tremaining: 1.36s\n",
            "943:\tlearn: 0.0000787\ttotal: 22.6s\tremaining: 1.34s\n",
            "944:\tlearn: 0.0000785\ttotal: 22.6s\tremaining: 1.32s\n",
            "945:\tlearn: 0.0000784\ttotal: 22.7s\tremaining: 1.29s\n",
            "946:\tlearn: 0.0000783\ttotal: 22.7s\tremaining: 1.27s\n",
            "947:\tlearn: 0.0000782\ttotal: 22.7s\tremaining: 1.25s\n",
            "948:\tlearn: 0.0000779\ttotal: 22.7s\tremaining: 1.22s\n",
            "949:\tlearn: 0.0000778\ttotal: 22.8s\tremaining: 1.2s\n",
            "950:\tlearn: 0.0000777\ttotal: 22.8s\tremaining: 1.17s\n",
            "951:\tlearn: 0.0000776\ttotal: 22.8s\tremaining: 1.15s\n",
            "952:\tlearn: 0.0000776\ttotal: 22.8s\tremaining: 1.13s\n",
            "953:\tlearn: 0.0000775\ttotal: 22.8s\tremaining: 1.1s\n",
            "954:\tlearn: 0.0000773\ttotal: 22.9s\tremaining: 1.08s\n",
            "955:\tlearn: 0.0000770\ttotal: 22.9s\tremaining: 1.05s\n",
            "956:\tlearn: 0.0000770\ttotal: 22.9s\tremaining: 1.03s\n",
            "957:\tlearn: 0.0000768\ttotal: 22.9s\tremaining: 1s\n",
            "958:\tlearn: 0.0000766\ttotal: 23s\tremaining: 981ms\n",
            "959:\tlearn: 0.0000766\ttotal: 23s\tremaining: 957ms\n",
            "960:\tlearn: 0.0000765\ttotal: 23s\tremaining: 933ms\n",
            "961:\tlearn: 0.0000762\ttotal: 23s\tremaining: 909ms\n",
            "962:\tlearn: 0.0000761\ttotal: 23s\tremaining: 885ms\n",
            "963:\tlearn: 0.0000761\ttotal: 23.1s\tremaining: 861ms\n",
            "964:\tlearn: 0.0000759\ttotal: 23.1s\tremaining: 838ms\n",
            "965:\tlearn: 0.0000759\ttotal: 23.1s\tremaining: 814ms\n",
            "966:\tlearn: 0.0000758\ttotal: 23.1s\tremaining: 790ms\n",
            "967:\tlearn: 0.0000757\ttotal: 23.2s\tremaining: 766ms\n",
            "968:\tlearn: 0.0000756\ttotal: 23.2s\tremaining: 742ms\n",
            "969:\tlearn: 0.0000754\ttotal: 23.2s\tremaining: 718ms\n",
            "970:\tlearn: 0.0000752\ttotal: 23.2s\tremaining: 694ms\n",
            "971:\tlearn: 0.0000752\ttotal: 23.2s\tremaining: 670ms\n",
            "972:\tlearn: 0.0000752\ttotal: 23.3s\tremaining: 646ms\n",
            "973:\tlearn: 0.0000749\ttotal: 23.3s\tremaining: 622ms\n",
            "974:\tlearn: 0.0000749\ttotal: 23.3s\tremaining: 598ms\n",
            "975:\tlearn: 0.0000748\ttotal: 23.4s\tremaining: 574ms\n",
            "976:\tlearn: 0.0000745\ttotal: 23.4s\tremaining: 550ms\n",
            "977:\tlearn: 0.0000745\ttotal: 23.4s\tremaining: 526ms\n",
            "978:\tlearn: 0.0000745\ttotal: 23.4s\tremaining: 502ms\n",
            "979:\tlearn: 0.0000744\ttotal: 23.4s\tremaining: 478ms\n",
            "980:\tlearn: 0.0000742\ttotal: 23.5s\tremaining: 455ms\n",
            "981:\tlearn: 0.0000742\ttotal: 23.5s\tremaining: 431ms\n",
            "982:\tlearn: 0.0000739\ttotal: 23.5s\tremaining: 407ms\n",
            "983:\tlearn: 0.0000738\ttotal: 23.6s\tremaining: 383ms\n",
            "984:\tlearn: 0.0000737\ttotal: 23.6s\tremaining: 359ms\n",
            "985:\tlearn: 0.0000737\ttotal: 23.6s\tremaining: 335ms\n",
            "986:\tlearn: 0.0000737\ttotal: 23.6s\tremaining: 311ms\n",
            "987:\tlearn: 0.0000737\ttotal: 23.6s\tremaining: 287ms\n",
            "988:\tlearn: 0.0000736\ttotal: 23.7s\tremaining: 263ms\n",
            "989:\tlearn: 0.0000734\ttotal: 23.7s\tremaining: 239ms\n",
            "990:\tlearn: 0.0000732\ttotal: 23.7s\tremaining: 216ms\n",
            "991:\tlearn: 0.0000731\ttotal: 23.8s\tremaining: 192ms\n",
            "992:\tlearn: 0.0000730\ttotal: 23.8s\tremaining: 168ms\n",
            "993:\tlearn: 0.0000729\ttotal: 23.8s\tremaining: 144ms\n",
            "994:\tlearn: 0.0000727\ttotal: 23.8s\tremaining: 120ms\n",
            "995:\tlearn: 0.0000726\ttotal: 23.9s\tremaining: 95.8ms\n",
            "996:\tlearn: 0.0000725\ttotal: 23.9s\tremaining: 71.9ms\n",
            "997:\tlearn: 0.0000724\ttotal: 23.9s\tremaining: 47.9ms\n",
            "998:\tlearn: 0.0000723\ttotal: 23.9s\tremaining: 24ms\n",
            "999:\tlearn: 0.0000722\ttotal: 24s\tremaining: 0us\n",
            "Train Result:\n",
            "================================================\n",
            "Accuracy Score: 100.00%\n",
            "_______________________________________________\n",
            "Classification Report:\n",
            "                 0     1  accuracy  macro avg  weighted avg\n",
            "precision      1.0   1.0       1.0        1.0           1.0\n",
            "recall         1.0   1.0       1.0        1.0           1.0\n",
            "f1-score       1.0   1.0       1.0        1.0           1.0\n",
            "support    31843.0  54.0       1.0    31897.0       31897.0\n",
            "_______________________________________________\n",
            "Confusion Matrix: \n",
            " [[31843     0]\n",
            " [    0    54]]\n",
            "\n",
            "Test Result:\n",
            "================================================\n",
            "Accuracy Score: 99.96%\n",
            "_______________________________________________\n",
            "Classification Report:\n",
            "                      0          1  accuracy     macro avg  weighted avg\n",
            "precision      0.999648   1.000000  0.999649      0.999824      0.999649\n",
            "recall         1.000000   0.793103  0.999649      0.896552      0.999649\n",
            "f1-score       0.999824   0.884615  0.999649      0.942220      0.999629\n",
            "support    17060.000000  29.000000  0.999649  17089.000000  17089.000000\n",
            "_______________________________________________\n",
            "Confusion Matrix: \n",
            " [[17060     0]\n",
            " [    6    23]]\n",
            "\n"
          ],
          "name": "stdout"
        },
        {
          "output_type": "display_data",
          "data": {
            "image/png": "[encoded data removed]",
            "text/plain": [
              "<Figure size 432x288 with 1 Axes>"
            ]
          },
          "metadata": {
            "tags": [],
            "needs_background": "light"
          }
        }
      ]
    },
    {
      "cell_type": "markdown",
      "metadata": {
        "id": "OhfVqPeTNx1p"
      },
      "source": [
        "#### Result \n",
        "\n",
        "Accuracy Score: 99.96%\n",
        "\n",
        "Recall for farud transactions : **0.793103**\n",
        "\n",
        "F1 Score = 0.884615"
      ]
    },
    {
      "cell_type": "code",
      "metadata": {
        "id": "F57IsTyOdMFJ"
      },
      "source": [
        "scores_dict['Catboost'] = {\n",
        "        'Train': f1_score(y_train,y_train_pred),\n",
        "        'Test': f1_score(y_test, y_test_pred),\n",
        "}"
      ],
      "execution_count": 106,
      "outputs": []
    },
    {
      "cell_type": "markdown",
      "metadata": {
        "id": "RTG-6JKxOYlR"
      },
      "source": [
        "### LigthGBM"
      ]
    },
    {
      "cell_type": "code",
      "metadata": {
        "colab": {
          "base_uri": "https://localhost:8080/",
          "height": 812
        },
        "id": "AvC50cqdOcTR",
        "outputId": "cbb61fc1-b6d3-4e4a-deac-45c821149ba4"
      },
      "source": [
        "from lightgbm import LGBMClassifier\n",
        "\n",
        "model = LGBMClassifier()\n",
        "model.fit(X_train, y_train)\n",
        "\n",
        "y_train_pred = model.predict(X_train)\n",
        "y_test_pred = model.predict(X_test)\n",
        "\n",
        "print_score(y_train, y_train_pred, train=True)\n",
        "print_score(y_test, y_test_pred, train=False)\n",
        "\n",
        "fpr, tpr, thresholds = roc_curve(y_test, y_test_pred)\n",
        "plt.plot(fpr, tpr, 'k-', lw=2)\n",
        "plt.xlabel('FPR')\n",
        "plt.ylabel('TPR')\n",
        "plt.show()"
      ],
      "execution_count": 107,
      "outputs": [
        {
          "output_type": "stream",
          "text": [
            "Train Result:\n",
            "================================================\n",
            "Accuracy Score: 99.76%\n",
            "_______________________________________________\n",
            "Classification Report:\n",
            "                      0     1  accuracy     macro avg  weighted avg\n",
            "precision      0.998306   0.0  0.997617      0.499153      0.996616\n",
            "recall         0.999309   0.0  0.997617      0.499655      0.997617\n",
            "f1-score       0.998807   0.0  0.997617      0.499404      0.997116\n",
            "support    31843.000000  54.0  0.997617  31897.000000  31897.000000\n",
            "_______________________________________________\n",
            "Confusion Matrix: \n",
            " [[31821    22]\n",
            " [   54     0]]\n",
            "\n",
            "Test Result:\n",
            "================================================\n",
            "Accuracy Score: 99.65%\n",
            "_______________________________________________\n",
            "Classification Report:\n",
            "                      0     1  accuracy     macro avg  weighted avg\n",
            "precision      0.998300   0.0  0.996489      0.499150      0.996606\n",
            "recall         0.998183   0.0  0.996489      0.499091      0.996489\n",
            "f1-score       0.998241   0.0  0.996489      0.499121      0.996547\n",
            "support    17060.000000  29.0  0.996489  17089.000000  17089.000000\n",
            "_______________________________________________\n",
            "Confusion Matrix: \n",
            " [[17029    31]\n",
            " [   29     0]]\n",
            "\n"
          ],
          "name": "stdout"
        },
        {
          "output_type": "display_data",
          "data": {
            "image/png": "[encoded data removed]",
            "text/plain": [
              "<Figure size 432x288 with 1 Axes>"
            ]
          },
          "metadata": {
            "tags": [],
            "needs_background": "light"
          }
        }
      ]
    },
    {
      "cell_type": "markdown",
      "metadata": {
        "id": "iRIrtXYwPLua"
      },
      "source": [
        "#### Result \n",
        "\n",
        "Accuracy Score: 99.65%\n",
        "\n",
        "Recall for farud transactions : **0**\n",
        "\n",
        "F1 Score = 0"
      ]
    },
    {
      "cell_type": "code",
      "metadata": {
        "id": "NmnkJjZYdWrl"
      },
      "source": [
        "scores_dict['LigthGBM'] = {\n",
        "        'Train': f1_score(y_train,y_train_pred),\n",
        "        'Test': f1_score(y_test, y_test_pred),\n",
        "}"
      ],
      "execution_count": 108,
      "outputs": []
    },
    {
      "cell_type": "markdown",
      "metadata": {
        "id": "SgiCGs1XPVz5"
      },
      "source": [
        "### Multilayer Neural Network with Tensorflow/Keras"
      ]
    },
    {
      "cell_type": "code",
      "metadata": {
        "id": "AoWQSFhVPcuf"
      },
      "source": [
        "from tensorflow import keras\n",
        "\n",
        "model = keras.Sequential([\n",
        "    keras.layers.Dense(256, activation='relu', input_shape=(X_train.shape[-1],)),\n",
        "    keras.layers.BatchNormalization(),\n",
        "    keras.layers.Dropout(0.3),\n",
        "    keras.layers.Dense(256, activation='relu'),\n",
        "    keras.layers.BatchNormalization(),\n",
        "    keras.layers.Dropout(0.3),\n",
        "    keras.layers.Dense(256, activation='relu'),\n",
        "    keras.layers.BatchNormalization(),\n",
        "    keras.layers.Dropout(0.3),\n",
        "    keras.layers.Dense(1, activation='sigmoid'),\n",
        "])"
      ],
      "execution_count": 63,
      "outputs": []
    },
    {
      "cell_type": "code",
      "metadata": {
        "colab": {
          "base_uri": "https://localhost:8080/"
        },
        "id": "qy8bgrgZPkb0",
        "outputId": "ac253e2f-8f95-422d-b9fe-aabef214bdb4"
      },
      "source": [
        "METRICS = [\n",
        "#     keras.metrics.Accuracy(name='accuracy'),\n",
        "    keras.metrics.FalseNegatives(name='fn'),\n",
        "    keras.metrics.FalsePositives(name='fp'),\n",
        "    keras.metrics.TrueNegatives(name='tn'),\n",
        "    keras.metrics.TruePositives(name='tp'),\n",
        "    keras.metrics.Precision(name='precision'),\n",
        "    keras.metrics.Recall(name='recall')\n",
        "]\n",
        "\n",
        "model.compile(optimizer=keras.optimizers.Adam(1e-3), loss='binary_crossentropy', metrics=METRICS)\n",
        "\n",
        "callbacks = [keras.callbacks.ModelCheckpoint('fraud_model_at_epoch_{epoch}.h5')]\n",
        "\n",
        "r = model.fit(\n",
        "    X_train, y_train, \n",
        "    validation_data=(X_validate, y_validate),\n",
        "    batch_size=2048, \n",
        "    epochs=300, \n",
        "    callbacks=callbacks, )\n"
      ],
      "execution_count": 65,
      "outputs": [
        {
          "output_type": "stream",
          "text": [
            "Epoch 1/300\n",
            "16/16 [==============================] - 5s 148ms/step - loss: 0.8152 - fn: 4.4706 - fp: 8117.9412 - tn: 10062.1765 - tp: 24.4706 - precision: 0.0028 - recall: 0.8137 - val_loss: 0.5847 - val_fn: 2.0000 - val_fp: 185.0000 - val_tn: 7777.0000 - val_tp: 11.0000 - val_precision: 0.0561 - val_recall: 0.8462\n",
            "Epoch 2/300\n",
            "16/16 [==============================] - 1s 83ms/step - loss: 0.6079 - fn: 1.9412 - fp: 5178.2353 - tn: 13003.3529 - tp: 25.5294 - precision: 0.0045 - recall: 0.9460 - val_loss: 0.4708 - val_fn: 2.0000 - val_fp: 99.0000 - val_tn: 7863.0000 - val_tp: 11.0000 - val_precision: 0.1000 - val_recall: 0.8462\n",
            "Epoch 3/300\n",
            "16/16 [==============================] - 1s 83ms/step - loss: 0.4824 - fn: 3.3529 - fp: 2486.8824 - tn: 15689.4706 - tp: 29.3529 - precision: 0.0115 - recall: 0.9153 - val_loss: 0.3328 - val_fn: 2.0000 - val_fp: 14.0000 - val_tn: 7948.0000 - val_tp: 11.0000 - val_precision: 0.4400 - val_recall: 0.8462\n",
            "Epoch 4/300\n",
            "16/16 [==============================] - 1s 81ms/step - loss: 0.3586 - fn: 4.0000 - fp: 866.3529 - tn: 17309.1765 - tp: 29.5294 - precision: 0.0330 - recall: 0.9022 - val_loss: 0.2449 - val_fn: 2.0000 - val_fp: 2.0000 - val_tn: 7960.0000 - val_tp: 11.0000 - val_precision: 0.8462 - val_recall: 0.8462\n",
            "Epoch 5/300\n",
            "16/16 [==============================] - 1s 81ms/step - loss: 0.2661 - fn: 5.7059 - fp: 320.5294 - tn: 17856.1765 - tp: 26.6471 - precision: 0.0904 - recall: 0.8488 - val_loss: 0.1892 - val_fn: 2.0000 - val_fp: 2.0000 - val_tn: 7960.0000 - val_tp: 11.0000 - val_precision: 0.8462 - val_recall: 0.8462\n",
            "Epoch 6/300\n",
            "16/16 [==============================] - 1s 81ms/step - loss: 0.1867 - fn: 5.0588 - fp: 115.3529 - tn: 18063.1765 - tp: 25.4706 - precision: 0.2040 - recall: 0.8546 - val_loss: 0.1242 - val_fn: 2.0000 - val_fp: 2.0000 - val_tn: 7960.0000 - val_tp: 11.0000 - val_precision: 0.8462 - val_recall: 0.8462\n",
            "Epoch 7/300\n",
            "16/16 [==============================] - 1s 81ms/step - loss: 0.1301 - fn: 6.7647 - fp: 54.6471 - tn: 18124.2941 - tp: 23.3529 - precision: 0.3514 - recall: 0.7688 - val_loss: 0.0776 - val_fn: 2.0000 - val_fp: 2.0000 - val_tn: 7960.0000 - val_tp: 11.0000 - val_precision: 0.8462 - val_recall: 0.8462\n",
            "Epoch 8/300\n",
            "16/16 [==============================] - 1s 83ms/step - loss: 0.0924 - fn: 7.1765 - fp: 61.4706 - tn: 18118.2353 - tp: 22.1765 - precision: 0.2445 - recall: 0.7476 - val_loss: 0.0607 - val_fn: 2.0000 - val_fp: 2.0000 - val_tn: 7960.0000 - val_tp: 11.0000 - val_precision: 0.8462 - val_recall: 0.8462\n",
            "Epoch 9/300\n",
            "16/16 [==============================] - 1s 84ms/step - loss: 0.0683 - fn: 7.0000 - fp: 33.8824 - tn: 18145.7647 - tp: 22.4118 - precision: 0.3910 - recall: 0.7763 - val_loss: 0.0435 - val_fn: 2.0000 - val_fp: 2.0000 - val_tn: 7960.0000 - val_tp: 11.0000 - val_precision: 0.8462 - val_recall: 0.8462\n",
            "Epoch 10/300\n",
            "16/16 [==============================] - 1s 83ms/step - loss: 0.0508 - fn: 9.2353 - fp: 28.3529 - tn: 18148.7059 - tp: 22.7647 - precision: 0.4782 - recall: 0.7160 - val_loss: 0.0354 - val_fn: 2.0000 - val_fp: 2.0000 - val_tn: 7960.0000 - val_tp: 11.0000 - val_precision: 0.8462 - val_recall: 0.8462\n",
            "Epoch 11/300\n",
            "16/16 [==============================] - 1s 83ms/step - loss: 0.0505 - fn: 9.1765 - fp: 27.5294 - tn: 18147.9412 - tp: 24.4118 - precision: 0.4790 - recall: 0.7331 - val_loss: 0.0323 - val_fn: 2.0000 - val_fp: 2.0000 - val_tn: 7960.0000 - val_tp: 11.0000 - val_precision: 0.8462 - val_recall: 0.8462\n",
            "Epoch 12/300\n",
            "16/16 [==============================] - 1s 81ms/step - loss: 0.0344 - fn: 10.7059 - fp: 15.1765 - tn: 18162.7059 - tp: 20.4706 - precision: 0.5698 - recall: 0.6695 - val_loss: 0.0254 - val_fn: 2.0000 - val_fp: 2.0000 - val_tn: 7960.0000 - val_tp: 11.0000 - val_precision: 0.8462 - val_recall: 0.8462\n",
            "Epoch 13/300\n",
            "16/16 [==============================] - 1s 81ms/step - loss: 0.0311 - fn: 10.1765 - fp: 15.2941 - tn: 18161.1765 - tp: 22.4118 - precision: 0.5938 - recall: 0.6616 - val_loss: 0.0215 - val_fn: 2.0000 - val_fp: 2.0000 - val_tn: 7960.0000 - val_tp: 11.0000 - val_precision: 0.8462 - val_recall: 0.8462\n",
            "Epoch 14/300\n",
            "16/16 [==============================] - 1s 85ms/step - loss: 0.0288 - fn: 8.3529 - fp: 10.0000 - tn: 18168.8235 - tp: 21.8824 - precision: 0.7490 - recall: 0.7532 - val_loss: 0.0187 - val_fn: 2.0000 - val_fp: 2.0000 - val_tn: 7960.0000 - val_tp: 11.0000 - val_precision: 0.8462 - val_recall: 0.8462\n",
            "Epoch 15/300\n",
            "16/16 [==============================] - 1s 82ms/step - loss: 0.0266 - fn: 7.9412 - fp: 13.3529 - tn: 18165.8235 - tp: 21.9412 - precision: 0.6107 - recall: 0.7166 - val_loss: 0.0171 - val_fn: 2.0000 - val_fp: 2.0000 - val_tn: 7960.0000 - val_tp: 11.0000 - val_precision: 0.8462 - val_recall: 0.8462\n",
            "Epoch 16/300\n",
            "16/16 [==============================] - 1s 84ms/step - loss: 0.0228 - fn: 10.3529 - fp: 7.4706 - tn: 18166.4118 - tp: 24.8235 - precision: 0.7595 - recall: 0.6852 - val_loss: 0.0135 - val_fn: 2.0000 - val_fp: 2.0000 - val_tn: 7960.0000 - val_tp: 11.0000 - val_precision: 0.8462 - val_recall: 0.8462\n",
            "Epoch 17/300\n",
            "16/16 [==============================] - 1s 87ms/step - loss: 0.0209 - fn: 9.8824 - fp: 9.5882 - tn: 18171.2353 - tp: 18.3529 - precision: 0.6371 - recall: 0.6587 - val_loss: 0.0125 - val_fn: 2.0000 - val_fp: 2.0000 - val_tn: 7960.0000 - val_tp: 11.0000 - val_precision: 0.8462 - val_recall: 0.8462\n",
            "Epoch 18/300\n",
            "16/16 [==============================] - 1s 86ms/step - loss: 0.0221 - fn: 8.0000 - fp: 11.4118 - tn: 18166.5294 - tp: 23.1176 - precision: 0.6884 - recall: 0.7415 - val_loss: 0.0136 - val_fn: 2.0000 - val_fp: 2.0000 - val_tn: 7960.0000 - val_tp: 11.0000 - val_precision: 0.8462 - val_recall: 0.8462\n",
            "Epoch 19/300\n",
            "16/16 [==============================] - 1s 86ms/step - loss: 0.0162 - fn: 6.5882 - fp: 9.4118 - tn: 18166.3529 - tp: 26.7059 - precision: 0.7965 - recall: 0.8129 - val_loss: 0.0118 - val_fn: 2.0000 - val_fp: 2.0000 - val_tn: 7960.0000 - val_tp: 11.0000 - val_precision: 0.8462 - val_recall: 0.8462\n",
            "Epoch 20/300\n",
            "16/16 [==============================] - 1s 88ms/step - loss: 0.0171 - fn: 9.8235 - fp: 6.2353 - tn: 18169.4706 - tp: 23.5294 - precision: 0.8267 - recall: 0.7414 - val_loss: 0.0099 - val_fn: 2.0000 - val_fp: 2.0000 - val_tn: 7960.0000 - val_tp: 11.0000 - val_precision: 0.8462 - val_recall: 0.8462\n",
            "Epoch 21/300\n",
            "16/16 [==============================] - 1s 86ms/step - loss: 0.0142 - fn: 8.6471 - fp: 7.9412 - tn: 18171.5294 - tp: 20.9412 - precision: 0.6863 - recall: 0.7020 - val_loss: 0.0087 - val_fn: 2.0000 - val_fp: 2.0000 - val_tn: 7960.0000 - val_tp: 11.0000 - val_precision: 0.8462 - val_recall: 0.8462\n",
            "Epoch 22/300\n",
            "16/16 [==============================] - 1s 87ms/step - loss: 0.0158 - fn: 10.9412 - fp: 4.4706 - tn: 18172.5882 - tp: 21.0588 - precision: 0.8205 - recall: 0.6158 - val_loss: 0.0082 - val_fn: 2.0000 - val_fp: 2.0000 - val_tn: 7960.0000 - val_tp: 11.0000 - val_precision: 0.8462 - val_recall: 0.8462\n",
            "Epoch 23/300\n",
            "16/16 [==============================] - 1s 87ms/step - loss: 0.0119 - fn: 7.2353 - fp: 8.1176 - tn: 18171.4118 - tp: 22.2941 - precision: 0.7354 - recall: 0.7715 - val_loss: 0.0086 - val_fn: 2.0000 - val_fp: 2.0000 - val_tn: 7960.0000 - val_tp: 11.0000 - val_precision: 0.8462 - val_recall: 0.8462\n",
            "Epoch 24/300\n",
            "16/16 [==============================] - 1s 87ms/step - loss: 0.0249 - fn: 7.7647 - fp: 7.0588 - tn: 18170.3529 - tp: 23.8824 - precision: 0.7734 - recall: 0.7519 - val_loss: 0.0064 - val_fn: 2.0000 - val_fp: 2.0000 - val_tn: 7960.0000 - val_tp: 11.0000 - val_precision: 0.8462 - val_recall: 0.8462\n",
            "Epoch 25/300\n",
            "16/16 [==============================] - 1s 89ms/step - loss: 0.0097 - fn: 10.0000 - fp: 4.5294 - tn: 18172.2941 - tp: 22.2353 - precision: 0.8375 - recall: 0.6924 - val_loss: 0.0063 - val_fn: 2.0000 - val_fp: 2.0000 - val_tn: 7960.0000 - val_tp: 11.0000 - val_precision: 0.8462 - val_recall: 0.8462\n",
            "Epoch 26/300\n",
            "16/16 [==============================] - 1s 87ms/step - loss: 0.0135 - fn: 10.4118 - fp: 6.7647 - tn: 18172.5294 - tp: 19.3529 - precision: 0.7901 - recall: 0.6431 - val_loss: 0.0072 - val_fn: 2.0000 - val_fp: 2.0000 - val_tn: 7960.0000 - val_tp: 11.0000 - val_precision: 0.8462 - val_recall: 0.8462\n",
            "Epoch 27/300\n",
            "16/16 [==============================] - 1s 86ms/step - loss: 0.0135 - fn: 5.1176 - fp: 8.1176 - tn: 18171.7059 - tp: 24.1176 - precision: 0.7375 - recall: 0.8852 - val_loss: 0.0072 - val_fn: 2.0000 - val_fp: 2.0000 - val_tn: 7960.0000 - val_tp: 11.0000 - val_precision: 0.8462 - val_recall: 0.8462\n",
            "Epoch 28/300\n",
            "16/16 [==============================] - 1s 82ms/step - loss: 0.0165 - fn: 7.0588 - fp: 9.6471 - tn: 18168.4118 - tp: 23.9412 - precision: 0.6923 - recall: 0.7524 - val_loss: 0.0066 - val_fn: 2.0000 - val_fp: 2.0000 - val_tn: 7960.0000 - val_tp: 11.0000 - val_precision: 0.8462 - val_recall: 0.8462\n",
            "Epoch 29/300\n",
            "16/16 [==============================] - 1s 83ms/step - loss: 0.0076 - fn: 5.5294 - fp: 2.8824 - tn: 18175.3529 - tp: 25.2941 - precision: 0.9223 - recall: 0.8555 - val_loss: 0.0055 - val_fn: 2.0000 - val_fp: 2.0000 - val_tn: 7960.0000 - val_tp: 11.0000 - val_precision: 0.8462 - val_recall: 0.8462\n",
            "Epoch 30/300\n",
            "16/16 [==============================] - 1s 84ms/step - loss: 0.0067 - fn: 8.8235 - fp: 2.7647 - tn: 18177.6471 - tp: 19.8235 - precision: 0.8900 - recall: 0.7044 - val_loss: 0.0070 - val_fn: 2.0000 - val_fp: 2.0000 - val_tn: 7960.0000 - val_tp: 11.0000 - val_precision: 0.8462 - val_recall: 0.8462\n",
            "Epoch 31/300\n",
            "16/16 [==============================] - 1s 86ms/step - loss: 0.0119 - fn: 5.7059 - fp: 5.8824 - tn: 18173.8824 - tp: 23.5882 - precision: 0.7628 - recall: 0.8489 - val_loss: 0.0054 - val_fn: 2.0000 - val_fp: 2.0000 - val_tn: 7960.0000 - val_tp: 11.0000 - val_precision: 0.8462 - val_recall: 0.8462\n",
            "Epoch 32/300\n",
            "16/16 [==============================] - 1s 90ms/step - loss: 0.0090 - fn: 10.2941 - fp: 3.8235 - tn: 18175.2353 - tp: 19.7059 - precision: 0.8397 - recall: 0.7144 - val_loss: 0.0055 - val_fn: 2.0000 - val_fp: 2.0000 - val_tn: 7960.0000 - val_tp: 11.0000 - val_precision: 0.8462 - val_recall: 0.8462\n",
            "Epoch 33/300\n",
            "16/16 [==============================] - 1s 85ms/step - loss: 0.0061 - fn: 4.9412 - fp: 3.1765 - tn: 18175.4118 - tp: 25.5294 - precision: 0.9293 - recall: 0.8697 - val_loss: 0.0055 - val_fn: 2.0000 - val_fp: 2.0000 - val_tn: 7960.0000 - val_tp: 11.0000 - val_precision: 0.8462 - val_recall: 0.8462\n",
            "Epoch 34/300\n",
            "16/16 [==============================] - 1s 86ms/step - loss: 0.0087 - fn: 8.7059 - fp: 5.6471 - tn: 18171.0588 - tp: 23.6471 - precision: 0.8312 - recall: 0.7552 - val_loss: 0.0047 - val_fn: 6.0000 - val_fp: 0.0000e+00 - val_tn: 7962.0000 - val_tp: 7.0000 - val_precision: 1.0000 - val_recall: 0.5385\n",
            "Epoch 35/300\n",
            "16/16 [==============================] - 1s 86ms/step - loss: 0.0106 - fn: 12.6471 - fp: 6.1765 - tn: 18169.4706 - tp: 20.7647 - precision: 0.7539 - recall: 0.6205 - val_loss: 0.0050 - val_fn: 2.0000 - val_fp: 2.0000 - val_tn: 7960.0000 - val_tp: 11.0000 - val_precision: 0.8462 - val_recall: 0.8462\n",
            "Epoch 36/300\n",
            "16/16 [==============================] - 1s 87ms/step - loss: 0.0087 - fn: 9.0588 - fp: 6.3529 - tn: 18170.8235 - tp: 22.8235 - precision: 0.7953 - recall: 0.7160 - val_loss: 0.0044 - val_fn: 2.0000 - val_fp: 2.0000 - val_tn: 7960.0000 - val_tp: 11.0000 - val_precision: 0.8462 - val_recall: 0.8462\n",
            "Epoch 37/300\n",
            "16/16 [==============================] - 1s 87ms/step - loss: 0.0070 - fn: 4.0000 - fp: 2.6471 - tn: 18176.7647 - tp: 25.6471 - precision: 0.9347 - recall: 0.9093 - val_loss: 0.0037 - val_fn: 2.0000 - val_fp: 0.0000e+00 - val_tn: 7962.0000 - val_tp: 11.0000 - val_precision: 1.0000 - val_recall: 0.8462\n",
            "Epoch 38/300\n",
            "16/16 [==============================] - 1s 87ms/step - loss: 0.0110 - fn: 9.9412 - fp: 3.8824 - tn: 18175.8824 - tp: 19.3529 - precision: 0.7394 - recall: 0.5699 - val_loss: 0.0036 - val_fn: 2.0000 - val_fp: 1.0000 - val_tn: 7961.0000 - val_tp: 11.0000 - val_precision: 0.9167 - val_recall: 0.8462\n",
            "Epoch 39/300\n",
            "16/16 [==============================] - 1s 87ms/step - loss: 0.0142 - fn: 8.3529 - fp: 6.2353 - tn: 18173.7647 - tp: 20.7059 - precision: 0.7470 - recall: 0.7376 - val_loss: 0.0046 - val_fn: 2.0000 - val_fp: 2.0000 - val_tn: 7960.0000 - val_tp: 11.0000 - val_precision: 0.8462 - val_recall: 0.8462\n",
            "Epoch 40/300\n",
            "16/16 [==============================] - 1s 85ms/step - loss: 0.0110 - fn: 4.4706 - fp: 5.9412 - tn: 18172.8824 - tp: 25.7647 - precision: 0.8144 - recall: 0.8756 - val_loss: 0.0033 - val_fn: 2.0000 - val_fp: 0.0000e+00 - val_tn: 7962.0000 - val_tp: 11.0000 - val_precision: 1.0000 - val_recall: 0.8462\n",
            "Epoch 41/300\n",
            "16/16 [==============================] - 1s 85ms/step - loss: 0.0063 - fn: 11.0000 - fp: 5.7059 - tn: 18172.3529 - tp: 20.0000 - precision: 0.7706 - recall: 0.6306 - val_loss: 0.0040 - val_fn: 2.0000 - val_fp: 2.0000 - val_tn: 7960.0000 - val_tp: 11.0000 - val_precision: 0.8462 - val_recall: 0.8462\n",
            "Epoch 42/300\n",
            "16/16 [==============================] - 1s 84ms/step - loss: 0.0064 - fn: 5.6471 - fp: 7.2353 - tn: 18170.7647 - tp: 25.4118 - precision: 0.7351 - recall: 0.8392 - val_loss: 0.0032 - val_fn: 2.0000 - val_fp: 0.0000e+00 - val_tn: 7962.0000 - val_tp: 11.0000 - val_precision: 1.0000 - val_recall: 0.8462\n",
            "Epoch 43/300\n",
            "16/16 [==============================] - 1s 82ms/step - loss: 0.0074 - fn: 7.9412 - fp: 4.6471 - tn: 18173.7059 - tp: 22.7647 - precision: 0.8076 - recall: 0.7105 - val_loss: 0.0031 - val_fn: 2.0000 - val_fp: 1.0000 - val_tn: 7961.0000 - val_tp: 11.0000 - val_precision: 0.9167 - val_recall: 0.8462\n",
            "Epoch 44/300\n",
            "16/16 [==============================] - 1s 84ms/step - loss: 0.0074 - fn: 9.1765 - fp: 5.7647 - tn: 18170.7647 - tp: 23.3529 - precision: 0.8197 - recall: 0.7350 - val_loss: 0.0041 - val_fn: 2.0000 - val_fp: 2.0000 - val_tn: 7960.0000 - val_tp: 11.0000 - val_precision: 0.8462 - val_recall: 0.8462\n",
            "Epoch 45/300\n",
            "16/16 [==============================] - 1s 86ms/step - loss: 0.0088 - fn: 7.0000 - fp: 5.7059 - tn: 18169.2353 - tp: 27.1176 - precision: 0.8153 - recall: 0.7796 - val_loss: 0.0031 - val_fn: 2.0000 - val_fp: 1.0000 - val_tn: 7961.0000 - val_tp: 11.0000 - val_precision: 0.9167 - val_recall: 0.8462\n",
            "Epoch 46/300\n",
            "16/16 [==============================] - 1s 84ms/step - loss: 0.0059 - fn: 9.8824 - fp: 4.0588 - tn: 18174.3529 - tp: 20.7647 - precision: 0.8229 - recall: 0.6152 - val_loss: 0.0030 - val_fn: 2.0000 - val_fp: 1.0000 - val_tn: 7961.0000 - val_tp: 11.0000 - val_precision: 0.9167 - val_recall: 0.8462\n",
            "Epoch 47/300\n",
            "16/16 [==============================] - 1s 86ms/step - loss: 0.0055 - fn: 6.1765 - fp: 5.8824 - tn: 18173.4118 - tp: 23.5882 - precision: 0.7652 - recall: 0.7752 - val_loss: 0.0029 - val_fn: 2.0000 - val_fp: 0.0000e+00 - val_tn: 7962.0000 - val_tp: 11.0000 - val_precision: 1.0000 - val_recall: 0.8462\n",
            "Epoch 48/300\n",
            "16/16 [==============================] - 1s 84ms/step - loss: 0.0046 - fn: 8.7059 - fp: 3.8235 - tn: 18177.8824 - tp: 18.6471 - precision: 0.7342 - recall: 0.6260 - val_loss: 0.0031 - val_fn: 3.0000 - val_fp: 0.0000e+00 - val_tn: 7962.0000 - val_tp: 10.0000 - val_precision: 1.0000 - val_recall: 0.7692\n",
            "Epoch 49/300\n",
            "16/16 [==============================] - 1s 84ms/step - loss: 0.0062 - fn: 7.1176 - fp: 2.5882 - tn: 18178.3529 - tp: 21.0000 - precision: 0.9028 - recall: 0.7124 - val_loss: 0.0028 - val_fn: 2.0000 - val_fp: 0.0000e+00 - val_tn: 7962.0000 - val_tp: 11.0000 - val_precision: 1.0000 - val_recall: 0.8462\n",
            "Epoch 50/300\n",
            "16/16 [==============================] - 1s 84ms/step - loss: 0.0052 - fn: 8.2353 - fp: 4.5294 - tn: 18172.3529 - tp: 23.9412 - precision: 0.8555 - recall: 0.7255 - val_loss: 0.0029 - val_fn: 3.0000 - val_fp: 0.0000e+00 - val_tn: 7962.0000 - val_tp: 10.0000 - val_precision: 1.0000 - val_recall: 0.7692\n",
            "Epoch 51/300\n",
            "16/16 [==============================] - 1s 87ms/step - loss: 0.0031 - fn: 5.0588 - fp: 3.4118 - tn: 18177.7647 - tp: 22.8235 - precision: 0.8841 - recall: 0.8503 - val_loss: 0.0030 - val_fn: 3.0000 - val_fp: 0.0000e+00 - val_tn: 7962.0000 - val_tp: 10.0000 - val_precision: 1.0000 - val_recall: 0.7692\n",
            "Epoch 52/300\n",
            "16/16 [==============================] - 1s 84ms/step - loss: 0.0054 - fn: 9.4706 - fp: 3.2941 - tn: 18176.9412 - tp: 19.3529 - precision: 0.8373 - recall: 0.6709 - val_loss: 0.0028 - val_fn: 2.0000 - val_fp: 0.0000e+00 - val_tn: 7962.0000 - val_tp: 11.0000 - val_precision: 1.0000 - val_recall: 0.8462\n",
            "Epoch 53/300\n",
            "16/16 [==============================] - 1s 83ms/step - loss: 0.0037 - fn: 6.0000 - fp: 2.5882 - tn: 18175.2941 - tp: 25.1765 - precision: 0.9382 - recall: 0.7963 - val_loss: 0.0028 - val_fn: 2.0000 - val_fp: 1.0000 - val_tn: 7961.0000 - val_tp: 11.0000 - val_precision: 0.9167 - val_recall: 0.8462\n",
            "Epoch 54/300\n",
            "16/16 [==============================] - 1s 84ms/step - loss: 0.0035 - fn: 7.2353 - fp: 2.2353 - tn: 18175.5294 - tp: 24.0588 - precision: 0.9178 - recall: 0.7672 - val_loss: 0.0030 - val_fn: 3.0000 - val_fp: 0.0000e+00 - val_tn: 7962.0000 - val_tp: 10.0000 - val_precision: 1.0000 - val_recall: 0.7692\n",
            "Epoch 55/300\n",
            "16/16 [==============================] - 1s 83ms/step - loss: 0.0044 - fn: 10.0588 - fp: 1.2353 - tn: 18178.9412 - tp: 18.8235 - precision: 0.9555 - recall: 0.6294 - val_loss: 0.0027 - val_fn: 3.0000 - val_fp: 0.0000e+00 - val_tn: 7962.0000 - val_tp: 10.0000 - val_precision: 1.0000 - val_recall: 0.7692\n",
            "Epoch 56/300\n",
            "16/16 [==============================] - 1s 85ms/step - loss: 0.0053 - fn: 7.1176 - fp: 3.8235 - tn: 18175.1176 - tp: 23.0000 - precision: 0.8589 - recall: 0.7428 - val_loss: 0.0030 - val_fn: 4.0000 - val_fp: 1.0000 - val_tn: 7961.0000 - val_tp: 9.0000 - val_precision: 0.9000 - val_recall: 0.6923\n",
            "Epoch 57/300\n",
            "16/16 [==============================] - 1s 84ms/step - loss: 0.0028 - fn: 6.2941 - fp: 4.7059 - tn: 18173.0588 - tp: 25.0000 - precision: 0.8657 - recall: 0.7950 - val_loss: 0.0028 - val_fn: 4.0000 - val_fp: 0.0000e+00 - val_tn: 7962.0000 - val_tp: 9.0000 - val_precision: 1.0000 - val_recall: 0.6923\n",
            "Epoch 58/300\n",
            "16/16 [==============================] - 1s 85ms/step - loss: 0.0036 - fn: 8.1765 - fp: 3.6471 - tn: 18173.2353 - tp: 24.0000 - precision: 0.8834 - recall: 0.7619 - val_loss: 0.0030 - val_fn: 4.0000 - val_fp: 0.0000e+00 - val_tn: 7962.0000 - val_tp: 9.0000 - val_precision: 1.0000 - val_recall: 0.6923\n",
            "Epoch 59/300\n",
            "16/16 [==============================] - 1s 84ms/step - loss: 0.0023 - fn: 3.7647 - fp: 2.5294 - tn: 18175.5882 - tp: 27.1765 - precision: 0.9440 - recall: 0.9085 - val_loss: 0.0031 - val_fn: 4.0000 - val_fp: 0.0000e+00 - val_tn: 7962.0000 - val_tp: 9.0000 - val_precision: 1.0000 - val_recall: 0.6923\n",
            "Epoch 60/300\n",
            "16/16 [==============================] - 1s 83ms/step - loss: 0.0033 - fn: 10.7059 - fp: 1.1765 - tn: 18174.9412 - tp: 22.2353 - precision: 0.9580 - recall: 0.6201 - val_loss: 0.0029 - val_fn: 3.0000 - val_fp: 1.0000 - val_tn: 7961.0000 - val_tp: 10.0000 - val_precision: 0.9091 - val_recall: 0.7692\n",
            "Epoch 61/300\n",
            "16/16 [==============================] - 1s 87ms/step - loss: 0.0026 - fn: 6.7059 - fp: 2.8235 - tn: 18174.0000 - tp: 25.5294 - precision: 0.9124 - recall: 0.8046 - val_loss: 0.0029 - val_fn: 3.0000 - val_fp: 0.0000e+00 - val_tn: 7962.0000 - val_tp: 10.0000 - val_precision: 1.0000 - val_recall: 0.7692\n",
            "Epoch 62/300\n",
            "16/16 [==============================] - 1s 89ms/step - loss: 0.0030 - fn: 5.9412 - fp: 4.1176 - tn: 18175.0000 - tp: 24.0000 - precision: 0.8696 - recall: 0.8496 - val_loss: 0.0033 - val_fn: 6.0000 - val_fp: 0.0000e+00 - val_tn: 7962.0000 - val_tp: 7.0000 - val_precision: 1.0000 - val_recall: 0.5385\n",
            "Epoch 63/300\n",
            "16/16 [==============================] - 1s 86ms/step - loss: 0.0030 - fn: 10.1765 - fp: 1.8824 - tn: 18175.2941 - tp: 21.7059 - precision: 0.9461 - recall: 0.6937 - val_loss: 0.0026 - val_fn: 3.0000 - val_fp: 0.0000e+00 - val_tn: 7962.0000 - val_tp: 10.0000 - val_precision: 1.0000 - val_recall: 0.7692\n",
            "Epoch 64/300\n",
            "16/16 [==============================] - 1s 84ms/step - loss: 0.0019 - fn: 4.4706 - fp: 1.8235 - tn: 18177.3529 - tp: 25.4118 - precision: 0.9248 - recall: 0.8831 - val_loss: 0.0027 - val_fn: 3.0000 - val_fp: 0.0000e+00 - val_tn: 7962.0000 - val_tp: 10.0000 - val_precision: 1.0000 - val_recall: 0.7692\n",
            "Epoch 65/300\n",
            "16/16 [==============================] - 1s 84ms/step - loss: 0.0033 - fn: 3.6471 - fp: 2.3529 - tn: 18174.0588 - tp: 29.0000 - precision: 0.9011 - recall: 0.8738 - val_loss: 0.0026 - val_fn: 3.0000 - val_fp: 1.0000 - val_tn: 7961.0000 - val_tp: 10.0000 - val_precision: 0.9091 - val_recall: 0.7692\n",
            "Epoch 66/300\n",
            "16/16 [==============================] - 1s 90ms/step - loss: 0.0032 - fn: 5.4706 - fp: 4.1176 - tn: 18173.1176 - tp: 26.3529 - precision: 0.8548 - recall: 0.8462 - val_loss: 0.0033 - val_fn: 6.0000 - val_fp: 0.0000e+00 - val_tn: 7962.0000 - val_tp: 7.0000 - val_precision: 1.0000 - val_recall: 0.5385\n",
            "Epoch 67/300\n",
            "16/16 [==============================] - 1s 82ms/step - loss: 0.0028 - fn: 7.5294 - fp: 2.2353 - tn: 18177.5294 - tp: 21.7647 - precision: 0.9000 - recall: 0.7186 - val_loss: 0.0027 - val_fn: 3.0000 - val_fp: 0.0000e+00 - val_tn: 7962.0000 - val_tp: 10.0000 - val_precision: 1.0000 - val_recall: 0.7692\n",
            "Epoch 68/300\n",
            "16/16 [==============================] - 1s 82ms/step - loss: 0.0031 - fn: 7.3529 - fp: 3.2353 - tn: 18174.7647 - tp: 23.7059 - precision: 0.8009 - recall: 0.7246 - val_loss: 0.0029 - val_fn: 3.0000 - val_fp: 0.0000e+00 - val_tn: 7962.0000 - val_tp: 10.0000 - val_precision: 1.0000 - val_recall: 0.7692\n",
            "Epoch 69/300\n",
            "16/16 [==============================] - 1s 87ms/step - loss: 0.0021 - fn: 7.2941 - fp: 1.4706 - tn: 18174.4706 - tp: 25.8235 - precision: 0.9539 - recall: 0.8010 - val_loss: 0.0026 - val_fn: 3.0000 - val_fp: 0.0000e+00 - val_tn: 7962.0000 - val_tp: 10.0000 - val_precision: 1.0000 - val_recall: 0.7692\n",
            "Epoch 70/300\n",
            "16/16 [==============================] - 1s 86ms/step - loss: 0.0019 - fn: 3.4118 - fp: 1.2353 - tn: 18177.5294 - tp: 26.8824 - precision: 0.9646 - recall: 0.9002 - val_loss: 0.0026 - val_fn: 3.0000 - val_fp: 0.0000e+00 - val_tn: 7962.0000 - val_tp: 10.0000 - val_precision: 1.0000 - val_recall: 0.7692\n",
            "Epoch 71/300\n",
            "16/16 [==============================] - 1s 84ms/step - loss: 0.0024 - fn: 5.2941 - fp: 1.8824 - tn: 18174.9412 - tp: 26.9412 - precision: 0.9088 - recall: 0.8247 - val_loss: 0.0031 - val_fn: 4.0000 - val_fp: 0.0000e+00 - val_tn: 7962.0000 - val_tp: 9.0000 - val_precision: 1.0000 - val_recall: 0.6923\n",
            "Epoch 72/300\n",
            "16/16 [==============================] - 1s 86ms/step - loss: 0.0017 - fn: 4.6471 - fp: 0.5882 - tn: 18179.4706 - tp: 24.3529 - precision: 0.9874 - recall: 0.8275 - val_loss: 0.0027 - val_fn: 3.0000 - val_fp: 0.0000e+00 - val_tn: 7962.0000 - val_tp: 10.0000 - val_precision: 1.0000 - val_recall: 0.7692\n",
            "Epoch 73/300\n",
            "16/16 [==============================] - 1s 84ms/step - loss: 0.0021 - fn: 6.9412 - fp: 0.8235 - tn: 18175.7059 - tp: 25.5882 - precision: 0.9783 - recall: 0.7965 - val_loss: 0.0029 - val_fn: 3.0000 - val_fp: 0.0000e+00 - val_tn: 7962.0000 - val_tp: 10.0000 - val_precision: 1.0000 - val_recall: 0.7692\n",
            "Epoch 74/300\n",
            "16/16 [==============================] - 1s 85ms/step - loss: 0.0015 - fn: 3.8824 - fp: 0.6471 - tn: 18177.8824 - tp: 26.6471 - precision: 0.9846 - recall: 0.8591 - val_loss: 0.0026 - val_fn: 3.0000 - val_fp: 0.0000e+00 - val_tn: 7962.0000 - val_tp: 10.0000 - val_precision: 1.0000 - val_recall: 0.7692\n",
            "Epoch 75/300\n",
            "16/16 [==============================] - 1s 83ms/step - loss: 0.0012 - fn: 3.0000 - fp: 0.7059 - tn: 18178.9412 - tp: 26.4118 - precision: 0.9769 - recall: 0.9225 - val_loss: 0.0026 - val_fn: 3.0000 - val_fp: 1.0000 - val_tn: 7961.0000 - val_tp: 10.0000 - val_precision: 0.9091 - val_recall: 0.7692\n",
            "Epoch 76/300\n",
            "16/16 [==============================] - 1s 86ms/step - loss: 0.0020 - fn: 3.3529 - fp: 2.2353 - tn: 18175.5294 - tp: 27.9412 - precision: 0.9318 - recall: 0.9166 - val_loss: 0.0029 - val_fn: 4.0000 - val_fp: 0.0000e+00 - val_tn: 7962.0000 - val_tp: 9.0000 - val_precision: 1.0000 - val_recall: 0.6923\n",
            "Epoch 77/300\n",
            "16/16 [==============================] - 1s 86ms/step - loss: 0.0026 - fn: 8.6471 - fp: 0.8824 - tn: 18176.3529 - tp: 23.1765 - precision: 0.9562 - recall: 0.7291 - val_loss: 0.0026 - val_fn: 3.0000 - val_fp: 1.0000 - val_tn: 7961.0000 - val_tp: 10.0000 - val_precision: 0.9091 - val_recall: 0.7692\n",
            "Epoch 78/300\n",
            "16/16 [==============================] - 1s 85ms/step - loss: 0.0024 - fn: 4.7647 - fp: 2.7059 - tn: 18175.0000 - tp: 26.5882 - precision: 0.8945 - recall: 0.8489 - val_loss: 0.0031 - val_fn: 4.0000 - val_fp: 0.0000e+00 - val_tn: 7962.0000 - val_tp: 9.0000 - val_precision: 1.0000 - val_recall: 0.6923\n",
            "Epoch 79/300\n",
            "16/16 [==============================] - 1s 86ms/step - loss: 9.9183e-04 - fn: 3.0588 - fp: 0.0000e+00 - tn: 18178.2353 - tp: 27.7647 - precision: 1.0000 - recall: 0.9011 - val_loss: 0.0026 - val_fn: 3.0000 - val_fp: 0.0000e+00 - val_tn: 7962.0000 - val_tp: 10.0000 - val_precision: 1.0000 - val_recall: 0.7692\n",
            "Epoch 80/300\n",
            "16/16 [==============================] - 1s 87ms/step - loss: 0.0016 - fn: 3.3529 - fp: 2.5882 - tn: 18175.4118 - tp: 27.7059 - precision: 0.9045 - recall: 0.8841 - val_loss: 0.0028 - val_fn: 3.0000 - val_fp: 0.0000e+00 - val_tn: 7962.0000 - val_tp: 10.0000 - val_precision: 1.0000 - val_recall: 0.7692\n",
            "Epoch 81/300\n",
            "16/16 [==============================] - 1s 84ms/step - loss: 0.0014 - fn: 3.8824 - fp: 2.7647 - tn: 18173.7059 - tp: 28.7059 - precision: 0.9146 - recall: 0.8824 - val_loss: 0.0027 - val_fn: 3.0000 - val_fp: 0.0000e+00 - val_tn: 7962.0000 - val_tp: 10.0000 - val_precision: 1.0000 - val_recall: 0.7692\n",
            "Epoch 82/300\n",
            "16/16 [==============================] - 1s 85ms/step - loss: 0.0017 - fn: 4.2353 - fp: 0.7647 - tn: 18176.3529 - tp: 27.7059 - precision: 0.9755 - recall: 0.8592 - val_loss: 0.0027 - val_fn: 3.0000 - val_fp: 0.0000e+00 - val_tn: 7962.0000 - val_tp: 10.0000 - val_precision: 1.0000 - val_recall: 0.7692\n",
            "Epoch 83/300\n",
            "16/16 [==============================] - 1s 87ms/step - loss: 0.0017 - fn: 4.4118 - fp: 1.7059 - tn: 18179.2353 - tp: 23.7059 - precision: 0.9334 - recall: 0.7882 - val_loss: 0.0025 - val_fn: 3.0000 - val_fp: 1.0000 - val_tn: 7961.0000 - val_tp: 10.0000 - val_precision: 0.9091 - val_recall: 0.7692\n",
            "Epoch 84/300\n",
            "16/16 [==============================] - 1s 87ms/step - loss: 0.0024 - fn: 3.4118 - fp: 1.9412 - tn: 18177.1176 - tp: 26.5882 - precision: 0.9054 - recall: 0.9064 - val_loss: 0.0033 - val_fn: 6.0000 - val_fp: 0.0000e+00 - val_tn: 7962.0000 - val_tp: 7.0000 - val_precision: 1.0000 - val_recall: 0.5385\n",
            "Epoch 85/300\n",
            "16/16 [==============================] - 1s 88ms/step - loss: 0.0013 - fn: 6.7059 - fp: 0.0000e+00 - tn: 18175.2353 - tp: 27.1176 - precision: 1.0000 - recall: 0.7955 - val_loss: 0.0026 - val_fn: 3.0000 - val_fp: 0.0000e+00 - val_tn: 7962.0000 - val_tp: 10.0000 - val_precision: 1.0000 - val_recall: 0.7692\n",
            "Epoch 86/300\n",
            "16/16 [==============================] - 1s 87ms/step - loss: 0.0024 - fn: 5.8235 - fp: 1.7059 - tn: 18176.0000 - tp: 25.5294 - precision: 0.9316 - recall: 0.8158 - val_loss: 0.0026 - val_fn: 3.0000 - val_fp: 0.0000e+00 - val_tn: 7962.0000 - val_tp: 10.0000 - val_precision: 1.0000 - val_recall: 0.7692\n",
            "Epoch 87/300\n",
            "16/16 [==============================] - 1s 85ms/step - loss: 0.0014 - fn: 2.3529 - fp: 1.8824 - tn: 18176.8824 - tp: 27.9412 - precision: 0.9414 - recall: 0.9299 - val_loss: 0.0027 - val_fn: 3.0000 - val_fp: 0.0000e+00 - val_tn: 7962.0000 - val_tp: 10.0000 - val_precision: 1.0000 - val_recall: 0.7692\n",
            "Epoch 88/300\n",
            "16/16 [==============================] - 1s 87ms/step - loss: 0.0015 - fn: 4.5294 - fp: 0.0000e+00 - tn: 18175.4118 - tp: 29.1176 - precision: 1.0000 - recall: 0.8429 - val_loss: 0.0030 - val_fn: 4.0000 - val_fp: 0.0000e+00 - val_tn: 7962.0000 - val_tp: 9.0000 - val_precision: 1.0000 - val_recall: 0.6923\n",
            "Epoch 89/300\n",
            "16/16 [==============================] - 1s 88ms/step - loss: 0.0011 - fn: 2.6471 - fp: 0.1765 - tn: 18179.5294 - tp: 26.7059 - precision: 0.9376 - recall: 0.8589 - val_loss: 0.0027 - val_fn: 3.0000 - val_fp: 0.0000e+00 - val_tn: 7962.0000 - val_tp: 10.0000 - val_precision: 1.0000 - val_recall: 0.7692\n",
            "Epoch 90/300\n",
            "16/16 [==============================] - 1s 85ms/step - loss: 0.0018 - fn: 4.5294 - fp: 2.5294 - tn: 18177.9412 - tp: 24.0588 - precision: 0.9030 - recall: 0.7927 - val_loss: 0.0028 - val_fn: 3.0000 - val_fp: 0.0000e+00 - val_tn: 7962.0000 - val_tp: 10.0000 - val_precision: 1.0000 - val_recall: 0.7692\n",
            "Epoch 91/300\n",
            "16/16 [==============================] - 1s 87ms/step - loss: 0.0011 - fn: 3.0588 - fp: 1.5294 - tn: 18177.0588 - tp: 27.4118 - precision: 0.9534 - recall: 0.9190 - val_loss: 0.0028 - val_fn: 3.0000 - val_fp: 0.0000e+00 - val_tn: 7962.0000 - val_tp: 10.0000 - val_precision: 1.0000 - val_recall: 0.7692\n",
            "Epoch 92/300\n",
            "16/16 [==============================] - 1s 84ms/step - loss: 0.0023 - fn: 5.2353 - fp: 2.1176 - tn: 18174.7647 - tp: 26.9412 - precision: 0.9270 - recall: 0.8400 - val_loss: 0.0028 - val_fn: 3.0000 - val_fp: 0.0000e+00 - val_tn: 7962.0000 - val_tp: 10.0000 - val_precision: 1.0000 - val_recall: 0.7692\n",
            "Epoch 93/300\n",
            "16/16 [==============================] - 1s 86ms/step - loss: 0.0015 - fn: 3.0588 - fp: 0.7647 - tn: 18176.2941 - tp: 28.9412 - precision: 0.9832 - recall: 0.9123 - val_loss: 0.0027 - val_fn: 3.0000 - val_fp: 0.0000e+00 - val_tn: 7962.0000 - val_tp: 10.0000 - val_precision: 1.0000 - val_recall: 0.7692\n",
            "Epoch 94/300\n",
            "16/16 [==============================] - 1s 84ms/step - loss: 0.0018 - fn: 4.7647 - fp: 0.4706 - tn: 18177.2353 - tp: 26.5882 - precision: 0.9884 - recall: 0.7877 - val_loss: 0.0028 - val_fn: 3.0000 - val_fp: 0.0000e+00 - val_tn: 7962.0000 - val_tp: 10.0000 - val_precision: 1.0000 - val_recall: 0.7692\n",
            "Epoch 95/300\n",
            "16/16 [==============================] - 1s 85ms/step - loss: 9.2727e-04 - fn: 1.8235 - fp: 1.4118 - tn: 18179.6471 - tp: 26.1765 - precision: 0.9615 - recall: 0.9509 - val_loss: 0.0028 - val_fn: 3.0000 - val_fp: 0.0000e+00 - val_tn: 7962.0000 - val_tp: 10.0000 - val_precision: 1.0000 - val_recall: 0.7692\n",
            "Epoch 96/300\n",
            "16/16 [==============================] - 1s 84ms/step - loss: 0.0012 - fn: 2.8235 - fp: 0.2941 - tn: 18181.8235 - tp: 24.1176 - precision: 0.9935 - recall: 0.9008 - val_loss: 0.0028 - val_fn: 3.0000 - val_fp: 0.0000e+00 - val_tn: 7962.0000 - val_tp: 10.0000 - val_precision: 1.0000 - val_recall: 0.7692\n",
            "Epoch 97/300\n",
            "16/16 [==============================] - 1s 87ms/step - loss: 0.0013 - fn: 4.2941 - fp: 1.5294 - tn: 18173.8824 - tp: 29.3529 - precision: 0.9657 - recall: 0.8837 - val_loss: 0.0028 - val_fn: 3.0000 - val_fp: 0.0000e+00 - val_tn: 7962.0000 - val_tp: 10.0000 - val_precision: 1.0000 - val_recall: 0.7692\n",
            "Epoch 98/300\n",
            "16/16 [==============================] - 1s 89ms/step - loss: 0.0015 - fn: 5.8235 - fp: 1.0000 - tn: 18174.6471 - tp: 27.5882 - precision: 0.9452 - recall: 0.8418 - val_loss: 0.0032 - val_fn: 4.0000 - val_fp: 0.0000e+00 - val_tn: 7962.0000 - val_tp: 9.0000 - val_precision: 1.0000 - val_recall: 0.6923\n",
            "Epoch 99/300\n",
            "16/16 [==============================] - 1s 86ms/step - loss: 0.0013 - fn: 6.5294 - fp: 0.0000e+00 - tn: 18178.4706 - tp: 24.0588 - precision: 1.0000 - recall: 0.7969 - val_loss: 0.0028 - val_fn: 3.0000 - val_fp: 0.0000e+00 - val_tn: 7962.0000 - val_tp: 10.0000 - val_precision: 1.0000 - val_recall: 0.7692\n",
            "Epoch 100/300\n",
            "16/16 [==============================] - 1s 83ms/step - loss: 0.0014 - fn: 2.1176 - fp: 2.2941 - tn: 18174.5882 - tp: 30.0588 - precision: 0.9336 - recall: 0.9262 - val_loss: 0.0037 - val_fn: 5.0000 - val_fp: 0.0000e+00 - val_tn: 7962.0000 - val_tp: 8.0000 - val_precision: 1.0000 - val_recall: 0.6154\n",
            "Epoch 101/300\n",
            "16/16 [==============================] - 1s 82ms/step - loss: 0.0014 - fn: 7.5882 - fp: 0.4118 - tn: 18178.5294 - tp: 22.5294 - precision: 0.9894 - recall: 0.6635 - val_loss: 0.0031 - val_fn: 4.0000 - val_fp: 0.0000e+00 - val_tn: 7962.0000 - val_tp: 9.0000 - val_precision: 1.0000 - val_recall: 0.6923\n",
            "Epoch 102/300\n",
            "16/16 [==============================] - 1s 83ms/step - loss: 9.2298e-04 - fn: 1.1176 - fp: 1.7059 - tn: 18177.4118 - tp: 28.8235 - precision: 0.9574 - recall: 0.9779 - val_loss: 0.0030 - val_fn: 4.0000 - val_fp: 0.0000e+00 - val_tn: 7962.0000 - val_tp: 9.0000 - val_precision: 1.0000 - val_recall: 0.6923\n",
            "Epoch 103/300\n",
            "16/16 [==============================] - 1s 85ms/step - loss: 7.3573e-04 - fn: 1.9412 - fp: 0.8235 - tn: 18177.7647 - tp: 28.5294 - precision: 0.9784 - recall: 0.9552 - val_loss: 0.0030 - val_fn: 4.0000 - val_fp: 0.0000e+00 - val_tn: 7962.0000 - val_tp: 9.0000 - val_precision: 1.0000 - val_recall: 0.6923\n",
            "Epoch 104/300\n",
            "16/16 [==============================] - 1s 83ms/step - loss: 8.1482e-04 - fn: 2.2353 - fp: 0.4118 - tn: 18182.4118 - tp: 24.0000 - precision: 0.9903 - recall: 0.8587 - val_loss: 0.0030 - val_fn: 4.0000 - val_fp: 0.0000e+00 - val_tn: 7962.0000 - val_tp: 9.0000 - val_precision: 1.0000 - val_recall: 0.6923\n",
            "Epoch 105/300\n",
            "16/16 [==============================] - 1s 85ms/step - loss: 8.4158e-04 - fn: 3.4118 - fp: 0.4706 - tn: 18178.6471 - tp: 26.5294 - precision: 0.9309 - recall: 0.8386 - val_loss: 0.0030 - val_fn: 3.0000 - val_fp: 0.0000e+00 - val_tn: 7962.0000 - val_tp: 10.0000 - val_precision: 1.0000 - val_recall: 0.7692\n",
            "Epoch 106/300\n",
            "16/16 [==============================] - 1s 86ms/step - loss: 0.0014 - fn: 4.0588 - fp: 1.1176 - tn: 18176.0000 - tp: 27.8824 - precision: 0.9673 - recall: 0.8578 - val_loss: 0.0029 - val_fn: 3.0000 - val_fp: 0.0000e+00 - val_tn: 7962.0000 - val_tp: 10.0000 - val_precision: 1.0000 - val_recall: 0.7692\n",
            "Epoch 107/300\n",
            "16/16 [==============================] - 1s 89ms/step - loss: 9.2180e-04 - fn: 2.5882 - fp: 0.5882 - tn: 18178.2941 - tp: 27.5882 - precision: 0.9877 - recall: 0.9109 - val_loss: 0.0030 - val_fn: 4.0000 - val_fp: 0.0000e+00 - val_tn: 7962.0000 - val_tp: 9.0000 - val_precision: 1.0000 - val_recall: 0.6923\n",
            "Epoch 108/300\n",
            "16/16 [==============================] - 1s 86ms/step - loss: 9.7698e-04 - fn: 3.8235 - fp: 0.1176 - tn: 18177.5882 - tp: 27.5294 - precision: 0.9976 - recall: 0.8660 - val_loss: 0.0029 - val_fn: 3.0000 - val_fp: 0.0000e+00 - val_tn: 7962.0000 - val_tp: 10.0000 - val_precision: 1.0000 - val_recall: 0.7692\n",
            "Epoch 109/300\n",
            "16/16 [==============================] - 1s 86ms/step - loss: 9.5188e-04 - fn: 1.9412 - fp: 0.3529 - tn: 18176.8824 - tp: 29.8824 - precision: 0.9926 - recall: 0.9270 - val_loss: 0.0033 - val_fn: 5.0000 - val_fp: 0.0000e+00 - val_tn: 7962.0000 - val_tp: 8.0000 - val_precision: 1.0000 - val_recall: 0.6154\n",
            "Epoch 110/300\n",
            "16/16 [==============================] - 1s 87ms/step - loss: 0.0012 - fn: 5.2353 - fp: 0.0000e+00 - tn: 18177.1765 - tp: 26.6471 - precision: 1.0000 - recall: 0.8476 - val_loss: 0.0027 - val_fn: 3.0000 - val_fp: 1.0000 - val_tn: 7961.0000 - val_tp: 10.0000 - val_precision: 0.9091 - val_recall: 0.7692\n",
            "Epoch 111/300\n",
            "16/16 [==============================] - 1s 87ms/step - loss: 9.2071e-04 - fn: 1.2941 - fp: 2.7059 - tn: 18176.8235 - tp: 28.2353 - precision: 0.9290 - recall: 0.9696 - val_loss: 0.0033 - val_fn: 4.0000 - val_fp: 0.0000e+00 - val_tn: 7962.0000 - val_tp: 9.0000 - val_precision: 1.0000 - val_recall: 0.6923\n",
            "Epoch 112/300\n",
            "16/16 [==============================] - 1s 87ms/step - loss: 0.0013 - fn: 3.1765 - fp: 0.8824 - tn: 18181.5294 - tp: 23.4706 - precision: 0.9777 - recall: 0.8444 - val_loss: 0.0031 - val_fn: 4.0000 - val_fp: 0.0000e+00 - val_tn: 7962.0000 - val_tp: 9.0000 - val_precision: 1.0000 - val_recall: 0.6923\n",
            "Epoch 113/300\n",
            "16/16 [==============================] - 1s 89ms/step - loss: 0.0017 - fn: 4.8824 - fp: 0.5294 - tn: 18175.5882 - tp: 28.0588 - precision: 0.9864 - recall: 0.8731 - val_loss: 0.0031 - val_fn: 4.0000 - val_fp: 0.0000e+00 - val_tn: 7962.0000 - val_tp: 9.0000 - val_precision: 1.0000 - val_recall: 0.6923\n",
            "Epoch 114/300\n",
            "16/16 [==============================] - 1s 85ms/step - loss: 6.4183e-04 - fn: 1.3529 - fp: 0.6471 - tn: 18178.2941 - tp: 28.7647 - precision: 0.9822 - recall: 0.9681 - val_loss: 0.0028 - val_fn: 3.0000 - val_fp: 0.0000e+00 - val_tn: 7962.0000 - val_tp: 10.0000 - val_precision: 1.0000 - val_recall: 0.7692\n",
            "Epoch 115/300\n",
            "16/16 [==============================] - 1s 84ms/step - loss: 0.0023 - fn: 3.4118 - fp: 2.1176 - tn: 18176.7647 - tp: 26.7647 - precision: 0.8870 - recall: 0.9126 - val_loss: 0.0038 - val_fn: 5.0000 - val_fp: 0.0000e+00 - val_tn: 7962.0000 - val_tp: 8.0000 - val_precision: 1.0000 - val_recall: 0.6154\n",
            "Epoch 116/300\n",
            "16/16 [==============================] - 1s 86ms/step - loss: 8.9188e-04 - fn: 2.5882 - fp: 0.7059 - tn: 18177.2941 - tp: 28.4706 - precision: 0.9208 - recall: 0.8495 - val_loss: 0.0029 - val_fn: 3.0000 - val_fp: 0.0000e+00 - val_tn: 7962.0000 - val_tp: 10.0000 - val_precision: 1.0000 - val_recall: 0.7692\n",
            "Epoch 117/300\n",
            "16/16 [==============================] - 1s 83ms/step - loss: 0.0012 - fn: 3.1765 - fp: 1.6471 - tn: 18179.7059 - tp: 24.5294 - precision: 0.9338 - recall: 0.9193 - val_loss: 0.0036 - val_fn: 4.0000 - val_fp: 0.0000e+00 - val_tn: 7962.0000 - val_tp: 9.0000 - val_precision: 1.0000 - val_recall: 0.6923\n",
            "Epoch 118/300\n",
            "16/16 [==============================] - 1s 83ms/step - loss: 0.0011 - fn: 3.6471 - fp: 0.2941 - tn: 18177.1765 - tp: 27.9412 - precision: 0.9937 - recall: 0.8766 - val_loss: 0.0031 - val_fn: 3.0000 - val_fp: 0.0000e+00 - val_tn: 7962.0000 - val_tp: 10.0000 - val_precision: 1.0000 - val_recall: 0.7692\n",
            "Epoch 119/300\n",
            "16/16 [==============================] - 1s 86ms/step - loss: 0.0012 - fn: 3.1765 - fp: 1.0588 - tn: 18174.7647 - tp: 30.0588 - precision: 0.9746 - recall: 0.8894 - val_loss: 0.0031 - val_fn: 4.0000 - val_fp: 0.0000e+00 - val_tn: 7962.0000 - val_tp: 9.0000 - val_precision: 1.0000 - val_recall: 0.6923\n",
            "Epoch 120/300\n",
            "16/16 [==============================] - 1s 89ms/step - loss: 7.7662e-04 - fn: 2.4118 - fp: 0.0000e+00 - tn: 18180.2941 - tp: 26.3529 - precision: 1.0000 - recall: 0.9294 - val_loss: 0.0031 - val_fn: 3.0000 - val_fp: 0.0000e+00 - val_tn: 7962.0000 - val_tp: 10.0000 - val_precision: 1.0000 - val_recall: 0.7692\n",
            "Epoch 121/300\n",
            "16/16 [==============================] - 1s 87ms/step - loss: 6.0269e-04 - fn: 2.0000 - fp: 0.5294 - tn: 18178.3529 - tp: 28.1765 - precision: 0.9871 - recall: 0.9498 - val_loss: 0.0033 - val_fn: 4.0000 - val_fp: 0.0000e+00 - val_tn: 7962.0000 - val_tp: 9.0000 - val_precision: 1.0000 - val_recall: 0.6923\n",
            "Epoch 122/300\n",
            "16/16 [==============================] - 1s 89ms/step - loss: 0.0015 - fn: 5.1765 - fp: 0.0000e+00 - tn: 18177.7647 - tp: 26.1176 - precision: 1.0000 - recall: 0.8234 - val_loss: 0.0032 - val_fn: 4.0000 - val_fp: 0.0000e+00 - val_tn: 7962.0000 - val_tp: 9.0000 - val_precision: 1.0000 - val_recall: 0.6923\n",
            "Epoch 123/300\n",
            "16/16 [==============================] - 1s 85ms/step - loss: 6.4613e-04 - fn: 2.5882 - fp: 0.0000e+00 - tn: 18181.1176 - tp: 25.3529 - precision: 1.0000 - recall: 0.9295 - val_loss: 0.0030 - val_fn: 3.0000 - val_fp: 1.0000 - val_tn: 7961.0000 - val_tp: 10.0000 - val_precision: 0.9091 - val_recall: 0.7692\n",
            "Epoch 124/300\n",
            "16/16 [==============================] - 1s 89ms/step - loss: 7.8945e-04 - fn: 3.0000 - fp: 0.0000e+00 - tn: 18178.0000 - tp: 28.0588 - precision: 1.0000 - recall: 0.9189 - val_loss: 0.0034 - val_fn: 4.0000 - val_fp: 2.0000 - val_tn: 7960.0000 - val_tp: 9.0000 - val_precision: 0.8182 - val_recall: 0.6923\n",
            "Epoch 125/300\n",
            "16/16 [==============================] - 1s 87ms/step - loss: 6.6831e-04 - fn: 0.5882 - fp: 1.0588 - tn: 18179.3529 - tp: 28.0588 - precision: 0.9738 - recall: 0.9882 - val_loss: 0.0033 - val_fn: 4.0000 - val_fp: 0.0000e+00 - val_tn: 7962.0000 - val_tp: 9.0000 - val_precision: 1.0000 - val_recall: 0.6923\n",
            "Epoch 126/300\n",
            "16/16 [==============================] - 1s 87ms/step - loss: 4.7570e-04 - fn: 1.0588 - fp: 0.0000e+00 - tn: 18182.1176 - tp: 25.8824 - precision: 1.0000 - recall: 0.9741 - val_loss: 0.0033 - val_fn: 4.0000 - val_fp: 0.0000e+00 - val_tn: 7962.0000 - val_tp: 9.0000 - val_precision: 1.0000 - val_recall: 0.6923\n",
            "Epoch 127/300\n",
            "16/16 [==============================] - 1s 90ms/step - loss: 6.8304e-04 - fn: 2.4706 - fp: 0.0000e+00 - tn: 18177.6471 - tp: 28.9412 - precision: 1.0000 - recall: 0.8793 - val_loss: 0.0032 - val_fn: 4.0000 - val_fp: 0.0000e+00 - val_tn: 7962.0000 - val_tp: 9.0000 - val_precision: 1.0000 - val_recall: 0.6923\n",
            "Epoch 128/300\n",
            "16/16 [==============================] - 1s 87ms/step - loss: 8.4075e-04 - fn: 2.9412 - fp: 0.0000e+00 - tn: 18179.1176 - tp: 27.0000 - precision: 1.0000 - recall: 0.8799 - val_loss: 0.0033 - val_fn: 4.0000 - val_fp: 0.0000e+00 - val_tn: 7962.0000 - val_tp: 9.0000 - val_precision: 1.0000 - val_recall: 0.6923\n",
            "Epoch 129/300\n",
            "16/16 [==============================] - 1s 87ms/step - loss: 5.5002e-04 - fn: 0.8235 - fp: 0.2353 - tn: 18180.4118 - tp: 27.5882 - precision: 0.9954 - recall: 0.9686 - val_loss: 0.0033 - val_fn: 4.0000 - val_fp: 0.0000e+00 - val_tn: 7962.0000 - val_tp: 9.0000 - val_precision: 1.0000 - val_recall: 0.6923\n",
            "Epoch 130/300\n",
            "16/16 [==============================] - 1s 87ms/step - loss: 9.4911e-04 - fn: 2.7059 - fp: 0.5294 - tn: 18175.2941 - tp: 30.5294 - precision: 0.9876 - recall: 0.9016 - val_loss: 0.0033 - val_fn: 4.0000 - val_fp: 0.0000e+00 - val_tn: 7962.0000 - val_tp: 9.0000 - val_precision: 1.0000 - val_recall: 0.6923\n",
            "Epoch 131/300\n",
            "16/16 [==============================] - 1s 89ms/step - loss: 5.6977e-04 - fn: 1.3529 - fp: 0.1176 - tn: 18177.2941 - tp: 30.2941 - precision: 0.9977 - recall: 0.9549 - val_loss: 0.0032 - val_fn: 4.0000 - val_fp: 0.0000e+00 - val_tn: 7962.0000 - val_tp: 9.0000 - val_precision: 1.0000 - val_recall: 0.6923\n",
            "Epoch 132/300\n",
            "16/16 [==============================] - 1s 88ms/step - loss: 3.2291e-04 - fn: 0.0000e+00 - fp: 0.1765 - tn: 18175.9412 - tp: 32.9412 - precision: 0.9968 - recall: 1.0000 - val_loss: 0.0033 - val_fn: 4.0000 - val_fp: 0.0000e+00 - val_tn: 7962.0000 - val_tp: 9.0000 - val_precision: 1.0000 - val_recall: 0.6923\n",
            "Epoch 133/300\n",
            "16/16 [==============================] - 1s 88ms/step - loss: 4.5049e-04 - fn: 1.5294 - fp: 0.4118 - tn: 18176.0000 - tp: 31.1176 - precision: 0.9910 - recall: 0.9599 - val_loss: 0.0033 - val_fn: 4.0000 - val_fp: 0.0000e+00 - val_tn: 7962.0000 - val_tp: 9.0000 - val_precision: 1.0000 - val_recall: 0.6923\n",
            "Epoch 134/300\n",
            "16/16 [==============================] - 1s 88ms/step - loss: 5.1993e-04 - fn: 2.0000 - fp: 0.0000e+00 - tn: 18178.6471 - tp: 28.4118 - precision: 1.0000 - recall: 0.9446 - val_loss: 0.0032 - val_fn: 3.0000 - val_fp: 0.0000e+00 - val_tn: 7962.0000 - val_tp: 10.0000 - val_precision: 1.0000 - val_recall: 0.7692\n",
            "Epoch 135/300\n",
            "16/16 [==============================] - 1s 89ms/step - loss: 5.6411e-04 - fn: 1.4118 - fp: 0.1176 - tn: 18177.8824 - tp: 29.6471 - precision: 0.9977 - recall: 0.9646 - val_loss: 0.0031 - val_fn: 3.0000 - val_fp: 0.0000e+00 - val_tn: 7962.0000 - val_tp: 10.0000 - val_precision: 1.0000 - val_recall: 0.7692\n",
            "Epoch 136/300\n",
            "16/16 [==============================] - 1s 89ms/step - loss: 4.7388e-04 - fn: 1.5882 - fp: 0.0000e+00 - tn: 18177.4118 - tp: 30.0588 - precision: 1.0000 - recall: 0.9569 - val_loss: 0.0034 - val_fn: 4.0000 - val_fp: 0.0000e+00 - val_tn: 7962.0000 - val_tp: 9.0000 - val_precision: 1.0000 - val_recall: 0.6923\n",
            "Epoch 137/300\n",
            "16/16 [==============================] - 1s 86ms/step - loss: 5.1459e-04 - fn: 1.0588 - fp: 0.2941 - tn: 18178.0000 - tp: 29.7059 - precision: 0.9940 - recall: 0.9748 - val_loss: 0.0032 - val_fn: 3.0000 - val_fp: 0.0000e+00 - val_tn: 7962.0000 - val_tp: 10.0000 - val_precision: 1.0000 - val_recall: 0.7692\n",
            "Epoch 138/300\n",
            "16/16 [==============================] - 1s 86ms/step - loss: 7.1120e-04 - fn: 1.0000 - fp: 0.0000e+00 - tn: 18177.1765 - tp: 30.8824 - precision: 1.0000 - recall: 0.9491 - val_loss: 0.0029 - val_fn: 3.0000 - val_fp: 0.0000e+00 - val_tn: 7962.0000 - val_tp: 10.0000 - val_precision: 1.0000 - val_recall: 0.7692\n",
            "Epoch 139/300\n",
            "16/16 [==============================] - 1s 87ms/step - loss: 6.0797e-04 - fn: 2.5882 - fp: 0.0000e+00 - tn: 18181.1765 - tp: 25.2941 - precision: 1.0000 - recall: 0.8970 - val_loss: 0.0031 - val_fn: 3.0000 - val_fp: 0.0000e+00 - val_tn: 7962.0000 - val_tp: 10.0000 - val_precision: 1.0000 - val_recall: 0.7692\n",
            "Epoch 140/300\n",
            "16/16 [==============================] - 1s 87ms/step - loss: 4.9865e-04 - fn: 1.1176 - fp: 0.0000e+00 - tn: 18178.5294 - tp: 29.4118 - precision: 1.0000 - recall: 0.9443 - val_loss: 0.0032 - val_fn: 3.0000 - val_fp: 0.0000e+00 - val_tn: 7962.0000 - val_tp: 10.0000 - val_precision: 1.0000 - val_recall: 0.7692\n",
            "Epoch 141/300\n",
            "16/16 [==============================] - 1s 89ms/step - loss: 4.8671e-04 - fn: 1.8824 - fp: 0.3529 - tn: 18175.0000 - tp: 31.8235 - precision: 0.9925 - recall: 0.9579 - val_loss: 0.0034 - val_fn: 4.0000 - val_fp: 1.0000 - val_tn: 7961.0000 - val_tp: 9.0000 - val_precision: 0.9000 - val_recall: 0.6923\n",
            "Epoch 142/300\n",
            "16/16 [==============================] - 1s 89ms/step - loss: 6.6394e-04 - fn: 1.9412 - fp: 0.5882 - tn: 18178.1176 - tp: 28.4118 - precision: 0.9844 - recall: 0.9339 - val_loss: 0.0031 - val_fn: 3.0000 - val_fp: 0.0000e+00 - val_tn: 7962.0000 - val_tp: 10.0000 - val_precision: 1.0000 - val_recall: 0.7692\n",
            "Epoch 143/300\n",
            "16/16 [==============================] - 1s 89ms/step - loss: 5.1418e-04 - fn: 1.7647 - fp: 1.0000 - tn: 18177.1176 - tp: 29.1765 - precision: 0.9746 - recall: 0.9533 - val_loss: 0.0032 - val_fn: 4.0000 - val_fp: 0.0000e+00 - val_tn: 7962.0000 - val_tp: 9.0000 - val_precision: 1.0000 - val_recall: 0.6923\n",
            "Epoch 144/300\n",
            "16/16 [==============================] - 1s 88ms/step - loss: 3.5991e-04 - fn: 1.0588 - fp: 0.0000e+00 - tn: 18181.6471 - tp: 26.3529 - precision: 1.0000 - recall: 0.9709 - val_loss: 0.0035 - val_fn: 4.0000 - val_fp: 0.0000e+00 - val_tn: 7962.0000 - val_tp: 9.0000 - val_precision: 1.0000 - val_recall: 0.6923\n",
            "Epoch 145/300\n",
            "16/16 [==============================] - 1s 90ms/step - loss: 7.4817e-04 - fn: 2.7059 - fp: 0.0000e+00 - tn: 18177.6471 - tp: 28.7059 - precision: 1.0000 - recall: 0.8874 - val_loss: 0.0034 - val_fn: 4.0000 - val_fp: 0.0000e+00 - val_tn: 7962.0000 - val_tp: 9.0000 - val_precision: 1.0000 - val_recall: 0.6923\n",
            "Epoch 146/300\n",
            "16/16 [==============================] - 1s 87ms/step - loss: 6.5638e-04 - fn: 1.4118 - fp: 0.2353 - tn: 18176.1765 - tp: 31.2353 - precision: 0.9955 - recall: 0.9481 - val_loss: 0.0032 - val_fn: 3.0000 - val_fp: 0.0000e+00 - val_tn: 7962.0000 - val_tp: 10.0000 - val_precision: 1.0000 - val_recall: 0.7692\n",
            "Epoch 147/300\n",
            "16/16 [==============================] - 1s 88ms/step - loss: 4.3088e-04 - fn: 1.0588 - fp: 0.4706 - tn: 18177.3529 - tp: 30.1765 - precision: 0.9889 - recall: 0.9742 - val_loss: 0.0031 - val_fn: 3.0000 - val_fp: 0.0000e+00 - val_tn: 7962.0000 - val_tp: 10.0000 - val_precision: 1.0000 - val_recall: 0.7692\n",
            "Epoch 148/300\n",
            "16/16 [==============================] - 1s 87ms/step - loss: 3.9199e-04 - fn: 0.9412 - fp: 0.0000e+00 - tn: 18176.2941 - tp: 31.8235 - precision: 1.0000 - recall: 0.9750 - val_loss: 0.0031 - val_fn: 3.0000 - val_fp: 0.0000e+00 - val_tn: 7962.0000 - val_tp: 10.0000 - val_precision: 1.0000 - val_recall: 0.7692\n",
            "Epoch 149/300\n",
            "16/16 [==============================] - 1s 88ms/step - loss: 4.8007e-04 - fn: 1.2353 - fp: 0.7647 - tn: 18177.8235 - tp: 29.2353 - precision: 0.9762 - recall: 0.9708 - val_loss: 0.0051 - val_fn: 6.0000 - val_fp: 0.0000e+00 - val_tn: 7962.0000 - val_tp: 7.0000 - val_precision: 1.0000 - val_recall: 0.5385\n",
            "Epoch 150/300\n",
            "16/16 [==============================] - 1s 88ms/step - loss: 0.0019 - fn: 3.8235 - fp: 1.7647 - tn: 18175.8235 - tp: 27.6471 - precision: 0.9459 - recall: 0.8316 - val_loss: 0.0028 - val_fn: 3.0000 - val_fp: 0.0000e+00 - val_tn: 7962.0000 - val_tp: 10.0000 - val_precision: 1.0000 - val_recall: 0.7692\n",
            "Epoch 151/300\n",
            "16/16 [==============================] - 1s 87ms/step - loss: 5.7997e-04 - fn: 0.1176 - fp: 1.9412 - tn: 18173.8824 - tp: 33.1176 - precision: 0.9222 - recall: 0.9978 - val_loss: 0.0033 - val_fn: 4.0000 - val_fp: 0.0000e+00 - val_tn: 7962.0000 - val_tp: 9.0000 - val_precision: 1.0000 - val_recall: 0.6923\n",
            "Epoch 152/300\n",
            "16/16 [==============================] - 1s 89ms/step - loss: 7.6587e-04 - fn: 2.4706 - fp: 0.5294 - tn: 18176.9412 - tp: 29.1176 - precision: 0.9867 - recall: 0.9308 - val_loss: 0.0034 - val_fn: 4.0000 - val_fp: 2.0000 - val_tn: 7960.0000 - val_tp: 9.0000 - val_precision: 0.8182 - val_recall: 0.6923\n",
            "Epoch 153/300\n",
            "16/16 [==============================] - 1s 90ms/step - loss: 8.1884e-04 - fn: 1.6471 - fp: 1.4706 - tn: 18179.0000 - tp: 26.9412 - precision: 0.9582 - recall: 0.9578 - val_loss: 0.0030 - val_fn: 3.0000 - val_fp: 0.0000e+00 - val_tn: 7962.0000 - val_tp: 10.0000 - val_precision: 1.0000 - val_recall: 0.7692\n",
            "Epoch 154/300\n",
            "16/16 [==============================] - 1s 90ms/step - loss: 6.6804e-04 - fn: 2.6471 - fp: 0.8235 - tn: 18177.2941 - tp: 28.2941 - precision: 0.9715 - recall: 0.9211 - val_loss: 0.0031 - val_fn: 4.0000 - val_fp: 0.0000e+00 - val_tn: 7962.0000 - val_tp: 9.0000 - val_precision: 1.0000 - val_recall: 0.6923\n",
            "Epoch 155/300\n",
            "16/16 [==============================] - 1s 91ms/step - loss: 4.3367e-04 - fn: 1.7059 - fp: 0.6471 - tn: 18176.2941 - tp: 30.4118 - precision: 0.9838 - recall: 0.9290 - val_loss: 0.0032 - val_fn: 4.0000 - val_fp: 0.0000e+00 - val_tn: 7962.0000 - val_tp: 9.0000 - val_precision: 1.0000 - val_recall: 0.6923\n",
            "Epoch 156/300\n",
            "16/16 [==============================] - 1s 89ms/step - loss: 4.2129e-04 - fn: 0.7647 - fp: 0.5294 - tn: 18179.0588 - tp: 28.7059 - precision: 0.9868 - recall: 0.9813 - val_loss: 0.0033 - val_fn: 4.0000 - val_fp: 0.0000e+00 - val_tn: 7962.0000 - val_tp: 9.0000 - val_precision: 1.0000 - val_recall: 0.6923\n",
            "Epoch 157/300\n",
            "16/16 [==============================] - 1s 89ms/step - loss: 4.5692e-04 - fn: 1.4118 - fp: 0.2941 - tn: 18175.1176 - tp: 32.2353 - precision: 0.9941 - recall: 0.9469 - val_loss: 0.0030 - val_fn: 3.0000 - val_fp: 0.0000e+00 - val_tn: 7962.0000 - val_tp: 10.0000 - val_precision: 1.0000 - val_recall: 0.7692\n",
            "Epoch 158/300\n",
            "16/16 [==============================] - 1s 89ms/step - loss: 2.7353e-04 - fn: 0.7059 - fp: 0.9412 - tn: 18178.0000 - tp: 29.4118 - precision: 0.9768 - recall: 0.9864 - val_loss: 0.0032 - val_fn: 4.0000 - val_fp: 0.0000e+00 - val_tn: 7962.0000 - val_tp: 9.0000 - val_precision: 1.0000 - val_recall: 0.6923\n",
            "Epoch 159/300\n",
            "16/16 [==============================] - 1s 88ms/step - loss: 3.0563e-04 - fn: 1.1765 - fp: 0.0000e+00 - tn: 18179.0588 - tp: 28.8235 - precision: 1.0000 - recall: 0.9754 - val_loss: 0.0034 - val_fn: 4.0000 - val_fp: 0.0000e+00 - val_tn: 7962.0000 - val_tp: 9.0000 - val_precision: 1.0000 - val_recall: 0.6923\n",
            "Epoch 160/300\n",
            "16/16 [==============================] - 1s 88ms/step - loss: 3.1652e-04 - fn: 1.2941 - fp: 0.8235 - tn: 18180.1765 - tp: 26.7647 - precision: 0.9691 - recall: 0.9651 - val_loss: 0.0036 - val_fn: 4.0000 - val_fp: 2.0000 - val_tn: 7960.0000 - val_tp: 9.0000 - val_precision: 0.8182 - val_recall: 0.6923\n",
            "Epoch 161/300\n",
            "16/16 [==============================] - 1s 89ms/step - loss: 3.3764e-04 - fn: 0.7059 - fp: 0.4706 - tn: 18177.1765 - tp: 30.7059 - precision: 0.9912 - recall: 0.9811 - val_loss: 0.0034 - val_fn: 4.0000 - val_fp: 0.0000e+00 - val_tn: 7962.0000 - val_tp: 9.0000 - val_precision: 1.0000 - val_recall: 0.6923\n",
            "Epoch 162/300\n",
            "16/16 [==============================] - 1s 89ms/step - loss: 5.6028e-04 - fn: 1.5882 - fp: 0.8235 - tn: 18180.9412 - tp: 25.7059 - precision: 0.9662 - recall: 0.9316 - val_loss: 0.0038 - val_fn: 4.0000 - val_fp: 0.0000e+00 - val_tn: 7962.0000 - val_tp: 9.0000 - val_precision: 1.0000 - val_recall: 0.6923\n",
            "Epoch 163/300\n",
            "16/16 [==============================] - 1s 88ms/step - loss: 5.7183e-04 - fn: 3.2941 - fp: 0.3529 - tn: 18178.1765 - tp: 27.2353 - precision: 0.9922 - recall: 0.8877 - val_loss: 0.0035 - val_fn: 4.0000 - val_fp: 0.0000e+00 - val_tn: 7962.0000 - val_tp: 9.0000 - val_precision: 1.0000 - val_recall: 0.6923\n",
            "Epoch 164/300\n",
            "16/16 [==============================] - 1s 87ms/step - loss: 4.0408e-04 - fn: 1.0000 - fp: 0.6471 - tn: 18174.3529 - tp: 33.0588 - precision: 0.9848 - recall: 0.9771 - val_loss: 0.0033 - val_fn: 4.0000 - val_fp: 0.0000e+00 - val_tn: 7962.0000 - val_tp: 9.0000 - val_precision: 1.0000 - val_recall: 0.6923\n",
            "Epoch 165/300\n",
            "16/16 [==============================] - 1s 87ms/step - loss: 5.2913e-04 - fn: 1.1765 - fp: 1.6471 - tn: 18176.6471 - tp: 29.5882 - precision: 0.9574 - recall: 0.9622 - val_loss: 0.0038 - val_fn: 4.0000 - val_fp: 0.0000e+00 - val_tn: 7962.0000 - val_tp: 9.0000 - val_precision: 1.0000 - val_recall: 0.6923\n",
            "Epoch 166/300\n",
            "16/16 [==============================] - 1s 87ms/step - loss: 3.4131e-04 - fn: 0.9412 - fp: 0.0000e+00 - tn: 18175.7647 - tp: 32.3529 - precision: 1.0000 - recall: 0.9630 - val_loss: 0.0039 - val_fn: 4.0000 - val_fp: 0.0000e+00 - val_tn: 7962.0000 - val_tp: 9.0000 - val_precision: 1.0000 - val_recall: 0.6923\n",
            "Epoch 167/300\n",
            "16/16 [==============================] - 1s 87ms/step - loss: 3.2410e-04 - fn: 1.0588 - fp: 0.0000e+00 - tn: 18175.8824 - tp: 32.1176 - precision: 1.0000 - recall: 0.9745 - val_loss: 0.0031 - val_fn: 3.0000 - val_fp: 0.0000e+00 - val_tn: 7962.0000 - val_tp: 10.0000 - val_precision: 1.0000 - val_recall: 0.7692\n",
            "Epoch 168/300\n",
            "16/16 [==============================] - 1s 87ms/step - loss: 6.3844e-04 - fn: 2.7647 - fp: 0.7059 - tn: 18178.0588 - tp: 27.5294 - precision: 0.9781 - recall: 0.8838 - val_loss: 0.0038 - val_fn: 4.0000 - val_fp: 0.0000e+00 - val_tn: 7962.0000 - val_tp: 9.0000 - val_precision: 1.0000 - val_recall: 0.6923\n",
            "Epoch 169/300\n",
            "16/16 [==============================] - 1s 87ms/step - loss: 3.3686e-04 - fn: 1.1765 - fp: 0.5882 - tn: 18175.5882 - tp: 31.7059 - precision: 0.9856 - recall: 0.9720 - val_loss: 0.0040 - val_fn: 4.0000 - val_fp: 0.0000e+00 - val_tn: 7962.0000 - val_tp: 9.0000 - val_precision: 1.0000 - val_recall: 0.6923\n",
            "Epoch 170/300\n",
            "16/16 [==============================] - 1s 90ms/step - loss: 4.3653e-04 - fn: 1.4118 - fp: 0.0000e+00 - tn: 18180.0000 - tp: 27.6471 - precision: 1.0000 - recall: 0.9081 - val_loss: 0.0034 - val_fn: 4.0000 - val_fp: 0.0000e+00 - val_tn: 7962.0000 - val_tp: 9.0000 - val_precision: 1.0000 - val_recall: 0.6923\n",
            "Epoch 171/300\n",
            "16/16 [==============================] - 1s 88ms/step - loss: 3.7077e-04 - fn: 0.7647 - fp: 0.0000e+00 - tn: 18178.7059 - tp: 29.5882 - precision: 0.9412 - recall: 0.9174 - val_loss: 0.0032 - val_fn: 3.0000 - val_fp: 0.0000e+00 - val_tn: 7962.0000 - val_tp: 10.0000 - val_precision: 1.0000 - val_recall: 0.7692\n",
            "Epoch 172/300\n",
            "16/16 [==============================] - 1s 90ms/step - loss: 4.4903e-04 - fn: 1.4706 - fp: 0.0000e+00 - tn: 18179.4118 - tp: 28.1765 - precision: 1.0000 - recall: 0.9406 - val_loss: 0.0032 - val_fn: 3.0000 - val_fp: 0.0000e+00 - val_tn: 7962.0000 - val_tp: 10.0000 - val_precision: 1.0000 - val_recall: 0.7692\n",
            "Epoch 173/300\n",
            "16/16 [==============================] - 1s 92ms/step - loss: 2.2080e-04 - fn: 0.5294 - fp: 0.0000e+00 - tn: 18178.7059 - tp: 29.8235 - precision: 1.0000 - recall: 0.9893 - val_loss: 0.0033 - val_fn: 3.0000 - val_fp: 2.0000 - val_tn: 7960.0000 - val_tp: 10.0000 - val_precision: 0.8333 - val_recall: 0.7692\n",
            "Epoch 174/300\n",
            "16/16 [==============================] - 1s 88ms/step - loss: 3.2294e-04 - fn: 2.3529 - fp: 0.0000e+00 - tn: 18177.9412 - tp: 28.7647 - precision: 1.0000 - recall: 0.9334 - val_loss: 0.0035 - val_fn: 4.0000 - val_fp: 0.0000e+00 - val_tn: 7962.0000 - val_tp: 9.0000 - val_precision: 1.0000 - val_recall: 0.6923\n",
            "Epoch 175/300\n",
            "16/16 [==============================] - 1s 91ms/step - loss: 4.3627e-04 - fn: 1.5882 - fp: 0.7647 - tn: 18176.5294 - tp: 30.1765 - precision: 0.9768 - recall: 0.9380 - val_loss: 0.0034 - val_fn: 4.0000 - val_fp: 0.0000e+00 - val_tn: 7962.0000 - val_tp: 9.0000 - val_precision: 1.0000 - val_recall: 0.6923\n",
            "Epoch 176/300\n",
            "16/16 [==============================] - 1s 91ms/step - loss: 6.4180e-04 - fn: 0.8235 - fp: 0.7647 - tn: 18179.4706 - tp: 28.0000 - precision: 0.9748 - recall: 0.9816 - val_loss: 0.0032 - val_fn: 4.0000 - val_fp: 0.0000e+00 - val_tn: 7962.0000 - val_tp: 9.0000 - val_precision: 1.0000 - val_recall: 0.6923\n",
            "Epoch 177/300\n",
            "16/16 [==============================] - 1s 91ms/step - loss: 2.7815e-04 - fn: 0.0000e+00 - fp: 0.8235 - tn: 18178.7647 - tp: 29.4706 - precision: 0.9795 - recall: 1.0000 - val_loss: 0.0033 - val_fn: 4.0000 - val_fp: 0.0000e+00 - val_tn: 7962.0000 - val_tp: 9.0000 - val_precision: 1.0000 - val_recall: 0.6923\n",
            "Epoch 178/300\n",
            "16/16 [==============================] - 1s 90ms/step - loss: 3.9606e-04 - fn: 2.4118 - fp: 0.4118 - tn: 18183.5882 - tp: 22.6471 - precision: 0.9893 - recall: 0.9303 - val_loss: 0.0030 - val_fn: 3.0000 - val_fp: 0.0000e+00 - val_tn: 7962.0000 - val_tp: 10.0000 - val_precision: 1.0000 - val_recall: 0.7692\n",
            "Epoch 179/300\n",
            "16/16 [==============================] - 1s 88ms/step - loss: 3.5172e-04 - fn: 1.1176 - fp: 0.5294 - tn: 18177.8824 - tp: 29.5294 - precision: 0.9876 - recall: 0.9695 - val_loss: 0.0039 - val_fn: 4.0000 - val_fp: 1.0000 - val_tn: 7961.0000 - val_tp: 9.0000 - val_precision: 0.9000 - val_recall: 0.6923\n",
            "Epoch 180/300\n",
            "16/16 [==============================] - 1s 90ms/step - loss: 3.8353e-04 - fn: 1.3529 - fp: 0.0000e+00 - tn: 18179.6471 - tp: 28.0588 - precision: 1.0000 - recall: 0.9628 - val_loss: 0.0035 - val_fn: 4.0000 - val_fp: 0.0000e+00 - val_tn: 7962.0000 - val_tp: 9.0000 - val_precision: 1.0000 - val_recall: 0.6923\n",
            "Epoch 181/300\n",
            "16/16 [==============================] - 1s 89ms/step - loss: 5.2311e-04 - fn: 0.9412 - fp: 1.1176 - tn: 18180.6471 - tp: 26.3529 - precision: 0.9753 - recall: 0.9731 - val_loss: 0.0030 - val_fn: 3.0000 - val_fp: 2.0000 - val_tn: 7960.0000 - val_tp: 10.0000 - val_precision: 0.8333 - val_recall: 0.7692\n",
            "Epoch 182/300\n",
            "16/16 [==============================] - 1s 90ms/step - loss: 6.7972e-04 - fn: 3.0000 - fp: 0.8824 - tn: 18175.9412 - tp: 29.2353 - precision: 0.9685 - recall: 0.9050 - val_loss: 0.0044 - val_fn: 5.0000 - val_fp: 2.0000 - val_tn: 7960.0000 - val_tp: 8.0000 - val_precision: 0.8000 - val_recall: 0.6154\n",
            "Epoch 183/300\n",
            "16/16 [==============================] - 1s 87ms/step - loss: 4.2024e-04 - fn: 1.2353 - fp: 0.7059 - tn: 18180.2353 - tp: 26.8824 - precision: 0.9773 - recall: 0.9686 - val_loss: 0.0029 - val_fn: 3.0000 - val_fp: 2.0000 - val_tn: 7960.0000 - val_tp: 10.0000 - val_precision: 0.8333 - val_recall: 0.7692\n",
            "Epoch 184/300\n",
            "16/16 [==============================] - 1s 90ms/step - loss: 9.3162e-04 - fn: 0.9412 - fp: 3.3529 - tn: 18174.5294 - tp: 30.2353 - precision: 0.9292 - recall: 0.9798 - val_loss: 0.0041 - val_fn: 4.0000 - val_fp: 0.0000e+00 - val_tn: 7962.0000 - val_tp: 9.0000 - val_precision: 1.0000 - val_recall: 0.6923\n",
            "Epoch 185/300\n",
            "16/16 [==============================] - 1s 91ms/step - loss: 0.0014 - fn: 5.4118 - fp: 0.2941 - tn: 18176.7059 - tp: 26.6471 - precision: 0.9935 - recall: 0.7767 - val_loss: 0.0032 - val_fn: 3.0000 - val_fp: 0.0000e+00 - val_tn: 7962.0000 - val_tp: 10.0000 - val_precision: 1.0000 - val_recall: 0.7692\n",
            "Epoch 186/300\n",
            "16/16 [==============================] - 1s 91ms/step - loss: 3.8109e-04 - fn: 1.6471 - fp: 0.0000e+00 - tn: 18178.1765 - tp: 29.2353 - precision: 1.0000 - recall: 0.9478 - val_loss: 0.0032 - val_fn: 3.0000 - val_fp: 0.0000e+00 - val_tn: 7962.0000 - val_tp: 10.0000 - val_precision: 1.0000 - val_recall: 0.7692\n",
            "Epoch 187/300\n",
            "16/16 [==============================] - 1s 90ms/step - loss: 4.5776e-04 - fn: 1.8235 - fp: 0.7647 - tn: 18179.1176 - tp: 27.3529 - precision: 0.9746 - recall: 0.9607 - val_loss: 0.0035 - val_fn: 3.0000 - val_fp: 2.0000 - val_tn: 7960.0000 - val_tp: 10.0000 - val_precision: 0.8333 - val_recall: 0.7692\n",
            "Epoch 188/300\n",
            "16/16 [==============================] - 1s 89ms/step - loss: 7.1535e-04 - fn: 1.8824 - fp: 3.2353 - tn: 18175.0588 - tp: 28.8824 - precision: 0.9083 - recall: 0.9192 - val_loss: 0.0035 - val_fn: 4.0000 - val_fp: 0.0000e+00 - val_tn: 7962.0000 - val_tp: 9.0000 - val_precision: 1.0000 - val_recall: 0.6923\n",
            "Epoch 189/300\n",
            "16/16 [==============================] - 1s 91ms/step - loss: 5.6369e-04 - fn: 2.0000 - fp: 0.9412 - tn: 18174.8824 - tp: 31.2353 - precision: 0.9679 - recall: 0.9540 - val_loss: 0.0042 - val_fn: 4.0000 - val_fp: 1.0000 - val_tn: 7961.0000 - val_tp: 9.0000 - val_precision: 0.9000 - val_recall: 0.6923\n",
            "Epoch 190/300\n",
            "16/16 [==============================] - 1s 93ms/step - loss: 6.2084e-04 - fn: 2.4118 - fp: 1.0588 - tn: 18178.3529 - tp: 27.2353 - precision: 0.9730 - recall: 0.9166 - val_loss: 0.0036 - val_fn: 4.0000 - val_fp: 0.0000e+00 - val_tn: 7962.0000 - val_tp: 9.0000 - val_precision: 1.0000 - val_recall: 0.6923\n",
            "Epoch 191/300\n",
            "16/16 [==============================] - 1s 94ms/step - loss: 2.5762e-04 - fn: 0.3529 - fp: 0.3529 - tn: 18176.8824 - tp: 31.4706 - precision: 0.9926 - recall: 0.9926 - val_loss: 0.0039 - val_fn: 4.0000 - val_fp: 0.0000e+00 - val_tn: 7962.0000 - val_tp: 9.0000 - val_precision: 1.0000 - val_recall: 0.6923\n",
            "Epoch 192/300\n",
            "16/16 [==============================] - 1s 90ms/step - loss: 2.6962e-04 - fn: 1.9412 - fp: 0.6471 - tn: 18176.4118 - tp: 30.0588 - precision: 0.9830 - recall: 0.9530 - val_loss: 0.0038 - val_fn: 4.0000 - val_fp: 0.0000e+00 - val_tn: 7962.0000 - val_tp: 9.0000 - val_precision: 1.0000 - val_recall: 0.6923\n",
            "Epoch 193/300\n",
            "16/16 [==============================] - 1s 90ms/step - loss: 2.8694e-04 - fn: 0.7647 - fp: 0.2353 - tn: 18176.5294 - tp: 31.5294 - precision: 0.9953 - recall: 0.9784 - val_loss: 0.0035 - val_fn: 4.0000 - val_fp: 0.0000e+00 - val_tn: 7962.0000 - val_tp: 9.0000 - val_precision: 1.0000 - val_recall: 0.6923\n",
            "Epoch 194/300\n",
            "16/16 [==============================] - 1s 88ms/step - loss: 4.2382e-04 - fn: 1.2941 - fp: 0.0000e+00 - tn: 18177.0000 - tp: 30.7647 - precision: 1.0000 - recall: 0.9561 - val_loss: 0.0036 - val_fn: 4.0000 - val_fp: 0.0000e+00 - val_tn: 7962.0000 - val_tp: 9.0000 - val_precision: 1.0000 - val_recall: 0.6923\n",
            "Epoch 195/300\n",
            "16/16 [==============================] - 1s 87ms/step - loss: 2.0395e-04 - fn: 0.2353 - fp: 0.0000e+00 - tn: 18176.0000 - tp: 32.8235 - precision: 1.0000 - recall: 0.9954 - val_loss: 0.0036 - val_fn: 4.0000 - val_fp: 0.0000e+00 - val_tn: 7962.0000 - val_tp: 9.0000 - val_precision: 1.0000 - val_recall: 0.6923\n",
            "Epoch 196/300\n",
            "16/16 [==============================] - 1s 88ms/step - loss: 2.0702e-04 - fn: 1.1176 - fp: 0.2941 - tn: 18180.0588 - tp: 27.5882 - precision: 0.9939 - recall: 0.9663 - val_loss: 0.0035 - val_fn: 4.0000 - val_fp: 0.0000e+00 - val_tn: 7962.0000 - val_tp: 9.0000 - val_precision: 1.0000 - val_recall: 0.6923\n",
            "Epoch 197/300\n",
            "16/16 [==============================] - 1s 89ms/step - loss: 3.0669e-04 - fn: 0.7647 - fp: 0.0000e+00 - tn: 18175.1176 - tp: 33.1765 - precision: 1.0000 - recall: 0.9792 - val_loss: 0.0034 - val_fn: 4.0000 - val_fp: 0.0000e+00 - val_tn: 7962.0000 - val_tp: 9.0000 - val_precision: 1.0000 - val_recall: 0.6923\n",
            "Epoch 198/300\n",
            "16/16 [==============================] - 1s 90ms/step - loss: 3.3516e-04 - fn: 0.9412 - fp: 0.0000e+00 - tn: 18178.1765 - tp: 29.9412 - precision: 0.9412 - recall: 0.8827 - val_loss: 0.0034 - val_fn: 4.0000 - val_fp: 0.0000e+00 - val_tn: 7962.0000 - val_tp: 9.0000 - val_precision: 1.0000 - val_recall: 0.6923\n",
            "Epoch 199/300\n",
            "16/16 [==============================] - 1s 87ms/step - loss: 2.1414e-04 - fn: 0.4706 - fp: 0.3529 - tn: 18180.8235 - tp: 27.4118 - precision: 0.9923 - recall: 0.9886 - val_loss: 0.0037 - val_fn: 4.0000 - val_fp: 0.0000e+00 - val_tn: 7962.0000 - val_tp: 9.0000 - val_precision: 1.0000 - val_recall: 0.6923\n",
            "Epoch 200/300\n",
            "16/16 [==============================] - 1s 91ms/step - loss: 1.4751e-04 - fn: 0.0000e+00 - fp: 0.4118 - tn: 18178.9412 - tp: 29.7059 - precision: 0.9906 - recall: 1.0000 - val_loss: 0.0039 - val_fn: 4.0000 - val_fp: 0.0000e+00 - val_tn: 7962.0000 - val_tp: 9.0000 - val_precision: 1.0000 - val_recall: 0.6923\n",
            "Epoch 201/300\n",
            "16/16 [==============================] - 1s 92ms/step - loss: 4.3312e-04 - fn: 1.3529 - fp: 0.0000e+00 - tn: 18178.3529 - tp: 29.3529 - precision: 1.0000 - recall: 0.9601 - val_loss: 0.0038 - val_fn: 4.0000 - val_fp: 1.0000 - val_tn: 7961.0000 - val_tp: 9.0000 - val_precision: 0.9000 - val_recall: 0.6923\n",
            "Epoch 202/300\n",
            "16/16 [==============================] - 1s 90ms/step - loss: 2.5341e-04 - fn: 1.7059 - fp: 0.2941 - tn: 18176.8235 - tp: 30.2353 - precision: 0.9939 - recall: 0.9518 - val_loss: 0.0036 - val_fn: 4.0000 - val_fp: 1.0000 - val_tn: 7961.0000 - val_tp: 9.0000 - val_precision: 0.9000 - val_recall: 0.6923\n",
            "Epoch 203/300\n",
            "16/16 [==============================] - 1s 92ms/step - loss: 1.9944e-04 - fn: 0.5294 - fp: 0.0000e+00 - tn: 18180.1176 - tp: 28.4118 - precision: 1.0000 - recall: 0.9894 - val_loss: 0.0034 - val_fn: 4.0000 - val_fp: 0.0000e+00 - val_tn: 7962.0000 - val_tp: 9.0000 - val_precision: 1.0000 - val_recall: 0.6923\n",
            "Epoch 204/300\n",
            "16/16 [==============================] - 1s 91ms/step - loss: 4.3691e-04 - fn: 2.2353 - fp: 0.3529 - tn: 18178.4118 - tp: 28.0588 - precision: 0.9923 - recall: 0.9332 - val_loss: 0.0033 - val_fn: 3.0000 - val_fp: 0.0000e+00 - val_tn: 7962.0000 - val_tp: 10.0000 - val_precision: 1.0000 - val_recall: 0.7692\n",
            "Epoch 205/300\n",
            "16/16 [==============================] - 1s 92ms/step - loss: 3.3267e-04 - fn: 2.0000 - fp: 0.2353 - tn: 18174.3529 - tp: 32.4706 - precision: 0.9954 - recall: 0.9502 - val_loss: 0.0042 - val_fn: 5.0000 - val_fp: 1.0000 - val_tn: 7961.0000 - val_tp: 8.0000 - val_precision: 0.8889 - val_recall: 0.6154\n",
            "Epoch 206/300\n",
            "16/16 [==============================] - 1s 89ms/step - loss: 4.7645e-04 - fn: 1.5294 - fp: 0.0000e+00 - tn: 18183.5882 - tp: 23.9412 - precision: 1.0000 - recall: 0.9593 - val_loss: 0.0035 - val_fn: 4.0000 - val_fp: 0.0000e+00 - val_tn: 7962.0000 - val_tp: 9.0000 - val_precision: 1.0000 - val_recall: 0.6923\n",
            "Epoch 207/300\n",
            "16/16 [==============================] - 1s 90ms/step - loss: 3.0285e-04 - fn: 0.7647 - fp: 0.0000e+00 - tn: 18180.6471 - tp: 27.6471 - precision: 1.0000 - recall: 0.9733 - val_loss: 0.0032 - val_fn: 3.0000 - val_fp: 0.0000e+00 - val_tn: 7962.0000 - val_tp: 10.0000 - val_precision: 1.0000 - val_recall: 0.7692\n",
            "Epoch 208/300\n",
            "16/16 [==============================] - 1s 90ms/step - loss: 2.2701e-04 - fn: 0.0000e+00 - fp: 0.9412 - tn: 18176.0000 - tp: 32.1176 - precision: 0.9573 - recall: 1.0000 - val_loss: 0.0032 - val_fn: 3.0000 - val_fp: 0.0000e+00 - val_tn: 7962.0000 - val_tp: 10.0000 - val_precision: 1.0000 - val_recall: 0.7692\n",
            "Epoch 209/300\n",
            "16/16 [==============================] - 1s 91ms/step - loss: 1.9828e-04 - fn: 1.7059 - fp: 0.0000e+00 - tn: 18178.7059 - tp: 28.6471 - precision: 1.0000 - recall: 0.9551 - val_loss: 0.0032 - val_fn: 3.0000 - val_fp: 0.0000e+00 - val_tn: 7962.0000 - val_tp: 10.0000 - val_precision: 1.0000 - val_recall: 0.7692\n",
            "Epoch 210/300\n",
            "16/16 [==============================] - 1s 92ms/step - loss: 2.0007e-04 - fn: 1.2353 - fp: 0.0000e+00 - tn: 18179.7647 - tp: 28.0588 - precision: 1.0000 - recall: 0.9611 - val_loss: 0.0032 - val_fn: 3.0000 - val_fp: 0.0000e+00 - val_tn: 7962.0000 - val_tp: 10.0000 - val_precision: 1.0000 - val_recall: 0.7692\n",
            "Epoch 211/300\n",
            "16/16 [==============================] - 1s 94ms/step - loss: 1.5205e-04 - fn: 0.0000e+00 - fp: 0.0000e+00 - tn: 18178.5882 - tp: 30.4706 - precision: 1.0000 - recall: 1.0000 - val_loss: 0.0032 - val_fn: 3.0000 - val_fp: 0.0000e+00 - val_tn: 7962.0000 - val_tp: 10.0000 - val_precision: 1.0000 - val_recall: 0.7692\n",
            "Epoch 212/300\n",
            "16/16 [==============================] - 2s 95ms/step - loss: 3.1224e-04 - fn: 0.4118 - fp: 0.3529 - tn: 18178.2941 - tp: 30.0000 - precision: 0.9924 - recall: 0.9918 - val_loss: 0.0039 - val_fn: 4.0000 - val_fp: 0.0000e+00 - val_tn: 7962.0000 - val_tp: 9.0000 - val_precision: 1.0000 - val_recall: 0.6923\n",
            "Epoch 213/300\n",
            "16/16 [==============================] - 1s 94ms/step - loss: 2.9224e-04 - fn: 1.4706 - fp: 0.0000e+00 - tn: 18177.0000 - tp: 30.5882 - precision: 1.0000 - recall: 0.9651 - val_loss: 0.0036 - val_fn: 4.0000 - val_fp: 0.0000e+00 - val_tn: 7962.0000 - val_tp: 9.0000 - val_precision: 1.0000 - val_recall: 0.6923\n",
            "Epoch 214/300\n",
            "16/16 [==============================] - 1s 91ms/step - loss: 2.7077e-04 - fn: 0.0000e+00 - fp: 0.6471 - tn: 18175.5294 - tp: 32.8824 - precision: 0.9873 - recall: 1.0000 - val_loss: 0.0042 - val_fn: 4.0000 - val_fp: 0.0000e+00 - val_tn: 7962.0000 - val_tp: 9.0000 - val_precision: 1.0000 - val_recall: 0.6923\n",
            "Epoch 215/300\n",
            "16/16 [==============================] - 1s 92ms/step - loss: 3.8613e-04 - fn: 2.8235 - fp: 0.0000e+00 - tn: 18180.0588 - tp: 26.1765 - precision: 1.0000 - recall: 0.9379 - val_loss: 0.0038 - val_fn: 4.0000 - val_fp: 0.0000e+00 - val_tn: 7962.0000 - val_tp: 9.0000 - val_precision: 1.0000 - val_recall: 0.6923\n",
            "Epoch 216/300\n",
            "16/16 [==============================] - 1s 93ms/step - loss: 6.8528e-04 - fn: 0.0000e+00 - fp: 3.1765 - tn: 18174.9412 - tp: 30.9412 - precision: 0.8687 - recall: 1.0000 - val_loss: 0.0041 - val_fn: 4.0000 - val_fp: 0.0000e+00 - val_tn: 7962.0000 - val_tp: 9.0000 - val_precision: 1.0000 - val_recall: 0.6923\n",
            "Epoch 217/300\n",
            "16/16 [==============================] - 1s 92ms/step - loss: 1.4239e-04 - fn: 0.0000e+00 - fp: 0.0000e+00 - tn: 18180.0000 - tp: 29.0588 - precision: 1.0000 - recall: 1.0000 - val_loss: 0.0041 - val_fn: 4.0000 - val_fp: 0.0000e+00 - val_tn: 7962.0000 - val_tp: 9.0000 - val_precision: 1.0000 - val_recall: 0.6923\n",
            "Epoch 218/300\n",
            "16/16 [==============================] - 1s 89ms/step - loss: 2.4064e-04 - fn: 0.9412 - fp: 0.0000e+00 - tn: 18178.6471 - tp: 29.4706 - precision: 1.0000 - recall: 0.9792 - val_loss: 0.0041 - val_fn: 4.0000 - val_fp: 0.0000e+00 - val_tn: 7962.0000 - val_tp: 9.0000 - val_precision: 1.0000 - val_recall: 0.6923\n",
            "Epoch 219/300\n",
            "16/16 [==============================] - 1s 93ms/step - loss: 5.8806e-04 - fn: 1.7647 - fp: 0.2353 - tn: 18178.6471 - tp: 28.4118 - precision: 0.9954 - recall: 0.9137 - val_loss: 0.0042 - val_fn: 4.0000 - val_fp: 0.0000e+00 - val_tn: 7962.0000 - val_tp: 9.0000 - val_precision: 1.0000 - val_recall: 0.6923\n",
            "Epoch 220/300\n",
            "16/16 [==============================] - 1s 93ms/step - loss: 1.5073e-04 - fn: 0.0000e+00 - fp: 0.0000e+00 - tn: 18178.2941 - tp: 30.7647 - precision: 1.0000 - recall: 1.0000 - val_loss: 0.0043 - val_fn: 4.0000 - val_fp: 0.0000e+00 - val_tn: 7962.0000 - val_tp: 9.0000 - val_precision: 1.0000 - val_recall: 0.6923\n",
            "Epoch 221/300\n",
            "16/16 [==============================] - 1s 90ms/step - loss: 2.1476e-04 - fn: 0.4118 - fp: 0.7059 - tn: 18176.0000 - tp: 31.9412 - precision: 0.9814 - recall: 0.9915 - val_loss: 0.0042 - val_fn: 4.0000 - val_fp: 0.0000e+00 - val_tn: 7962.0000 - val_tp: 9.0000 - val_precision: 1.0000 - val_recall: 0.6923\n",
            "Epoch 222/300\n",
            "16/16 [==============================] - 1s 92ms/step - loss: 1.5416e-04 - fn: 0.4118 - fp: 0.7647 - tn: 18175.3529 - tp: 32.5294 - precision: 0.9791 - recall: 0.9922 - val_loss: 0.0038 - val_fn: 4.0000 - val_fp: 0.0000e+00 - val_tn: 7962.0000 - val_tp: 9.0000 - val_precision: 1.0000 - val_recall: 0.6923\n",
            "Epoch 223/300\n",
            "16/16 [==============================] - 1s 93ms/step - loss: 1.8310e-04 - fn: 1.1176 - fp: 0.4118 - tn: 18177.1176 - tp: 30.4118 - precision: 0.9913 - recall: 0.9756 - val_loss: 0.0037 - val_fn: 4.0000 - val_fp: 0.0000e+00 - val_tn: 7962.0000 - val_tp: 9.0000 - val_precision: 1.0000 - val_recall: 0.6923\n",
            "Epoch 224/300\n",
            "16/16 [==============================] - 1s 91ms/step - loss: 2.4666e-04 - fn: 0.0000e+00 - fp: 0.5882 - tn: 18177.1765 - tp: 31.2941 - precision: 0.9882 - recall: 1.0000 - val_loss: 0.0040 - val_fn: 4.0000 - val_fp: 0.0000e+00 - val_tn: 7962.0000 - val_tp: 9.0000 - val_precision: 1.0000 - val_recall: 0.6923\n",
            "Epoch 225/300\n",
            "16/16 [==============================] - 1s 90ms/step - loss: 2.2836e-04 - fn: 0.9412 - fp: 0.0000e+00 - tn: 18177.1176 - tp: 31.0000 - precision: 1.0000 - recall: 0.9784 - val_loss: 0.0044 - val_fn: 4.0000 - val_fp: 0.0000e+00 - val_tn: 7962.0000 - val_tp: 9.0000 - val_precision: 1.0000 - val_recall: 0.6923\n",
            "Epoch 226/300\n",
            "16/16 [==============================] - 1s 92ms/step - loss: 2.5204e-04 - fn: 0.8235 - fp: 0.0000e+00 - tn: 18178.1765 - tp: 30.0588 - precision: 0.9412 - recall: 0.9145 - val_loss: 0.0043 - val_fn: 4.0000 - val_fp: 0.0000e+00 - val_tn: 7962.0000 - val_tp: 9.0000 - val_precision: 1.0000 - val_recall: 0.6923\n",
            "Epoch 227/300\n",
            "16/16 [==============================] - 1s 92ms/step - loss: 1.5738e-04 - fn: 0.0000e+00 - fp: 0.9412 - tn: 18176.8824 - tp: 31.2353 - precision: 0.9605 - recall: 1.0000 - val_loss: 0.0044 - val_fn: 4.0000 - val_fp: 1.0000 - val_tn: 7961.0000 - val_tp: 9.0000 - val_precision: 0.9000 - val_recall: 0.6923\n",
            "Epoch 228/300\n",
            "16/16 [==============================] - 1s 91ms/step - loss: 2.8428e-04 - fn: 0.7059 - fp: 0.2353 - tn: 18179.1176 - tp: 29.0000 - precision: 0.9954 - recall: 0.9789 - val_loss: 0.0042 - val_fn: 4.0000 - val_fp: 0.0000e+00 - val_tn: 7962.0000 - val_tp: 9.0000 - val_precision: 1.0000 - val_recall: 0.6923\n",
            "Epoch 229/300\n",
            "16/16 [==============================] - 1s 90ms/step - loss: 2.1731e-04 - fn: 2.0000 - fp: 0.0000e+00 - tn: 18179.1176 - tp: 27.9412 - precision: 1.0000 - recall: 0.9004 - val_loss: 0.0045 - val_fn: 4.0000 - val_fp: 0.0000e+00 - val_tn: 7962.0000 - val_tp: 9.0000 - val_precision: 1.0000 - val_recall: 0.6923\n",
            "Epoch 230/300\n",
            "16/16 [==============================] - 1s 93ms/step - loss: 1.2957e-04 - fn: 0.2941 - fp: 0.0000e+00 - tn: 18180.0000 - tp: 28.7647 - precision: 1.0000 - recall: 0.9939 - val_loss: 0.0044 - val_fn: 4.0000 - val_fp: 0.0000e+00 - val_tn: 7962.0000 - val_tp: 9.0000 - val_precision: 1.0000 - val_recall: 0.6923\n",
            "Epoch 231/300\n",
            "16/16 [==============================] - 1s 93ms/step - loss: 1.8195e-04 - fn: 0.9412 - fp: 0.1765 - tn: 18175.9412 - tp: 32.0000 - precision: 0.9967 - recall: 0.9643 - val_loss: 0.0044 - val_fn: 4.0000 - val_fp: 0.0000e+00 - val_tn: 7962.0000 - val_tp: 9.0000 - val_precision: 1.0000 - val_recall: 0.6923\n",
            "Epoch 232/300\n",
            "16/16 [==============================] - 2s 95ms/step - loss: 1.3829e-04 - fn: 0.8235 - fp: 0.0000e+00 - tn: 18179.5882 - tp: 28.6471 - precision: 1.0000 - recall: 0.9690 - val_loss: 0.0045 - val_fn: 4.0000 - val_fp: 0.0000e+00 - val_tn: 7962.0000 - val_tp: 9.0000 - val_precision: 1.0000 - val_recall: 0.6923\n",
            "Epoch 233/300\n",
            "16/16 [==============================] - 1s 93ms/step - loss: 2.1454e-04 - fn: 1.2941 - fp: 0.0000e+00 - tn: 18176.3529 - tp: 31.4118 - precision: 1.0000 - recall: 0.9647 - val_loss: 0.0062 - val_fn: 4.0000 - val_fp: 3.0000 - val_tn: 7959.0000 - val_tp: 9.0000 - val_precision: 0.7500 - val_recall: 0.6923\n",
            "Epoch 234/300\n",
            "16/16 [==============================] - 1s 92ms/step - loss: 1.9790e-04 - fn: 0.0000e+00 - fp: 1.4118 - tn: 18179.4706 - tp: 28.1765 - precision: 0.9649 - recall: 1.0000 - val_loss: 0.0046 - val_fn: 4.0000 - val_fp: 0.0000e+00 - val_tn: 7962.0000 - val_tp: 9.0000 - val_precision: 1.0000 - val_recall: 0.6923\n",
            "Epoch 235/300\n",
            "16/16 [==============================] - 1s 93ms/step - loss: 3.7231e-04 - fn: 2.2353 - fp: 0.0000e+00 - tn: 18179.1176 - tp: 27.7059 - precision: 1.0000 - recall: 0.9331 - val_loss: 0.0044 - val_fn: 4.0000 - val_fp: 0.0000e+00 - val_tn: 7962.0000 - val_tp: 9.0000 - val_precision: 1.0000 - val_recall: 0.6923\n",
            "Epoch 236/300\n",
            "16/16 [==============================] - 1s 93ms/step - loss: 2.7215e-04 - fn: 1.3529 - fp: 0.6471 - tn: 18176.7647 - tp: 30.2941 - precision: 0.9832 - recall: 0.9606 - val_loss: 0.0045 - val_fn: 4.0000 - val_fp: 2.0000 - val_tn: 7960.0000 - val_tp: 9.0000 - val_precision: 0.8182 - val_recall: 0.6923\n",
            "Epoch 237/300\n",
            "16/16 [==============================] - 1s 94ms/step - loss: 1.8572e-04 - fn: 0.5882 - fp: 0.6471 - tn: 18175.0000 - tp: 32.8235 - precision: 0.9844 - recall: 0.9876 - val_loss: 0.0043 - val_fn: 4.0000 - val_fp: 1.0000 - val_tn: 7961.0000 - val_tp: 9.0000 - val_precision: 0.9000 - val_recall: 0.6923\n",
            "Epoch 238/300\n",
            "16/16 [==============================] - 1s 92ms/step - loss: 3.3380e-04 - fn: 1.0000 - fp: 1.5294 - tn: 18180.0588 - tp: 26.4706 - precision: 0.9302 - recall: 0.9674 - val_loss: 0.0041 - val_fn: 4.0000 - val_fp: 0.0000e+00 - val_tn: 7962.0000 - val_tp: 9.0000 - val_precision: 1.0000 - val_recall: 0.6923\n",
            "Epoch 239/300\n",
            "16/16 [==============================] - 1s 94ms/step - loss: 2.3524e-04 - fn: 1.7059 - fp: 0.2353 - tn: 18178.0000 - tp: 29.1176 - precision: 0.9953 - recall: 0.9603 - val_loss: 0.0041 - val_fn: 4.0000 - val_fp: 1.0000 - val_tn: 7961.0000 - val_tp: 9.0000 - val_precision: 0.9000 - val_recall: 0.6923\n",
            "Epoch 240/300\n",
            "16/16 [==============================] - 1s 92ms/step - loss: 1.0292e-04 - fn: 0.0000e+00 - fp: 0.0000e+00 - tn: 18177.4706 - tp: 31.5882 - precision: 1.0000 - recall: 1.0000 - val_loss: 0.0040 - val_fn: 4.0000 - val_fp: 1.0000 - val_tn: 7961.0000 - val_tp: 9.0000 - val_precision: 0.9000 - val_recall: 0.6923\n",
            "Epoch 241/300\n",
            "16/16 [==============================] - 1s 92ms/step - loss: 3.0415e-04 - fn: 0.8235 - fp: 0.0000e+00 - tn: 18178.0588 - tp: 30.1765 - precision: 1.0000 - recall: 0.9737 - val_loss: 0.0040 - val_fn: 4.0000 - val_fp: 1.0000 - val_tn: 7961.0000 - val_tp: 9.0000 - val_precision: 0.9000 - val_recall: 0.6923\n",
            "Epoch 242/300\n",
            "16/16 [==============================] - 1s 91ms/step - loss: 1.3305e-04 - fn: 0.0000e+00 - fp: 0.3529 - tn: 18178.9412 - tp: 29.7647 - precision: 0.9930 - recall: 1.0000 - val_loss: 0.0039 - val_fn: 4.0000 - val_fp: 1.0000 - val_tn: 7961.0000 - val_tp: 9.0000 - val_precision: 0.9000 - val_recall: 0.6923\n",
            "Epoch 243/300\n",
            "16/16 [==============================] - 1s 94ms/step - loss: 1.1745e-04 - fn: 0.1765 - fp: 0.3529 - tn: 18178.4706 - tp: 30.0588 - precision: 0.9927 - recall: 0.9967 - val_loss: 0.0036 - val_fn: 4.0000 - val_fp: 0.0000e+00 - val_tn: 7962.0000 - val_tp: 9.0000 - val_precision: 1.0000 - val_recall: 0.6923\n",
            "Epoch 244/300\n",
            "16/16 [==============================] - 1s 95ms/step - loss: 1.0666e-04 - fn: 0.5294 - fp: 0.3529 - tn: 18180.8824 - tp: 27.2941 - precision: 0.9927 - recall: 0.9870 - val_loss: 0.0040 - val_fn: 4.0000 - val_fp: 0.0000e+00 - val_tn: 7962.0000 - val_tp: 9.0000 - val_precision: 1.0000 - val_recall: 0.6923\n",
            "Epoch 245/300\n",
            "16/16 [==============================] - 1s 93ms/step - loss: 7.8665e-05 - fn: 0.0000e+00 - fp: 0.0000e+00 - tn: 18177.1765 - tp: 31.8824 - precision: 1.0000 - recall: 1.0000 - val_loss: 0.0046 - val_fn: 4.0000 - val_fp: 1.0000 - val_tn: 7961.0000 - val_tp: 9.0000 - val_precision: 0.9000 - val_recall: 0.6923\n",
            "Epoch 246/300\n",
            "16/16 [==============================] - 1s 93ms/step - loss: 2.3839e-04 - fn: 1.5882 - fp: 0.2353 - tn: 18177.2353 - tp: 30.0000 - precision: 0.9954 - recall: 0.9609 - val_loss: 0.0042 - val_fn: 4.0000 - val_fp: 0.0000e+00 - val_tn: 7962.0000 - val_tp: 9.0000 - val_precision: 1.0000 - val_recall: 0.6923\n",
            "Epoch 247/300\n",
            "16/16 [==============================] - 1s 93ms/step - loss: 4.7092e-04 - fn: 0.9412 - fp: 1.0000 - tn: 18178.7059 - tp: 28.4118 - precision: 0.9429 - recall: 0.9720 - val_loss: 0.0041 - val_fn: 4.0000 - val_fp: 0.0000e+00 - val_tn: 7962.0000 - val_tp: 9.0000 - val_precision: 1.0000 - val_recall: 0.6923\n",
            "Epoch 248/300\n",
            "16/16 [==============================] - 1s 92ms/step - loss: 2.5664e-04 - fn: 0.8824 - fp: 0.0000e+00 - tn: 18176.2353 - tp: 31.9412 - precision: 1.0000 - recall: 0.9802 - val_loss: 0.0039 - val_fn: 4.0000 - val_fp: 0.0000e+00 - val_tn: 7962.0000 - val_tp: 9.0000 - val_precision: 1.0000 - val_recall: 0.6923\n",
            "Epoch 249/300\n",
            "16/16 [==============================] - 1s 91ms/step - loss: 4.0795e-04 - fn: 1.2941 - fp: 0.0000e+00 - tn: 18177.4118 - tp: 30.3529 - precision: 1.0000 - recall: 0.9411 - val_loss: 0.0044 - val_fn: 4.0000 - val_fp: 2.0000 - val_tn: 7960.0000 - val_tp: 9.0000 - val_precision: 0.8182 - val_recall: 0.6923\n",
            "Epoch 250/300\n",
            "16/16 [==============================] - 1s 92ms/step - loss: 3.4682e-04 - fn: 1.5294 - fp: 0.0000e+00 - tn: 18178.3529 - tp: 29.1765 - precision: 1.0000 - recall: 0.9496 - val_loss: 0.0037 - val_fn: 4.0000 - val_fp: 0.0000e+00 - val_tn: 7962.0000 - val_tp: 9.0000 - val_precision: 1.0000 - val_recall: 0.6923\n",
            "Epoch 251/300\n",
            "16/16 [==============================] - 1s 92ms/step - loss: 1.3898e-04 - fn: 0.1765 - fp: 0.8824 - tn: 18177.8824 - tp: 30.1176 - precision: 0.9757 - recall: 0.9967 - val_loss: 0.0041 - val_fn: 4.0000 - val_fp: 0.0000e+00 - val_tn: 7962.0000 - val_tp: 9.0000 - val_precision: 1.0000 - val_recall: 0.6923\n",
            "Epoch 252/300\n",
            "16/16 [==============================] - 1s 91ms/step - loss: 9.8572e-05 - fn: 0.2353 - fp: 0.0000e+00 - tn: 18177.8824 - tp: 30.9412 - precision: 1.0000 - recall: 0.9955 - val_loss: 0.0038 - val_fn: 4.0000 - val_fp: 0.0000e+00 - val_tn: 7962.0000 - val_tp: 9.0000 - val_precision: 1.0000 - val_recall: 0.6923\n",
            "Epoch 253/300\n",
            "16/16 [==============================] - 2s 99ms/step - loss: 2.3131e-04 - fn: 1.0000 - fp: 0.2941 - tn: 18177.1176 - tp: 30.6471 - precision: 0.9942 - recall: 0.9473 - val_loss: 0.0039 - val_fn: 4.0000 - val_fp: 0.0000e+00 - val_tn: 7962.0000 - val_tp: 9.0000 - val_precision: 1.0000 - val_recall: 0.6923\n",
            "Epoch 254/300\n",
            "16/16 [==============================] - 1s 94ms/step - loss: 1.1038e-04 - fn: 0.0000e+00 - fp: 0.0000e+00 - tn: 18179.7059 - tp: 29.3529 - precision: 1.0000 - recall: 1.0000 - val_loss: 0.0039 - val_fn: 4.0000 - val_fp: 0.0000e+00 - val_tn: 7962.0000 - val_tp: 9.0000 - val_precision: 1.0000 - val_recall: 0.6923\n",
            "Epoch 255/300\n",
            "16/16 [==============================] - 1s 93ms/step - loss: 2.1448e-04 - fn: 2.1765 - fp: 0.2941 - tn: 18181.8235 - tp: 24.7647 - precision: 0.9937 - recall: 0.9082 - val_loss: 0.0037 - val_fn: 4.0000 - val_fp: 0.0000e+00 - val_tn: 7962.0000 - val_tp: 9.0000 - val_precision: 1.0000 - val_recall: 0.6923\n",
            "Epoch 256/300\n",
            "16/16 [==============================] - 1s 92ms/step - loss: 2.3839e-04 - fn: 1.2353 - fp: 0.0000e+00 - tn: 18178.3529 - tp: 29.4706 - precision: 1.0000 - recall: 0.9668 - val_loss: 0.0036 - val_fn: 4.0000 - val_fp: 0.0000e+00 - val_tn: 7962.0000 - val_tp: 9.0000 - val_precision: 1.0000 - val_recall: 0.6923\n",
            "Epoch 257/300\n",
            "16/16 [==============================] - 1s 93ms/step - loss: 1.0218e-04 - fn: 0.0000e+00 - fp: 0.0000e+00 - tn: 18179.0588 - tp: 30.0000 - precision: 1.0000 - recall: 1.0000 - val_loss: 0.0041 - val_fn: 4.0000 - val_fp: 0.0000e+00 - val_tn: 7962.0000 - val_tp: 9.0000 - val_precision: 1.0000 - val_recall: 0.6923\n",
            "Epoch 258/300\n",
            "16/16 [==============================] - 1s 93ms/step - loss: 3.1558e-04 - fn: 0.2353 - fp: 1.9412 - tn: 18177.9412 - tp: 28.9412 - precision: 0.8408 - recall: 0.9367 - val_loss: 0.0042 - val_fn: 4.0000 - val_fp: 0.0000e+00 - val_tn: 7962.0000 - val_tp: 9.0000 - val_precision: 1.0000 - val_recall: 0.6923\n",
            "Epoch 259/300\n",
            "16/16 [==============================] - 1s 92ms/step - loss: 1.5610e-04 - fn: 0.0000e+00 - fp: 0.0000e+00 - tn: 18178.6471 - tp: 30.4118 - precision: 1.0000 - recall: 1.0000 - val_loss: 0.0037 - val_fn: 4.0000 - val_fp: 0.0000e+00 - val_tn: 7962.0000 - val_tp: 9.0000 - val_precision: 1.0000 - val_recall: 0.6923\n",
            "Epoch 260/300\n",
            "16/16 [==============================] - 1s 92ms/step - loss: 1.4294e-04 - fn: 0.7059 - fp: 0.7647 - tn: 18181.1765 - tp: 26.4118 - precision: 0.9132 - recall: 0.9174 - val_loss: 0.0035 - val_fn: 4.0000 - val_fp: 0.0000e+00 - val_tn: 7962.0000 - val_tp: 9.0000 - val_precision: 1.0000 - val_recall: 0.6923\n",
            "Epoch 261/300\n",
            "16/16 [==============================] - 1s 92ms/step - loss: 1.3406e-04 - fn: 0.7059 - fp: 0.0000e+00 - tn: 18178.4706 - tp: 29.8824 - precision: 1.0000 - recall: 0.9795 - val_loss: 0.0034 - val_fn: 4.0000 - val_fp: 0.0000e+00 - val_tn: 7962.0000 - val_tp: 9.0000 - val_precision: 1.0000 - val_recall: 0.6923\n",
            "Epoch 262/300\n",
            "16/16 [==============================] - 1s 92ms/step - loss: 7.7385e-05 - fn: 0.5882 - fp: 0.0000e+00 - tn: 18174.9412 - tp: 33.5294 - precision: 1.0000 - recall: 0.9867 - val_loss: 0.0035 - val_fn: 4.0000 - val_fp: 0.0000e+00 - val_tn: 7962.0000 - val_tp: 9.0000 - val_precision: 1.0000 - val_recall: 0.6923\n",
            "Epoch 263/300\n",
            "16/16 [==============================] - 1s 92ms/step - loss: 7.9831e-05 - fn: 0.1765 - fp: 0.0000e+00 - tn: 18180.2941 - tp: 28.5882 - precision: 1.0000 - recall: 0.9967 - val_loss: 0.0036 - val_fn: 4.0000 - val_fp: 0.0000e+00 - val_tn: 7962.0000 - val_tp: 9.0000 - val_precision: 1.0000 - val_recall: 0.6923\n",
            "Epoch 264/300\n",
            "16/16 [==============================] - 1s 93ms/step - loss: 8.8385e-05 - fn: 0.1176 - fp: 0.0000e+00 - tn: 18176.8235 - tp: 32.1176 - precision: 1.0000 - recall: 0.9978 - val_loss: 0.0038 - val_fn: 4.0000 - val_fp: 0.0000e+00 - val_tn: 7962.0000 - val_tp: 9.0000 - val_precision: 1.0000 - val_recall: 0.6923\n",
            "Epoch 265/300\n",
            "16/16 [==============================] - 2s 95ms/step - loss: 1.4204e-04 - fn: 0.1765 - fp: 0.0000e+00 - tn: 18177.2353 - tp: 31.6471 - precision: 1.0000 - recall: 0.9967 - val_loss: 0.0038 - val_fn: 4.0000 - val_fp: 0.0000e+00 - val_tn: 7962.0000 - val_tp: 9.0000 - val_precision: 1.0000 - val_recall: 0.6923\n",
            "Epoch 266/300\n",
            "16/16 [==============================] - 2s 96ms/step - loss: 8.2539e-05 - fn: 0.0000e+00 - fp: 0.2353 - tn: 18177.1176 - tp: 31.7059 - precision: 0.9956 - recall: 1.0000 - val_loss: 0.0038 - val_fn: 4.0000 - val_fp: 0.0000e+00 - val_tn: 7962.0000 - val_tp: 9.0000 - val_precision: 1.0000 - val_recall: 0.6923\n",
            "Epoch 267/300\n",
            "16/16 [==============================] - 1s 93ms/step - loss: 1.2417e-04 - fn: 0.7647 - fp: 0.0000e+00 - tn: 18178.8235 - tp: 29.4706 - precision: 1.0000 - recall: 0.9763 - val_loss: 0.0037 - val_fn: 4.0000 - val_fp: 0.0000e+00 - val_tn: 7962.0000 - val_tp: 9.0000 - val_precision: 1.0000 - val_recall: 0.6923\n",
            "Epoch 268/300\n",
            "16/16 [==============================] - 1s 92ms/step - loss: 1.6065e-04 - fn: 0.4706 - fp: 0.7059 - tn: 18179.1176 - tp: 28.7647 - precision: 0.9780 - recall: 0.9897 - val_loss: 0.0037 - val_fn: 4.0000 - val_fp: 0.0000e+00 - val_tn: 7962.0000 - val_tp: 9.0000 - val_precision: 1.0000 - val_recall: 0.6923\n",
            "Epoch 269/300\n",
            "16/16 [==============================] - 1s 90ms/step - loss: 1.1107e-04 - fn: 0.3529 - fp: 0.0000e+00 - tn: 18178.0588 - tp: 30.6471 - precision: 1.0000 - recall: 0.9928 - val_loss: 0.0037 - val_fn: 4.0000 - val_fp: 0.0000e+00 - val_tn: 7962.0000 - val_tp: 9.0000 - val_precision: 1.0000 - val_recall: 0.6923\n",
            "Epoch 270/300\n",
            "16/16 [==============================] - 1s 94ms/step - loss: 4.5439e-04 - fn: 1.0000 - fp: 0.7647 - tn: 18174.8235 - tp: 32.4706 - precision: 0.9795 - recall: 0.9602 - val_loss: 0.0038 - val_fn: 4.0000 - val_fp: 0.0000e+00 - val_tn: 7962.0000 - val_tp: 9.0000 - val_precision: 1.0000 - val_recall: 0.6923\n",
            "Epoch 271/300\n",
            "16/16 [==============================] - 1s 92ms/step - loss: 6.8667e-05 - fn: 0.2941 - fp: 0.0000e+00 - tn: 18180.4706 - tp: 28.2941 - precision: 1.0000 - recall: 0.9942 - val_loss: 0.0038 - val_fn: 4.0000 - val_fp: 0.0000e+00 - val_tn: 7962.0000 - val_tp: 9.0000 - val_precision: 1.0000 - val_recall: 0.6923\n",
            "Epoch 272/300\n",
            "16/16 [==============================] - 2s 95ms/step - loss: 1.8581e-04 - fn: 0.7647 - fp: 0.0000e+00 - tn: 18176.7647 - tp: 31.5294 - precision: 1.0000 - recall: 0.9784 - val_loss: 0.0039 - val_fn: 4.0000 - val_fp: 0.0000e+00 - val_tn: 7962.0000 - val_tp: 9.0000 - val_precision: 1.0000 - val_recall: 0.6923\n",
            "Epoch 273/300\n",
            "16/16 [==============================] - 2s 96ms/step - loss: 1.4028e-04 - fn: 0.0000e+00 - fp: 0.0000e+00 - tn: 18181.1765 - tp: 27.8824 - precision: 1.0000 - recall: 1.0000 - val_loss: 0.0040 - val_fn: 4.0000 - val_fp: 0.0000e+00 - val_tn: 7962.0000 - val_tp: 9.0000 - val_precision: 1.0000 - val_recall: 0.6923\n",
            "Epoch 274/300\n",
            "16/16 [==============================] - 1s 94ms/step - loss: 1.4455e-04 - fn: 1.0588 - fp: 0.7059 - tn: 18175.5294 - tp: 31.7647 - precision: 0.9820 - recall: 0.9790 - val_loss: 0.0054 - val_fn: 5.0000 - val_fp: 1.0000 - val_tn: 7961.0000 - val_tp: 8.0000 - val_precision: 0.8889 - val_recall: 0.6154\n",
            "Epoch 275/300\n",
            "16/16 [==============================] - 1s 93ms/step - loss: 2.4058e-04 - fn: 1.4706 - fp: 0.2353 - tn: 18178.0000 - tp: 29.3529 - precision: 0.9952 - recall: 0.9466 - val_loss: 0.0040 - val_fn: 4.0000 - val_fp: 1.0000 - val_tn: 7961.0000 - val_tp: 9.0000 - val_precision: 0.9000 - val_recall: 0.6923\n",
            "Epoch 276/300\n",
            "16/16 [==============================] - 2s 94ms/step - loss: 8.0252e-05 - fn: 0.0000e+00 - fp: 0.0000e+00 - tn: 18174.6471 - tp: 34.4118 - precision: 1.0000 - recall: 1.0000 - val_loss: 0.0035 - val_fn: 4.0000 - val_fp: 0.0000e+00 - val_tn: 7962.0000 - val_tp: 9.0000 - val_precision: 1.0000 - val_recall: 0.6923\n",
            "Epoch 277/300\n",
            "16/16 [==============================] - 1s 93ms/step - loss: 1.2503e-04 - fn: 0.9412 - fp: 0.0000e+00 - tn: 18173.2941 - tp: 34.8235 - precision: 1.0000 - recall: 0.9806 - val_loss: 0.0031 - val_fn: 3.0000 - val_fp: 0.0000e+00 - val_tn: 7962.0000 - val_tp: 10.0000 - val_precision: 1.0000 - val_recall: 0.7692\n",
            "Epoch 278/300\n",
            "16/16 [==============================] - 1s 94ms/step - loss: 2.5495e-04 - fn: 0.0000e+00 - fp: 1.1176 - tn: 18177.0588 - tp: 30.8824 - precision: 0.9635 - recall: 1.0000 - val_loss: 0.0035 - val_fn: 4.0000 - val_fp: 0.0000e+00 - val_tn: 7962.0000 - val_tp: 9.0000 - val_precision: 1.0000 - val_recall: 0.6923\n",
            "Epoch 279/300\n",
            "16/16 [==============================] - 1s 93ms/step - loss: 6.5800e-05 - fn: 0.1765 - fp: 0.0000e+00 - tn: 18178.7059 - tp: 30.1765 - precision: 1.0000 - recall: 0.9967 - val_loss: 0.0040 - val_fn: 4.0000 - val_fp: 0.0000e+00 - val_tn: 7962.0000 - val_tp: 9.0000 - val_precision: 1.0000 - val_recall: 0.6923\n",
            "Epoch 280/300\n",
            "16/16 [==============================] - 2s 95ms/step - loss: 5.6804e-04 - fn: 1.7059 - fp: 0.4118 - tn: 18175.5294 - tp: 31.4118 - precision: 0.9914 - recall: 0.9461 - val_loss: 0.0034 - val_fn: 3.0000 - val_fp: 0.0000e+00 - val_tn: 7962.0000 - val_tp: 10.0000 - val_precision: 1.0000 - val_recall: 0.7692\n",
            "Epoch 281/300\n",
            "16/16 [==============================] - 1s 93ms/step - loss: 1.5116e-04 - fn: 0.0000e+00 - fp: 0.0000e+00 - tn: 18176.7647 - tp: 32.2941 - precision: 1.0000 - recall: 1.0000 - val_loss: 0.0036 - val_fn: 4.0000 - val_fp: 0.0000e+00 - val_tn: 7962.0000 - val_tp: 9.0000 - val_precision: 1.0000 - val_recall: 0.6923\n",
            "Epoch 282/300\n",
            "16/16 [==============================] - 1s 92ms/step - loss: 2.0560e-04 - fn: 2.1765 - fp: 0.0000e+00 - tn: 18178.1176 - tp: 28.7647 - precision: 1.0000 - recall: 0.9438 - val_loss: 0.0038 - val_fn: 4.0000 - val_fp: 0.0000e+00 - val_tn: 7962.0000 - val_tp: 9.0000 - val_precision: 1.0000 - val_recall: 0.6923\n",
            "Epoch 283/300\n",
            "16/16 [==============================] - 1s 91ms/step - loss: 8.6034e-05 - fn: 0.0000e+00 - fp: 0.0000e+00 - tn: 18176.0588 - tp: 33.0000 - precision: 1.0000 - recall: 1.0000 - val_loss: 0.0040 - val_fn: 4.0000 - val_fp: 0.0000e+00 - val_tn: 7962.0000 - val_tp: 9.0000 - val_precision: 1.0000 - val_recall: 0.6923\n",
            "Epoch 284/300\n",
            "16/16 [==============================] - 1s 93ms/step - loss: 1.1382e-04 - fn: 0.0000e+00 - fp: 0.5882 - tn: 18176.6471 - tp: 31.8235 - precision: 0.9858 - recall: 1.0000 - val_loss: 0.0040 - val_fn: 4.0000 - val_fp: 0.0000e+00 - val_tn: 7962.0000 - val_tp: 9.0000 - val_precision: 1.0000 - val_recall: 0.6923\n",
            "Epoch 285/300\n",
            "16/16 [==============================] - 1s 92ms/step - loss: 1.5498e-04 - fn: 0.7059 - fp: 0.0000e+00 - tn: 18175.2353 - tp: 33.1176 - precision: 1.0000 - recall: 0.9823 - val_loss: 0.0041 - val_fn: 4.0000 - val_fp: 0.0000e+00 - val_tn: 7962.0000 - val_tp: 9.0000 - val_precision: 1.0000 - val_recall: 0.6923\n",
            "Epoch 286/300\n",
            "16/16 [==============================] - 2s 96ms/step - loss: 9.4641e-05 - fn: 0.8235 - fp: 0.0000e+00 - tn: 18178.1176 - tp: 30.1176 - precision: 1.0000 - recall: 0.9723 - val_loss: 0.0039 - val_fn: 4.0000 - val_fp: 0.0000e+00 - val_tn: 7962.0000 - val_tp: 9.0000 - val_precision: 1.0000 - val_recall: 0.6923\n",
            "Epoch 287/300\n",
            "16/16 [==============================] - 1s 92ms/step - loss: 4.4282e-04 - fn: 0.5882 - fp: 1.0000 - tn: 18175.5294 - tp: 31.9412 - precision: 0.9522 - recall: 0.9882 - val_loss: 0.0044 - val_fn: 4.0000 - val_fp: 0.0000e+00 - val_tn: 7962.0000 - val_tp: 9.0000 - val_precision: 1.0000 - val_recall: 0.6923\n",
            "Epoch 288/300\n",
            "16/16 [==============================] - 1s 94ms/step - loss: 1.6489e-04 - fn: 0.8235 - fp: 0.3529 - tn: 18178.4118 - tp: 29.4706 - precision: 0.9927 - recall: 0.9793 - val_loss: 0.0040 - val_fn: 4.0000 - val_fp: 1.0000 - val_tn: 7961.0000 - val_tp: 9.0000 - val_precision: 0.9000 - val_recall: 0.6923\n",
            "Epoch 289/300\n",
            "16/16 [==============================] - 1s 94ms/step - loss: 1.1401e-04 - fn: 0.2941 - fp: 0.0000e+00 - tn: 18181.6471 - tp: 27.1176 - precision: 1.0000 - recall: 0.9940 - val_loss: 0.0037 - val_fn: 3.0000 - val_fp: 1.0000 - val_tn: 7961.0000 - val_tp: 10.0000 - val_precision: 0.9091 - val_recall: 0.7692\n",
            "Epoch 290/300\n",
            "16/16 [==============================] - 1s 94ms/step - loss: 2.9513e-04 - fn: 0.8235 - fp: 1.1176 - tn: 18173.7059 - tp: 33.4118 - precision: 0.9760 - recall: 0.9769 - val_loss: 0.0053 - val_fn: 5.0000 - val_fp: 0.0000e+00 - val_tn: 7962.0000 - val_tp: 8.0000 - val_precision: 1.0000 - val_recall: 0.6154\n",
            "Epoch 291/300\n",
            "16/16 [==============================] - 1s 94ms/step - loss: 3.6131e-04 - fn: 1.8235 - fp: 0.2941 - tn: 18181.5294 - tp: 25.4118 - precision: 0.9937 - recall: 0.9316 - val_loss: 0.0038 - val_fn: 4.0000 - val_fp: 0.0000e+00 - val_tn: 7962.0000 - val_tp: 9.0000 - val_precision: 1.0000 - val_recall: 0.6923\n",
            "Epoch 292/300\n",
            "16/16 [==============================] - 1s 95ms/step - loss: 1.8944e-04 - fn: 1.5294 - fp: 0.2353 - tn: 18177.6471 - tp: 29.6471 - precision: 0.9954 - recall: 0.9513 - val_loss: 0.0043 - val_fn: 4.0000 - val_fp: 0.0000e+00 - val_tn: 7962.0000 - val_tp: 9.0000 - val_precision: 1.0000 - val_recall: 0.6923\n",
            "Epoch 293/300\n",
            "16/16 [==============================] - 2s 97ms/step - loss: 7.1945e-05 - fn: 0.5882 - fp: 0.0000e+00 - tn: 18180.2941 - tp: 28.1765 - precision: 1.0000 - recall: 0.9847 - val_loss: 0.0044 - val_fn: 4.0000 - val_fp: 0.0000e+00 - val_tn: 7962.0000 - val_tp: 9.0000 - val_precision: 1.0000 - val_recall: 0.6923\n",
            "Epoch 294/300\n",
            "16/16 [==============================] - 2s 96ms/step - loss: 2.5519e-04 - fn: 0.9412 - fp: 0.0000e+00 - tn: 18177.8824 - tp: 30.2353 - precision: 1.0000 - recall: 0.9524 - val_loss: 0.0039 - val_fn: 4.0000 - val_fp: 0.0000e+00 - val_tn: 7962.0000 - val_tp: 9.0000 - val_precision: 1.0000 - val_recall: 0.6923\n",
            "Epoch 295/300\n",
            "16/16 [==============================] - 1s 94ms/step - loss: 7.3716e-05 - fn: 0.0000e+00 - fp: 0.0000e+00 - tn: 18179.5294 - tp: 29.5294 - precision: 1.0000 - recall: 1.0000 - val_loss: 0.0038 - val_fn: 4.0000 - val_fp: 0.0000e+00 - val_tn: 7962.0000 - val_tp: 9.0000 - val_precision: 1.0000 - val_recall: 0.6923\n",
            "Epoch 296/300\n",
            "16/16 [==============================] - 2s 96ms/step - loss: 1.3353e-04 - fn: 0.5882 - fp: 0.0000e+00 - tn: 18177.0588 - tp: 31.4118 - precision: 1.0000 - recall: 0.9871 - val_loss: 0.0043 - val_fn: 4.0000 - val_fp: 0.0000e+00 - val_tn: 7962.0000 - val_tp: 9.0000 - val_precision: 1.0000 - val_recall: 0.6923\n",
            "Epoch 297/300\n",
            "16/16 [==============================] - 2s 95ms/step - loss: 2.4252e-04 - fn: 1.5294 - fp: 1.4118 - tn: 18173.2353 - tp: 32.8824 - precision: 0.9736 - recall: 0.9580 - val_loss: 0.0044 - val_fn: 4.0000 - val_fp: 1.0000 - val_tn: 7961.0000 - val_tp: 9.0000 - val_precision: 0.9000 - val_recall: 0.6923\n",
            "Epoch 298/300\n",
            "16/16 [==============================] - 1s 93ms/step - loss: 1.8378e-04 - fn: 0.4118 - fp: 0.7059 - tn: 18177.0588 - tp: 30.8824 - precision: 0.9839 - recall: 0.9916 - val_loss: 0.0045 - val_fn: 4.0000 - val_fp: 1.0000 - val_tn: 7961.0000 - val_tp: 9.0000 - val_precision: 0.9000 - val_recall: 0.6923\n",
            "Epoch 299/300\n",
            "16/16 [==============================] - 2s 95ms/step - loss: 5.6058e-04 - fn: 1.7059 - fp: 0.0000e+00 - tn: 18179.2941 - tp: 28.0588 - precision: 1.0000 - recall: 0.9387 - val_loss: 0.0036 - val_fn: 4.0000 - val_fp: 1.0000 - val_tn: 7961.0000 - val_tp: 9.0000 - val_precision: 0.9000 - val_recall: 0.6923\n",
            "Epoch 300/300\n",
            "16/16 [==============================] - 1s 95ms/step - loss: 4.2744e-04 - fn: 1.1765 - fp: 0.0000e+00 - tn: 18176.0000 - tp: 31.8824 - precision: 1.0000 - recall: 0.9605 - val_loss: 0.0034 - val_fn: 3.0000 - val_fp: 1.0000 - val_tn: 7961.0000 - val_tp: 10.0000 - val_precision: 0.9091 - val_recall: 0.7692\n"
          ],
          "name": "stdout"
        }
      ]
    },
    {
      "cell_type": "code",
      "metadata": {
        "colab": {
          "base_uri": "https://localhost:8080/"
        },
        "id": "fnt_HoPvP6vK",
        "outputId": "6c47c51d-7bf5-4457-9a53-42b94b93aef5"
      },
      "source": [
        "y_train_pred = model.predict(X_train)\n",
        "y_test_pred = model.predict(X_test)\n",
        "\n",
        "print_score(y_train, y_train_pred.round(), train=True)\n",
        "print_score(y_test, y_test_pred.round(), train=False)"
      ],
      "execution_count": 66,
      "outputs": [
        {
          "output_type": "stream",
          "text": [
            "Train Result:\n",
            "================================================\n",
            "Accuracy Score: 100.00%\n",
            "_______________________________________________\n",
            "Classification Report:\n",
            "                      0          1  accuracy     macro avg  weighted avg\n",
            "precision      0.999969   1.000000  0.999969      0.999984      0.999969\n",
            "recall         1.000000   0.981481  0.999969      0.990741      0.999969\n",
            "f1-score       0.999984   0.990654  0.999969      0.995319      0.999969\n",
            "support    31843.000000  54.000000  0.999969  31897.000000  31897.000000\n",
            "_______________________________________________\n",
            "Confusion Matrix: \n",
            " [[31843     0]\n",
            " [    1    53]]\n",
            "\n",
            "Test Result:\n",
            "================================================\n",
            "Accuracy Score: 99.94%\n",
            "_______________________________________________\n",
            "Classification Report:\n",
            "                      0          1  accuracy     macro avg  weighted avg\n",
            "precision      0.999356   1.000000  0.999356      0.999678      0.999357\n",
            "recall         1.000000   0.620690  0.999356      0.810345      0.999356\n",
            "f1-score       0.999678   0.765957  0.999356      0.882818      0.999281\n",
            "support    17060.000000  29.000000  0.999356  17089.000000  17089.000000\n",
            "_______________________________________________\n",
            "Confusion Matrix: \n",
            " [[17060     0]\n",
            " [   11    18]]\n",
            "\n"
          ],
          "name": "stdout"
        }
      ]
    },
    {
      "cell_type": "markdown",
      "metadata": {
        "id": "EIqtFgmjSqms"
      },
      "source": [
        "#### Result \n",
        "\n",
        "Accuracy Score: 99.94%\n",
        "\n",
        "Recall for farud transactions : **0.620690**\n",
        "\n",
        "F1 Score = 0.765957"
      ]
    },
    {
      "cell_type": "code",
      "metadata": {
        "id": "kyD6bAMbdlWN"
      },
      "source": [
        "scores_dict['ANN'] = {\n",
        "        'Train': 0.990654,\n",
        "        'Test': 0.765957,\n",
        "}"
      ],
      "execution_count": 110,
      "outputs": []
    },
    {
      "cell_type": "code",
      "metadata": {
        "colab": {
          "base_uri": "https://localhost:8080/"
        },
        "id": "nT0qOE4pdnAt",
        "outputId": "32bdad7b-4101-41fc-f94d-af1250c9fda7"
      },
      "source": [
        "scores_dict"
      ],
      "execution_count": 111,
      "outputs": [
        {
          "output_type": "execute_result",
          "data": {
            "text/plain": [
              "{'ANN': {'Test': 0.765957, 'Train': 0.990654},\n",
              " 'Catboost': {'Test': 0.8846153846153846, 'Train': 1.0},\n",
              " 'Isolation Forest': {'Test': 0.13793103448275862,\n",
              "  'Train': 0.13005780346820808},\n",
              " 'LigthGBM': {'Test': 0.0, 'Train': 0.0},\n",
              " 'Local Outlier Factor': {'Test': 0.04331450094161959,\n",
              "  'Train': 0.008307372793354102},\n",
              " 'Random Forest': {'Test': 0.7843137254901961, 'Train': 1.0},\n",
              " 'SVM': {'Test': 0.027659574468085108, 'Train': 0.042198233562315994},\n",
              " 'XGBoost': {'Test': 0.8400000000000001, 'Train': 0.9514563106796117}}"
            ]
          },
          "metadata": {
            "tags": []
          },
          "execution_count": 111
        }
      ]
    },
    {
      "cell_type": "markdown",
      "metadata": {
        "id": "axkmji1pL8dO"
      },
      "source": [
        "### Observations :\n",
        "\n",
        "**Type I error and Type II error**\n",
        "\n",
        "To clarify that confussion matrix are not a very good tool to represent the results in the case of largely unbalanced data, because we will actually need a different metrics that accounts in the same time for the selectivity and specificity of the method we are using, so that we minimize in the same time both Type I errors and Type II errors.\n",
        "\n",
        "**Null Hypothesis** (H0) - The transaction is not a fraud.\n",
        "Alternative Hypothesis (H1) - The transaction is a fraud.\n",
        "\n",
        "**Type I error** - You reject the null hypothesis when the null hypothesis is actually true.\n",
        "\n",
        "**Type II error** - You fail to reject the null hypothesis when the the alternative hypothesis is true.\n",
        "\n",
        "**Cost of Type I error**   - You erroneously presume that the the transaction is a fraud, and a true transaction is rejected.\n",
        "\n",
        "**Cost of Type II error** - You erroneously presume that the transaction is not a fraud and a fraudulent transaction is accepted.\n",
        "\n"
      ]
    },
    {
      "cell_type": "markdown",
      "metadata": {
        "id": "DplmVd1L2qP6"
      },
      "source": [
        "In this usecase, we need to reduce False negative so that we can catch more fraudlent cases."
      ]
    },
    {
      "cell_type": "code",
      "metadata": {
        "id": "zEMc5ebGWhvZ",
        "colab": {
          "base_uri": "https://localhost:8080/",
          "height": 515
        },
        "outputId": "791b9c36-88e9-4da9-cdcc-0392dce4cc12"
      },
      "source": [
        "scores_df = pd.DataFrame(scores_dict)\n",
        "\n",
        "scores_df.plot(kind='bar', figsize=(15, 8))"
      ],
      "execution_count": 113,
      "outputs": [
        {
          "output_type": "execute_result",
          "data": {
            "text/plain": [
              "<matplotlib.axes._subplots.AxesSubplot at 0x7f76d4ddba50>"
            ]
          },
          "metadata": {
            "tags": []
          },
          "execution_count": 113
        },
        {
          "output_type": "display_data",
          "data": {
            "image/png": "[encoded data removed]",
            "text/plain": [
              "<Figure size 1080x576 with 1 Axes>"
            ]
          },
          "metadata": {
            "tags": [],
            "needs_background": "light"
          }
        }
      ]
    },
    {
      "cell_type": "markdown",
      "metadata": {
        "id": "aVd5Xd_KiG01"
      },
      "source": [
        "After comparing 8 different models, we can see that **CATBoost** performed best.\n",
        "\n",
        "Accuracy : 99.9%\n",
        "\n",
        "F1-score : 0.884615"
      ]
    },
    {
      "cell_type": "code",
      "metadata": {
        "id": "RAveo-euUuWV"
      },
      "source": [
        ""
      ],
      "execution_count": null,
      "outputs": []
    }
  ]
}