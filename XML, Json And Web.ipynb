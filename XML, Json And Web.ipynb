{
  "nbformat": 4,
  "nbformat_minor": 0,
  "metadata": {
    "colab": {
      "name": "XML, JsonAndWeb.ipynb",
      "provenance": [],
      "authorship_tag": "ABX9TyNM1XwZXM1b891pib9+5Ucd",
      "include_colab_link": true
    },
    "kernelspec": {
      "name": "python3",
      "display_name": "Python 3"
    },
    "language_info": {
      "name": "python"
    }
  },
  "cells": [
    {
      "cell_type": "markdown",
      "metadata": {
        "id": "view-in-github",
        "colab_type": "text"
      },
      "source": [
        "<a href=\"https://colab.research.google.com/github/Sandeep0076/Miscellaneous-Data-Science-Projects/blob/main/XML%2C%20Json%20And%20Web.ipynb\" target=\"_parent\"><img src=\"https://colab.research.google.com/assets/colab-badge.svg\" alt=\"Open In Colab\"/></a>"
      ]
    },
    {
      "cell_type": "markdown",
      "metadata": {
        "id": "S5XoWpkT34BT"
      },
      "source": [
        "#<Center> **XML, Json And Web**"
      ]
    },
    {
      "cell_type": "markdown",
      "metadata": {
        "id": "eImacb8X3Js6"
      },
      "source": [
        "## **Aim**\n",
        "The aim of this exercise is to learn how XML and JSON are used to store and exchange data, see how to use Python to retrieve XML and JSON data over the web, and find out how to parse that data using a range of different Python modules and features. Joe also shows how to fetch data from URLs and retrieve and send data via HTTP using the Python Requests library."
      ]
    },
    {
      "cell_type": "markdown",
      "metadata": {
        "id": "-dQlzNwQ3iYE"
      },
      "source": [
        "### **Accessing the internet**"
      ]
    },
    {
      "cell_type": "markdown",
      "metadata": {
        "id": "I9F9BK214FiR"
      },
      "source": [
        "## **urlib**:\n",
        "\n",
        "*   **urllib.request**: which handle opening and reading of the url.\n",
        "*   **urllib.error**: which defines the exception classes for error raised by the request module.\n",
        "*   **urllib.parse**: for parsing url structure\n",
        "* **urllib.robotparse**: for working with robot.txt\n",
        "\n",
        "\n",
        "\n"
      ]
    },
    {
      "cell_type": "markdown",
      "metadata": {
        "id": "m9crp1qE5uUl"
      },
      "source": [
        "http://httpbin.org/xml : This is test url, which returns test data\n",
        "```\n",
        "\n",
        "<!--   A SAMPLE set of slides   -->\n",
        "<slideshow title=\"Sample Slide Show\" date=\"Date of publication\" author=\"Yours Truly\">\n",
        "<!--  TITLE SLIDE  -->\n",
        "<slide type=\"all\">\n",
        "<title>Wake up to WonderWidgets!</title>\n",
        "</slide>\n",
        "<!--  OVERVIEW  -->\n",
        "<slide type=\"all\">\n",
        "<title>Overview</title>\n",
        "<item>\n",
        "Why\n",
        "<em>WonderWidgets</em>\n",
        "are great\n",
        "</item>\n",
        "<item/>\n",
        "<item>\n",
        "Who\n",
        "<em>buys</em>\n",
        "WonderWidgets\n",
        "</item>\n",
        "</slide>\n",
        "</slideshow>\n",
        "\n",
        "\n",
        "```\n",
        "\n"
      ]
    },
    {
      "cell_type": "markdown",
      "metadata": {
        "id": "kSJUmc6PAro9"
      },
      "source": [
        "### Get data"
      ]
    },
    {
      "cell_type": "code",
      "metadata": {
        "id": "jDkbhrvp6Hd_"
      },
      "source": [
        "import urllib.request\n",
        "\n",
        "def retrieve_data():\n",
        "  url = \"http://httpbin.org/xml\"\n",
        "\n",
        "  result = urllib.request.urlopen(url)\n",
        "  print(f'The return code is {result.status}')\n",
        "\n",
        "  #for returning headers\n",
        "  print(f'This is the header data : {result.getheaders()}')\n",
        "  #for getting data\n",
        "  print(f'This is the returned data : {result.read().decode(\"utf-8\")}')"
      ],
      "execution_count": 16,
      "outputs": []
    },
    {
      "cell_type": "code",
      "metadata": {
        "colab": {
          "base_uri": "https://localhost:8080/"
        },
        "id": "Kwp_Zcpf6hpe",
        "outputId": "0853a9b6-447b-4e23-8bea-08c3facf0b48"
      },
      "source": [
        "retrieve_data()"
      ],
      "execution_count": 17,
      "outputs": [
        {
          "output_type": "stream",
          "name": "stdout",
          "text": [
            "The return code is 200\n",
            "This is the header data : [('Date', 'Thu, 09 Sep 2021 19:05:01 GMT'), ('Content-Type', 'application/xml'), ('Content-Length', '522'), ('Connection', 'close'), ('Server', 'gunicorn/19.9.0'), ('Access-Control-Allow-Origin', '*'), ('Access-Control-Allow-Credentials', 'true')]\n",
            "This is the returned data : <?xml version='1.0' encoding='us-ascii'?>\n",
            "\n",
            "<!--  A SAMPLE set of slides  -->\n",
            "\n",
            "<slideshow \n",
            "    title=\"Sample Slide Show\"\n",
            "    date=\"Date of publication\"\n",
            "    author=\"Yours Truly\"\n",
            "    >\n",
            "\n",
            "    <!-- TITLE SLIDE -->\n",
            "    <slide type=\"all\">\n",
            "      <title>Wake up to WonderWidgets!</title>\n",
            "    </slide>\n",
            "\n",
            "    <!-- OVERVIEW -->\n",
            "    <slide type=\"all\">\n",
            "        <title>Overview</title>\n",
            "        <item>Why <em>WonderWidgets</em> are great</item>\n",
            "        <item/>\n",
            "        <item>Who <em>buys</em> WonderWidgets</item>\n",
            "    </slide>\n",
            "\n",
            "</slideshow>\n"
          ]
        }
      ]
    },
    {
      "cell_type": "markdown",
      "metadata": {
        "id": "zIzzmN738z5N"
      },
      "source": [
        "### Sending data"
      ]
    },
    {
      "cell_type": "code",
      "metadata": {
        "id": "S5A2TRuc6jdE"
      },
      "source": [
        "import urllib.parse\n",
        "def sending_data():\n",
        "  # create dictionary that you need to send \n",
        "  args ={\n",
        "      \"name\":\"Sandeep Pathania\",\n",
        "      \"is_author\":True\n",
        "  }\n",
        "  # post request to send \n",
        "  url = \"http://httpbin.org/post\"\n",
        "  data = urllib.parse.urlencode(args)#encode the data into strings\n",
        "  #to further convert into byte\n",
        "  data = data.encode()\n",
        "  result = urllib.request.urlopen(url,data)\n",
        "\n",
        "  print('*'*20)\n",
        "  print(result.read().decode(\"utf-8\"))\n"
      ],
      "execution_count": 24,
      "outputs": []
    },
    {
      "cell_type": "code",
      "metadata": {
        "colab": {
          "base_uri": "https://localhost:8080/"
        },
        "id": "tneJ0d_h_7Yk",
        "outputId": "9617b16a-f96d-4574-9628-8a37c20b7696"
      },
      "source": [
        "sending_data()"
      ],
      "execution_count": 25,
      "outputs": [
        {
          "output_type": "stream",
          "name": "stdout",
          "text": [
            "********************\n",
            "{\n",
            "  \"args\": {}, \n",
            "  \"data\": \"\", \n",
            "  \"files\": {}, \n",
            "  \"form\": {\n",
            "    \"is_author\": \"True\", \n",
            "    \"name\": \"Sandeep Pathania\"\n",
            "  }, \n",
            "  \"headers\": {\n",
            "    \"Accept-Encoding\": \"identity\", \n",
            "    \"Content-Length\": \"36\", \n",
            "    \"Content-Type\": \"application/x-www-form-urlencoded\", \n",
            "    \"Host\": \"httpbin.org\", \n",
            "    \"User-Agent\": \"Python-urllib/3.7\", \n",
            "    \"X-Amzn-Trace-Id\": \"Root=1-613a5e77-26825f7a6b996cc35e333b11\"\n",
            "  }, \n",
            "  \"json\": null, \n",
            "  \"origin\": \"35.237.120.232\", \n",
            "  \"url\": \"http://httpbin.org/post\"\n",
            "}\n",
            "\n"
          ]
        }
      ]
    },
    {
      "cell_type": "markdown",
      "metadata": {
        "id": "BZ3kCGc_CV7x"
      },
      "source": [
        "### Exception handling"
      ]
    },
    {
      "cell_type": "code",
      "metadata": {
        "id": "SRGu1fBE_fSF"
      },
      "source": [
        "from http import HTTPStatus\n",
        "from urllib.error import HTTPError, URLError\n",
        "\n",
        "def handel_excetions():\n",
        "  url = \"http://httpbin.org/status/404\"\n",
        "\n",
        "  try:\n",
        "    result = urllib.request.urlopen(url)\n",
        "    print(f'Status: {result.status}')\n",
        "    if result.getcode() == HTTPStatus.OK:\n",
        "      print(result.read().decode(\"utf-8\"))\n",
        "  except HTTPError as err:\n",
        "    print(f'Error {err.code}')\n",
        "  except URLError as err:\n",
        "    print(f'That url is not working: {err.code}')\n",
        "\n",
        "  return\n"
      ],
      "execution_count": 29,
      "outputs": []
    },
    {
      "cell_type": "code",
      "metadata": {
        "colab": {
          "base_uri": "https://localhost:8080/"
        },
        "id": "MEBMlLzHFdV9",
        "outputId": "41a951c7-ee81-404f-9521-7148fddb1833"
      },
      "source": [
        "handel_excetions()"
      ],
      "execution_count": 30,
      "outputs": [
        {
          "output_type": "stream",
          "name": "stdout",
          "text": [
            "Error 404\n"
          ]
        }
      ]
    },
    {
      "cell_type": "markdown",
      "metadata": {
        "id": "TxH33MqFHQLL"
      },
      "source": [
        "## **Request** library\n",
        "\n",
        "It decodes automaticall and solves many shortcommings of urllib"
      ]
    },
    {
      "cell_type": "code",
      "metadata": {
        "colab": {
          "base_uri": "https://localhost:8080/"
        },
        "id": "NMUP2xC-G84b",
        "outputId": "343710b5-e836-422f-9c69-634a24b231eb"
      },
      "source": [
        "import requests\n",
        "\n",
        "def return_result():\n",
        "  url = \"http://httpbin.org/xml\"\n",
        "  # standard HTTP GET request\n",
        "  result = requests.get(url)\n",
        "  print(f'header = {result.headers}')\n",
        "  print(f'data = {result.text}')\n",
        "\n",
        "return_result()\n"
      ],
      "execution_count": 44,
      "outputs": [
        {
          "output_type": "stream",
          "name": "stdout",
          "text": [
            "header = {'Date': 'Thu, 09 Sep 2021 20:04:13 GMT', 'Content-Type': 'application/xml', 'Content-Length': '522', 'Connection': 'keep-alive', 'Server': 'gunicorn/19.9.0', 'Access-Control-Allow-Origin': '*', 'Access-Control-Allow-Credentials': 'true'}\n",
            "data = <?xml version='1.0' encoding='us-ascii'?>\n",
            "\n",
            "<!--  A SAMPLE set of slides  -->\n",
            "\n",
            "<slideshow \n",
            "    title=\"Sample Slide Show\"\n",
            "    date=\"Date of publication\"\n",
            "    author=\"Yours Truly\"\n",
            "    >\n",
            "\n",
            "    <!-- TITLE SLIDE -->\n",
            "    <slide type=\"all\">\n",
            "      <title>Wake up to WonderWidgets!</title>\n",
            "    </slide>\n",
            "\n",
            "    <!-- OVERVIEW -->\n",
            "    <slide type=\"all\">\n",
            "        <title>Overview</title>\n",
            "        <item>Why <em>WonderWidgets</em> are great</item>\n",
            "        <item/>\n",
            "        <item>Who <em>buys</em> WonderWidgets</item>\n",
            "    </slide>\n",
            "\n",
            "</slideshow>\n"
          ]
        }
      ]
    },
    {
      "cell_type": "markdown",
      "metadata": {
        "id": "Bv1v25DzKI-U"
      },
      "source": [
        "#### Send some parameters to the url via GET request"
      ]
    },
    {
      "cell_type": "code",
      "metadata": {
        "id": "yF_b_wiHHXiy"
      },
      "source": [
        "def send_params():\n",
        "  url = \"http://httpbin.org/get\"\n",
        "  #send some parameters to the url via GET request\n",
        "  data_values = {\n",
        "                \"key1\":\"value1\",\n",
        "                \"key2\":22\n",
        "                 }\n",
        "  # no encoding needed as in urllib\n",
        "  result = requests.get(url,params=data_values)\n",
        "  print(f'header = {result.headers}')\n",
        "  print(f'data = {result.text}')\n",
        "  return"
      ],
      "execution_count": 42,
      "outputs": []
    },
    {
      "cell_type": "code",
      "metadata": {
        "colab": {
          "base_uri": "https://localhost:8080/"
        },
        "id": "sIT_aV0hJt51",
        "outputId": "dd441416-0d35-4026-bb92-bb9ac5933444"
      },
      "source": [
        "send_params()"
      ],
      "execution_count": 43,
      "outputs": [
        {
          "output_type": "stream",
          "name": "stdout",
          "text": [
            "header = {'Date': 'Thu, 09 Sep 2021 20:03:14 GMT', 'Content-Type': 'application/json', 'Content-Length': '370', 'Connection': 'keep-alive', 'Server': 'gunicorn/19.9.0', 'Access-Control-Allow-Origin': '*', 'Access-Control-Allow-Credentials': 'true'}\n",
            "data = {\n",
            "  \"args\": {\n",
            "    \"key1\": \"value1\", \n",
            "    \"key2\": \"22\"\n",
            "  }, \n",
            "  \"headers\": {\n",
            "    \"Accept\": \"*/*\", \n",
            "    \"Accept-Encoding\": \"gzip, deflate\", \n",
            "    \"Host\": \"httpbin.org\", \n",
            "    \"User-Agent\": \"python-requests/2.23.0\", \n",
            "    \"X-Amzn-Trace-Id\": \"Root=1-613a6882-0388dddf4d3d4bce4f638e56\"\n",
            "  }, \n",
            "  \"origin\": \"35.237.120.232\", \n",
            "  \"url\": \"http://httpbin.org/get?key1=value1&key2=22\"\n",
            "}\n",
            "\n"
          ]
        }
      ]
    },
    {
      "cell_type": "markdown",
      "metadata": {
        "id": "YM6gujMkKrH_"
      },
      "source": [
        "#### POST request"
      ]
    },
    {
      "cell_type": "code",
      "metadata": {
        "colab": {
          "base_uri": "https://localhost:8080/"
        },
        "id": "tEbRWN8zJzMU",
        "outputId": "efcbecf5-b794-4331-a25c-58ddfa4af3f5"
      },
      "source": [
        "def send_params():\n",
        "  url = \"http://httpbin.org/post\"\n",
        "  #send some parameters to the url via POST request\n",
        "  data_values = {\n",
        "                \"key1\":\"value1\",\n",
        "                \"key2\":22\n",
        "                 }\n",
        "  # no encoding needed as in urllib\n",
        "  result = requests.post(url,data=data_values)\n",
        "  print(f'header = {result.headers}')\n",
        "  print(f'data = {result.text}')\n",
        "  return\n",
        "\n",
        "send_params()"
      ],
      "execution_count": 46,
      "outputs": [
        {
          "output_type": "stream",
          "name": "stdout",
          "text": [
            "header = {'Date': 'Thu, 09 Sep 2021 20:06:50 GMT', 'Content-Type': 'application/json', 'Content-Length': '501', 'Connection': 'keep-alive', 'Server': 'gunicorn/19.9.0', 'Access-Control-Allow-Origin': '*', 'Access-Control-Allow-Credentials': 'true'}\n",
            "data = {\n",
            "  \"args\": {}, \n",
            "  \"data\": \"\", \n",
            "  \"files\": {}, \n",
            "  \"form\": {\n",
            "    \"key1\": \"value1\", \n",
            "    \"key2\": \"22\"\n",
            "  }, \n",
            "  \"headers\": {\n",
            "    \"Accept\": \"*/*\", \n",
            "    \"Accept-Encoding\": \"gzip, deflate\", \n",
            "    \"Content-Length\": \"19\", \n",
            "    \"Content-Type\": \"application/x-www-form-urlencoded\", \n",
            "    \"Host\": \"httpbin.org\", \n",
            "    \"User-Agent\": \"python-requests/2.23.0\", \n",
            "    \"X-Amzn-Trace-Id\": \"Root=1-613a695a-57409fec6d2d798e39375352\"\n",
            "  }, \n",
            "  \"json\": null, \n",
            "  \"origin\": \"35.237.120.232\", \n",
            "  \"url\": \"http://httpbin.org/post\"\n",
            "}\n",
            "\n"
          ]
        }
      ]
    },
    {
      "cell_type": "markdown",
      "metadata": {
        "id": "muJPTC_VLi9h"
      },
      "source": [
        "#### Error handling in request library\n",
        "\n",
        "If the server doesnt begin the response."
      ]
    },
    {
      "cell_type": "code",
      "metadata": {
        "colab": {
          "base_uri": "https://localhost:8080/"
        },
        "id": "iMr8irUwK33D",
        "outputId": "2c4b8931-3a03-410e-aa8a-4f52b42642d6"
      },
      "source": [
        "from http import HTTPStatus\n",
        "from requests import HTTPError, Timeout\n",
        "\n",
        "def handel_excetions():\n",
        "  \n",
        "  try:\n",
        "    url = \"http://httpbin.org/delay/5\"\n",
        "    result = requests.get(url, timeout=2)# if the server doesnt begin the response.\n",
        "    result.raise_for_status()\n",
        "    print(result)\n",
        "  except HTTPError as err:\n",
        "    print(f'Error {err}')\n",
        "  except Timeout as err:\n",
        "    print(f'Error {err}')\n",
        "  except URLError as err:\n",
        "    print(f'That url is not working: {err}')\n",
        "\n",
        "  return\n",
        "\n",
        "handel_excetions()"
      ],
      "execution_count": 57,
      "outputs": [
        {
          "output_type": "stream",
          "name": "stdout",
          "text": [
            "Error HTTPConnectionPool(host='httpbin.org', port=80): Read timed out. (read timeout=2)\n"
          ]
        }
      ]
    },
    {
      "cell_type": "markdown",
      "metadata": {
        "id": "DskN6eu7TcyL"
      },
      "source": [
        "#### Authentication"
      ]
    },
    {
      "cell_type": "code",
      "metadata": {
        "colab": {
          "base_uri": "https://localhost:8080/"
        },
        "id": "v7EbltGfL9Cz",
        "outputId": "3cc558ed-375f-414f-bed3-a9a36ca019e4"
      },
      "source": [
        "from requests.auth import HTTPBasicAuth\n",
        "\n",
        "def auth_me():\n",
        "  url = \"http://httpbin.org//basic-auth/sunny/123\"\n",
        "\n",
        "  result = requests.get(url, auth=(\"sunny\",\"123\"))\n",
        "  print(result.text) \n",
        "  \n",
        "auth_me()"
      ],
      "execution_count": 61,
      "outputs": [
        {
          "output_type": "stream",
          "name": "stdout",
          "text": [
            "{\n",
            "  \"authenticated\": true, \n",
            "  \"user\": \"sunny\"\n",
            "}\n",
            "\n"
          ]
        }
      ]
    },
    {
      "cell_type": "markdown",
      "metadata": {
        "id": "KRTqO3cjfg1a"
      },
      "source": [
        "## **Json**"
      ]
    },
    {
      "cell_type": "markdown",
      "metadata": {
        "id": "_cw2g3mydiQm"
      },
      "source": [
        "### Parsing and Serializing Json"
      ]
    },
    {
      "cell_type": "code",
      "metadata": {
        "id": "bnA6Cy36VBU6"
      },
      "source": [
        "import json"
      ],
      "execution_count": 1,
      "outputs": []
    },
    {
      "cell_type": "code",
      "metadata": {
        "colab": {
          "base_uri": "https://localhost:8080/"
        },
        "id": "UJNXmy6neYws",
        "outputId": "41df2e4e-cbdb-4e13-d9b9-a49e233c6417"
      },
      "source": [
        "def parse_json():\n",
        "\n",
        "  #defining a string of JSON code\n",
        "  json_str = '''{\n",
        "    \"name\":\"Sandeep\",\n",
        "    \"is_male\":true,\n",
        "    \"hobbies\":[\n",
        "                \"Playing guitar\",\n",
        "                \"Fifa21\",\n",
        "                \"Photography\",\n",
        "                \"Tech\"\n",
        "    ],\n",
        "    \"siblings\":1}\n",
        "    '''\n",
        "\n",
        "  data = json.loads(json_str)\n",
        "  print(\"First name is :\" + data[\"name\"])\n",
        "  if data[\"is_male\"]:\n",
        "    print(\"Is a male\")\n",
        "  for items in data[\"hobbies\"]:\n",
        "    print(\"Hobbies:\" + items)\n",
        "\n",
        "parse_json()"
      ],
      "execution_count": 9,
      "outputs": [
        {
          "output_type": "stream",
          "name": "stdout",
          "text": [
            "First name is :Sandeep\n",
            "Is a male\n",
            "Hobbies:Playing guitar\n",
            "Hobbies:Fifa21\n",
            "Hobbies:Photography\n",
            "Hobbies:Tech\n"
          ]
        }
      ]
    },
    {
      "cell_type": "code",
      "metadata": {
        "colab": {
          "base_uri": "https://localhost:8080/"
        },
        "id": "rUIW9QYugQEe",
        "outputId": "05a37947-8731-408f-cf67-bdd32881a0b8"
      },
      "source": [
        "def serialize_json():\n",
        "\n",
        "  #defining a string of python code to be serialize to json format\n",
        "  python_data = {\n",
        "    \"name\":\"Sandeep\",\n",
        "    \"is_male\":True, #syntax of bool is different here\n",
        "    \"hobbies\":[\n",
        "                \"Playing guitar\",\n",
        "                \"Fifa21\",\n",
        "                \"Photography\",\n",
        "                \"Tech\"\n",
        "    ],\n",
        "    \"siblings\":1}\n",
        "    \n",
        "\n",
        "  json_str = json.dumps(python_data,indent=3)#indent by 3 spaces\n",
        "  print(json_str)\n",
        " \n",
        "\n",
        "serialize_json()"
      ],
      "execution_count": 10,
      "outputs": [
        {
          "output_type": "stream",
          "name": "stdout",
          "text": [
            "{\n",
            "   \"name\": \"Sandeep\",\n",
            "   \"is_male\": true,\n",
            "   \"hobbies\": [\n",
            "      \"Playing guitar\",\n",
            "      \"Fifa21\",\n",
            "      \"Photography\",\n",
            "      \"Tech\"\n",
            "   ],\n",
            "   \"siblings\": 1\n",
            "}\n"
          ]
        }
      ]
    },
    {
      "cell_type": "markdown",
      "metadata": {
        "id": "Wfim_5ZPiHBq"
      },
      "source": [
        "### Error handling"
      ]
    },
    {
      "cell_type": "code",
      "metadata": {
        "colab": {
          "base_uri": "https://localhost:8080/"
        },
        "id": "lflMV55-h7FA",
        "outputId": "53fc4cca-e346-45ef-aa71-415a9ccbffab"
      },
      "source": [
        "from json import JSONDecodeError\n",
        "\n",
        "def error_handling():\n",
        "\n",
        "  # remove comma after hobbies finishes to have an error\n",
        "  json_str = '''{\n",
        "    \"name\":\"Sandeep\",\n",
        "    \"is_male\":true,\n",
        "    \"hobbies\":[\n",
        "                \"Playing guitar\",\n",
        "                \"Fifa21\",\n",
        "                \"Photography\",\n",
        "                \"Tech\"\n",
        "    ]\n",
        "    \"siblings\":1}\n",
        "    '''\n",
        "  \n",
        "  try:\n",
        "    data = json.loads(json_str)\n",
        "    print(\"First name is :\" + data[\"name\"])\n",
        "    if data[\"is_male\"]:\n",
        "      print(\"Is a male\")\n",
        "    for items in data[\"hobbies\"]:\n",
        "      print(\"Hobbies:\" + items)\n",
        "  except JSONDecodeError as err:\n",
        "    print(\"OOPS therz an error\")\n",
        "    print(err.msg)\n",
        "    print('at line ' + str(err.lineno))\n",
        "\n",
        "\n",
        "error_handling()"
      ],
      "execution_count": 18,
      "outputs": [
        {
          "output_type": "stream",
          "name": "stdout",
          "text": [
            "OOPS therz an error\n",
            "Expecting ',' delimiter\n",
            "at line 10\n"
          ]
        }
      ]
    },
    {
      "cell_type": "markdown",
      "metadata": {
        "id": "v1ucVr8wkTox"
      },
      "source": [
        "### Request data from JSON"
      ]
    },
    {
      "cell_type": "code",
      "metadata": {
        "colab": {
          "base_uri": "https://localhost:8080/"
        },
        "id": "tqksfP-1iRV1",
        "outputId": "527b44aa-74cc-4798-fefe-147e137a0bae"
      },
      "source": [
        "import requests\n",
        "\n",
        "def req_json():\n",
        "  url = \"http://httpbin.org/json\"\n",
        "  result = requests.get(url)\n",
        "\n",
        "  dataobj = result.json()\n",
        "  print(json.dumps(dataobj,indent=3))\n",
        "\n",
        "  print(list(dataobj.keys()))\n",
        "\n",
        "req_json()"
      ],
      "execution_count": 21,
      "outputs": [
        {
          "output_type": "stream",
          "name": "stdout",
          "text": [
            "{\n",
            "   \"slideshow\": {\n",
            "      \"author\": \"Yours Truly\",\n",
            "      \"date\": \"date of publication\",\n",
            "      \"slides\": [\n",
            "         {\n",
            "            \"title\": \"Wake up to WonderWidgets!\",\n",
            "            \"type\": \"all\"\n",
            "         },\n",
            "         {\n",
            "            \"items\": [\n",
            "               \"Why <em>WonderWidgets</em> are great\",\n",
            "               \"Who <em>buys</em> WonderWidgets\"\n",
            "            ],\n",
            "            \"title\": \"Overview\",\n",
            "            \"type\": \"all\"\n",
            "         }\n",
            "      ],\n",
            "      \"title\": \"Sample Slide Show\"\n",
            "   }\n",
            "}\n",
            "['slideshow']\n"
          ]
        }
      ]
    },
    {
      "cell_type": "markdown",
      "metadata": {
        "id": "sDwy5ONElh3n"
      },
      "source": [
        "## **XML** \n",
        "\n",
        "*   SAX : Simple API for XML\n",
        "     * Memory efficient \n",
        "     * fast and easy\n",
        "     * No random access or context \n",
        "     * cannot modify the XML file\n",
        "*   DOM Document Object Model:\n",
        "   * Can modify  \n",
        "* Element tree API\n",
        "\n"
      ]
    },
    {
      "cell_type": "markdown",
      "metadata": {
        "id": "jvZmYCWAllEO"
      },
      "source": [
        "### DOM API"
      ]
    },
    {
      "cell_type": "code",
      "metadata": {
        "colab": {
          "base_uri": "https://localhost:8080/"
        },
        "id": "0cf_SogwlCQo",
        "outputId": "203c1efd-b9c5-4be5-f160-ef98753f83b7"
      },
      "source": [
        "import xml.dom.minidom as dom\n",
        "\n",
        "def return_xml():\n",
        "  url = \"http://httpbin.org/xml\"\n",
        "  result = requests.get(url)\n",
        "\n",
        "  domtree = dom.parseString(result.text)\n",
        "  rootnode =domtree.documentElement\n",
        "\n",
        "  print(f\"The root element is {rootnode.nodeName}\")\n",
        "  print(f\"Title is {rootnode.getAttribute('title')}\")\n",
        "  items = domtree.getElementsByTagName('item')\n",
        "  print(f\"Total items are : {items.length}\")\n",
        "\n",
        "  #create new item tag\n",
        "  newitem = domtree.createElement('item')\n",
        "  #add some text to the item\n",
        "  newitem.appendChild(domtree.createTextNode('This is new text'))\n",
        "  #add item to the slide\n",
        "  firstslide = domtree.getElementsByTagName('slide')[0]#first index\n",
        "  firstslide.appendChild(newitem)\n",
        "  items = domtree.getElementsByTagName('item')\n",
        "  print(f\"Total items after creating new item : {items.length}\")\n",
        "\n",
        "return_xml()"
      ],
      "execution_count": 34,
      "outputs": [
        {
          "output_type": "stream",
          "name": "stdout",
          "text": [
            "The root element is slideshow\n",
            "Title is Sample Slide Show\n",
            "Total items are : 3\n",
            "Total items after creating new item : 4\n"
          ]
        }
      ]
    },
    {
      "cell_type": "markdown",
      "metadata": {
        "id": "ydmjmfX-xIoc"
      },
      "source": [
        "### Element tree API"
      ]
    },
    {
      "cell_type": "code",
      "metadata": {
        "colab": {
          "base_uri": "https://localhost:8080/"
        },
        "id": "Kp8-wR8WpBaH",
        "outputId": "b192b5ea-5ccd-43bc-d581-077ea7142d9e"
      },
      "source": [
        "from lxml import etree\n",
        "\n",
        "def use_etree():\n",
        "   url = \"http://httpbin.org/xml\"\n",
        "   result = requests.get(url)\n",
        "\n",
        "   # build a doc structre using elemttree api\n",
        "   doc = etree.fromstring(result.content)\n",
        "\n",
        "   ## access the values\n",
        "   print(doc.tag)\n",
        "   print(doc.attrib['title'])\n",
        "   slidecount = len(doc.findall('slide'))\n",
        "   print(f'No. of slide elements: {slidecount}')\n",
        "\n",
        "   print('*'*20)\n",
        "   #iterate over tags\n",
        "   for elem in doc.findall('slide'):\n",
        "     print(elem.tag)\n",
        "  \n",
        "   #create new slide\n",
        "   newslide=etree.SubElement(doc,'slide')\n",
        "   newslide.text= 'this is a new slide'\n",
        "\n",
        "   #count slide\n",
        "   slidecount = len(doc.findall('slide'))\n",
        "   itemcount = len(doc.findall('.//item'))\n",
        "\n",
        "   print(f'No. of slide elements: {slidecount}')\n",
        "   print(f'No. of slide items: {itemcount}')\n",
        "\n",
        "use_etree()"
      ],
      "execution_count": 38,
      "outputs": [
        {
          "output_type": "stream",
          "name": "stdout",
          "text": [
            "slideshow\n",
            "Sample Slide Show\n",
            "No. of slide elements: 2\n",
            "********************\n",
            "slide\n",
            "slide\n",
            "No. of slide elements: 3\n",
            "No. of slide items: 3\n"
          ]
        }
      ]
    },
    {
      "cell_type": "code",
      "metadata": {
        "id": "LQB5li0S18lx"
      },
      "source": [
        ""
      ],
      "execution_count": null,
      "outputs": []
    }
  ]
}